{
 "cells": [
  {
   "cell_type": "code",
   "execution_count": 1,
   "id": "d718fa42",
   "metadata": {},
   "outputs": [],
   "source": [
    "#Se importan las librerías necesarias para el problema\n",
    "import pandas as pd\n",
    "import numpy as np\n",
    "import matplotlib.pyplot as plt\n",
    "import seaborn as sns"
   ]
  },
  {
   "cell_type": "code",
   "execution_count": 2,
   "id": "bb60950c",
   "metadata": {},
   "outputs": [
    {
     "name": "stderr",
     "output_type": "stream",
     "text": [
      "C:\\Users\\JhonG\\AppData\\Local\\Temp\\ipykernel_22180\\2713026249.py:1: DtypeWarning: Columns (1,6) have mixed types. Specify dtype option on import or set low_memory=False.\n",
      "  df = pd.read_csv('../data/df_procesado.csv')\n"
     ]
    }
   ],
   "source": [
    "df = pd.read_csv('../data/df_procesado.csv')"
   ]
  },
  {
   "cell_type": "code",
   "execution_count": 3,
   "id": "7a3a3af2",
   "metadata": {},
   "outputs": [],
   "source": [
    "from sklearn.model_selection import train_test_split\n",
    "from sklearn.utils import shuffle\n",
    "from sklearn.linear_model import LogisticRegression\n",
    "from sklearn.metrics import confusion_matrix, classification_report\n",
    "import numpy as np\n",
    "from sklearn.svm import SVC\n",
    "from imblearn.over_sampling import SMOTE\n",
    "from imblearn.under_sampling import RandomUnderSampler\n",
    "from imblearn.pipeline import Pipeline\n",
    "from sklearn.model_selection import cross_val_score\n",
    "from sklearn.model_selection import cross_validate\n",
    "import xgboost as xgb\n",
    "from xgboost import plot_importance\n",
    "from sklearn.metrics import roc_auc_score\n",
    "from numpy import mean\n",
    "from sklearn.ensemble import RandomForestClassifier\n",
    "import wandb\n"
   ]
  },
  {
   "cell_type": "code",
   "execution_count": 4,
   "id": "622511e1",
   "metadata": {},
   "outputs": [],
   "source": [
    "data = shuffle(df[['OPERA', 'MES', 'periodo_dia','TIPOVUELO', 'SIGLADES', 'DIANOM', 'atraso_15']], random_state = 111)"
   ]
  },
  {
   "cell_type": "code",
   "execution_count": 5,
   "id": "e3c86ef8",
   "metadata": {},
   "outputs": [],
   "source": [
    "features = pd.concat([pd.get_dummies(data['OPERA'], prefix = 'OPERA'),pd.get_dummies(data['TIPOVUELO'], prefix = 'TIPOVUELO'),pd.get_dummies(data['periodo_dia'], prefix = 'periodo_dia'), pd.get_dummies(data['MES'], prefix = 'MES')], axis = 1)\n",
    "label = data['atraso_15']"
   ]
  },
  {
   "cell_type": "code",
   "execution_count": 6,
   "id": "5a715a19",
   "metadata": {},
   "outputs": [],
   "source": [
    "features_importantes = features[['MES_7', 'TIPOVUELO_I', 'OPERA_Copa Air', 'OPERA_Latin American Wings',\n",
    "                                'MES_12', 'OPERA_Grupo LATAM', 'MES_10', 'OPERA_JetSmart SPA', 'OPERA_Air Canada',\n",
    "                                'MES_9', 'OPERA_American Airlines']]\n",
    "labels_ = label"
   ]
  },
  {
   "cell_type": "code",
   "execution_count": 7,
   "id": "5cf544e1",
   "metadata": {},
   "outputs": [
    {
     "data": {
      "text/html": [
       "<div>\n",
       "<style scoped>\n",
       "    .dataframe tbody tr th:only-of-type {\n",
       "        vertical-align: middle;\n",
       "    }\n",
       "\n",
       "    .dataframe tbody tr th {\n",
       "        vertical-align: top;\n",
       "    }\n",
       "\n",
       "    .dataframe thead th {\n",
       "        text-align: right;\n",
       "    }\n",
       "</style>\n",
       "<table border=\"1\" class=\"dataframe\">\n",
       "  <thead>\n",
       "    <tr style=\"text-align: right;\">\n",
       "      <th></th>\n",
       "      <th>MES_7</th>\n",
       "      <th>TIPOVUELO_I</th>\n",
       "      <th>OPERA_Copa Air</th>\n",
       "      <th>OPERA_Latin American Wings</th>\n",
       "      <th>MES_12</th>\n",
       "      <th>OPERA_Grupo LATAM</th>\n",
       "      <th>MES_10</th>\n",
       "      <th>OPERA_JetSmart SPA</th>\n",
       "      <th>OPERA_Air Canada</th>\n",
       "      <th>MES_9</th>\n",
       "      <th>OPERA_American Airlines</th>\n",
       "      <th>atraso_15</th>\n",
       "    </tr>\n",
       "  </thead>\n",
       "  <tbody>\n",
       "    <tr>\n",
       "      <th>13375</th>\n",
       "      <td>0</td>\n",
       "      <td>0</td>\n",
       "      <td>0</td>\n",
       "      <td>0</td>\n",
       "      <td>0</td>\n",
       "      <td>0</td>\n",
       "      <td>0</td>\n",
       "      <td>0</td>\n",
       "      <td>0</td>\n",
       "      <td>0</td>\n",
       "      <td>0</td>\n",
       "      <td>0</td>\n",
       "    </tr>\n",
       "    <tr>\n",
       "      <th>35799</th>\n",
       "      <td>1</td>\n",
       "      <td>0</td>\n",
       "      <td>0</td>\n",
       "      <td>0</td>\n",
       "      <td>0</td>\n",
       "      <td>1</td>\n",
       "      <td>0</td>\n",
       "      <td>0</td>\n",
       "      <td>0</td>\n",
       "      <td>0</td>\n",
       "      <td>0</td>\n",
       "      <td>0</td>\n",
       "    </tr>\n",
       "    <tr>\n",
       "      <th>48176</th>\n",
       "      <td>0</td>\n",
       "      <td>0</td>\n",
       "      <td>0</td>\n",
       "      <td>0</td>\n",
       "      <td>0</td>\n",
       "      <td>1</td>\n",
       "      <td>0</td>\n",
       "      <td>0</td>\n",
       "      <td>0</td>\n",
       "      <td>1</td>\n",
       "      <td>0</td>\n",
       "      <td>0</td>\n",
       "    </tr>\n",
       "    <tr>\n",
       "      <th>58675</th>\n",
       "      <td>0</td>\n",
       "      <td>0</td>\n",
       "      <td>0</td>\n",
       "      <td>0</td>\n",
       "      <td>0</td>\n",
       "      <td>1</td>\n",
       "      <td>0</td>\n",
       "      <td>0</td>\n",
       "      <td>0</td>\n",
       "      <td>0</td>\n",
       "      <td>0</td>\n",
       "      <td>0</td>\n",
       "    </tr>\n",
       "    <tr>\n",
       "      <th>23374</th>\n",
       "      <td>0</td>\n",
       "      <td>0</td>\n",
       "      <td>0</td>\n",
       "      <td>0</td>\n",
       "      <td>0</td>\n",
       "      <td>0</td>\n",
       "      <td>0</td>\n",
       "      <td>0</td>\n",
       "      <td>0</td>\n",
       "      <td>0</td>\n",
       "      <td>0</td>\n",
       "      <td>0</td>\n",
       "    </tr>\n",
       "    <tr>\n",
       "      <th>...</th>\n",
       "      <td>...</td>\n",
       "      <td>...</td>\n",
       "      <td>...</td>\n",
       "      <td>...</td>\n",
       "      <td>...</td>\n",
       "      <td>...</td>\n",
       "      <td>...</td>\n",
       "      <td>...</td>\n",
       "      <td>...</td>\n",
       "      <td>...</td>\n",
       "      <td>...</td>\n",
       "      <td>...</td>\n",
       "    </tr>\n",
       "    <tr>\n",
       "      <th>37831</th>\n",
       "      <td>1</td>\n",
       "      <td>1</td>\n",
       "      <td>0</td>\n",
       "      <td>0</td>\n",
       "      <td>0</td>\n",
       "      <td>1</td>\n",
       "      <td>0</td>\n",
       "      <td>0</td>\n",
       "      <td>0</td>\n",
       "      <td>0</td>\n",
       "      <td>0</td>\n",
       "      <td>0</td>\n",
       "    </tr>\n",
       "    <tr>\n",
       "      <th>28790</th>\n",
       "      <td>0</td>\n",
       "      <td>0</td>\n",
       "      <td>0</td>\n",
       "      <td>0</td>\n",
       "      <td>0</td>\n",
       "      <td>0</td>\n",
       "      <td>0</td>\n",
       "      <td>0</td>\n",
       "      <td>0</td>\n",
       "      <td>0</td>\n",
       "      <td>0</td>\n",
       "      <td>1</td>\n",
       "    </tr>\n",
       "    <tr>\n",
       "      <th>25257</th>\n",
       "      <td>0</td>\n",
       "      <td>0</td>\n",
       "      <td>0</td>\n",
       "      <td>0</td>\n",
       "      <td>0</td>\n",
       "      <td>1</td>\n",
       "      <td>0</td>\n",
       "      <td>0</td>\n",
       "      <td>0</td>\n",
       "      <td>0</td>\n",
       "      <td>0</td>\n",
       "      <td>0</td>\n",
       "    </tr>\n",
       "    <tr>\n",
       "      <th>4820</th>\n",
       "      <td>0</td>\n",
       "      <td>1</td>\n",
       "      <td>0</td>\n",
       "      <td>0</td>\n",
       "      <td>0</td>\n",
       "      <td>1</td>\n",
       "      <td>0</td>\n",
       "      <td>0</td>\n",
       "      <td>0</td>\n",
       "      <td>0</td>\n",
       "      <td>0</td>\n",
       "      <td>0</td>\n",
       "    </tr>\n",
       "    <tr>\n",
       "      <th>10196</th>\n",
       "      <td>0</td>\n",
       "      <td>0</td>\n",
       "      <td>0</td>\n",
       "      <td>0</td>\n",
       "      <td>0</td>\n",
       "      <td>1</td>\n",
       "      <td>0</td>\n",
       "      <td>0</td>\n",
       "      <td>0</td>\n",
       "      <td>0</td>\n",
       "      <td>0</td>\n",
       "      <td>0</td>\n",
       "    </tr>\n",
       "  </tbody>\n",
       "</table>\n",
       "<p>68206 rows × 12 columns</p>\n",
       "</div>"
      ],
      "text/plain": [
       "       MES_7  TIPOVUELO_I  OPERA_Copa Air  OPERA_Latin American Wings  MES_12  \\\n",
       "13375      0            0               0                           0       0   \n",
       "35799      1            0               0                           0       0   \n",
       "48176      0            0               0                           0       0   \n",
       "58675      0            0               0                           0       0   \n",
       "23374      0            0               0                           0       0   \n",
       "...      ...          ...             ...                         ...     ...   \n",
       "37831      1            1               0                           0       0   \n",
       "28790      0            0               0                           0       0   \n",
       "25257      0            0               0                           0       0   \n",
       "4820       0            1               0                           0       0   \n",
       "10196      0            0               0                           0       0   \n",
       "\n",
       "       OPERA_Grupo LATAM  MES_10  OPERA_JetSmart SPA  OPERA_Air Canada  MES_9  \\\n",
       "13375                  0       0                   0                 0      0   \n",
       "35799                  1       0                   0                 0      0   \n",
       "48176                  1       0                   0                 0      1   \n",
       "58675                  1       0                   0                 0      0   \n",
       "23374                  0       0                   0                 0      0   \n",
       "...                  ...     ...                 ...               ...    ...   \n",
       "37831                  1       0                   0                 0      0   \n",
       "28790                  0       0                   0                 0      0   \n",
       "25257                  1       0                   0                 0      0   \n",
       "4820                   1       0                   0                 0      0   \n",
       "10196                  1       0                   0                 0      0   \n",
       "\n",
       "       OPERA_American Airlines  atraso_15  \n",
       "13375                        0          0  \n",
       "35799                        0          0  \n",
       "48176                        0          0  \n",
       "58675                        0          0  \n",
       "23374                        0          0  \n",
       "...                        ...        ...  \n",
       "37831                        0          0  \n",
       "28790                        0          1  \n",
       "25257                        0          0  \n",
       "4820                         0          0  \n",
       "10196                        0          0  \n",
       "\n",
       "[68206 rows x 12 columns]"
      ]
     },
     "execution_count": 7,
     "metadata": {},
     "output_type": "execute_result"
    }
   ],
   "source": [
    "df_features_importantes = pd.concat([features_importantes, label], axis =1)\n",
    "df_features_importantes"
   ]
  },
  {
   "cell_type": "code",
   "execution_count": 8,
   "id": "5dc684e7",
   "metadata": {},
   "outputs": [],
   "source": [
    "df_features_importantes.to_csv(\"df_features_importantes.csv\", index = False)"
   ]
  },
  {
   "cell_type": "markdown",
   "id": "2be4373c",
   "metadata": {},
   "source": [
    "# PIPELINE DE MONITOREO\n",
    "Para probar distintos modelos y comparar sus métricas de forma cómoda, es buena práctica usar librerías que permitan hacer seguimiento de los distintos modelos entrenados, a modo de poder comparar y seleccionar correctamente los modelos de forma compacta. En este caso hacemos uso de W&B\n",
    "\n",
    "Dentro de la pipeline se incluyen procesos como Cross Validation, Oversampling, Undersampling."
   ]
  },
  {
   "cell_type": "markdown",
   "id": "20fdbc1f",
   "metadata": {},
   "source": [
    "# UN-UPSAMPLING Todas las features"
   ]
  },
  {
   "cell_type": "code",
   "execution_count": 8,
   "id": "d8f63243",
   "metadata": {},
   "outputs": [],
   "source": [
    "#creamos un diccionario con modelos base clasicos para clasificacion que seran sometidos a test\n",
    "\n",
    "models = {\n",
    "    'SVM' : SVC(),\n",
    "    'XGB' : xgb.XGBClassifier(random_state=1, learning_rate=0.01),\n",
    "    'RF'  : RandomForestClassifier(random_state = 1),\n",
    "    'LR'  : LogisticRegression()\n",
    " }\n"
   ]
  },
  {
   "cell_type": "code",
   "execution_count": 7,
   "id": "efc9cabb",
   "metadata": {},
   "outputs": [
    {
     "name": "stdout",
     "output_type": "stream",
     "text": [
      "Create sweep with ID: aiz2vglq\n",
      "Sweep URL: https://wandb.ai/ignacio-onate/cw-challenge-model-test/sweeps/aiz2vglq\n"
     ]
    }
   ],
   "source": [
    "#nuestro primer hiperparametro a testear es el under-over-sampling para la data desbalanceada.\n",
    "sweep_configuration = {\n",
    "    'method': 'grid',\n",
    "    'name': 'sweep',\n",
    "    'metric': {'goal': 'maximize', 'name': 'precision'},\n",
    "    'parameters': \n",
    "    {\n",
    "        'over_values': {'values': [0.3, 0.4, 0.5]},\n",
    "        'under_values': {'values': [0.7, 0.6, 0.5]}\n",
    "     }\n",
    "}\n",
    "sweep_id = wandb.sweep(sweep=sweep_configuration, project='cw-challenge-model-test')\n"
   ]
  },
  {
   "cell_type": "code",
   "execution_count": 8,
   "id": "b9145b42",
   "metadata": {
    "scrolled": true
   },
   "outputs": [
    {
     "name": "stderr",
     "output_type": "stream",
     "text": [
      "\u001b[34m\u001b[1mwandb\u001b[0m: Agent Starting Run: 2pwh13jl with config:\n",
      "\u001b[34m\u001b[1mwandb\u001b[0m: \tover_values: 0.3\n",
      "\u001b[34m\u001b[1mwandb\u001b[0m: \tunder_values: 0.7\n",
      "\u001b[34m\u001b[1mwandb\u001b[0m: Currently logged in as: \u001b[33mignacio-onate\u001b[0m. Use \u001b[1m`wandb login --relogin`\u001b[0m to force relogin\n"
     ]
    },
    {
     "data": {
      "text/html": [
       "Tracking run with wandb version 0.14.0"
      ],
      "text/plain": [
       "<IPython.core.display.HTML object>"
      ]
     },
     "metadata": {},
     "output_type": "display_data"
    },
    {
     "data": {
      "text/html": [
       "Run data is saved locally in <code>C:\\Users\\JhonG\\Documents\\nw-challenge\\nw-challenge\\model\\wandb\\run-20230326_000336-2pwh13jl</code>"
      ],
      "text/plain": [
       "<IPython.core.display.HTML object>"
      ]
     },
     "metadata": {},
     "output_type": "display_data"
    },
    {
     "data": {
      "text/html": [
       "Syncing run <strong><a href='https://wandb.ai/ignacio-onate/cw-challenge-model-test/runs/2pwh13jl' target=\"_blank\">jumping-sweep-1</a></strong> to <a href='https://wandb.ai/ignacio-onate/cw-challenge-model-test' target=\"_blank\">Weights & Biases</a> (<a href='https://wandb.me/run' target=\"_blank\">docs</a>)<br/>Sweep page: <a href='https://wandb.ai/ignacio-onate/cw-challenge-model-test/sweeps/aiz2vglq' target=\"_blank\">https://wandb.ai/ignacio-onate/cw-challenge-model-test/sweeps/aiz2vglq</a>"
      ],
      "text/plain": [
       "<IPython.core.display.HTML object>"
      ]
     },
     "metadata": {},
     "output_type": "display_data"
    },
    {
     "data": {
      "text/html": [
       " View project at <a href='https://wandb.ai/ignacio-onate/cw-challenge-model-test' target=\"_blank\">https://wandb.ai/ignacio-onate/cw-challenge-model-test</a>"
      ],
      "text/plain": [
       "<IPython.core.display.HTML object>"
      ]
     },
     "metadata": {},
     "output_type": "display_data"
    },
    {
     "data": {
      "text/html": [
       " View sweep at <a href='https://wandb.ai/ignacio-onate/cw-challenge-model-test/sweeps/aiz2vglq' target=\"_blank\">https://wandb.ai/ignacio-onate/cw-challenge-model-test/sweeps/aiz2vglq</a>"
      ],
      "text/plain": [
       "<IPython.core.display.HTML object>"
      ]
     },
     "metadata": {},
     "output_type": "display_data"
    },
    {
     "data": {
      "text/html": [
       " View run at <a href='https://wandb.ai/ignacio-onate/cw-challenge-model-test/runs/2pwh13jl' target=\"_blank\">https://wandb.ai/ignacio-onate/cw-challenge-model-test/runs/2pwh13jl</a>"
      ],
      "text/plain": [
       "<IPython.core.display.HTML object>"
      ]
     },
     "metadata": {},
     "output_type": "display_data"
    },
    {
     "name": "stdout",
     "output_type": "stream",
     "text": [
      "Modelo:  SVM\n",
      "Modelo:  XGB\n",
      "Modelo:  RF\n",
      "Modelo:  LR\n"
     ]
    },
    {
     "data": {
      "text/html": [
       "Waiting for W&B process to finish... <strong style=\"color:green\">(success).</strong>"
      ],
      "text/plain": [
       "<IPython.core.display.HTML object>"
      ]
     },
     "metadata": {},
     "output_type": "display_data"
    },
    {
     "data": {
      "text/html": [
       "<style>\n",
       "    table.wandb td:nth-child(1) { padding: 0 10px; text-align: left ; width: auto;} td:nth-child(2) {text-align: left ; width: 100%}\n",
       "    .wandb-row { display: flex; flex-direction: row; flex-wrap: wrap; justify-content: flex-start; width: 100% }\n",
       "    .wandb-col { display: flex; flex-direction: column; flex-basis: 100%; flex: 1; padding: 10px; }\n",
       "    </style>\n",
       "<div class=\"wandb-row\"><div class=\"wandb-col\"><h3>Run history:</h3><br/><table class=\"wandb\"><tr><td>accuracy_LR</td><td>▁</td></tr><tr><td>accuracy_RF</td><td>▁</td></tr><tr><td>accuracy_SVM</td><td>▁</td></tr><tr><td>accuracy_XGB</td><td>▁</td></tr><tr><td>f1_LR</td><td>▁</td></tr><tr><td>f1_RF</td><td>▁</td></tr><tr><td>f1_SVM</td><td>▁</td></tr><tr><td>f1_XGB</td><td>▁</td></tr><tr><td>precision_LR</td><td>▁</td></tr><tr><td>precision_RF</td><td>▁</td></tr><tr><td>precision_SVM</td><td>▁</td></tr><tr><td>precision_XGB</td><td>▁</td></tr><tr><td>recall_LR</td><td>▁</td></tr><tr><td>recall_RF</td><td>▁</td></tr><tr><td>recall_SVM</td><td>▁</td></tr><tr><td>recall_XGB</td><td>▁</td></tr><tr><td>roc_auc_LR</td><td>▁</td></tr><tr><td>roc_auc_RF</td><td>▁</td></tr><tr><td>roc_auc_SVM</td><td>▁</td></tr><tr><td>roc_auc_XGB</td><td>▁</td></tr></table><br/></div><div class=\"wandb-col\"><h3>Run summary:</h3><br/><table class=\"wandb\"><tr><td>accuracy_LR</td><td>0.74815</td></tr><tr><td>accuracy_RF</td><td>0.73073</td></tr><tr><td>accuracy_SVM</td><td>0.7715</td></tr><tr><td>accuracy_XGB</td><td>0.77552</td></tr><tr><td>f1_LR</td><td>0.32856</td></tr><tr><td>f1_RF</td><td>0.36873</td></tr><tr><td>f1_SVM</td><td>0.27951</td></tr><tr><td>f1_XGB</td><td>0.31423</td></tr><tr><td>precision_LR</td><td>0.32419</td></tr><tr><td>precision_RF</td><td>0.32609</td></tr><tr><td>precision_SVM</td><td>0.33529</td></tr><tr><td>precision_XGB</td><td>0.36134</td></tr><tr><td>recall_LR</td><td>0.33328</td></tr><tr><td>recall_RF</td><td>0.42556</td></tr><tr><td>recall_SVM</td><td>0.23981</td></tr><tr><td>recall_XGB</td><td>0.2785</td></tr><tr><td>roc_auc_LR</td><td>0.66453</td></tr><tr><td>roc_auc_RF</td><td>0.68132</td></tr><tr><td>roc_auc_SVM</td><td>0.65133</td></tr><tr><td>roc_auc_XGB</td><td>0.66471</td></tr></table><br/></div></div>"
      ],
      "text/plain": [
       "<IPython.core.display.HTML object>"
      ]
     },
     "metadata": {},
     "output_type": "display_data"
    },
    {
     "data": {
      "text/html": [
       " View run <strong style=\"color:#cdcd00\">jumping-sweep-1</strong> at: <a href='https://wandb.ai/ignacio-onate/cw-challenge-model-test/runs/2pwh13jl' target=\"_blank\">https://wandb.ai/ignacio-onate/cw-challenge-model-test/runs/2pwh13jl</a><br/>Synced 5 W&B file(s), 0 media file(s), 0 artifact file(s) and 0 other file(s)"
      ],
      "text/plain": [
       "<IPython.core.display.HTML object>"
      ]
     },
     "metadata": {},
     "output_type": "display_data"
    },
    {
     "data": {
      "text/html": [
       "Find logs at: <code>.\\wandb\\run-20230326_000336-2pwh13jl\\logs</code>"
      ],
      "text/plain": [
       "<IPython.core.display.HTML object>"
      ]
     },
     "metadata": {},
     "output_type": "display_data"
    },
    {
     "name": "stderr",
     "output_type": "stream",
     "text": [
      "\u001b[34m\u001b[1mwandb\u001b[0m: Agent Starting Run: 1ssmyda8 with config:\n",
      "\u001b[34m\u001b[1mwandb\u001b[0m: \tover_values: 0.3\n",
      "\u001b[34m\u001b[1mwandb\u001b[0m: \tunder_values: 0.6\n"
     ]
    },
    {
     "data": {
      "text/html": [
       "Tracking run with wandb version 0.14.0"
      ],
      "text/plain": [
       "<IPython.core.display.HTML object>"
      ]
     },
     "metadata": {},
     "output_type": "display_data"
    },
    {
     "data": {
      "text/html": [
       "Run data is saved locally in <code>C:\\Users\\JhonG\\Documents\\nw-challenge\\nw-challenge\\model\\wandb\\run-20230326_000902-1ssmyda8</code>"
      ],
      "text/plain": [
       "<IPython.core.display.HTML object>"
      ]
     },
     "metadata": {},
     "output_type": "display_data"
    },
    {
     "data": {
      "text/html": [
       "Syncing run <strong><a href='https://wandb.ai/ignacio-onate/cw-challenge-model-test/runs/1ssmyda8' target=\"_blank\">floral-sweep-2</a></strong> to <a href='https://wandb.ai/ignacio-onate/cw-challenge-model-test' target=\"_blank\">Weights & Biases</a> (<a href='https://wandb.me/run' target=\"_blank\">docs</a>)<br/>Sweep page: <a href='https://wandb.ai/ignacio-onate/cw-challenge-model-test/sweeps/aiz2vglq' target=\"_blank\">https://wandb.ai/ignacio-onate/cw-challenge-model-test/sweeps/aiz2vglq</a>"
      ],
      "text/plain": [
       "<IPython.core.display.HTML object>"
      ]
     },
     "metadata": {},
     "output_type": "display_data"
    },
    {
     "data": {
      "text/html": [
       " View project at <a href='https://wandb.ai/ignacio-onate/cw-challenge-model-test' target=\"_blank\">https://wandb.ai/ignacio-onate/cw-challenge-model-test</a>"
      ],
      "text/plain": [
       "<IPython.core.display.HTML object>"
      ]
     },
     "metadata": {},
     "output_type": "display_data"
    },
    {
     "data": {
      "text/html": [
       " View sweep at <a href='https://wandb.ai/ignacio-onate/cw-challenge-model-test/sweeps/aiz2vglq' target=\"_blank\">https://wandb.ai/ignacio-onate/cw-challenge-model-test/sweeps/aiz2vglq</a>"
      ],
      "text/plain": [
       "<IPython.core.display.HTML object>"
      ]
     },
     "metadata": {},
     "output_type": "display_data"
    },
    {
     "data": {
      "text/html": [
       " View run at <a href='https://wandb.ai/ignacio-onate/cw-challenge-model-test/runs/1ssmyda8' target=\"_blank\">https://wandb.ai/ignacio-onate/cw-challenge-model-test/runs/1ssmyda8</a>"
      ],
      "text/plain": [
       "<IPython.core.display.HTML object>"
      ]
     },
     "metadata": {},
     "output_type": "display_data"
    },
    {
     "name": "stdout",
     "output_type": "stream",
     "text": [
      "Modelo:  SVM\n",
      "Modelo:  XGB\n",
      "Modelo:  RF\n",
      "Modelo:  LR\n"
     ]
    },
    {
     "data": {
      "text/html": [
       "Waiting for W&B process to finish... <strong style=\"color:green\">(success).</strong>"
      ],
      "text/plain": [
       "<IPython.core.display.HTML object>"
      ]
     },
     "metadata": {},
     "output_type": "display_data"
    },
    {
     "data": {
      "text/html": [
       "<style>\n",
       "    table.wandb td:nth-child(1) { padding: 0 10px; text-align: left ; width: auto;} td:nth-child(2) {text-align: left ; width: 100%}\n",
       "    .wandb-row { display: flex; flex-direction: row; flex-wrap: wrap; justify-content: flex-start; width: 100% }\n",
       "    .wandb-col { display: flex; flex-direction: column; flex-basis: 100%; flex: 1; padding: 10px; }\n",
       "    </style>\n",
       "<div class=\"wandb-row\"><div class=\"wandb-col\"><h3>Run history:</h3><br/><table class=\"wandb\"><tr><td>accuracy_LR</td><td>▁</td></tr><tr><td>accuracy_RF</td><td>▁</td></tr><tr><td>accuracy_SVM</td><td>▁</td></tr><tr><td>accuracy_XGB</td><td>▁</td></tr><tr><td>f1_LR</td><td>▁</td></tr><tr><td>f1_RF</td><td>▁</td></tr><tr><td>f1_SVM</td><td>▁</td></tr><tr><td>f1_XGB</td><td>▁</td></tr><tr><td>precision_LR</td><td>▁</td></tr><tr><td>precision_RF</td><td>▁</td></tr><tr><td>precision_SVM</td><td>▁</td></tr><tr><td>precision_XGB</td><td>▁</td></tr><tr><td>recall_LR</td><td>▁</td></tr><tr><td>recall_RF</td><td>▁</td></tr><tr><td>recall_SVM</td><td>▁</td></tr><tr><td>recall_XGB</td><td>▁</td></tr><tr><td>roc_auc_LR</td><td>▁</td></tr><tr><td>roc_auc_RF</td><td>▁</td></tr><tr><td>roc_auc_SVM</td><td>▁</td></tr><tr><td>roc_auc_XGB</td><td>▁</td></tr></table><br/></div><div class=\"wandb-col\"><h3>Run summary:</h3><br/><table class=\"wandb\"><tr><td>accuracy_LR</td><td>0.77454</td></tr><tr><td>accuracy_RF</td><td>0.76656</td></tr><tr><td>accuracy_SVM</td><td>0.79977</td></tr><tr><td>accuracy_XGB</td><td>0.7949</td></tr><tr><td>f1_LR</td><td>0.29852</td></tr><tr><td>f1_RF</td><td>0.34126</td></tr><tr><td>f1_SVM</td><td>0.19173</td></tr><tr><td>f1_XGB</td><td>0.26136</td></tr><tr><td>precision_LR</td><td>0.3519</td></tr><tr><td>precision_RF</td><td>0.357</td></tr><tr><td>precision_SVM</td><td>0.39871</td></tr><tr><td>precision_XGB</td><td>0.39296</td></tr><tr><td>recall_LR</td><td>0.25955</td></tr><tr><td>recall_RF</td><td>0.32749</td></tr><tr><td>recall_SVM</td><td>0.13279</td></tr><tr><td>recall_XGB</td><td>0.197</td></tr><tr><td>roc_auc_LR</td><td>0.66451</td></tr><tr><td>roc_auc_RF</td><td>0.68243</td></tr><tr><td>roc_auc_SVM</td><td>0.64081</td></tr><tr><td>roc_auc_XGB</td><td>0.66547</td></tr></table><br/></div></div>"
      ],
      "text/plain": [
       "<IPython.core.display.HTML object>"
      ]
     },
     "metadata": {},
     "output_type": "display_data"
    },
    {
     "data": {
      "text/html": [
       " View run <strong style=\"color:#cdcd00\">floral-sweep-2</strong> at: <a href='https://wandb.ai/ignacio-onate/cw-challenge-model-test/runs/1ssmyda8' target=\"_blank\">https://wandb.ai/ignacio-onate/cw-challenge-model-test/runs/1ssmyda8</a><br/>Synced 5 W&B file(s), 0 media file(s), 0 artifact file(s) and 0 other file(s)"
      ],
      "text/plain": [
       "<IPython.core.display.HTML object>"
      ]
     },
     "metadata": {},
     "output_type": "display_data"
    },
    {
     "data": {
      "text/html": [
       "Find logs at: <code>.\\wandb\\run-20230326_000902-1ssmyda8\\logs</code>"
      ],
      "text/plain": [
       "<IPython.core.display.HTML object>"
      ]
     },
     "metadata": {},
     "output_type": "display_data"
    },
    {
     "name": "stderr",
     "output_type": "stream",
     "text": [
      "\u001b[34m\u001b[1mwandb\u001b[0m: Agent Starting Run: idm5793p with config:\n",
      "\u001b[34m\u001b[1mwandb\u001b[0m: \tover_values: 0.3\n",
      "\u001b[34m\u001b[1mwandb\u001b[0m: \tunder_values: 0.5\n"
     ]
    },
    {
     "data": {
      "text/html": [
       "Tracking run with wandb version 0.14.0"
      ],
      "text/plain": [
       "<IPython.core.display.HTML object>"
      ]
     },
     "metadata": {},
     "output_type": "display_data"
    },
    {
     "data": {
      "text/html": [
       "Run data is saved locally in <code>C:\\Users\\JhonG\\Documents\\nw-challenge\\nw-challenge\\model\\wandb\\run-20230326_001447-idm5793p</code>"
      ],
      "text/plain": [
       "<IPython.core.display.HTML object>"
      ]
     },
     "metadata": {},
     "output_type": "display_data"
    },
    {
     "data": {
      "text/html": [
       "Syncing run <strong><a href='https://wandb.ai/ignacio-onate/cw-challenge-model-test/runs/idm5793p' target=\"_blank\">electric-sweep-3</a></strong> to <a href='https://wandb.ai/ignacio-onate/cw-challenge-model-test' target=\"_blank\">Weights & Biases</a> (<a href='https://wandb.me/run' target=\"_blank\">docs</a>)<br/>Sweep page: <a href='https://wandb.ai/ignacio-onate/cw-challenge-model-test/sweeps/aiz2vglq' target=\"_blank\">https://wandb.ai/ignacio-onate/cw-challenge-model-test/sweeps/aiz2vglq</a>"
      ],
      "text/plain": [
       "<IPython.core.display.HTML object>"
      ]
     },
     "metadata": {},
     "output_type": "display_data"
    },
    {
     "data": {
      "text/html": [
       " View project at <a href='https://wandb.ai/ignacio-onate/cw-challenge-model-test' target=\"_blank\">https://wandb.ai/ignacio-onate/cw-challenge-model-test</a>"
      ],
      "text/plain": [
       "<IPython.core.display.HTML object>"
      ]
     },
     "metadata": {},
     "output_type": "display_data"
    },
    {
     "data": {
      "text/html": [
       " View sweep at <a href='https://wandb.ai/ignacio-onate/cw-challenge-model-test/sweeps/aiz2vglq' target=\"_blank\">https://wandb.ai/ignacio-onate/cw-challenge-model-test/sweeps/aiz2vglq</a>"
      ],
      "text/plain": [
       "<IPython.core.display.HTML object>"
      ]
     },
     "metadata": {},
     "output_type": "display_data"
    },
    {
     "data": {
      "text/html": [
       " View run at <a href='https://wandb.ai/ignacio-onate/cw-challenge-model-test/runs/idm5793p' target=\"_blank\">https://wandb.ai/ignacio-onate/cw-challenge-model-test/runs/idm5793p</a>"
      ],
      "text/plain": [
       "<IPython.core.display.HTML object>"
      ]
     },
     "metadata": {},
     "output_type": "display_data"
    },
    {
     "name": "stdout",
     "output_type": "stream",
     "text": [
      "Modelo:  SVM\n",
      "Modelo:  XGB\n",
      "Modelo:  RF\n",
      "Modelo:  LR\n"
     ]
    },
    {
     "data": {
      "text/html": [
       "Waiting for W&B process to finish... <strong style=\"color:green\">(success).</strong>"
      ],
      "text/plain": [
       "<IPython.core.display.HTML object>"
      ]
     },
     "metadata": {},
     "output_type": "display_data"
    },
    {
     "data": {
      "text/html": [
       "<style>\n",
       "    table.wandb td:nth-child(1) { padding: 0 10px; text-align: left ; width: auto;} td:nth-child(2) {text-align: left ; width: 100%}\n",
       "    .wandb-row { display: flex; flex-direction: row; flex-wrap: wrap; justify-content: flex-start; width: 100% }\n",
       "    .wandb-col { display: flex; flex-direction: column; flex-basis: 100%; flex: 1; padding: 10px; }\n",
       "    </style>\n",
       "<div class=\"wandb-row\"><div class=\"wandb-col\"><h3>Run history:</h3><br/><table class=\"wandb\"><tr><td>accuracy_LR</td><td>▁</td></tr><tr><td>accuracy_RF</td><td>▁</td></tr><tr><td>accuracy_SVM</td><td>▁</td></tr><tr><td>accuracy_XGB</td><td>▁</td></tr><tr><td>f1_LR</td><td>▁</td></tr><tr><td>f1_RF</td><td>▁</td></tr><tr><td>f1_SVM</td><td>▁</td></tr><tr><td>f1_XGB</td><td>▁</td></tr><tr><td>precision_LR</td><td>▁</td></tr><tr><td>precision_RF</td><td>▁</td></tr><tr><td>precision_SVM</td><td>▁</td></tr><tr><td>precision_XGB</td><td>▁</td></tr><tr><td>recall_LR</td><td>▁</td></tr><tr><td>recall_RF</td><td>▁</td></tr><tr><td>recall_SVM</td><td>▁</td></tr><tr><td>recall_XGB</td><td>▁</td></tr><tr><td>roc_auc_LR</td><td>▁</td></tr><tr><td>roc_auc_RF</td><td>▁</td></tr><tr><td>roc_auc_SVM</td><td>▁</td></tr><tr><td>roc_auc_XGB</td><td>▁</td></tr></table><br/></div><div class=\"wandb-col\"><h3>Run summary:</h3><br/><table class=\"wandb\"><tr><td>accuracy_LR</td><td>0.7939</td></tr><tr><td>accuracy_RF</td><td>0.79405</td></tr><tr><td>accuracy_SVM</td><td>0.80688</td></tr><tr><td>accuracy_XGB</td><td>0.80842</td></tr><tr><td>f1_LR</td><td>0.26959</td></tr><tr><td>f1_RF</td><td>0.29452</td></tr><tr><td>f1_SVM</td><td>0.17044</td></tr><tr><td>f1_XGB</td><td>0.19975</td></tr><tr><td>precision_LR</td><td>0.39183</td></tr><tr><td>precision_RF</td><td>0.402</td></tr><tr><td>precision_SVM</td><td>0.41415</td></tr><tr><td>precision_XGB</td><td>0.44408</td></tr><tr><td>recall_LR</td><td>0.20572</td></tr><tr><td>recall_RF</td><td>0.2326</td></tr><tr><td>recall_SVM</td><td>0.10734</td></tr><tr><td>recall_XGB</td><td>0.13017</td></tr><tr><td>roc_auc_LR</td><td>0.66454</td></tr><tr><td>roc_auc_RF</td><td>0.6824</td></tr><tr><td>roc_auc_SVM</td><td>0.61027</td></tr><tr><td>roc_auc_XGB</td><td>0.66308</td></tr></table><br/></div></div>"
      ],
      "text/plain": [
       "<IPython.core.display.HTML object>"
      ]
     },
     "metadata": {},
     "output_type": "display_data"
    },
    {
     "data": {
      "text/html": [
       " View run <strong style=\"color:#cdcd00\">electric-sweep-3</strong> at: <a href='https://wandb.ai/ignacio-onate/cw-challenge-model-test/runs/idm5793p' target=\"_blank\">https://wandb.ai/ignacio-onate/cw-challenge-model-test/runs/idm5793p</a><br/>Synced 5 W&B file(s), 0 media file(s), 0 artifact file(s) and 0 other file(s)"
      ],
      "text/plain": [
       "<IPython.core.display.HTML object>"
      ]
     },
     "metadata": {},
     "output_type": "display_data"
    },
    {
     "data": {
      "text/html": [
       "Find logs at: <code>.\\wandb\\run-20230326_001447-idm5793p\\logs</code>"
      ],
      "text/plain": [
       "<IPython.core.display.HTML object>"
      ]
     },
     "metadata": {},
     "output_type": "display_data"
    },
    {
     "name": "stderr",
     "output_type": "stream",
     "text": [
      "\u001b[34m\u001b[1mwandb\u001b[0m: Sweep Agent: Waiting for job.\n",
      "\u001b[34m\u001b[1mwandb\u001b[0m: Job received.\n",
      "\u001b[34m\u001b[1mwandb\u001b[0m: Agent Starting Run: plparvsp with config:\n",
      "\u001b[34m\u001b[1mwandb\u001b[0m: \tover_values: 0.4\n",
      "\u001b[34m\u001b[1mwandb\u001b[0m: \tunder_values: 0.7\n"
     ]
    },
    {
     "data": {
      "text/html": [
       "Tracking run with wandb version 0.14.0"
      ],
      "text/plain": [
       "<IPython.core.display.HTML object>"
      ]
     },
     "metadata": {},
     "output_type": "display_data"
    },
    {
     "data": {
      "text/html": [
       "Run data is saved locally in <code>C:\\Users\\JhonG\\Documents\\nw-challenge\\nw-challenge\\model\\wandb\\run-20230326_002029-plparvsp</code>"
      ],
      "text/plain": [
       "<IPython.core.display.HTML object>"
      ]
     },
     "metadata": {},
     "output_type": "display_data"
    },
    {
     "data": {
      "text/html": [
       "Syncing run <strong><a href='https://wandb.ai/ignacio-onate/cw-challenge-model-test/runs/plparvsp' target=\"_blank\">effortless-sweep-4</a></strong> to <a href='https://wandb.ai/ignacio-onate/cw-challenge-model-test' target=\"_blank\">Weights & Biases</a> (<a href='https://wandb.me/run' target=\"_blank\">docs</a>)<br/>Sweep page: <a href='https://wandb.ai/ignacio-onate/cw-challenge-model-test/sweeps/aiz2vglq' target=\"_blank\">https://wandb.ai/ignacio-onate/cw-challenge-model-test/sweeps/aiz2vglq</a>"
      ],
      "text/plain": [
       "<IPython.core.display.HTML object>"
      ]
     },
     "metadata": {},
     "output_type": "display_data"
    },
    {
     "data": {
      "text/html": [
       " View project at <a href='https://wandb.ai/ignacio-onate/cw-challenge-model-test' target=\"_blank\">https://wandb.ai/ignacio-onate/cw-challenge-model-test</a>"
      ],
      "text/plain": [
       "<IPython.core.display.HTML object>"
      ]
     },
     "metadata": {},
     "output_type": "display_data"
    },
    {
     "data": {
      "text/html": [
       " View sweep at <a href='https://wandb.ai/ignacio-onate/cw-challenge-model-test/sweeps/aiz2vglq' target=\"_blank\">https://wandb.ai/ignacio-onate/cw-challenge-model-test/sweeps/aiz2vglq</a>"
      ],
      "text/plain": [
       "<IPython.core.display.HTML object>"
      ]
     },
     "metadata": {},
     "output_type": "display_data"
    },
    {
     "data": {
      "text/html": [
       " View run at <a href='https://wandb.ai/ignacio-onate/cw-challenge-model-test/runs/plparvsp' target=\"_blank\">https://wandb.ai/ignacio-onate/cw-challenge-model-test/runs/plparvsp</a>"
      ],
      "text/plain": [
       "<IPython.core.display.HTML object>"
      ]
     },
     "metadata": {},
     "output_type": "display_data"
    },
    {
     "name": "stdout",
     "output_type": "stream",
     "text": [
      "Modelo:  SVM\n",
      "Modelo:  XGB\n",
      "Modelo:  RF\n",
      "Modelo:  LR\n"
     ]
    },
    {
     "data": {
      "text/html": [
       "Waiting for W&B process to finish... <strong style=\"color:green\">(success).</strong>"
      ],
      "text/plain": [
       "<IPython.core.display.HTML object>"
      ]
     },
     "metadata": {},
     "output_type": "display_data"
    },
    {
     "data": {
      "text/html": [
       "<style>\n",
       "    table.wandb td:nth-child(1) { padding: 0 10px; text-align: left ; width: auto;} td:nth-child(2) {text-align: left ; width: 100%}\n",
       "    .wandb-row { display: flex; flex-direction: row; flex-wrap: wrap; justify-content: flex-start; width: 100% }\n",
       "    .wandb-col { display: flex; flex-direction: column; flex-basis: 100%; flex: 1; padding: 10px; }\n",
       "    </style>\n",
       "<div class=\"wandb-row\"><div class=\"wandb-col\"><h3>Run history:</h3><br/><table class=\"wandb\"><tr><td>accuracy_LR</td><td>▁</td></tr><tr><td>accuracy_RF</td><td>▁</td></tr><tr><td>accuracy_SVM</td><td>▁</td></tr><tr><td>accuracy_XGB</td><td>▁</td></tr><tr><td>f1_LR</td><td>▁</td></tr><tr><td>f1_RF</td><td>▁</td></tr><tr><td>f1_SVM</td><td>▁</td></tr><tr><td>f1_XGB</td><td>▁</td></tr><tr><td>precision_LR</td><td>▁</td></tr><tr><td>precision_RF</td><td>▁</td></tr><tr><td>precision_SVM</td><td>▁</td></tr><tr><td>precision_XGB</td><td>▁</td></tr><tr><td>recall_LR</td><td>▁</td></tr><tr><td>recall_RF</td><td>▁</td></tr><tr><td>recall_SVM</td><td>▁</td></tr><tr><td>recall_XGB</td><td>▁</td></tr><tr><td>roc_auc_LR</td><td>▁</td></tr><tr><td>roc_auc_RF</td><td>▁</td></tr><tr><td>roc_auc_SVM</td><td>▁</td></tr><tr><td>roc_auc_XGB</td><td>▁</td></tr></table><br/></div><div class=\"wandb-col\"><h3>Run summary:</h3><br/><table class=\"wandb\"><tr><td>accuracy_LR</td><td>0.74721</td></tr><tr><td>accuracy_RF</td><td>0.73508</td></tr><tr><td>accuracy_SVM</td><td>0.77193</td></tr><tr><td>accuracy_XGB</td><td>0.7764</td></tr><tr><td>f1_LR</td><td>0.33272</td></tr><tr><td>f1_RF</td><td>0.36706</td></tr><tr><td>f1_SVM</td><td>0.27568</td></tr><tr><td>f1_XGB</td><td>0.31523</td></tr><tr><td>precision_LR</td><td>0.32514</td></tr><tr><td>precision_RF</td><td>0.32929</td></tr><tr><td>precision_SVM</td><td>0.33403</td></tr><tr><td>precision_XGB</td><td>0.36436</td></tr><tr><td>recall_LR</td><td>0.34081</td></tr><tr><td>recall_RF</td><td>0.4158</td></tr><tr><td>recall_SVM</td><td>0.23474</td></tr><tr><td>recall_XGB</td><td>0.27937</td></tr><tr><td>roc_auc_LR</td><td>0.66476</td></tr><tr><td>roc_auc_RF</td><td>0.68173</td></tr><tr><td>roc_auc_SVM</td><td>0.64847</td></tr><tr><td>roc_auc_XGB</td><td>0.66598</td></tr></table><br/></div></div>"
      ],
      "text/plain": [
       "<IPython.core.display.HTML object>"
      ]
     },
     "metadata": {},
     "output_type": "display_data"
    },
    {
     "data": {
      "text/html": [
       " View run <strong style=\"color:#cdcd00\">effortless-sweep-4</strong> at: <a href='https://wandb.ai/ignacio-onate/cw-challenge-model-test/runs/plparvsp' target=\"_blank\">https://wandb.ai/ignacio-onate/cw-challenge-model-test/runs/plparvsp</a><br/>Synced 5 W&B file(s), 0 media file(s), 0 artifact file(s) and 0 other file(s)"
      ],
      "text/plain": [
       "<IPython.core.display.HTML object>"
      ]
     },
     "metadata": {},
     "output_type": "display_data"
    },
    {
     "data": {
      "text/html": [
       "Find logs at: <code>.\\wandb\\run-20230326_002029-plparvsp\\logs</code>"
      ],
      "text/plain": [
       "<IPython.core.display.HTML object>"
      ]
     },
     "metadata": {},
     "output_type": "display_data"
    },
    {
     "name": "stderr",
     "output_type": "stream",
     "text": [
      "\u001b[34m\u001b[1mwandb\u001b[0m: Agent Starting Run: 382vebef with config:\n",
      "\u001b[34m\u001b[1mwandb\u001b[0m: \tover_values: 0.4\n",
      "\u001b[34m\u001b[1mwandb\u001b[0m: \tunder_values: 0.6\n"
     ]
    },
    {
     "data": {
      "text/html": [
       "Tracking run with wandb version 0.14.0"
      ],
      "text/plain": [
       "<IPython.core.display.HTML object>"
      ]
     },
     "metadata": {},
     "output_type": "display_data"
    },
    {
     "data": {
      "text/html": [
       "Run data is saved locally in <code>C:\\Users\\JhonG\\Documents\\nw-challenge\\nw-challenge\\model\\wandb\\run-20230326_002738-382vebef</code>"
      ],
      "text/plain": [
       "<IPython.core.display.HTML object>"
      ]
     },
     "metadata": {},
     "output_type": "display_data"
    },
    {
     "data": {
      "text/html": [
       "Syncing run <strong><a href='https://wandb.ai/ignacio-onate/cw-challenge-model-test/runs/382vebef' target=\"_blank\">bright-sweep-5</a></strong> to <a href='https://wandb.ai/ignacio-onate/cw-challenge-model-test' target=\"_blank\">Weights & Biases</a> (<a href='https://wandb.me/run' target=\"_blank\">docs</a>)<br/>Sweep page: <a href='https://wandb.ai/ignacio-onate/cw-challenge-model-test/sweeps/aiz2vglq' target=\"_blank\">https://wandb.ai/ignacio-onate/cw-challenge-model-test/sweeps/aiz2vglq</a>"
      ],
      "text/plain": [
       "<IPython.core.display.HTML object>"
      ]
     },
     "metadata": {},
     "output_type": "display_data"
    },
    {
     "data": {
      "text/html": [
       " View project at <a href='https://wandb.ai/ignacio-onate/cw-challenge-model-test' target=\"_blank\">https://wandb.ai/ignacio-onate/cw-challenge-model-test</a>"
      ],
      "text/plain": [
       "<IPython.core.display.HTML object>"
      ]
     },
     "metadata": {},
     "output_type": "display_data"
    },
    {
     "data": {
      "text/html": [
       " View sweep at <a href='https://wandb.ai/ignacio-onate/cw-challenge-model-test/sweeps/aiz2vglq' target=\"_blank\">https://wandb.ai/ignacio-onate/cw-challenge-model-test/sweeps/aiz2vglq</a>"
      ],
      "text/plain": [
       "<IPython.core.display.HTML object>"
      ]
     },
     "metadata": {},
     "output_type": "display_data"
    },
    {
     "data": {
      "text/html": [
       " View run at <a href='https://wandb.ai/ignacio-onate/cw-challenge-model-test/runs/382vebef' target=\"_blank\">https://wandb.ai/ignacio-onate/cw-challenge-model-test/runs/382vebef</a>"
      ],
      "text/plain": [
       "<IPython.core.display.HTML object>"
      ]
     },
     "metadata": {},
     "output_type": "display_data"
    },
    {
     "name": "stdout",
     "output_type": "stream",
     "text": [
      "Modelo:  SVM\n",
      "Modelo:  XGB\n",
      "Modelo:  RF\n",
      "Modelo:  LR\n"
     ]
    },
    {
     "data": {
      "text/html": [
       "Waiting for W&B process to finish... <strong style=\"color:green\">(success).</strong>"
      ],
      "text/plain": [
       "<IPython.core.display.HTML object>"
      ]
     },
     "metadata": {},
     "output_type": "display_data"
    },
    {
     "data": {
      "text/html": [
       "<style>\n",
       "    table.wandb td:nth-child(1) { padding: 0 10px; text-align: left ; width: auto;} td:nth-child(2) {text-align: left ; width: 100%}\n",
       "    .wandb-row { display: flex; flex-direction: row; flex-wrap: wrap; justify-content: flex-start; width: 100% }\n",
       "    .wandb-col { display: flex; flex-direction: column; flex-basis: 100%; flex: 1; padding: 10px; }\n",
       "    </style>\n",
       "<div class=\"wandb-row\"><div class=\"wandb-col\"><h3>Run history:</h3><br/><table class=\"wandb\"><tr><td>accuracy_LR</td><td>▁</td></tr><tr><td>accuracy_RF</td><td>▁</td></tr><tr><td>accuracy_SVM</td><td>▁</td></tr><tr><td>accuracy_XGB</td><td>▁</td></tr><tr><td>f1_LR</td><td>▁</td></tr><tr><td>f1_RF</td><td>▁</td></tr><tr><td>f1_SVM</td><td>▁</td></tr><tr><td>f1_XGB</td><td>▁</td></tr><tr><td>precision_LR</td><td>▁</td></tr><tr><td>precision_RF</td><td>▁</td></tr><tr><td>precision_SVM</td><td>▁</td></tr><tr><td>precision_XGB</td><td>▁</td></tr><tr><td>recall_LR</td><td>▁</td></tr><tr><td>recall_RF</td><td>▁</td></tr><tr><td>recall_SVM</td><td>▁</td></tr><tr><td>recall_XGB</td><td>▁</td></tr><tr><td>roc_auc_LR</td><td>▁</td></tr><tr><td>roc_auc_RF</td><td>▁</td></tr><tr><td>roc_auc_SVM</td><td>▁</td></tr><tr><td>roc_auc_XGB</td><td>▁</td></tr></table><br/></div><div class=\"wandb-col\"><h3>Run summary:</h3><br/><table class=\"wandb\"><tr><td>accuracy_LR</td><td>0.77349</td></tr><tr><td>accuracy_RF</td><td>0.76842</td></tr><tr><td>accuracy_SVM</td><td>0.79244</td></tr><tr><td>accuracy_XGB</td><td>0.79295</td></tr><tr><td>f1_LR</td><td>0.29878</td></tr><tr><td>f1_RF</td><td>0.34332</td></tr><tr><td>f1_SVM</td><td>0.20967</td></tr><tr><td>f1_XGB</td><td>0.26923</td></tr><tr><td>precision_LR</td><td>0.34964</td></tr><tr><td>precision_RF</td><td>0.3609</td></tr><tr><td>precision_SVM</td><td>0.37669</td></tr><tr><td>precision_XGB</td><td>0.39031</td></tr><tr><td>recall_LR</td><td>0.26098</td></tr><tr><td>recall_RF</td><td>0.32757</td></tr><tr><td>recall_SVM</td><td>0.15673</td></tr><tr><td>recall_XGB</td><td>0.20778</td></tr><tr><td>roc_auc_LR</td><td>0.66461</td></tr><tr><td>roc_auc_RF</td><td>0.68109</td></tr><tr><td>roc_auc_SVM</td><td>0.62968</td></tr><tr><td>roc_auc_XGB</td><td>0.66582</td></tr></table><br/></div></div>"
      ],
      "text/plain": [
       "<IPython.core.display.HTML object>"
      ]
     },
     "metadata": {},
     "output_type": "display_data"
    },
    {
     "data": {
      "text/html": [
       " View run <strong style=\"color:#cdcd00\">bright-sweep-5</strong> at: <a href='https://wandb.ai/ignacio-onate/cw-challenge-model-test/runs/382vebef' target=\"_blank\">https://wandb.ai/ignacio-onate/cw-challenge-model-test/runs/382vebef</a><br/>Synced 5 W&B file(s), 0 media file(s), 0 artifact file(s) and 0 other file(s)"
      ],
      "text/plain": [
       "<IPython.core.display.HTML object>"
      ]
     },
     "metadata": {},
     "output_type": "display_data"
    },
    {
     "data": {
      "text/html": [
       "Find logs at: <code>.\\wandb\\run-20230326_002738-382vebef\\logs</code>"
      ],
      "text/plain": [
       "<IPython.core.display.HTML object>"
      ]
     },
     "metadata": {},
     "output_type": "display_data"
    },
    {
     "name": "stderr",
     "output_type": "stream",
     "text": [
      "\u001b[34m\u001b[1mwandb\u001b[0m: Agent Starting Run: df46xmnd with config:\n",
      "\u001b[34m\u001b[1mwandb\u001b[0m: \tover_values: 0.4\n",
      "\u001b[34m\u001b[1mwandb\u001b[0m: \tunder_values: 0.5\n"
     ]
    },
    {
     "data": {
      "text/html": [
       "Tracking run with wandb version 0.14.0"
      ],
      "text/plain": [
       "<IPython.core.display.HTML object>"
      ]
     },
     "metadata": {},
     "output_type": "display_data"
    },
    {
     "data": {
      "text/html": [
       "Run data is saved locally in <code>C:\\Users\\JhonG\\Documents\\nw-challenge\\nw-challenge\\model\\wandb\\run-20230326_003508-df46xmnd</code>"
      ],
      "text/plain": [
       "<IPython.core.display.HTML object>"
      ]
     },
     "metadata": {},
     "output_type": "display_data"
    },
    {
     "data": {
      "text/html": [
       "Syncing run <strong><a href='https://wandb.ai/ignacio-onate/cw-challenge-model-test/runs/df46xmnd' target=\"_blank\">smooth-sweep-6</a></strong> to <a href='https://wandb.ai/ignacio-onate/cw-challenge-model-test' target=\"_blank\">Weights & Biases</a> (<a href='https://wandb.me/run' target=\"_blank\">docs</a>)<br/>Sweep page: <a href='https://wandb.ai/ignacio-onate/cw-challenge-model-test/sweeps/aiz2vglq' target=\"_blank\">https://wandb.ai/ignacio-onate/cw-challenge-model-test/sweeps/aiz2vglq</a>"
      ],
      "text/plain": [
       "<IPython.core.display.HTML object>"
      ]
     },
     "metadata": {},
     "output_type": "display_data"
    },
    {
     "data": {
      "text/html": [
       " View project at <a href='https://wandb.ai/ignacio-onate/cw-challenge-model-test' target=\"_blank\">https://wandb.ai/ignacio-onate/cw-challenge-model-test</a>"
      ],
      "text/plain": [
       "<IPython.core.display.HTML object>"
      ]
     },
     "metadata": {},
     "output_type": "display_data"
    },
    {
     "data": {
      "text/html": [
       " View sweep at <a href='https://wandb.ai/ignacio-onate/cw-challenge-model-test/sweeps/aiz2vglq' target=\"_blank\">https://wandb.ai/ignacio-onate/cw-challenge-model-test/sweeps/aiz2vglq</a>"
      ],
      "text/plain": [
       "<IPython.core.display.HTML object>"
      ]
     },
     "metadata": {},
     "output_type": "display_data"
    },
    {
     "data": {
      "text/html": [
       " View run at <a href='https://wandb.ai/ignacio-onate/cw-challenge-model-test/runs/df46xmnd' target=\"_blank\">https://wandb.ai/ignacio-onate/cw-challenge-model-test/runs/df46xmnd</a>"
      ],
      "text/plain": [
       "<IPython.core.display.HTML object>"
      ]
     },
     "metadata": {},
     "output_type": "display_data"
    },
    {
     "name": "stdout",
     "output_type": "stream",
     "text": [
      "Modelo:  SVM\n",
      "Modelo:  XGB\n",
      "Modelo:  RF\n",
      "Modelo:  LR\n"
     ]
    },
    {
     "data": {
      "text/html": [
       "Waiting for W&B process to finish... <strong style=\"color:green\">(success).</strong>"
      ],
      "text/plain": [
       "<IPython.core.display.HTML object>"
      ]
     },
     "metadata": {},
     "output_type": "display_data"
    },
    {
     "data": {
      "text/html": [
       "<style>\n",
       "    table.wandb td:nth-child(1) { padding: 0 10px; text-align: left ; width: auto;} td:nth-child(2) {text-align: left ; width: 100%}\n",
       "    .wandb-row { display: flex; flex-direction: row; flex-wrap: wrap; justify-content: flex-start; width: 100% }\n",
       "    .wandb-col { display: flex; flex-direction: column; flex-basis: 100%; flex: 1; padding: 10px; }\n",
       "    </style>\n",
       "<div class=\"wandb-row\"><div class=\"wandb-col\"><h3>Run history:</h3><br/><table class=\"wandb\"><tr><td>accuracy_LR</td><td>▁</td></tr><tr><td>accuracy_RF</td><td>▁</td></tr><tr><td>accuracy_SVM</td><td>▁</td></tr><tr><td>accuracy_XGB</td><td>▁</td></tr><tr><td>f1_LR</td><td>▁</td></tr><tr><td>f1_RF</td><td>▁</td></tr><tr><td>f1_SVM</td><td>▁</td></tr><tr><td>f1_XGB</td><td>▁</td></tr><tr><td>precision_LR</td><td>▁</td></tr><tr><td>precision_RF</td><td>▁</td></tr><tr><td>precision_SVM</td><td>▁</td></tr><tr><td>precision_XGB</td><td>▁</td></tr><tr><td>recall_LR</td><td>▁</td></tr><tr><td>recall_RF</td><td>▁</td></tr><tr><td>recall_SVM</td><td>▁</td></tr><tr><td>recall_XGB</td><td>▁</td></tr><tr><td>roc_auc_LR</td><td>▁</td></tr><tr><td>roc_auc_RF</td><td>▁</td></tr><tr><td>roc_auc_SVM</td><td>▁</td></tr><tr><td>roc_auc_XGB</td><td>▁</td></tr></table><br/></div><div class=\"wandb-col\"><h3>Run summary:</h3><br/><table class=\"wandb\"><tr><td>accuracy_LR</td><td>0.79365</td></tr><tr><td>accuracy_RF</td><td>0.7958</td></tr><tr><td>accuracy_SVM</td><td>0.80727</td></tr><tr><td>accuracy_XGB</td><td>0.80845</td></tr><tr><td>f1_LR</td><td>0.26706</td></tr><tr><td>f1_RF</td><td>0.29171</td></tr><tr><td>f1_SVM</td><td>0.16245</td></tr><tr><td>f1_XGB</td><td>0.19961</td></tr><tr><td>precision_LR</td><td>0.39014</td></tr><tr><td>precision_RF</td><td>0.40753</td></tr><tr><td>precision_SVM</td><td>0.41522</td></tr><tr><td>precision_XGB</td><td>0.44637</td></tr><tr><td>recall_LR</td><td>0.20327</td></tr><tr><td>recall_RF</td><td>0.22784</td></tr><tr><td>recall_SVM</td><td>0.10108</td></tr><tr><td>recall_XGB</td><td>0.12978</td></tr><tr><td>roc_auc_LR</td><td>0.66453</td></tr><tr><td>roc_auc_RF</td><td>0.68244</td></tr><tr><td>roc_auc_SVM</td><td>0.61466</td></tr><tr><td>roc_auc_XGB</td><td>0.66423</td></tr></table><br/></div></div>"
      ],
      "text/plain": [
       "<IPython.core.display.HTML object>"
      ]
     },
     "metadata": {},
     "output_type": "display_data"
    },
    {
     "data": {
      "text/html": [
       " View run <strong style=\"color:#cdcd00\">smooth-sweep-6</strong> at: <a href='https://wandb.ai/ignacio-onate/cw-challenge-model-test/runs/df46xmnd' target=\"_blank\">https://wandb.ai/ignacio-onate/cw-challenge-model-test/runs/df46xmnd</a><br/>Synced 5 W&B file(s), 0 media file(s), 0 artifact file(s) and 0 other file(s)"
      ],
      "text/plain": [
       "<IPython.core.display.HTML object>"
      ]
     },
     "metadata": {},
     "output_type": "display_data"
    },
    {
     "data": {
      "text/html": [
       "Find logs at: <code>.\\wandb\\run-20230326_003508-df46xmnd\\logs</code>"
      ],
      "text/plain": [
       "<IPython.core.display.HTML object>"
      ]
     },
     "metadata": {},
     "output_type": "display_data"
    },
    {
     "name": "stderr",
     "output_type": "stream",
     "text": [
      "\u001b[34m\u001b[1mwandb\u001b[0m: Sweep Agent: Waiting for job.\n",
      "\u001b[34m\u001b[1mwandb\u001b[0m: Job received.\n",
      "\u001b[34m\u001b[1mwandb\u001b[0m: Agent Starting Run: krqm6p66 with config:\n",
      "\u001b[34m\u001b[1mwandb\u001b[0m: \tover_values: 0.5\n",
      "\u001b[34m\u001b[1mwandb\u001b[0m: \tunder_values: 0.7\n"
     ]
    },
    {
     "data": {
      "text/html": [
       "Tracking run with wandb version 0.14.0"
      ],
      "text/plain": [
       "<IPython.core.display.HTML object>"
      ]
     },
     "metadata": {},
     "output_type": "display_data"
    },
    {
     "data": {
      "text/html": [
       "Run data is saved locally in <code>C:\\Users\\JhonG\\Documents\\nw-challenge\\nw-challenge\\model\\wandb\\run-20230326_004254-krqm6p66</code>"
      ],
      "text/plain": [
       "<IPython.core.display.HTML object>"
      ]
     },
     "metadata": {},
     "output_type": "display_data"
    },
    {
     "data": {
      "text/html": [
       "Syncing run <strong><a href='https://wandb.ai/ignacio-onate/cw-challenge-model-test/runs/krqm6p66' target=\"_blank\">dashing-sweep-7</a></strong> to <a href='https://wandb.ai/ignacio-onate/cw-challenge-model-test' target=\"_blank\">Weights & Biases</a> (<a href='https://wandb.me/run' target=\"_blank\">docs</a>)<br/>Sweep page: <a href='https://wandb.ai/ignacio-onate/cw-challenge-model-test/sweeps/aiz2vglq' target=\"_blank\">https://wandb.ai/ignacio-onate/cw-challenge-model-test/sweeps/aiz2vglq</a>"
      ],
      "text/plain": [
       "<IPython.core.display.HTML object>"
      ]
     },
     "metadata": {},
     "output_type": "display_data"
    },
    {
     "data": {
      "text/html": [
       " View project at <a href='https://wandb.ai/ignacio-onate/cw-challenge-model-test' target=\"_blank\">https://wandb.ai/ignacio-onate/cw-challenge-model-test</a>"
      ],
      "text/plain": [
       "<IPython.core.display.HTML object>"
      ]
     },
     "metadata": {},
     "output_type": "display_data"
    },
    {
     "data": {
      "text/html": [
       " View sweep at <a href='https://wandb.ai/ignacio-onate/cw-challenge-model-test/sweeps/aiz2vglq' target=\"_blank\">https://wandb.ai/ignacio-onate/cw-challenge-model-test/sweeps/aiz2vglq</a>"
      ],
      "text/plain": [
       "<IPython.core.display.HTML object>"
      ]
     },
     "metadata": {},
     "output_type": "display_data"
    },
    {
     "data": {
      "text/html": [
       " View run at <a href='https://wandb.ai/ignacio-onate/cw-challenge-model-test/runs/krqm6p66' target=\"_blank\">https://wandb.ai/ignacio-onate/cw-challenge-model-test/runs/krqm6p66</a>"
      ],
      "text/plain": [
       "<IPython.core.display.HTML object>"
      ]
     },
     "metadata": {},
     "output_type": "display_data"
    },
    {
     "name": "stdout",
     "output_type": "stream",
     "text": [
      "Modelo:  SVM\n",
      "Modelo:  XGB\n",
      "Modelo:  RF\n",
      "Modelo:  LR\n"
     ]
    },
    {
     "data": {
      "text/html": [
       "Waiting for W&B process to finish... <strong style=\"color:green\">(success).</strong>"
      ],
      "text/plain": [
       "<IPython.core.display.HTML object>"
      ]
     },
     "metadata": {},
     "output_type": "display_data"
    },
    {
     "data": {
      "text/html": [
       "<style>\n",
       "    table.wandb td:nth-child(1) { padding: 0 10px; text-align: left ; width: auto;} td:nth-child(2) {text-align: left ; width: 100%}\n",
       "    .wandb-row { display: flex; flex-direction: row; flex-wrap: wrap; justify-content: flex-start; width: 100% }\n",
       "    .wandb-col { display: flex; flex-direction: column; flex-basis: 100%; flex: 1; padding: 10px; }\n",
       "    </style>\n",
       "<div class=\"wandb-row\"><div class=\"wandb-col\"><h3>Run history:</h3><br/><table class=\"wandb\"><tr><td>accuracy_LR</td><td>▁</td></tr><tr><td>accuracy_RF</td><td>▁</td></tr><tr><td>accuracy_SVM</td><td>▁</td></tr><tr><td>accuracy_XGB</td><td>▁</td></tr><tr><td>f1_LR</td><td>▁</td></tr><tr><td>f1_RF</td><td>▁</td></tr><tr><td>f1_SVM</td><td>▁</td></tr><tr><td>f1_XGB</td><td>▁</td></tr><tr><td>precision_LR</td><td>▁</td></tr><tr><td>precision_RF</td><td>▁</td></tr><tr><td>precision_SVM</td><td>▁</td></tr><tr><td>precision_XGB</td><td>▁</td></tr><tr><td>recall_LR</td><td>▁</td></tr><tr><td>recall_RF</td><td>▁</td></tr><tr><td>recall_SVM</td><td>▁</td></tr><tr><td>recall_XGB</td><td>▁</td></tr><tr><td>roc_auc_LR</td><td>▁</td></tr><tr><td>roc_auc_RF</td><td>▁</td></tr><tr><td>roc_auc_SVM</td><td>▁</td></tr><tr><td>roc_auc_XGB</td><td>▁</td></tr></table><br/></div><div class=\"wandb-col\"><h3>Run summary:</h3><br/><table class=\"wandb\"><tr><td>accuracy_LR</td><td>0.74457</td></tr><tr><td>accuracy_RF</td><td>0.7356</td></tr><tr><td>accuracy_SVM</td><td>0.77191</td></tr><tr><td>accuracy_XGB</td><td>0.77525</td></tr><tr><td>f1_LR</td><td>0.3309</td></tr><tr><td>f1_RF</td><td>0.36995</td></tr><tr><td>f1_SVM</td><td>0.2756</td></tr><tr><td>f1_XGB</td><td>0.31441</td></tr><tr><td>precision_LR</td><td>0.32106</td></tr><tr><td>precision_RF</td><td>0.33095</td></tr><tr><td>precision_SVM</td><td>0.33395</td></tr><tr><td>precision_XGB</td><td>0.36118</td></tr><tr><td>recall_LR</td><td>0.3416</td></tr><tr><td>recall_RF</td><td>0.42024</td></tr><tr><td>recall_SVM</td><td>0.23466</td></tr><tr><td>recall_XGB</td><td>0.27906</td></tr><tr><td>roc_auc_LR</td><td>0.66413</td></tr><tr><td>roc_auc_RF</td><td>0.6825</td></tr><tr><td>roc_auc_SVM</td><td>0.64902</td></tr><tr><td>roc_auc_XGB</td><td>0.66612</td></tr></table><br/></div></div>"
      ],
      "text/plain": [
       "<IPython.core.display.HTML object>"
      ]
     },
     "metadata": {},
     "output_type": "display_data"
    },
    {
     "data": {
      "text/html": [
       " View run <strong style=\"color:#cdcd00\">dashing-sweep-7</strong> at: <a href='https://wandb.ai/ignacio-onate/cw-challenge-model-test/runs/krqm6p66' target=\"_blank\">https://wandb.ai/ignacio-onate/cw-challenge-model-test/runs/krqm6p66</a><br/>Synced 5 W&B file(s), 0 media file(s), 0 artifact file(s) and 0 other file(s)"
      ],
      "text/plain": [
       "<IPython.core.display.HTML object>"
      ]
     },
     "metadata": {},
     "output_type": "display_data"
    },
    {
     "data": {
      "text/html": [
       "Find logs at: <code>.\\wandb\\run-20230326_004254-krqm6p66\\logs</code>"
      ],
      "text/plain": [
       "<IPython.core.display.HTML object>"
      ]
     },
     "metadata": {},
     "output_type": "display_data"
    },
    {
     "name": "stderr",
     "output_type": "stream",
     "text": [
      "\u001b[34m\u001b[1mwandb\u001b[0m: Agent Starting Run: i4hcq7tl with config:\n",
      "\u001b[34m\u001b[1mwandb\u001b[0m: \tover_values: 0.5\n",
      "\u001b[34m\u001b[1mwandb\u001b[0m: \tunder_values: 0.6\n"
     ]
    },
    {
     "data": {
      "text/html": [
       "Tracking run with wandb version 0.14.0"
      ],
      "text/plain": [
       "<IPython.core.display.HTML object>"
      ]
     },
     "metadata": {},
     "output_type": "display_data"
    },
    {
     "data": {
      "text/html": [
       "Run data is saved locally in <code>C:\\Users\\JhonG\\Documents\\nw-challenge\\nw-challenge\\model\\wandb\\run-20230326_005248-i4hcq7tl</code>"
      ],
      "text/plain": [
       "<IPython.core.display.HTML object>"
      ]
     },
     "metadata": {},
     "output_type": "display_data"
    },
    {
     "data": {
      "text/html": [
       "Syncing run <strong><a href='https://wandb.ai/ignacio-onate/cw-challenge-model-test/runs/i4hcq7tl' target=\"_blank\">hopeful-sweep-8</a></strong> to <a href='https://wandb.ai/ignacio-onate/cw-challenge-model-test' target=\"_blank\">Weights & Biases</a> (<a href='https://wandb.me/run' target=\"_blank\">docs</a>)<br/>Sweep page: <a href='https://wandb.ai/ignacio-onate/cw-challenge-model-test/sweeps/aiz2vglq' target=\"_blank\">https://wandb.ai/ignacio-onate/cw-challenge-model-test/sweeps/aiz2vglq</a>"
      ],
      "text/plain": [
       "<IPython.core.display.HTML object>"
      ]
     },
     "metadata": {},
     "output_type": "display_data"
    },
    {
     "data": {
      "text/html": [
       " View project at <a href='https://wandb.ai/ignacio-onate/cw-challenge-model-test' target=\"_blank\">https://wandb.ai/ignacio-onate/cw-challenge-model-test</a>"
      ],
      "text/plain": [
       "<IPython.core.display.HTML object>"
      ]
     },
     "metadata": {},
     "output_type": "display_data"
    },
    {
     "data": {
      "text/html": [
       " View sweep at <a href='https://wandb.ai/ignacio-onate/cw-challenge-model-test/sweeps/aiz2vglq' target=\"_blank\">https://wandb.ai/ignacio-onate/cw-challenge-model-test/sweeps/aiz2vglq</a>"
      ],
      "text/plain": [
       "<IPython.core.display.HTML object>"
      ]
     },
     "metadata": {},
     "output_type": "display_data"
    },
    {
     "data": {
      "text/html": [
       " View run at <a href='https://wandb.ai/ignacio-onate/cw-challenge-model-test/runs/i4hcq7tl' target=\"_blank\">https://wandb.ai/ignacio-onate/cw-challenge-model-test/runs/i4hcq7tl</a>"
      ],
      "text/plain": [
       "<IPython.core.display.HTML object>"
      ]
     },
     "metadata": {},
     "output_type": "display_data"
    },
    {
     "name": "stdout",
     "output_type": "stream",
     "text": [
      "Modelo:  SVM\n",
      "Modelo:  XGB\n",
      "Modelo:  RF\n",
      "Modelo:  LR\n"
     ]
    },
    {
     "data": {
      "text/html": [
       "Waiting for W&B process to finish... <strong style=\"color:green\">(success).</strong>"
      ],
      "text/plain": [
       "<IPython.core.display.HTML object>"
      ]
     },
     "metadata": {},
     "output_type": "display_data"
    },
    {
     "data": {
      "text/html": [
       "<style>\n",
       "    table.wandb td:nth-child(1) { padding: 0 10px; text-align: left ; width: auto;} td:nth-child(2) {text-align: left ; width: 100%}\n",
       "    .wandb-row { display: flex; flex-direction: row; flex-wrap: wrap; justify-content: flex-start; width: 100% }\n",
       "    .wandb-col { display: flex; flex-direction: column; flex-basis: 100%; flex: 1; padding: 10px; }\n",
       "    </style>\n",
       "<div class=\"wandb-row\"><div class=\"wandb-col\"><h3>Run history:</h3><br/><table class=\"wandb\"><tr><td>accuracy_LR</td><td>▁</td></tr><tr><td>accuracy_RF</td><td>▁</td></tr><tr><td>accuracy_SVM</td><td>▁</td></tr><tr><td>accuracy_XGB</td><td>▁</td></tr><tr><td>f1_LR</td><td>▁</td></tr><tr><td>f1_RF</td><td>▁</td></tr><tr><td>f1_SVM</td><td>▁</td></tr><tr><td>f1_XGB</td><td>▁</td></tr><tr><td>precision_LR</td><td>▁</td></tr><tr><td>precision_RF</td><td>▁</td></tr><tr><td>precision_SVM</td><td>▁</td></tr><tr><td>precision_XGB</td><td>▁</td></tr><tr><td>recall_LR</td><td>▁</td></tr><tr><td>recall_RF</td><td>▁</td></tr><tr><td>recall_SVM</td><td>▁</td></tr><tr><td>recall_XGB</td><td>▁</td></tr><tr><td>roc_auc_LR</td><td>▁</td></tr><tr><td>roc_auc_RF</td><td>▁</td></tr><tr><td>roc_auc_SVM</td><td>▁</td></tr><tr><td>roc_auc_XGB</td><td>▁</td></tr></table><br/></div><div class=\"wandb-col\"><h3>Run summary:</h3><br/><table class=\"wandb\"><tr><td>accuracy_LR</td><td>0.77376</td></tr><tr><td>accuracy_RF</td><td>0.76949</td></tr><tr><td>accuracy_SVM</td><td>0.79703</td></tr><tr><td>accuracy_XGB</td><td>0.79602</td></tr><tr><td>f1_LR</td><td>0.2982</td></tr><tr><td>f1_RF</td><td>0.34013</td></tr><tr><td>f1_SVM</td><td>0.20418</td></tr><tr><td>f1_XGB</td><td>0.26022</td></tr><tr><td>precision_LR</td><td>0.3497</td></tr><tr><td>precision_RF</td><td>0.36149</td></tr><tr><td>precision_SVM</td><td>0.38939</td></tr><tr><td>precision_XGB</td><td>0.39642</td></tr><tr><td>recall_LR</td><td>0.25995</td></tr><tr><td>recall_RF</td><td>0.32147</td></tr><tr><td>recall_SVM</td><td>0.14539</td></tr><tr><td>recall_XGB</td><td>0.19439</td></tr><tr><td>roc_auc_LR</td><td>0.66469</td></tr><tr><td>roc_auc_RF</td><td>0.68196</td></tr><tr><td>roc_auc_SVM</td><td>0.63197</td></tr><tr><td>roc_auc_XGB</td><td>0.66557</td></tr></table><br/></div></div>"
      ],
      "text/plain": [
       "<IPython.core.display.HTML object>"
      ]
     },
     "metadata": {},
     "output_type": "display_data"
    },
    {
     "data": {
      "text/html": [
       " View run <strong style=\"color:#cdcd00\">hopeful-sweep-8</strong> at: <a href='https://wandb.ai/ignacio-onate/cw-challenge-model-test/runs/i4hcq7tl' target=\"_blank\">https://wandb.ai/ignacio-onate/cw-challenge-model-test/runs/i4hcq7tl</a><br/>Synced 5 W&B file(s), 0 media file(s), 0 artifact file(s) and 0 other file(s)"
      ],
      "text/plain": [
       "<IPython.core.display.HTML object>"
      ]
     },
     "metadata": {},
     "output_type": "display_data"
    },
    {
     "data": {
      "text/html": [
       "Find logs at: <code>.\\wandb\\run-20230326_005248-i4hcq7tl\\logs</code>"
      ],
      "text/plain": [
       "<IPython.core.display.HTML object>"
      ]
     },
     "metadata": {},
     "output_type": "display_data"
    },
    {
     "name": "stderr",
     "output_type": "stream",
     "text": [
      "\u001b[34m\u001b[1mwandb\u001b[0m: Agent Starting Run: 7gmctfvl with config:\n",
      "\u001b[34m\u001b[1mwandb\u001b[0m: \tover_values: 0.5\n",
      "\u001b[34m\u001b[1mwandb\u001b[0m: \tunder_values: 0.5\n"
     ]
    },
    {
     "data": {
      "text/html": [
       "Tracking run with wandb version 0.14.0"
      ],
      "text/plain": [
       "<IPython.core.display.HTML object>"
      ]
     },
     "metadata": {},
     "output_type": "display_data"
    },
    {
     "data": {
      "text/html": [
       "Run data is saved locally in <code>C:\\Users\\JhonG\\Documents\\nw-challenge\\nw-challenge\\model\\wandb\\run-20230326_010315-7gmctfvl</code>"
      ],
      "text/plain": [
       "<IPython.core.display.HTML object>"
      ]
     },
     "metadata": {},
     "output_type": "display_data"
    },
    {
     "data": {
      "text/html": [
       "Syncing run <strong><a href='https://wandb.ai/ignacio-onate/cw-challenge-model-test/runs/7gmctfvl' target=\"_blank\">smart-sweep-9</a></strong> to <a href='https://wandb.ai/ignacio-onate/cw-challenge-model-test' target=\"_blank\">Weights & Biases</a> (<a href='https://wandb.me/run' target=\"_blank\">docs</a>)<br/>Sweep page: <a href='https://wandb.ai/ignacio-onate/cw-challenge-model-test/sweeps/aiz2vglq' target=\"_blank\">https://wandb.ai/ignacio-onate/cw-challenge-model-test/sweeps/aiz2vglq</a>"
      ],
      "text/plain": [
       "<IPython.core.display.HTML object>"
      ]
     },
     "metadata": {},
     "output_type": "display_data"
    },
    {
     "data": {
      "text/html": [
       " View project at <a href='https://wandb.ai/ignacio-onate/cw-challenge-model-test' target=\"_blank\">https://wandb.ai/ignacio-onate/cw-challenge-model-test</a>"
      ],
      "text/plain": [
       "<IPython.core.display.HTML object>"
      ]
     },
     "metadata": {},
     "output_type": "display_data"
    },
    {
     "data": {
      "text/html": [
       " View sweep at <a href='https://wandb.ai/ignacio-onate/cw-challenge-model-test/sweeps/aiz2vglq' target=\"_blank\">https://wandb.ai/ignacio-onate/cw-challenge-model-test/sweeps/aiz2vglq</a>"
      ],
      "text/plain": [
       "<IPython.core.display.HTML object>"
      ]
     },
     "metadata": {},
     "output_type": "display_data"
    },
    {
     "data": {
      "text/html": [
       " View run at <a href='https://wandb.ai/ignacio-onate/cw-challenge-model-test/runs/7gmctfvl' target=\"_blank\">https://wandb.ai/ignacio-onate/cw-challenge-model-test/runs/7gmctfvl</a>"
      ],
      "text/plain": [
       "<IPython.core.display.HTML object>"
      ]
     },
     "metadata": {},
     "output_type": "display_data"
    },
    {
     "name": "stdout",
     "output_type": "stream",
     "text": [
      "Modelo:  SVM\n",
      "Modelo:  XGB\n",
      "Modelo:  RF\n",
      "Modelo:  LR\n"
     ]
    },
    {
     "data": {
      "text/html": [
       "Waiting for W&B process to finish... <strong style=\"color:green\">(success).</strong>"
      ],
      "text/plain": [
       "<IPython.core.display.HTML object>"
      ]
     },
     "metadata": {},
     "output_type": "display_data"
    },
    {
     "data": {
      "text/html": [
       "<style>\n",
       "    table.wandb td:nth-child(1) { padding: 0 10px; text-align: left ; width: auto;} td:nth-child(2) {text-align: left ; width: 100%}\n",
       "    .wandb-row { display: flex; flex-direction: row; flex-wrap: wrap; justify-content: flex-start; width: 100% }\n",
       "    .wandb-col { display: flex; flex-direction: column; flex-basis: 100%; flex: 1; padding: 10px; }\n",
       "    </style>\n",
       "<div class=\"wandb-row\"><div class=\"wandb-col\"><h3>Run history:</h3><br/><table class=\"wandb\"><tr><td>accuracy_LR</td><td>▁</td></tr><tr><td>accuracy_RF</td><td>▁</td></tr><tr><td>accuracy_SVM</td><td>▁</td></tr><tr><td>accuracy_XGB</td><td>▁</td></tr><tr><td>f1_LR</td><td>▁</td></tr><tr><td>f1_RF</td><td>▁</td></tr><tr><td>f1_SVM</td><td>▁</td></tr><tr><td>f1_XGB</td><td>▁</td></tr><tr><td>precision_LR</td><td>▁</td></tr><tr><td>precision_RF</td><td>▁</td></tr><tr><td>precision_SVM</td><td>▁</td></tr><tr><td>precision_XGB</td><td>▁</td></tr><tr><td>recall_LR</td><td>▁</td></tr><tr><td>recall_RF</td><td>▁</td></tr><tr><td>recall_SVM</td><td>▁</td></tr><tr><td>recall_XGB</td><td>▁</td></tr><tr><td>roc_auc_LR</td><td>▁</td></tr><tr><td>roc_auc_RF</td><td>▁</td></tr><tr><td>roc_auc_SVM</td><td>▁</td></tr><tr><td>roc_auc_XGB</td><td>▁</td></tr></table><br/></div><div class=\"wandb-col\"><h3>Run summary:</h3><br/><table class=\"wandb\"><tr><td>accuracy_LR</td><td>0.79436</td></tr><tr><td>accuracy_RF</td><td>0.79726</td></tr><tr><td>accuracy_SVM</td><td>0.80729</td></tr><tr><td>accuracy_XGB</td><td>0.80669</td></tr><tr><td>f1_LR</td><td>0.26595</td></tr><tr><td>f1_RF</td><td>0.28708</td></tr><tr><td>f1_SVM</td><td>0.16362</td></tr><tr><td>f1_XGB</td><td>0.21244</td></tr><tr><td>precision_LR</td><td>0.39198</td></tr><tr><td>precision_RF</td><td>0.41048</td></tr><tr><td>precision_SVM</td><td>0.41602</td></tr><tr><td>precision_XGB</td><td>0.43156</td></tr><tr><td>recall_LR</td><td>0.20144</td></tr><tr><td>recall_RF</td><td>0.22079</td></tr><tr><td>recall_SVM</td><td>0.10195</td></tr><tr><td>recall_XGB</td><td>0.14111</td></tr><tr><td>roc_auc_LR</td><td>0.66415</td></tr><tr><td>roc_auc_RF</td><td>0.68213</td></tr><tr><td>roc_auc_SVM</td><td>0.62308</td></tr><tr><td>roc_auc_XGB</td><td>0.66531</td></tr></table><br/></div></div>"
      ],
      "text/plain": [
       "<IPython.core.display.HTML object>"
      ]
     },
     "metadata": {},
     "output_type": "display_data"
    },
    {
     "data": {
      "text/html": [
       " View run <strong style=\"color:#cdcd00\">smart-sweep-9</strong> at: <a href='https://wandb.ai/ignacio-onate/cw-challenge-model-test/runs/7gmctfvl' target=\"_blank\">https://wandb.ai/ignacio-onate/cw-challenge-model-test/runs/7gmctfvl</a><br/>Synced 5 W&B file(s), 0 media file(s), 0 artifact file(s) and 0 other file(s)"
      ],
      "text/plain": [
       "<IPython.core.display.HTML object>"
      ]
     },
     "metadata": {},
     "output_type": "display_data"
    },
    {
     "data": {
      "text/html": [
       "Find logs at: <code>.\\wandb\\run-20230326_010315-7gmctfvl\\logs</code>"
      ],
      "text/plain": [
       "<IPython.core.display.HTML object>"
      ]
     },
     "metadata": {},
     "output_type": "display_data"
    },
    {
     "name": "stderr",
     "output_type": "stream",
     "text": [
      "\u001b[34m\u001b[1mwandb\u001b[0m: Sweep Agent: Waiting for job.\n",
      "\u001b[34m\u001b[1mwandb\u001b[0m: Sweep Agent: Exiting.\n"
     ]
    }
   ],
   "source": [
    "import wandb\n",
    "\n",
    "X = features\n",
    "y = label\n",
    "\n",
    "def train():\n",
    "    wandb.init()\n",
    "    for name, model in models.items():\n",
    "        # define pipeline\n",
    "        over = SMOTE(sampling_strategy=wandb.config.over_values)\n",
    "        under = RandomUnderSampler(sampling_strategy=wandb.config.under_values)\n",
    "        steps = [('over', over), ('under', under), ('model', model)]\n",
    "        pipeline = Pipeline(steps=steps)\n",
    "        # evaluate pipeline\n",
    "        scores = cross_validate(pipeline, X, y, scoring=['accuracy','f1','precision','recall','roc_auc'], cv=5, n_jobs=-1)\n",
    "        #score = mean(scores)\n",
    "            \n",
    "        wandb.log({\n",
    "            'accuracy_'+name: mean(scores['test_accuracy']),\n",
    "            'f1_'+name : mean(scores['test_f1']),\n",
    "            'precision_'+name : mean(scores['test_precision']),\n",
    "            'recall_'+name : mean(scores['test_recall']),\n",
    "            'roc_auc_'+name : mean(scores['test_roc_auc'])\n",
    "        })\n",
    "        print(\"Modelo: \", name)\n",
    "        #print(scores)\n",
    "wandb.agent(sweep_id, function = train)"
   ]
  },
  {
   "cell_type": "markdown",
   "id": "c58c16af",
   "metadata": {},
   "source": [
    "# UN-UPSAMPLING Features importantes"
   ]
  },
  {
   "cell_type": "code",
   "execution_count": 12,
   "id": "985c334e",
   "metadata": {},
   "outputs": [
    {
     "name": "stdout",
     "output_type": "stream",
     "text": [
      "Create sweep with ID: x56k4uit\n",
      "Sweep URL: https://wandb.ai/ignacio-onate/cw-challenge-model-test-important-features/sweeps/x56k4uit\n"
     ]
    }
   ],
   "source": [
    "sweep_configuration2 = {\n",
    "    'method': 'grid',\n",
    "    'name': 'sweep',\n",
    "    'metric': {'goal': 'maximize', 'name': 'precision'},\n",
    "    'parameters': \n",
    "    {\n",
    "        'over_values': {'values': [0.3, 0.4, 0.5]},\n",
    "        'under_values': {'values': [0.7, 0.6, 0.5]}\n",
    "     }\n",
    "}\n",
    "sweep_id2 = wandb.sweep(sweep=sweep_configuration2, project='cw-challenge-model-test-important-features')"
   ]
  },
  {
   "cell_type": "code",
   "execution_count": 13,
   "id": "5f51647d",
   "metadata": {},
   "outputs": [
    {
     "name": "stderr",
     "output_type": "stream",
     "text": [
      "\u001b[34m\u001b[1mwandb\u001b[0m: Agent Starting Run: 2v0u3eyv with config:\n",
      "\u001b[34m\u001b[1mwandb\u001b[0m: \tover_values: 0.3\n",
      "\u001b[34m\u001b[1mwandb\u001b[0m: \tunder_values: 0.7\n",
      "\u001b[34m\u001b[1mwandb\u001b[0m: Currently logged in as: \u001b[33mignacio-onate\u001b[0m. Use \u001b[1m`wandb login --relogin`\u001b[0m to force relogin\n"
     ]
    },
    {
     "data": {
      "text/html": [
       "Tracking run with wandb version 0.14.0"
      ],
      "text/plain": [
       "<IPython.core.display.HTML object>"
      ]
     },
     "metadata": {},
     "output_type": "display_data"
    },
    {
     "data": {
      "text/html": [
       "Run data is saved locally in <code>C:\\Users\\JhonG\\Documents\\nw-challenge\\nw-challenge\\model\\wandb\\run-20230325_233044-2v0u3eyv</code>"
      ],
      "text/plain": [
       "<IPython.core.display.HTML object>"
      ]
     },
     "metadata": {},
     "output_type": "display_data"
    },
    {
     "data": {
      "text/html": [
       "Syncing run <strong><a href='https://wandb.ai/ignacio-onate/cw-challenge-model-test-important-features/runs/2v0u3eyv' target=\"_blank\">fearless-sweep-1</a></strong> to <a href='https://wandb.ai/ignacio-onate/cw-challenge-model-test-important-features' target=\"_blank\">Weights & Biases</a> (<a href='https://wandb.me/run' target=\"_blank\">docs</a>)<br/>Sweep page: <a href='https://wandb.ai/ignacio-onate/cw-challenge-model-test-important-features/sweeps/x56k4uit' target=\"_blank\">https://wandb.ai/ignacio-onate/cw-challenge-model-test-important-features/sweeps/x56k4uit</a>"
      ],
      "text/plain": [
       "<IPython.core.display.HTML object>"
      ]
     },
     "metadata": {},
     "output_type": "display_data"
    },
    {
     "data": {
      "text/html": [
       " View project at <a href='https://wandb.ai/ignacio-onate/cw-challenge-model-test-important-features' target=\"_blank\">https://wandb.ai/ignacio-onate/cw-challenge-model-test-important-features</a>"
      ],
      "text/plain": [
       "<IPython.core.display.HTML object>"
      ]
     },
     "metadata": {},
     "output_type": "display_data"
    },
    {
     "data": {
      "text/html": [
       " View sweep at <a href='https://wandb.ai/ignacio-onate/cw-challenge-model-test-important-features/sweeps/x56k4uit' target=\"_blank\">https://wandb.ai/ignacio-onate/cw-challenge-model-test-important-features/sweeps/x56k4uit</a>"
      ],
      "text/plain": [
       "<IPython.core.display.HTML object>"
      ]
     },
     "metadata": {},
     "output_type": "display_data"
    },
    {
     "data": {
      "text/html": [
       " View run at <a href='https://wandb.ai/ignacio-onate/cw-challenge-model-test-important-features/runs/2v0u3eyv' target=\"_blank\">https://wandb.ai/ignacio-onate/cw-challenge-model-test-important-features/runs/2v0u3eyv</a>"
      ],
      "text/plain": [
       "<IPython.core.display.HTML object>"
      ]
     },
     "metadata": {},
     "output_type": "display_data"
    },
    {
     "name": "stdout",
     "output_type": "stream",
     "text": [
      "Modelo:  SVM\n",
      "Modelo:  XGB\n",
      "Modelo:  RF\n",
      "Modelo:  LR\n"
     ]
    },
    {
     "data": {
      "text/html": [
       "Waiting for W&B process to finish... <strong style=\"color:green\">(success).</strong>"
      ],
      "text/plain": [
       "<IPython.core.display.HTML object>"
      ]
     },
     "metadata": {},
     "output_type": "display_data"
    },
    {
     "data": {
      "text/html": [
       "<style>\n",
       "    table.wandb td:nth-child(1) { padding: 0 10px; text-align: left ; width: auto;} td:nth-child(2) {text-align: left ; width: 100%}\n",
       "    .wandb-row { display: flex; flex-direction: row; flex-wrap: wrap; justify-content: flex-start; width: 100% }\n",
       "    .wandb-col { display: flex; flex-direction: column; flex-basis: 100%; flex: 1; padding: 10px; }\n",
       "    </style>\n",
       "<div class=\"wandb-row\"><div class=\"wandb-col\"><h3>Run history:</h3><br/><table class=\"wandb\"><tr><td>accuracy_LR</td><td>▁</td></tr><tr><td>accuracy_RF</td><td>▁</td></tr><tr><td>accuracy_SVM</td><td>▁</td></tr><tr><td>accuracy_XGB</td><td>▁</td></tr><tr><td>f1_LR</td><td>▁</td></tr><tr><td>f1_RF</td><td>▁</td></tr><tr><td>f1_SVM</td><td>▁</td></tr><tr><td>f1_XGB</td><td>▁</td></tr><tr><td>precision_LR</td><td>▁</td></tr><tr><td>precision_RF</td><td>▁</td></tr><tr><td>precision_SVM</td><td>▁</td></tr><tr><td>precision_XGB</td><td>▁</td></tr><tr><td>recall_LR</td><td>▁</td></tr><tr><td>recall_RF</td><td>▁</td></tr><tr><td>recall_SVM</td><td>▁</td></tr><tr><td>recall_XGB</td><td>▁</td></tr><tr><td>roc_auc_LR</td><td>▁</td></tr><tr><td>roc_auc_RF</td><td>▁</td></tr><tr><td>roc_auc_SVM</td><td>▁</td></tr><tr><td>roc_auc_XGB</td><td>▁</td></tr></table><br/></div><div class=\"wandb-col\"><h3>Run summary:</h3><br/><table class=\"wandb\"><tr><td>accuracy_LR</td><td>0.75877</td></tr><tr><td>accuracy_RF</td><td>0.7525</td></tr><tr><td>accuracy_SVM</td><td>0.75656</td></tr><tr><td>accuracy_XGB</td><td>0.76134</td></tr><tr><td>f1_LR</td><td>0.28072</td></tr><tr><td>f1_RF</td><td>0.31007</td></tr><tr><td>f1_SVM</td><td>0.30399</td></tr><tr><td>f1_XGB</td><td>0.29916</td></tr><tr><td>precision_LR</td><td>0.31351</td></tr><tr><td>precision_RF</td><td>0.3204</td></tr><tr><td>precision_SVM</td><td>0.32297</td></tr><tr><td>precision_XGB</td><td>0.3278</td></tr><tr><td>recall_LR</td><td>0.25543</td></tr><tr><td>recall_RF</td><td>0.30078</td></tr><tr><td>recall_SVM</td><td>0.28754</td></tr><tr><td>recall_XGB</td><td>0.27549</td></tr><tr><td>roc_auc_LR</td><td>0.63013</td></tr><tr><td>roc_auc_RF</td><td>0.64177</td></tr><tr><td>roc_auc_SVM</td><td>0.59284</td></tr><tr><td>roc_auc_XGB</td><td>0.63853</td></tr></table><br/></div></div>"
      ],
      "text/plain": [
       "<IPython.core.display.HTML object>"
      ]
     },
     "metadata": {},
     "output_type": "display_data"
    },
    {
     "data": {
      "text/html": [
       " View run <strong style=\"color:#cdcd00\">fearless-sweep-1</strong> at: <a href='https://wandb.ai/ignacio-onate/cw-challenge-model-test-important-features/runs/2v0u3eyv' target=\"_blank\">https://wandb.ai/ignacio-onate/cw-challenge-model-test-important-features/runs/2v0u3eyv</a><br/>Synced 5 W&B file(s), 0 media file(s), 0 artifact file(s) and 0 other file(s)"
      ],
      "text/plain": [
       "<IPython.core.display.HTML object>"
      ]
     },
     "metadata": {},
     "output_type": "display_data"
    },
    {
     "data": {
      "text/html": [
       "Find logs at: <code>.\\wandb\\run-20230325_233044-2v0u3eyv\\logs</code>"
      ],
      "text/plain": [
       "<IPython.core.display.HTML object>"
      ]
     },
     "metadata": {},
     "output_type": "display_data"
    },
    {
     "name": "stderr",
     "output_type": "stream",
     "text": [
      "\u001b[34m\u001b[1mwandb\u001b[0m: Agent Starting Run: 5kx86287 with config:\n",
      "\u001b[34m\u001b[1mwandb\u001b[0m: \tover_values: 0.3\n",
      "\u001b[34m\u001b[1mwandb\u001b[0m: \tunder_values: 0.6\n"
     ]
    },
    {
     "data": {
      "text/html": [
       "Tracking run with wandb version 0.14.0"
      ],
      "text/plain": [
       "<IPython.core.display.HTML object>"
      ]
     },
     "metadata": {},
     "output_type": "display_data"
    },
    {
     "data": {
      "text/html": [
       "Run data is saved locally in <code>C:\\Users\\JhonG\\Documents\\nw-challenge\\nw-challenge\\model\\wandb\\run-20230325_233223-5kx86287</code>"
      ],
      "text/plain": [
       "<IPython.core.display.HTML object>"
      ]
     },
     "metadata": {},
     "output_type": "display_data"
    },
    {
     "data": {
      "text/html": [
       "Syncing run <strong><a href='https://wandb.ai/ignacio-onate/cw-challenge-model-test-important-features/runs/5kx86287' target=\"_blank\">sage-sweep-2</a></strong> to <a href='https://wandb.ai/ignacio-onate/cw-challenge-model-test-important-features' target=\"_blank\">Weights & Biases</a> (<a href='https://wandb.me/run' target=\"_blank\">docs</a>)<br/>Sweep page: <a href='https://wandb.ai/ignacio-onate/cw-challenge-model-test-important-features/sweeps/x56k4uit' target=\"_blank\">https://wandb.ai/ignacio-onate/cw-challenge-model-test-important-features/sweeps/x56k4uit</a>"
      ],
      "text/plain": [
       "<IPython.core.display.HTML object>"
      ]
     },
     "metadata": {},
     "output_type": "display_data"
    },
    {
     "data": {
      "text/html": [
       " View project at <a href='https://wandb.ai/ignacio-onate/cw-challenge-model-test-important-features' target=\"_blank\">https://wandb.ai/ignacio-onate/cw-challenge-model-test-important-features</a>"
      ],
      "text/plain": [
       "<IPython.core.display.HTML object>"
      ]
     },
     "metadata": {},
     "output_type": "display_data"
    },
    {
     "data": {
      "text/html": [
       " View sweep at <a href='https://wandb.ai/ignacio-onate/cw-challenge-model-test-important-features/sweeps/x56k4uit' target=\"_blank\">https://wandb.ai/ignacio-onate/cw-challenge-model-test-important-features/sweeps/x56k4uit</a>"
      ],
      "text/plain": [
       "<IPython.core.display.HTML object>"
      ]
     },
     "metadata": {},
     "output_type": "display_data"
    },
    {
     "data": {
      "text/html": [
       " View run at <a href='https://wandb.ai/ignacio-onate/cw-challenge-model-test-important-features/runs/5kx86287' target=\"_blank\">https://wandb.ai/ignacio-onate/cw-challenge-model-test-important-features/runs/5kx86287</a>"
      ],
      "text/plain": [
       "<IPython.core.display.HTML object>"
      ]
     },
     "metadata": {},
     "output_type": "display_data"
    },
    {
     "name": "stdout",
     "output_type": "stream",
     "text": [
      "Modelo:  SVM\n",
      "Modelo:  XGB\n",
      "Modelo:  RF\n",
      "Modelo:  LR\n"
     ]
    },
    {
     "data": {
      "text/html": [
       "Waiting for W&B process to finish... <strong style=\"color:green\">(success).</strong>"
      ],
      "text/plain": [
       "<IPython.core.display.HTML object>"
      ]
     },
     "metadata": {},
     "output_type": "display_data"
    },
    {
     "data": {
      "text/html": [
       "<style>\n",
       "    table.wandb td:nth-child(1) { padding: 0 10px; text-align: left ; width: auto;} td:nth-child(2) {text-align: left ; width: 100%}\n",
       "    .wandb-row { display: flex; flex-direction: row; flex-wrap: wrap; justify-content: flex-start; width: 100% }\n",
       "    .wandb-col { display: flex; flex-direction: column; flex-basis: 100%; flex: 1; padding: 10px; }\n",
       "    </style>\n",
       "<div class=\"wandb-row\"><div class=\"wandb-col\"><h3>Run history:</h3><br/><table class=\"wandb\"><tr><td>accuracy_LR</td><td>▁</td></tr><tr><td>accuracy_RF</td><td>▁</td></tr><tr><td>accuracy_SVM</td><td>▁</td></tr><tr><td>accuracy_XGB</td><td>▁</td></tr><tr><td>f1_LR</td><td>▁</td></tr><tr><td>f1_RF</td><td>▁</td></tr><tr><td>f1_SVM</td><td>▁</td></tr><tr><td>f1_XGB</td><td>▁</td></tr><tr><td>precision_LR</td><td>▁</td></tr><tr><td>precision_RF</td><td>▁</td></tr><tr><td>precision_SVM</td><td>▁</td></tr><tr><td>precision_XGB</td><td>▁</td></tr><tr><td>recall_LR</td><td>▁</td></tr><tr><td>recall_RF</td><td>▁</td></tr><tr><td>recall_SVM</td><td>▁</td></tr><tr><td>recall_XGB</td><td>▁</td></tr><tr><td>roc_auc_LR</td><td>▁</td></tr><tr><td>roc_auc_RF</td><td>▁</td></tr><tr><td>roc_auc_SVM</td><td>▁</td></tr><tr><td>roc_auc_XGB</td><td>▁</td></tr></table><br/></div><div class=\"wandb-col\"><h3>Run summary:</h3><br/><table class=\"wandb\"><tr><td>accuracy_LR</td><td>0.7744</td></tr><tr><td>accuracy_RF</td><td>0.77662</td></tr><tr><td>accuracy_SVM</td><td>0.7765</td></tr><tr><td>accuracy_XGB</td><td>0.78565</td></tr><tr><td>f1_LR</td><td>0.26051</td></tr><tr><td>f1_RF</td><td>0.27135</td></tr><tr><td>f1_SVM</td><td>0.2725</td></tr><tr><td>f1_XGB</td><td>0.24074</td></tr><tr><td>precision_LR</td><td>0.3339</td></tr><tr><td>precision_RF</td><td>0.34451</td></tr><tr><td>precision_SVM</td><td>0.34316</td></tr><tr><td>precision_XGB</td><td>0.35585</td></tr><tr><td>recall_LR</td><td>0.21587</td></tr><tr><td>recall_RF</td><td>0.22681</td></tr><tr><td>recall_SVM</td><td>0.22713</td></tr><tr><td>recall_XGB</td><td>0.18709</td></tr><tr><td>roc_auc_LR</td><td>0.6275</td></tr><tr><td>roc_auc_RF</td><td>0.64171</td></tr><tr><td>roc_auc_SVM</td><td>0.56923</td></tr><tr><td>roc_auc_XGB</td><td>0.63842</td></tr></table><br/></div></div>"
      ],
      "text/plain": [
       "<IPython.core.display.HTML object>"
      ]
     },
     "metadata": {},
     "output_type": "display_data"
    },
    {
     "data": {
      "text/html": [
       " View run <strong style=\"color:#cdcd00\">sage-sweep-2</strong> at: <a href='https://wandb.ai/ignacio-onate/cw-challenge-model-test-important-features/runs/5kx86287' target=\"_blank\">https://wandb.ai/ignacio-onate/cw-challenge-model-test-important-features/runs/5kx86287</a><br/>Synced 5 W&B file(s), 0 media file(s), 0 artifact file(s) and 0 other file(s)"
      ],
      "text/plain": [
       "<IPython.core.display.HTML object>"
      ]
     },
     "metadata": {},
     "output_type": "display_data"
    },
    {
     "data": {
      "text/html": [
       "Find logs at: <code>.\\wandb\\run-20230325_233223-5kx86287\\logs</code>"
      ],
      "text/plain": [
       "<IPython.core.display.HTML object>"
      ]
     },
     "metadata": {},
     "output_type": "display_data"
    },
    {
     "name": "stderr",
     "output_type": "stream",
     "text": [
      "\u001b[34m\u001b[1mwandb\u001b[0m: Agent Starting Run: fl60oewt with config:\n",
      "\u001b[34m\u001b[1mwandb\u001b[0m: \tover_values: 0.3\n",
      "\u001b[34m\u001b[1mwandb\u001b[0m: \tunder_values: 0.5\n"
     ]
    },
    {
     "data": {
      "text/html": [
       "Tracking run with wandb version 0.14.0"
      ],
      "text/plain": [
       "<IPython.core.display.HTML object>"
      ]
     },
     "metadata": {},
     "output_type": "display_data"
    },
    {
     "data": {
      "text/html": [
       "Run data is saved locally in <code>C:\\Users\\JhonG\\Documents\\nw-challenge\\nw-challenge\\model\\wandb\\run-20230325_233403-fl60oewt</code>"
      ],
      "text/plain": [
       "<IPython.core.display.HTML object>"
      ]
     },
     "metadata": {},
     "output_type": "display_data"
    },
    {
     "data": {
      "text/html": [
       "Syncing run <strong><a href='https://wandb.ai/ignacio-onate/cw-challenge-model-test-important-features/runs/fl60oewt' target=\"_blank\">earnest-sweep-3</a></strong> to <a href='https://wandb.ai/ignacio-onate/cw-challenge-model-test-important-features' target=\"_blank\">Weights & Biases</a> (<a href='https://wandb.me/run' target=\"_blank\">docs</a>)<br/>Sweep page: <a href='https://wandb.ai/ignacio-onate/cw-challenge-model-test-important-features/sweeps/x56k4uit' target=\"_blank\">https://wandb.ai/ignacio-onate/cw-challenge-model-test-important-features/sweeps/x56k4uit</a>"
      ],
      "text/plain": [
       "<IPython.core.display.HTML object>"
      ]
     },
     "metadata": {},
     "output_type": "display_data"
    },
    {
     "data": {
      "text/html": [
       " View project at <a href='https://wandb.ai/ignacio-onate/cw-challenge-model-test-important-features' target=\"_blank\">https://wandb.ai/ignacio-onate/cw-challenge-model-test-important-features</a>"
      ],
      "text/plain": [
       "<IPython.core.display.HTML object>"
      ]
     },
     "metadata": {},
     "output_type": "display_data"
    },
    {
     "data": {
      "text/html": [
       " View sweep at <a href='https://wandb.ai/ignacio-onate/cw-challenge-model-test-important-features/sweeps/x56k4uit' target=\"_blank\">https://wandb.ai/ignacio-onate/cw-challenge-model-test-important-features/sweeps/x56k4uit</a>"
      ],
      "text/plain": [
       "<IPython.core.display.HTML object>"
      ]
     },
     "metadata": {},
     "output_type": "display_data"
    },
    {
     "data": {
      "text/html": [
       " View run at <a href='https://wandb.ai/ignacio-onate/cw-challenge-model-test-important-features/runs/fl60oewt' target=\"_blank\">https://wandb.ai/ignacio-onate/cw-challenge-model-test-important-features/runs/fl60oewt</a>"
      ],
      "text/plain": [
       "<IPython.core.display.HTML object>"
      ]
     },
     "metadata": {},
     "output_type": "display_data"
    },
    {
     "name": "stdout",
     "output_type": "stream",
     "text": [
      "Modelo:  SVM\n",
      "Modelo:  XGB\n",
      "Modelo:  RF\n",
      "Modelo:  LR\n"
     ]
    },
    {
     "data": {
      "text/html": [
       "Waiting for W&B process to finish... <strong style=\"color:green\">(success).</strong>"
      ],
      "text/plain": [
       "<IPython.core.display.HTML object>"
      ]
     },
     "metadata": {},
     "output_type": "display_data"
    },
    {
     "data": {
      "text/html": [
       "<style>\n",
       "    table.wandb td:nth-child(1) { padding: 0 10px; text-align: left ; width: auto;} td:nth-child(2) {text-align: left ; width: 100%}\n",
       "    .wandb-row { display: flex; flex-direction: row; flex-wrap: wrap; justify-content: flex-start; width: 100% }\n",
       "    .wandb-col { display: flex; flex-direction: column; flex-basis: 100%; flex: 1; padding: 10px; }\n",
       "    </style>\n",
       "<div class=\"wandb-row\"><div class=\"wandb-col\"><h3>Run history:</h3><br/><table class=\"wandb\"><tr><td>accuracy_LR</td><td>▁</td></tr><tr><td>accuracy_RF</td><td>▁</td></tr><tr><td>accuracy_SVM</td><td>▁</td></tr><tr><td>accuracy_XGB</td><td>▁</td></tr><tr><td>f1_LR</td><td>▁</td></tr><tr><td>f1_RF</td><td>▁</td></tr><tr><td>f1_SVM</td><td>▁</td></tr><tr><td>f1_XGB</td><td>▁</td></tr><tr><td>precision_LR</td><td>▁</td></tr><tr><td>precision_RF</td><td>▁</td></tr><tr><td>precision_SVM</td><td>▁</td></tr><tr><td>precision_XGB</td><td>▁</td></tr><tr><td>recall_LR</td><td>▁</td></tr><tr><td>recall_RF</td><td>▁</td></tr><tr><td>recall_SVM</td><td>▁</td></tr><tr><td>recall_XGB</td><td>▁</td></tr><tr><td>roc_auc_LR</td><td>▁</td></tr><tr><td>roc_auc_RF</td><td>▁</td></tr><tr><td>roc_auc_SVM</td><td>▁</td></tr><tr><td>roc_auc_XGB</td><td>▁</td></tr></table><br/></div><div class=\"wandb-col\"><h3>Run summary:</h3><br/><table class=\"wandb\"><tr><td>accuracy_LR</td><td>0.79676</td></tr><tr><td>accuracy_RF</td><td>0.79648</td></tr><tr><td>accuracy_SVM</td><td>0.79942</td></tr><tr><td>accuracy_XGB</td><td>0.7965</td></tr><tr><td>f1_LR</td><td>0.20936</td></tr><tr><td>f1_RF</td><td>0.21568</td></tr><tr><td>f1_SVM</td><td>0.19877</td></tr><tr><td>f1_XGB</td><td>0.21693</td></tr><tr><td>precision_LR</td><td>0.37506</td></tr><tr><td>precision_RF</td><td>0.37765</td></tr><tr><td>precision_SVM</td><td>0.38355</td></tr><tr><td>precision_XGB</td><td>0.3766</td></tr><tr><td>recall_LR</td><td>0.14611</td></tr><tr><td>recall_RF</td><td>0.1515</td></tr><tr><td>recall_SVM</td><td>0.13525</td></tr><tr><td>recall_XGB</td><td>0.15245</td></tr><tr><td>roc_auc_LR</td><td>0.63155</td></tr><tr><td>roc_auc_RF</td><td>0.64188</td></tr><tr><td>roc_auc_SVM</td><td>0.55729</td></tr><tr><td>roc_auc_XGB</td><td>0.63806</td></tr></table><br/></div></div>"
      ],
      "text/plain": [
       "<IPython.core.display.HTML object>"
      ]
     },
     "metadata": {},
     "output_type": "display_data"
    },
    {
     "data": {
      "text/html": [
       " View run <strong style=\"color:#cdcd00\">earnest-sweep-3</strong> at: <a href='https://wandb.ai/ignacio-onate/cw-challenge-model-test-important-features/runs/fl60oewt' target=\"_blank\">https://wandb.ai/ignacio-onate/cw-challenge-model-test-important-features/runs/fl60oewt</a><br/>Synced 5 W&B file(s), 0 media file(s), 0 artifact file(s) and 0 other file(s)"
      ],
      "text/plain": [
       "<IPython.core.display.HTML object>"
      ]
     },
     "metadata": {},
     "output_type": "display_data"
    },
    {
     "data": {
      "text/html": [
       "Find logs at: <code>.\\wandb\\run-20230325_233403-fl60oewt\\logs</code>"
      ],
      "text/plain": [
       "<IPython.core.display.HTML object>"
      ]
     },
     "metadata": {},
     "output_type": "display_data"
    },
    {
     "name": "stderr",
     "output_type": "stream",
     "text": [
      "\u001b[34m\u001b[1mwandb\u001b[0m: Agent Starting Run: le6ops9n with config:\n",
      "\u001b[34m\u001b[1mwandb\u001b[0m: \tover_values: 0.4\n",
      "\u001b[34m\u001b[1mwandb\u001b[0m: \tunder_values: 0.7\n"
     ]
    },
    {
     "data": {
      "text/html": [
       "Tracking run with wandb version 0.14.0"
      ],
      "text/plain": [
       "<IPython.core.display.HTML object>"
      ]
     },
     "metadata": {},
     "output_type": "display_data"
    },
    {
     "data": {
      "text/html": [
       "Run data is saved locally in <code>C:\\Users\\JhonG\\Documents\\nw-challenge\\nw-challenge\\model\\wandb\\run-20230325_233553-le6ops9n</code>"
      ],
      "text/plain": [
       "<IPython.core.display.HTML object>"
      ]
     },
     "metadata": {},
     "output_type": "display_data"
    },
    {
     "data": {
      "text/html": [
       "Syncing run <strong><a href='https://wandb.ai/ignacio-onate/cw-challenge-model-test-important-features/runs/le6ops9n' target=\"_blank\">radiant-sweep-4</a></strong> to <a href='https://wandb.ai/ignacio-onate/cw-challenge-model-test-important-features' target=\"_blank\">Weights & Biases</a> (<a href='https://wandb.me/run' target=\"_blank\">docs</a>)<br/>Sweep page: <a href='https://wandb.ai/ignacio-onate/cw-challenge-model-test-important-features/sweeps/x56k4uit' target=\"_blank\">https://wandb.ai/ignacio-onate/cw-challenge-model-test-important-features/sweeps/x56k4uit</a>"
      ],
      "text/plain": [
       "<IPython.core.display.HTML object>"
      ]
     },
     "metadata": {},
     "output_type": "display_data"
    },
    {
     "data": {
      "text/html": [
       " View project at <a href='https://wandb.ai/ignacio-onate/cw-challenge-model-test-important-features' target=\"_blank\">https://wandb.ai/ignacio-onate/cw-challenge-model-test-important-features</a>"
      ],
      "text/plain": [
       "<IPython.core.display.HTML object>"
      ]
     },
     "metadata": {},
     "output_type": "display_data"
    },
    {
     "data": {
      "text/html": [
       " View sweep at <a href='https://wandb.ai/ignacio-onate/cw-challenge-model-test-important-features/sweeps/x56k4uit' target=\"_blank\">https://wandb.ai/ignacio-onate/cw-challenge-model-test-important-features/sweeps/x56k4uit</a>"
      ],
      "text/plain": [
       "<IPython.core.display.HTML object>"
      ]
     },
     "metadata": {},
     "output_type": "display_data"
    },
    {
     "data": {
      "text/html": [
       " View run at <a href='https://wandb.ai/ignacio-onate/cw-challenge-model-test-important-features/runs/le6ops9n' target=\"_blank\">https://wandb.ai/ignacio-onate/cw-challenge-model-test-important-features/runs/le6ops9n</a>"
      ],
      "text/plain": [
       "<IPython.core.display.HTML object>"
      ]
     },
     "metadata": {},
     "output_type": "display_data"
    },
    {
     "name": "stdout",
     "output_type": "stream",
     "text": [
      "Modelo:  SVM\n",
      "Modelo:  XGB\n",
      "Modelo:  RF\n",
      "Modelo:  LR\n"
     ]
    },
    {
     "data": {
      "text/html": [
       "Waiting for W&B process to finish... <strong style=\"color:green\">(success).</strong>"
      ],
      "text/plain": [
       "<IPython.core.display.HTML object>"
      ]
     },
     "metadata": {},
     "output_type": "display_data"
    },
    {
     "data": {
      "text/html": [
       "<style>\n",
       "    table.wandb td:nth-child(1) { padding: 0 10px; text-align: left ; width: auto;} td:nth-child(2) {text-align: left ; width: 100%}\n",
       "    .wandb-row { display: flex; flex-direction: row; flex-wrap: wrap; justify-content: flex-start; width: 100% }\n",
       "    .wandb-col { display: flex; flex-direction: column; flex-basis: 100%; flex: 1; padding: 10px; }\n",
       "    </style>\n",
       "<div class=\"wandb-row\"><div class=\"wandb-col\"><h3>Run history:</h3><br/><table class=\"wandb\"><tr><td>accuracy_LR</td><td>▁</td></tr><tr><td>accuracy_RF</td><td>▁</td></tr><tr><td>accuracy_SVM</td><td>▁</td></tr><tr><td>accuracy_XGB</td><td>▁</td></tr><tr><td>f1_LR</td><td>▁</td></tr><tr><td>f1_RF</td><td>▁</td></tr><tr><td>f1_SVM</td><td>▁</td></tr><tr><td>f1_XGB</td><td>▁</td></tr><tr><td>precision_LR</td><td>▁</td></tr><tr><td>precision_RF</td><td>▁</td></tr><tr><td>precision_SVM</td><td>▁</td></tr><tr><td>precision_XGB</td><td>▁</td></tr><tr><td>recall_LR</td><td>▁</td></tr><tr><td>recall_RF</td><td>▁</td></tr><tr><td>recall_SVM</td><td>▁</td></tr><tr><td>recall_XGB</td><td>▁</td></tr><tr><td>roc_auc_LR</td><td>▁</td></tr><tr><td>roc_auc_RF</td><td>▁</td></tr><tr><td>roc_auc_SVM</td><td>▁</td></tr><tr><td>roc_auc_XGB</td><td>▁</td></tr></table><br/></div><div class=\"wandb-col\"><h3>Run summary:</h3><br/><table class=\"wandb\"><tr><td>accuracy_LR</td><td>0.75806</td></tr><tr><td>accuracy_RF</td><td>0.75411</td></tr><tr><td>accuracy_SVM</td><td>0.7549</td></tr><tr><td>accuracy_XGB</td><td>0.7624</td></tr><tr><td>f1_LR</td><td>0.27804</td></tr><tr><td>f1_RF</td><td>0.30948</td></tr><tr><td>f1_SVM</td><td>0.30781</td></tr><tr><td>f1_XGB</td><td>0.29842</td></tr><tr><td>precision_LR</td><td>0.31054</td></tr><tr><td>precision_RF</td><td>0.3221</td></tr><tr><td>precision_SVM</td><td>0.32232</td></tr><tr><td>precision_XGB</td><td>0.32891</td></tr><tr><td>recall_LR</td><td>0.2525</td></tr><tr><td>recall_RF</td><td>0.29792</td></tr><tr><td>recall_SVM</td><td>0.29491</td></tr><tr><td>recall_XGB</td><td>0.27327</td></tr><tr><td>roc_auc_LR</td><td>0.62591</td></tr><tr><td>roc_auc_RF</td><td>0.64174</td></tr><tr><td>roc_auc_SVM</td><td>0.60343</td></tr><tr><td>roc_auc_XGB</td><td>0.63824</td></tr></table><br/></div></div>"
      ],
      "text/plain": [
       "<IPython.core.display.HTML object>"
      ]
     },
     "metadata": {},
     "output_type": "display_data"
    },
    {
     "data": {
      "text/html": [
       " View run <strong style=\"color:#cdcd00\">radiant-sweep-4</strong> at: <a href='https://wandb.ai/ignacio-onate/cw-challenge-model-test-important-features/runs/le6ops9n' target=\"_blank\">https://wandb.ai/ignacio-onate/cw-challenge-model-test-important-features/runs/le6ops9n</a><br/>Synced 5 W&B file(s), 0 media file(s), 0 artifact file(s) and 0 other file(s)"
      ],
      "text/plain": [
       "<IPython.core.display.HTML object>"
      ]
     },
     "metadata": {},
     "output_type": "display_data"
    },
    {
     "data": {
      "text/html": [
       "Find logs at: <code>.\\wandb\\run-20230325_233553-le6ops9n\\logs</code>"
      ],
      "text/plain": [
       "<IPython.core.display.HTML object>"
      ]
     },
     "metadata": {},
     "output_type": "display_data"
    },
    {
     "name": "stderr",
     "output_type": "stream",
     "text": [
      "\u001b[34m\u001b[1mwandb\u001b[0m: Agent Starting Run: lb9xf1da with config:\n",
      "\u001b[34m\u001b[1mwandb\u001b[0m: \tover_values: 0.4\n",
      "\u001b[34m\u001b[1mwandb\u001b[0m: \tunder_values: 0.6\n"
     ]
    },
    {
     "data": {
      "text/html": [
       "Tracking run with wandb version 0.14.0"
      ],
      "text/plain": [
       "<IPython.core.display.HTML object>"
      ]
     },
     "metadata": {},
     "output_type": "display_data"
    },
    {
     "data": {
      "text/html": [
       "Run data is saved locally in <code>C:\\Users\\JhonG\\Documents\\nw-challenge\\nw-challenge\\model\\wandb\\run-20230325_233818-lb9xf1da</code>"
      ],
      "text/plain": [
       "<IPython.core.display.HTML object>"
      ]
     },
     "metadata": {},
     "output_type": "display_data"
    },
    {
     "data": {
      "text/html": [
       "Syncing run <strong><a href='https://wandb.ai/ignacio-onate/cw-challenge-model-test-important-features/runs/lb9xf1da' target=\"_blank\">rosy-sweep-5</a></strong> to <a href='https://wandb.ai/ignacio-onate/cw-challenge-model-test-important-features' target=\"_blank\">Weights & Biases</a> (<a href='https://wandb.me/run' target=\"_blank\">docs</a>)<br/>Sweep page: <a href='https://wandb.ai/ignacio-onate/cw-challenge-model-test-important-features/sweeps/x56k4uit' target=\"_blank\">https://wandb.ai/ignacio-onate/cw-challenge-model-test-important-features/sweeps/x56k4uit</a>"
      ],
      "text/plain": [
       "<IPython.core.display.HTML object>"
      ]
     },
     "metadata": {},
     "output_type": "display_data"
    },
    {
     "data": {
      "text/html": [
       " View project at <a href='https://wandb.ai/ignacio-onate/cw-challenge-model-test-important-features' target=\"_blank\">https://wandb.ai/ignacio-onate/cw-challenge-model-test-important-features</a>"
      ],
      "text/plain": [
       "<IPython.core.display.HTML object>"
      ]
     },
     "metadata": {},
     "output_type": "display_data"
    },
    {
     "data": {
      "text/html": [
       " View sweep at <a href='https://wandb.ai/ignacio-onate/cw-challenge-model-test-important-features/sweeps/x56k4uit' target=\"_blank\">https://wandb.ai/ignacio-onate/cw-challenge-model-test-important-features/sweeps/x56k4uit</a>"
      ],
      "text/plain": [
       "<IPython.core.display.HTML object>"
      ]
     },
     "metadata": {},
     "output_type": "display_data"
    },
    {
     "data": {
      "text/html": [
       " View run at <a href='https://wandb.ai/ignacio-onate/cw-challenge-model-test-important-features/runs/lb9xf1da' target=\"_blank\">https://wandb.ai/ignacio-onate/cw-challenge-model-test-important-features/runs/lb9xf1da</a>"
      ],
      "text/plain": [
       "<IPython.core.display.HTML object>"
      ]
     },
     "metadata": {},
     "output_type": "display_data"
    },
    {
     "name": "stdout",
     "output_type": "stream",
     "text": [
      "Modelo:  SVM\n",
      "Modelo:  XGB\n",
      "Modelo:  RF\n",
      "Modelo:  LR\n"
     ]
    },
    {
     "data": {
      "text/html": [
       "Waiting for W&B process to finish... <strong style=\"color:green\">(success).</strong>"
      ],
      "text/plain": [
       "<IPython.core.display.HTML object>"
      ]
     },
     "metadata": {},
     "output_type": "display_data"
    },
    {
     "data": {
      "text/html": [
       "<style>\n",
       "    table.wandb td:nth-child(1) { padding: 0 10px; text-align: left ; width: auto;} td:nth-child(2) {text-align: left ; width: 100%}\n",
       "    .wandb-row { display: flex; flex-direction: row; flex-wrap: wrap; justify-content: flex-start; width: 100% }\n",
       "    .wandb-col { display: flex; flex-direction: column; flex-basis: 100%; flex: 1; padding: 10px; }\n",
       "    </style>\n",
       "<div class=\"wandb-row\"><div class=\"wandb-col\"><h3>Run history:</h3><br/><table class=\"wandb\"><tr><td>accuracy_LR</td><td>▁</td></tr><tr><td>accuracy_RF</td><td>▁</td></tr><tr><td>accuracy_SVM</td><td>▁</td></tr><tr><td>accuracy_XGB</td><td>▁</td></tr><tr><td>f1_LR</td><td>▁</td></tr><tr><td>f1_RF</td><td>▁</td></tr><tr><td>f1_SVM</td><td>▁</td></tr><tr><td>f1_XGB</td><td>▁</td></tr><tr><td>precision_LR</td><td>▁</td></tr><tr><td>precision_RF</td><td>▁</td></tr><tr><td>precision_SVM</td><td>▁</td></tr><tr><td>precision_XGB</td><td>▁</td></tr><tr><td>recall_LR</td><td>▁</td></tr><tr><td>recall_RF</td><td>▁</td></tr><tr><td>recall_SVM</td><td>▁</td></tr><tr><td>recall_XGB</td><td>▁</td></tr><tr><td>roc_auc_LR</td><td>▁</td></tr><tr><td>roc_auc_RF</td><td>▁</td></tr><tr><td>roc_auc_SVM</td><td>▁</td></tr><tr><td>roc_auc_XGB</td><td>▁</td></tr></table><br/></div><div class=\"wandb-col\"><h3>Run summary:</h3><br/><table class=\"wandb\"><tr><td>accuracy_LR</td><td>0.78179</td></tr><tr><td>accuracy_RF</td><td>0.77215</td></tr><tr><td>accuracy_SVM</td><td>0.7781</td></tr><tr><td>accuracy_XGB</td><td>0.78292</td></tr><tr><td>f1_LR</td><td>0.25024</td></tr><tr><td>f1_RF</td><td>0.27783</td></tr><tr><td>f1_SVM</td><td>0.26114</td></tr><tr><td>f1_XGB</td><td>0.24744</td></tr><tr><td>precision_LR</td><td>0.3433</td></tr><tr><td>precision_RF</td><td>0.33846</td></tr><tr><td>precision_SVM</td><td>0.34372</td></tr><tr><td>precision_XGB</td><td>0.34921</td></tr><tr><td>recall_LR</td><td>0.19692</td></tr><tr><td>recall_RF</td><td>0.23878</td></tr><tr><td>recall_SVM</td><td>0.21444</td></tr><tr><td>recall_XGB</td><td>0.19597</td></tr><tr><td>roc_auc_LR</td><td>0.6287</td></tr><tr><td>roc_auc_RF</td><td>0.64223</td></tr><tr><td>roc_auc_SVM</td><td>0.59554</td></tr><tr><td>roc_auc_XGB</td><td>0.63895</td></tr></table><br/></div></div>"
      ],
      "text/plain": [
       "<IPython.core.display.HTML object>"
      ]
     },
     "metadata": {},
     "output_type": "display_data"
    },
    {
     "data": {
      "text/html": [
       " View run <strong style=\"color:#cdcd00\">rosy-sweep-5</strong> at: <a href='https://wandb.ai/ignacio-onate/cw-challenge-model-test-important-features/runs/lb9xf1da' target=\"_blank\">https://wandb.ai/ignacio-onate/cw-challenge-model-test-important-features/runs/lb9xf1da</a><br/>Synced 5 W&B file(s), 0 media file(s), 0 artifact file(s) and 0 other file(s)"
      ],
      "text/plain": [
       "<IPython.core.display.HTML object>"
      ]
     },
     "metadata": {},
     "output_type": "display_data"
    },
    {
     "data": {
      "text/html": [
       "Find logs at: <code>.\\wandb\\run-20230325_233818-lb9xf1da\\logs</code>"
      ],
      "text/plain": [
       "<IPython.core.display.HTML object>"
      ]
     },
     "metadata": {},
     "output_type": "display_data"
    },
    {
     "name": "stderr",
     "output_type": "stream",
     "text": [
      "\u001b[34m\u001b[1mwandb\u001b[0m: Agent Starting Run: v9u8wdgl with config:\n",
      "\u001b[34m\u001b[1mwandb\u001b[0m: \tover_values: 0.4\n",
      "\u001b[34m\u001b[1mwandb\u001b[0m: \tunder_values: 0.5\n"
     ]
    },
    {
     "data": {
      "text/html": [
       "Tracking run with wandb version 0.14.0"
      ],
      "text/plain": [
       "<IPython.core.display.HTML object>"
      ]
     },
     "metadata": {},
     "output_type": "display_data"
    },
    {
     "data": {
      "text/html": [
       "Run data is saved locally in <code>C:\\Users\\JhonG\\Documents\\nw-challenge\\nw-challenge\\model\\wandb\\run-20230325_234055-v9u8wdgl</code>"
      ],
      "text/plain": [
       "<IPython.core.display.HTML object>"
      ]
     },
     "metadata": {},
     "output_type": "display_data"
    },
    {
     "data": {
      "text/html": [
       "Syncing run <strong><a href='https://wandb.ai/ignacio-onate/cw-challenge-model-test-important-features/runs/v9u8wdgl' target=\"_blank\">exalted-sweep-6</a></strong> to <a href='https://wandb.ai/ignacio-onate/cw-challenge-model-test-important-features' target=\"_blank\">Weights & Biases</a> (<a href='https://wandb.me/run' target=\"_blank\">docs</a>)<br/>Sweep page: <a href='https://wandb.ai/ignacio-onate/cw-challenge-model-test-important-features/sweeps/x56k4uit' target=\"_blank\">https://wandb.ai/ignacio-onate/cw-challenge-model-test-important-features/sweeps/x56k4uit</a>"
      ],
      "text/plain": [
       "<IPython.core.display.HTML object>"
      ]
     },
     "metadata": {},
     "output_type": "display_data"
    },
    {
     "data": {
      "text/html": [
       " View project at <a href='https://wandb.ai/ignacio-onate/cw-challenge-model-test-important-features' target=\"_blank\">https://wandb.ai/ignacio-onate/cw-challenge-model-test-important-features</a>"
      ],
      "text/plain": [
       "<IPython.core.display.HTML object>"
      ]
     },
     "metadata": {},
     "output_type": "display_data"
    },
    {
     "data": {
      "text/html": [
       " View sweep at <a href='https://wandb.ai/ignacio-onate/cw-challenge-model-test-important-features/sweeps/x56k4uit' target=\"_blank\">https://wandb.ai/ignacio-onate/cw-challenge-model-test-important-features/sweeps/x56k4uit</a>"
      ],
      "text/plain": [
       "<IPython.core.display.HTML object>"
      ]
     },
     "metadata": {},
     "output_type": "display_data"
    },
    {
     "data": {
      "text/html": [
       " View run at <a href='https://wandb.ai/ignacio-onate/cw-challenge-model-test-important-features/runs/v9u8wdgl' target=\"_blank\">https://wandb.ai/ignacio-onate/cw-challenge-model-test-important-features/runs/v9u8wdgl</a>"
      ],
      "text/plain": [
       "<IPython.core.display.HTML object>"
      ]
     },
     "metadata": {},
     "output_type": "display_data"
    },
    {
     "name": "stdout",
     "output_type": "stream",
     "text": [
      "Modelo:  SVM\n",
      "Modelo:  XGB\n",
      "Modelo:  RF\n",
      "Modelo:  LR\n"
     ]
    },
    {
     "data": {
      "text/html": [
       "Waiting for W&B process to finish... <strong style=\"color:green\">(success).</strong>"
      ],
      "text/plain": [
       "<IPython.core.display.HTML object>"
      ]
     },
     "metadata": {},
     "output_type": "display_data"
    },
    {
     "data": {
      "text/html": [
       "<style>\n",
       "    table.wandb td:nth-child(1) { padding: 0 10px; text-align: left ; width: auto;} td:nth-child(2) {text-align: left ; width: 100%}\n",
       "    .wandb-row { display: flex; flex-direction: row; flex-wrap: wrap; justify-content: flex-start; width: 100% }\n",
       "    .wandb-col { display: flex; flex-direction: column; flex-basis: 100%; flex: 1; padding: 10px; }\n",
       "    </style>\n",
       "<div class=\"wandb-row\"><div class=\"wandb-col\"><h3>Run history:</h3><br/><table class=\"wandb\"><tr><td>accuracy_LR</td><td>▁</td></tr><tr><td>accuracy_RF</td><td>▁</td></tr><tr><td>accuracy_SVM</td><td>▁</td></tr><tr><td>accuracy_XGB</td><td>▁</td></tr><tr><td>f1_LR</td><td>▁</td></tr><tr><td>f1_RF</td><td>▁</td></tr><tr><td>f1_SVM</td><td>▁</td></tr><tr><td>f1_XGB</td><td>▁</td></tr><tr><td>precision_LR</td><td>▁</td></tr><tr><td>precision_RF</td><td>▁</td></tr><tr><td>precision_SVM</td><td>▁</td></tr><tr><td>precision_XGB</td><td>▁</td></tr><tr><td>recall_LR</td><td>▁</td></tr><tr><td>recall_RF</td><td>▁</td></tr><tr><td>recall_SVM</td><td>▁</td></tr><tr><td>recall_XGB</td><td>▁</td></tr><tr><td>roc_auc_LR</td><td>▁</td></tr><tr><td>roc_auc_RF</td><td>▁</td></tr><tr><td>roc_auc_SVM</td><td>▁</td></tr><tr><td>roc_auc_XGB</td><td>▁</td></tr></table><br/></div><div class=\"wandb-col\"><h3>Run summary:</h3><br/><table class=\"wandb\"><tr><td>accuracy_LR</td><td>0.80046</td></tr><tr><td>accuracy_RF</td><td>0.79349</td></tr><tr><td>accuracy_SVM</td><td>0.79744</td></tr><tr><td>accuracy_XGB</td><td>0.7959</td></tr><tr><td>f1_LR</td><td>0.19669</td></tr><tr><td>f1_RF</td><td>0.22942</td></tr><tr><td>f1_SVM</td><td>0.20931</td></tr><tr><td>f1_XGB</td><td>0.22364</td></tr><tr><td>precision_LR</td><td>0.38483</td></tr><tr><td>precision_RF</td><td>0.37056</td></tr><tr><td>precision_SVM</td><td>0.37826</td></tr><tr><td>precision_XGB</td><td>0.37689</td></tr><tr><td>recall_LR</td><td>0.13215</td></tr><tr><td>recall_RF</td><td>0.16632</td></tr><tr><td>recall_SVM</td><td>0.14531</td></tr><tr><td>recall_XGB</td><td>0.15903</td></tr><tr><td>roc_auc_LR</td><td>0.62823</td></tr><tr><td>roc_auc_RF</td><td>0.64196</td></tr><tr><td>roc_auc_SVM</td><td>0.55945</td></tr><tr><td>roc_auc_XGB</td><td>0.63858</td></tr></table><br/></div></div>"
      ],
      "text/plain": [
       "<IPython.core.display.HTML object>"
      ]
     },
     "metadata": {},
     "output_type": "display_data"
    },
    {
     "data": {
      "text/html": [
       " View run <strong style=\"color:#cdcd00\">exalted-sweep-6</strong> at: <a href='https://wandb.ai/ignacio-onate/cw-challenge-model-test-important-features/runs/v9u8wdgl' target=\"_blank\">https://wandb.ai/ignacio-onate/cw-challenge-model-test-important-features/runs/v9u8wdgl</a><br/>Synced 5 W&B file(s), 0 media file(s), 0 artifact file(s) and 0 other file(s)"
      ],
      "text/plain": [
       "<IPython.core.display.HTML object>"
      ]
     },
     "metadata": {},
     "output_type": "display_data"
    },
    {
     "data": {
      "text/html": [
       "Find logs at: <code>.\\wandb\\run-20230325_234055-v9u8wdgl\\logs</code>"
      ],
      "text/plain": [
       "<IPython.core.display.HTML object>"
      ]
     },
     "metadata": {},
     "output_type": "display_data"
    },
    {
     "name": "stderr",
     "output_type": "stream",
     "text": [
      "\u001b[34m\u001b[1mwandb\u001b[0m: Agent Starting Run: 0xl589bu with config:\n",
      "\u001b[34m\u001b[1mwandb\u001b[0m: \tover_values: 0.5\n",
      "\u001b[34m\u001b[1mwandb\u001b[0m: \tunder_values: 0.7\n"
     ]
    },
    {
     "data": {
      "text/html": [
       "Tracking run with wandb version 0.14.0"
      ],
      "text/plain": [
       "<IPython.core.display.HTML object>"
      ]
     },
     "metadata": {},
     "output_type": "display_data"
    },
    {
     "data": {
      "text/html": [
       "Run data is saved locally in <code>C:\\Users\\JhonG\\Documents\\nw-challenge\\nw-challenge\\model\\wandb\\run-20230325_234351-0xl589bu</code>"
      ],
      "text/plain": [
       "<IPython.core.display.HTML object>"
      ]
     },
     "metadata": {},
     "output_type": "display_data"
    },
    {
     "data": {
      "text/html": [
       "Syncing run <strong><a href='https://wandb.ai/ignacio-onate/cw-challenge-model-test-important-features/runs/0xl589bu' target=\"_blank\">polar-sweep-7</a></strong> to <a href='https://wandb.ai/ignacio-onate/cw-challenge-model-test-important-features' target=\"_blank\">Weights & Biases</a> (<a href='https://wandb.me/run' target=\"_blank\">docs</a>)<br/>Sweep page: <a href='https://wandb.ai/ignacio-onate/cw-challenge-model-test-important-features/sweeps/x56k4uit' target=\"_blank\">https://wandb.ai/ignacio-onate/cw-challenge-model-test-important-features/sweeps/x56k4uit</a>"
      ],
      "text/plain": [
       "<IPython.core.display.HTML object>"
      ]
     },
     "metadata": {},
     "output_type": "display_data"
    },
    {
     "data": {
      "text/html": [
       " View project at <a href='https://wandb.ai/ignacio-onate/cw-challenge-model-test-important-features' target=\"_blank\">https://wandb.ai/ignacio-onate/cw-challenge-model-test-important-features</a>"
      ],
      "text/plain": [
       "<IPython.core.display.HTML object>"
      ]
     },
     "metadata": {},
     "output_type": "display_data"
    },
    {
     "data": {
      "text/html": [
       " View sweep at <a href='https://wandb.ai/ignacio-onate/cw-challenge-model-test-important-features/sweeps/x56k4uit' target=\"_blank\">https://wandb.ai/ignacio-onate/cw-challenge-model-test-important-features/sweeps/x56k4uit</a>"
      ],
      "text/plain": [
       "<IPython.core.display.HTML object>"
      ]
     },
     "metadata": {},
     "output_type": "display_data"
    },
    {
     "data": {
      "text/html": [
       " View run at <a href='https://wandb.ai/ignacio-onate/cw-challenge-model-test-important-features/runs/0xl589bu' target=\"_blank\">https://wandb.ai/ignacio-onate/cw-challenge-model-test-important-features/runs/0xl589bu</a>"
      ],
      "text/plain": [
       "<IPython.core.display.HTML object>"
      ]
     },
     "metadata": {},
     "output_type": "display_data"
    },
    {
     "name": "stdout",
     "output_type": "stream",
     "text": [
      "Modelo:  SVM\n",
      "Modelo:  XGB\n",
      "Modelo:  RF\n",
      "Modelo:  LR\n"
     ]
    },
    {
     "data": {
      "text/html": [
       "Waiting for W&B process to finish... <strong style=\"color:green\">(success).</strong>"
      ],
      "text/plain": [
       "<IPython.core.display.HTML object>"
      ]
     },
     "metadata": {},
     "output_type": "display_data"
    },
    {
     "data": {
      "text/html": [
       "<style>\n",
       "    table.wandb td:nth-child(1) { padding: 0 10px; text-align: left ; width: auto;} td:nth-child(2) {text-align: left ; width: 100%}\n",
       "    .wandb-row { display: flex; flex-direction: row; flex-wrap: wrap; justify-content: flex-start; width: 100% }\n",
       "    .wandb-col { display: flex; flex-direction: column; flex-basis: 100%; flex: 1; padding: 10px; }\n",
       "    </style>\n",
       "<div class=\"wandb-row\"><div class=\"wandb-col\"><h3>Run history:</h3><br/><table class=\"wandb\"><tr><td>accuracy_LR</td><td>▁</td></tr><tr><td>accuracy_RF</td><td>▁</td></tr><tr><td>accuracy_SVM</td><td>▁</td></tr><tr><td>accuracy_XGB</td><td>▁</td></tr><tr><td>f1_LR</td><td>▁</td></tr><tr><td>f1_RF</td><td>▁</td></tr><tr><td>f1_SVM</td><td>▁</td></tr><tr><td>f1_XGB</td><td>▁</td></tr><tr><td>precision_LR</td><td>▁</td></tr><tr><td>precision_RF</td><td>▁</td></tr><tr><td>precision_SVM</td><td>▁</td></tr><tr><td>precision_XGB</td><td>▁</td></tr><tr><td>recall_LR</td><td>▁</td></tr><tr><td>recall_RF</td><td>▁</td></tr><tr><td>recall_SVM</td><td>▁</td></tr><tr><td>recall_XGB</td><td>▁</td></tr><tr><td>roc_auc_LR</td><td>▁</td></tr><tr><td>roc_auc_RF</td><td>▁</td></tr><tr><td>roc_auc_SVM</td><td>▁</td></tr><tr><td>roc_auc_XGB</td><td>▁</td></tr></table><br/></div><div class=\"wandb-col\"><h3>Run summary:</h3><br/><table class=\"wandb\"><tr><td>accuracy_LR</td><td>0.76027</td></tr><tr><td>accuracy_RF</td><td>0.75495</td></tr><tr><td>accuracy_SVM</td><td>0.7564</td></tr><tr><td>accuracy_XGB</td><td>0.76701</td></tr><tr><td>f1_LR</td><td>0.27646</td></tr><tr><td>f1_RF</td><td>0.30849</td></tr><tr><td>f1_SVM</td><td>0.30282</td></tr><tr><td>f1_XGB</td><td>0.28758</td></tr><tr><td>precision_LR</td><td>0.3128</td></tr><tr><td>precision_RF</td><td>0.32277</td></tr><tr><td>precision_SVM</td><td>0.32233</td></tr><tr><td>precision_XGB</td><td>0.33213</td></tr><tr><td>recall_LR</td><td>0.24782</td></tr><tr><td>recall_RF</td><td>0.29562</td></tr><tr><td>recall_SVM</td><td>0.28651</td></tr><tr><td>recall_XGB</td><td>0.25527</td></tr><tr><td>roc_auc_LR</td><td>0.626</td></tr><tr><td>roc_auc_RF</td><td>0.64199</td></tr><tr><td>roc_auc_SVM</td><td>0.6075</td></tr><tr><td>roc_auc_XGB</td><td>0.63897</td></tr></table><br/></div></div>"
      ],
      "text/plain": [
       "<IPython.core.display.HTML object>"
      ]
     },
     "metadata": {},
     "output_type": "display_data"
    },
    {
     "data": {
      "text/html": [
       " View run <strong style=\"color:#cdcd00\">polar-sweep-7</strong> at: <a href='https://wandb.ai/ignacio-onate/cw-challenge-model-test-important-features/runs/0xl589bu' target=\"_blank\">https://wandb.ai/ignacio-onate/cw-challenge-model-test-important-features/runs/0xl589bu</a><br/>Synced 5 W&B file(s), 0 media file(s), 0 artifact file(s) and 0 other file(s)"
      ],
      "text/plain": [
       "<IPython.core.display.HTML object>"
      ]
     },
     "metadata": {},
     "output_type": "display_data"
    },
    {
     "data": {
      "text/html": [
       "Find logs at: <code>.\\wandb\\run-20230325_234351-0xl589bu\\logs</code>"
      ],
      "text/plain": [
       "<IPython.core.display.HTML object>"
      ]
     },
     "metadata": {},
     "output_type": "display_data"
    },
    {
     "name": "stderr",
     "output_type": "stream",
     "text": [
      "\u001b[34m\u001b[1mwandb\u001b[0m: Agent Starting Run: fko9sdxy with config:\n",
      "\u001b[34m\u001b[1mwandb\u001b[0m: \tover_values: 0.5\n",
      "\u001b[34m\u001b[1mwandb\u001b[0m: \tunder_values: 0.6\n"
     ]
    },
    {
     "data": {
      "text/html": [
       "Tracking run with wandb version 0.14.0"
      ],
      "text/plain": [
       "<IPython.core.display.HTML object>"
      ]
     },
     "metadata": {},
     "output_type": "display_data"
    },
    {
     "data": {
      "text/html": [
       "Run data is saved locally in <code>C:\\Users\\JhonG\\Documents\\nw-challenge\\nw-challenge\\model\\wandb\\run-20230325_234720-fko9sdxy</code>"
      ],
      "text/plain": [
       "<IPython.core.display.HTML object>"
      ]
     },
     "metadata": {},
     "output_type": "display_data"
    },
    {
     "data": {
      "text/html": [
       "Syncing run <strong><a href='https://wandb.ai/ignacio-onate/cw-challenge-model-test-important-features/runs/fko9sdxy' target=\"_blank\">lemon-sweep-8</a></strong> to <a href='https://wandb.ai/ignacio-onate/cw-challenge-model-test-important-features' target=\"_blank\">Weights & Biases</a> (<a href='https://wandb.me/run' target=\"_blank\">docs</a>)<br/>Sweep page: <a href='https://wandb.ai/ignacio-onate/cw-challenge-model-test-important-features/sweeps/x56k4uit' target=\"_blank\">https://wandb.ai/ignacio-onate/cw-challenge-model-test-important-features/sweeps/x56k4uit</a>"
      ],
      "text/plain": [
       "<IPython.core.display.HTML object>"
      ]
     },
     "metadata": {},
     "output_type": "display_data"
    },
    {
     "data": {
      "text/html": [
       " View project at <a href='https://wandb.ai/ignacio-onate/cw-challenge-model-test-important-features' target=\"_blank\">https://wandb.ai/ignacio-onate/cw-challenge-model-test-important-features</a>"
      ],
      "text/plain": [
       "<IPython.core.display.HTML object>"
      ]
     },
     "metadata": {},
     "output_type": "display_data"
    },
    {
     "data": {
      "text/html": [
       " View sweep at <a href='https://wandb.ai/ignacio-onate/cw-challenge-model-test-important-features/sweeps/x56k4uit' target=\"_blank\">https://wandb.ai/ignacio-onate/cw-challenge-model-test-important-features/sweeps/x56k4uit</a>"
      ],
      "text/plain": [
       "<IPython.core.display.HTML object>"
      ]
     },
     "metadata": {},
     "output_type": "display_data"
    },
    {
     "data": {
      "text/html": [
       " View run at <a href='https://wandb.ai/ignacio-onate/cw-challenge-model-test-important-features/runs/fko9sdxy' target=\"_blank\">https://wandb.ai/ignacio-onate/cw-challenge-model-test-important-features/runs/fko9sdxy</a>"
      ],
      "text/plain": [
       "<IPython.core.display.HTML object>"
      ]
     },
     "metadata": {},
     "output_type": "display_data"
    },
    {
     "name": "stdout",
     "output_type": "stream",
     "text": [
      "Modelo:  SVM\n",
      "Modelo:  XGB\n",
      "Modelo:  RF\n",
      "Modelo:  LR\n"
     ]
    },
    {
     "data": {
      "text/html": [
       "Waiting for W&B process to finish... <strong style=\"color:green\">(success).</strong>"
      ],
      "text/plain": [
       "<IPython.core.display.HTML object>"
      ]
     },
     "metadata": {},
     "output_type": "display_data"
    },
    {
     "data": {
      "text/html": [
       "<style>\n",
       "    table.wandb td:nth-child(1) { padding: 0 10px; text-align: left ; width: auto;} td:nth-child(2) {text-align: left ; width: 100%}\n",
       "    .wandb-row { display: flex; flex-direction: row; flex-wrap: wrap; justify-content: flex-start; width: 100% }\n",
       "    .wandb-col { display: flex; flex-direction: column; flex-basis: 100%; flex: 1; padding: 10px; }\n",
       "    </style>\n",
       "<div class=\"wandb-row\"><div class=\"wandb-col\"><h3>Run history:</h3><br/><table class=\"wandb\"><tr><td>accuracy_LR</td><td>▁</td></tr><tr><td>accuracy_RF</td><td>▁</td></tr><tr><td>accuracy_SVM</td><td>▁</td></tr><tr><td>accuracy_XGB</td><td>▁</td></tr><tr><td>f1_LR</td><td>▁</td></tr><tr><td>f1_RF</td><td>▁</td></tr><tr><td>f1_SVM</td><td>▁</td></tr><tr><td>f1_XGB</td><td>▁</td></tr><tr><td>precision_LR</td><td>▁</td></tr><tr><td>precision_RF</td><td>▁</td></tr><tr><td>precision_SVM</td><td>▁</td></tr><tr><td>precision_XGB</td><td>▁</td></tr><tr><td>recall_LR</td><td>▁</td></tr><tr><td>recall_RF</td><td>▁</td></tr><tr><td>recall_SVM</td><td>▁</td></tr><tr><td>recall_XGB</td><td>▁</td></tr><tr><td>roc_auc_LR</td><td>▁</td></tr><tr><td>roc_auc_RF</td><td>▁</td></tr><tr><td>roc_auc_SVM</td><td>▁</td></tr><tr><td>roc_auc_XGB</td><td>▁</td></tr></table><br/></div><div class=\"wandb-col\"><h3>Run summary:</h3><br/><table class=\"wandb\"><tr><td>accuracy_LR</td><td>0.77454</td></tr><tr><td>accuracy_RF</td><td>0.77615</td></tr><tr><td>accuracy_SVM</td><td>0.77819</td></tr><tr><td>accuracy_XGB</td><td>0.78581</td></tr><tr><td>f1_LR</td><td>0.25983</td></tr><tr><td>f1_RF</td><td>0.27082</td></tr><tr><td>f1_SVM</td><td>0.26378</td></tr><tr><td>f1_XGB</td><td>0.24022</td></tr><tr><td>precision_LR</td><td>0.33317</td></tr><tr><td>precision_RF</td><td>0.34182</td></tr><tr><td>precision_SVM</td><td>0.34526</td></tr><tr><td>precision_XGB</td><td>0.35614</td></tr><tr><td>recall_LR</td><td>0.21468</td></tr><tr><td>recall_RF</td><td>0.22546</td></tr><tr><td>recall_SVM</td><td>0.2173</td></tr><tr><td>recall_XGB</td><td>0.1863</td></tr><tr><td>roc_auc_LR</td><td>0.62578</td></tr><tr><td>roc_auc_RF</td><td>0.64221</td></tr><tr><td>roc_auc_SVM</td><td>0.58669</td></tr><tr><td>roc_auc_XGB</td><td>0.63881</td></tr></table><br/></div></div>"
      ],
      "text/plain": [
       "<IPython.core.display.HTML object>"
      ]
     },
     "metadata": {},
     "output_type": "display_data"
    },
    {
     "data": {
      "text/html": [
       " View run <strong style=\"color:#cdcd00\">lemon-sweep-8</strong> at: <a href='https://wandb.ai/ignacio-onate/cw-challenge-model-test-important-features/runs/fko9sdxy' target=\"_blank\">https://wandb.ai/ignacio-onate/cw-challenge-model-test-important-features/runs/fko9sdxy</a><br/>Synced 5 W&B file(s), 0 media file(s), 0 artifact file(s) and 0 other file(s)"
      ],
      "text/plain": [
       "<IPython.core.display.HTML object>"
      ]
     },
     "metadata": {},
     "output_type": "display_data"
    },
    {
     "data": {
      "text/html": [
       "Find logs at: <code>.\\wandb\\run-20230325_234720-fko9sdxy\\logs</code>"
      ],
      "text/plain": [
       "<IPython.core.display.HTML object>"
      ]
     },
     "metadata": {},
     "output_type": "display_data"
    },
    {
     "name": "stderr",
     "output_type": "stream",
     "text": [
      "\u001b[34m\u001b[1mwandb\u001b[0m: Agent Starting Run: js0vesuh with config:\n",
      "\u001b[34m\u001b[1mwandb\u001b[0m: \tover_values: 0.5\n",
      "\u001b[34m\u001b[1mwandb\u001b[0m: \tunder_values: 0.5\n"
     ]
    },
    {
     "data": {
      "text/html": [
       "Tracking run with wandb version 0.14.0"
      ],
      "text/plain": [
       "<IPython.core.display.HTML object>"
      ]
     },
     "metadata": {},
     "output_type": "display_data"
    },
    {
     "data": {
      "text/html": [
       "Run data is saved locally in <code>C:\\Users\\JhonG\\Documents\\nw-challenge\\nw-challenge\\model\\wandb\\run-20230325_235109-js0vesuh</code>"
      ],
      "text/plain": [
       "<IPython.core.display.HTML object>"
      ]
     },
     "metadata": {},
     "output_type": "display_data"
    },
    {
     "data": {
      "text/html": [
       "Syncing run <strong><a href='https://wandb.ai/ignacio-onate/cw-challenge-model-test-important-features/runs/js0vesuh' target=\"_blank\">lilac-sweep-9</a></strong> to <a href='https://wandb.ai/ignacio-onate/cw-challenge-model-test-important-features' target=\"_blank\">Weights & Biases</a> (<a href='https://wandb.me/run' target=\"_blank\">docs</a>)<br/>Sweep page: <a href='https://wandb.ai/ignacio-onate/cw-challenge-model-test-important-features/sweeps/x56k4uit' target=\"_blank\">https://wandb.ai/ignacio-onate/cw-challenge-model-test-important-features/sweeps/x56k4uit</a>"
      ],
      "text/plain": [
       "<IPython.core.display.HTML object>"
      ]
     },
     "metadata": {},
     "output_type": "display_data"
    },
    {
     "data": {
      "text/html": [
       " View project at <a href='https://wandb.ai/ignacio-onate/cw-challenge-model-test-important-features' target=\"_blank\">https://wandb.ai/ignacio-onate/cw-challenge-model-test-important-features</a>"
      ],
      "text/plain": [
       "<IPython.core.display.HTML object>"
      ]
     },
     "metadata": {},
     "output_type": "display_data"
    },
    {
     "data": {
      "text/html": [
       " View sweep at <a href='https://wandb.ai/ignacio-onate/cw-challenge-model-test-important-features/sweeps/x56k4uit' target=\"_blank\">https://wandb.ai/ignacio-onate/cw-challenge-model-test-important-features/sweeps/x56k4uit</a>"
      ],
      "text/plain": [
       "<IPython.core.display.HTML object>"
      ]
     },
     "metadata": {},
     "output_type": "display_data"
    },
    {
     "data": {
      "text/html": [
       " View run at <a href='https://wandb.ai/ignacio-onate/cw-challenge-model-test-important-features/runs/js0vesuh' target=\"_blank\">https://wandb.ai/ignacio-onate/cw-challenge-model-test-important-features/runs/js0vesuh</a>"
      ],
      "text/plain": [
       "<IPython.core.display.HTML object>"
      ]
     },
     "metadata": {},
     "output_type": "display_data"
    },
    {
     "name": "stdout",
     "output_type": "stream",
     "text": [
      "Modelo:  SVM\n",
      "Modelo:  XGB\n",
      "Modelo:  RF\n",
      "Modelo:  LR\n"
     ]
    },
    {
     "data": {
      "text/html": [
       "Waiting for W&B process to finish... <strong style=\"color:green\">(success).</strong>"
      ],
      "text/plain": [
       "<IPython.core.display.HTML object>"
      ]
     },
     "metadata": {},
     "output_type": "display_data"
    },
    {
     "data": {
      "text/html": [
       "<style>\n",
       "    table.wandb td:nth-child(1) { padding: 0 10px; text-align: left ; width: auto;} td:nth-child(2) {text-align: left ; width: 100%}\n",
       "    .wandb-row { display: flex; flex-direction: row; flex-wrap: wrap; justify-content: flex-start; width: 100% }\n",
       "    .wandb-col { display: flex; flex-direction: column; flex-basis: 100%; flex: 1; padding: 10px; }\n",
       "    </style>\n",
       "<div class=\"wandb-row\"><div class=\"wandb-col\"><h3>Run history:</h3><br/><table class=\"wandb\"><tr><td>accuracy_LR</td><td>▁</td></tr><tr><td>accuracy_RF</td><td>▁</td></tr><tr><td>accuracy_SVM</td><td>▁</td></tr><tr><td>accuracy_XGB</td><td>▁</td></tr><tr><td>f1_LR</td><td>▁</td></tr><tr><td>f1_RF</td><td>▁</td></tr><tr><td>f1_SVM</td><td>▁</td></tr><tr><td>f1_XGB</td><td>▁</td></tr><tr><td>precision_LR</td><td>▁</td></tr><tr><td>precision_RF</td><td>▁</td></tr><tr><td>precision_SVM</td><td>▁</td></tr><tr><td>precision_XGB</td><td>▁</td></tr><tr><td>recall_LR</td><td>▁</td></tr><tr><td>recall_RF</td><td>▁</td></tr><tr><td>recall_SVM</td><td>▁</td></tr><tr><td>recall_XGB</td><td>▁</td></tr><tr><td>roc_auc_LR</td><td>▁</td></tr><tr><td>roc_auc_RF</td><td>▁</td></tr><tr><td>roc_auc_SVM</td><td>▁</td></tr><tr><td>roc_auc_XGB</td><td>▁</td></tr></table><br/></div><div class=\"wandb-col\"><h3>Run summary:</h3><br/><table class=\"wandb\"><tr><td>accuracy_LR</td><td>0.80021</td></tr><tr><td>accuracy_RF</td><td>0.79409</td></tr><tr><td>accuracy_SVM</td><td>0.80115</td></tr><tr><td>accuracy_XGB</td><td>0.79769</td></tr><tr><td>f1_LR</td><td>0.19651</td></tr><tr><td>f1_RF</td><td>0.22531</td></tr><tr><td>f1_SVM</td><td>0.1914</td></tr><tr><td>f1_XGB</td><td>0.21285</td></tr><tr><td>precision_LR</td><td>0.3833</td></tr><tr><td>precision_RF</td><td>0.37019</td></tr><tr><td>precision_SVM</td><td>0.38846</td></tr><tr><td>precision_XGB</td><td>0.38073</td></tr><tr><td>recall_LR</td><td>0.13215</td></tr><tr><td>recall_RF</td><td>0.16212</td></tr><tr><td>recall_SVM</td><td>0.12756</td></tr><tr><td>recall_XGB</td><td>0.14801</td></tr><tr><td>roc_auc_LR</td><td>0.62825</td></tr><tr><td>roc_auc_RF</td><td>0.64237</td></tr><tr><td>roc_auc_SVM</td><td>0.5516</td></tr><tr><td>roc_auc_XGB</td><td>0.63907</td></tr></table><br/></div></div>"
      ],
      "text/plain": [
       "<IPython.core.display.HTML object>"
      ]
     },
     "metadata": {},
     "output_type": "display_data"
    },
    {
     "data": {
      "text/html": [
       " View run <strong style=\"color:#cdcd00\">lilac-sweep-9</strong> at: <a href='https://wandb.ai/ignacio-onate/cw-challenge-model-test-important-features/runs/js0vesuh' target=\"_blank\">https://wandb.ai/ignacio-onate/cw-challenge-model-test-important-features/runs/js0vesuh</a><br/>Synced 5 W&B file(s), 0 media file(s), 0 artifact file(s) and 0 other file(s)"
      ],
      "text/plain": [
       "<IPython.core.display.HTML object>"
      ]
     },
     "metadata": {},
     "output_type": "display_data"
    },
    {
     "data": {
      "text/html": [
       "Find logs at: <code>.\\wandb\\run-20230325_235109-js0vesuh\\logs</code>"
      ],
      "text/plain": [
       "<IPython.core.display.HTML object>"
      ]
     },
     "metadata": {},
     "output_type": "display_data"
    },
    {
     "name": "stderr",
     "output_type": "stream",
     "text": [
      "\u001b[34m\u001b[1mwandb\u001b[0m: Sweep Agent: Waiting for job.\n",
      "\u001b[34m\u001b[1mwandb\u001b[0m: Sweep Agent: Exiting.\n"
     ]
    }
   ],
   "source": [
    "import wandb\n",
    "\n",
    "X = features_importantes\n",
    "y = labels_\n",
    "\n",
    "def train():\n",
    "    wandb.init()\n",
    "    for name, model in models.items():\n",
    "        # define pipeline\n",
    "        over = SMOTE(sampling_strategy=wandb.config.over_values)\n",
    "        under = RandomUnderSampler(sampling_strategy=wandb.config.under_values)\n",
    "        steps = [('over', over), ('under', under), ('model', model)]\n",
    "        pipeline = Pipeline(steps=steps)\n",
    "        # evaluate pipeline\n",
    "        scores = cross_validate(pipeline, X, y, scoring=['accuracy','f1','precision','recall','roc_auc'], cv=5, n_jobs=-1)\n",
    "        #score = mean(scores)\n",
    "            \n",
    "        wandb.log({\n",
    "            'accuracy_'+name: mean(scores['test_accuracy']),\n",
    "            'f1_'+name : mean(scores['test_f1']),\n",
    "            'precision_'+name : mean(scores['test_precision']),\n",
    "            'recall_'+name : mean(scores['test_recall']),\n",
    "            'roc_auc_'+name : mean(scores['test_roc_auc'])\n",
    "        })\n",
    "        print(\"Modelo: \", name)\n",
    "        #print(scores)\n",
    "#\n",
    "wandb.agent(sweep_id2, function = train)"
   ]
  },
  {
   "cell_type": "markdown",
   "id": "175fe7c7",
   "metadata": {},
   "source": [
    "# UNSAMPLING\n"
   ]
  },
  {
   "cell_type": "code",
   "execution_count": null,
   "id": "585fd6a8",
   "metadata": {},
   "outputs": [
    {
     "data": {
      "text/html": [
       "Finishing last run (ID:v90j2rzv) before initializing another..."
      ],
      "text/plain": [
       "<IPython.core.display.HTML object>"
      ]
     },
     "metadata": {},
     "output_type": "display_data"
    },
    {
     "data": {
      "text/html": [
       "Waiting for W&B process to finish... <strong style=\"color:green\">(success).</strong>"
      ],
      "text/plain": [
       "<IPython.core.display.HTML object>"
      ]
     },
     "metadata": {},
     "output_type": "display_data"
    },
    {
     "data": {
      "text/html": [
       "<style>\n",
       "    table.wandb td:nth-child(1) { padding: 0 10px; text-align: left ; width: auto;} td:nth-child(2) {text-align: left ; width: 100%}\n",
       "    .wandb-row { display: flex; flex-direction: row; flex-wrap: wrap; justify-content: flex-start; width: 100% }\n",
       "    .wandb-col { display: flex; flex-direction: column; flex-basis: 100%; flex: 1; padding: 10px; }\n",
       "    </style>\n",
       "<div class=\"wandb-row\"><div class=\"wandb-col\"><h3>Run history:</h3><br/><table class=\"wandb\"><tr><td>accuracy_LR</td><td>▁</td></tr><tr><td>accuracy_RF</td><td>▁</td></tr><tr><td>accuracy_SVM</td><td>▁</td></tr><tr><td>accuracy_XGB</td><td>▁</td></tr><tr><td>f1_LR</td><td>▁</td></tr><tr><td>f1_RF</td><td>▁</td></tr><tr><td>f1_SVM</td><td>▁</td></tr><tr><td>f1_XGB</td><td>▁</td></tr><tr><td>precision_LR</td><td>▁</td></tr><tr><td>precision_RF</td><td>▁</td></tr><tr><td>precision_SVM</td><td>▁</td></tr><tr><td>precision_XGB</td><td>▁</td></tr><tr><td>recall_LR</td><td>▁</td></tr><tr><td>recall_RF</td><td>▁</td></tr><tr><td>recall_SVM</td><td>▁</td></tr><tr><td>recall_XGB</td><td>▁</td></tr><tr><td>roc_auc_LR</td><td>▁</td></tr><tr><td>roc_auc_RF</td><td>▁</td></tr><tr><td>roc_auc_SVM</td><td>▁</td></tr><tr><td>roc_auc_XGB</td><td>▁</td></tr></table><br/></div><div class=\"wandb-col\"><h3>Run summary:</h3><br/><table class=\"wandb\"><tr><td>accuracy_LR</td><td>0.63207</td></tr><tr><td>accuracy_RF</td><td>0.62934</td></tr><tr><td>accuracy_SVM</td><td>0.63109</td></tr><tr><td>accuracy_XGB</td><td>0.57089</td></tr><tr><td>f1_LR</td><td>0.37391</td></tr><tr><td>f1_RF</td><td>0.38704</td></tr><tr><td>f1_SVM</td><td>0.39017</td></tr><tr><td>f1_XGB</td><td>0.37268</td></tr><tr><td>precision_LR</td><td>0.27287</td></tr><tr><td>precision_RF</td><td>0.27884</td></tr><tr><td>precision_SVM</td><td>0.28109</td></tr><tr><td>precision_XGB</td><td>0.25539</td></tr><tr><td>recall_LR</td><td>0.59394</td></tr><tr><td>recall_RF</td><td>0.63279</td></tr><tr><td>recall_SVM</td><td>0.6381</td></tr><tr><td>recall_XGB</td><td>0.68923</td></tr><tr><td>roc_auc_LR</td><td>0.66505</td></tr><tr><td>roc_auc_RF</td><td>0.67849</td></tr><tr><td>roc_auc_SVM</td><td>0.6572</td></tr><tr><td>roc_auc_XGB</td><td>0.66402</td></tr></table><br/></div></div>"
      ],
      "text/plain": [
       "<IPython.core.display.HTML object>"
      ]
     },
     "metadata": {},
     "output_type": "display_data"
    },
    {
     "data": {
      "text/html": [
       " View run <strong style=\"color:#cdcd00\">royal-leaf-1</strong> at: <a href='https://wandb.ai/ignacio-onate/Unsampling/runs/v90j2rzv' target=\"_blank\">https://wandb.ai/ignacio-onate/Unsampling/runs/v90j2rzv</a><br/>Synced 5 W&B file(s), 0 media file(s), 0 artifact file(s) and 0 other file(s)"
      ],
      "text/plain": [
       "<IPython.core.display.HTML object>"
      ]
     },
     "metadata": {},
     "output_type": "display_data"
    },
    {
     "data": {
      "text/html": [
       "Find logs at: <code>.\\wandb\\run-20230326_173516-v90j2rzv\\logs</code>"
      ],
      "text/plain": [
       "<IPython.core.display.HTML object>"
      ]
     },
     "metadata": {},
     "output_type": "display_data"
    },
    {
     "data": {
      "text/html": [
       "Successfully finished last run (ID:v90j2rzv). Initializing new run:<br/>"
      ],
      "text/plain": [
       "<IPython.core.display.HTML object>"
      ]
     },
     "metadata": {},
     "output_type": "display_data"
    },
    {
     "data": {
      "text/html": [
       "Tracking run with wandb version 0.14.0"
      ],
      "text/plain": [
       "<IPython.core.display.HTML object>"
      ]
     },
     "metadata": {},
     "output_type": "display_data"
    },
    {
     "data": {
      "text/html": [
       "Run data is saved locally in <code>C:\\Users\\JhonG\\Documents\\nw-challenge\\nw-challenge\\model\\wandb\\run-20230326_174814-bp5ie1w7</code>"
      ],
      "text/plain": [
       "<IPython.core.display.HTML object>"
      ]
     },
     "metadata": {},
     "output_type": "display_data"
    },
    {
     "data": {
      "text/html": [
       "Syncing run <strong><a href='https://wandb.ai/ignacio-onate/Unsampling/runs/bp5ie1w7' target=\"_blank\">fanciful-snowflake-2</a></strong> to <a href='https://wandb.ai/ignacio-onate/Unsampling' target=\"_blank\">Weights & Biases</a> (<a href='https://wandb.me/run' target=\"_blank\">docs</a>)<br/>"
      ],
      "text/plain": [
       "<IPython.core.display.HTML object>"
      ]
     },
     "metadata": {},
     "output_type": "display_data"
    },
    {
     "data": {
      "text/html": [
       " View project at <a href='https://wandb.ai/ignacio-onate/Unsampling' target=\"_blank\">https://wandb.ai/ignacio-onate/Unsampling</a>"
      ],
      "text/plain": [
       "<IPython.core.display.HTML object>"
      ]
     },
     "metadata": {},
     "output_type": "display_data"
    },
    {
     "data": {
      "text/html": [
       " View run at <a href='https://wandb.ai/ignacio-onate/Unsampling/runs/bp5ie1w7' target=\"_blank\">https://wandb.ai/ignacio-onate/Unsampling/runs/bp5ie1w7</a>"
      ],
      "text/plain": [
       "<IPython.core.display.HTML object>"
      ]
     },
     "metadata": {},
     "output_type": "display_data"
    }
   ],
   "source": [
    "from imblearn.under_sampling import RandomUnderSampler\n",
    "from collections import Counter\n",
    "under_sampler = RandomUnderSampler(random_state=42)\n",
    "\n",
    "X = features\n",
    "y = label\n",
    "\n",
    "\n",
    "\n",
    "wandb.init(project=\"Unsampling\")\n",
    "for name, model in models.items():\n",
    "    # define pipeline\n",
    "    under = RandomUnderSampler(random_state=42)\n",
    "    steps = [('under', under), ('model', model)]\n",
    "    pipeline = Pipeline(steps=steps)\n",
    "    # evaluate pipeline\n",
    "    scores = cross_validate(pipeline, X, y, scoring=['accuracy','f1','precision','recall','roc_auc'], cv=5, n_jobs=-1)\n",
    "    #score = mean(scores)\n",
    "            \n",
    "    wandb.log({\n",
    "        'accuracy_'+name: mean(scores['test_accuracy']),\n",
    "        'f1_'+name : mean(scores['test_f1']),\n",
    "        'precision_'+name : mean(scores['test_precision']),\n",
    "        'recall_'+name : mean(scores['test_recall']),\n",
    "        'roc_auc_'+name : mean(scores['test_roc_auc'])\n",
    "    })\n",
    "    print(name +' accuracy: ', mean(scores['test_accuracy']))\n",
    "    print(name +' f1: ', mean(scores['test_f1']))\n",
    "    print(name + ' precision: ', mean(scores['test_precision']))\n",
    "    print(name + ' recall: ', mean(scores['test_recall']))\n",
    "    print(name+ ' roc_auc:', mean(scores['test_roc_auc']))\n",
    "    print(\"Modelo: \", name)\n",
    "    #print(scores)\n"
   ]
  },
  {
   "cell_type": "code",
   "execution_count": 10,
   "id": "1cb05346",
   "metadata": {},
   "outputs": [
    {
     "data": {
      "text/html": [
       "Finishing last run (ID:o47xto28) before initializing another..."
      ],
      "text/plain": [
       "<IPython.core.display.HTML object>"
      ]
     },
     "metadata": {},
     "output_type": "display_data"
    },
    {
     "data": {
      "text/html": [
       "Waiting for W&B process to finish... <strong style=\"color:green\">(success).</strong>"
      ],
      "text/plain": [
       "<IPython.core.display.HTML object>"
      ]
     },
     "metadata": {},
     "output_type": "display_data"
    },
    {
     "data": {
      "text/html": [
       "<style>\n",
       "    table.wandb td:nth-child(1) { padding: 0 10px; text-align: left ; width: auto;} td:nth-child(2) {text-align: left ; width: 100%}\n",
       "    .wandb-row { display: flex; flex-direction: row; flex-wrap: wrap; justify-content: flex-start; width: 100% }\n",
       "    .wandb-col { display: flex; flex-direction: column; flex-basis: 100%; flex: 1; padding: 10px; }\n",
       "    </style>\n",
       "<div class=\"wandb-row\"><div class=\"wandb-col\"><h3>Run history:</h3><br/><table class=\"wandb\"><tr><td>accuracy_LR</td><td>▁</td></tr><tr><td>accuracy_RF</td><td>▁</td></tr><tr><td>accuracy_SVM</td><td>▁</td></tr><tr><td>accuracy_XGB</td><td>▁</td></tr><tr><td>f1_LR</td><td>▁</td></tr><tr><td>f1_RF</td><td>▁</td></tr><tr><td>f1_SVM</td><td>▁</td></tr><tr><td>f1_XGB</td><td>▁</td></tr><tr><td>precision_LR</td><td>▁</td></tr><tr><td>precision_RF</td><td>▁</td></tr><tr><td>precision_SVM</td><td>▁</td></tr><tr><td>precision_XGB</td><td>▁</td></tr><tr><td>recall_LR</td><td>▁</td></tr><tr><td>recall_RF</td><td>▁</td></tr><tr><td>recall_SVM</td><td>▁</td></tr><tr><td>recall_XGB</td><td>▁</td></tr><tr><td>roc_auc_LR</td><td>▁</td></tr><tr><td>roc_auc_RF</td><td>▁</td></tr><tr><td>roc_auc_SVM</td><td>▁</td></tr><tr><td>roc_auc_XGB</td><td>▁</td></tr></table><br/></div><div class=\"wandb-col\"><h3>Run summary:</h3><br/><table class=\"wandb\"><tr><td>accuracy_LR</td><td>0.53699</td></tr><tr><td>accuracy_RF</td><td>0.55675</td></tr><tr><td>accuracy_SVM</td><td>0.55224</td></tr><tr><td>accuracy_XGB</td><td>0.53739</td></tr><tr><td>f1_LR</td><td>0.35827</td></tr><tr><td>f1_RF</td><td>0.35822</td></tr><tr><td>f1_SVM</td><td>0.35978</td></tr><tr><td>f1_XGB</td><td>0.36103</td></tr><tr><td>precision_LR</td><td>0.24088</td></tr><tr><td>precision_RF</td><td>0.24488</td></tr><tr><td>precision_SVM</td><td>0.24487</td></tr><tr><td>precision_XGB</td><td>0.24245</td></tr><tr><td>recall_LR</td><td>0.6989</td></tr><tr><td>recall_RF</td><td>0.66902</td></tr><tr><td>recall_SVM</td><td>0.68051</td></tr><tr><td>recall_XGB</td><td>0.70667</td></tr><tr><td>roc_auc_LR</td><td>0.63491</td></tr><tr><td>roc_auc_RF</td><td>0.64153</td></tr><tr><td>roc_auc_SVM</td><td>0.60796</td></tr><tr><td>roc_auc_XGB</td><td>0.63863</td></tr></table><br/></div></div>"
      ],
      "text/plain": [
       "<IPython.core.display.HTML object>"
      ]
     },
     "metadata": {},
     "output_type": "display_data"
    },
    {
     "data": {
      "text/html": [
       " View run <strong style=\"color:#cdcd00\">ancient-thunder-1</strong> at: <a href='https://wandb.ai/ignacio-onate/Unsampling-fi/runs/o47xto28' target=\"_blank\">https://wandb.ai/ignacio-onate/Unsampling-fi/runs/o47xto28</a><br/>Synced 5 W&B file(s), 0 media file(s), 0 artifact file(s) and 0 other file(s)"
      ],
      "text/plain": [
       "<IPython.core.display.HTML object>"
      ]
     },
     "metadata": {},
     "output_type": "display_data"
    },
    {
     "data": {
      "text/html": [
       "Find logs at: <code>.\\wandb\\run-20230326_175005-o47xto28\\logs</code>"
      ],
      "text/plain": [
       "<IPython.core.display.HTML object>"
      ]
     },
     "metadata": {},
     "output_type": "display_data"
    },
    {
     "data": {
      "text/html": [
       "Successfully finished last run (ID:o47xto28). Initializing new run:<br/>"
      ],
      "text/plain": [
       "<IPython.core.display.HTML object>"
      ]
     },
     "metadata": {},
     "output_type": "display_data"
    },
    {
     "data": {
      "text/html": [
       "Tracking run with wandb version 0.14.0"
      ],
      "text/plain": [
       "<IPython.core.display.HTML object>"
      ]
     },
     "metadata": {},
     "output_type": "display_data"
    },
    {
     "data": {
      "text/html": [
       "Run data is saved locally in <code>C:\\Users\\JhonG\\Documents\\nw-challenge\\nw-challenge\\model\\wandb\\run-20230326_175227-yvs043kr</code>"
      ],
      "text/plain": [
       "<IPython.core.display.HTML object>"
      ]
     },
     "metadata": {},
     "output_type": "display_data"
    },
    {
     "data": {
      "text/html": [
       "Syncing run <strong><a href='https://wandb.ai/ignacio-onate/Unsampling-fi/runs/yvs043kr' target=\"_blank\">light-lake-2</a></strong> to <a href='https://wandb.ai/ignacio-onate/Unsampling-fi' target=\"_blank\">Weights & Biases</a> (<a href='https://wandb.me/run' target=\"_blank\">docs</a>)<br/>"
      ],
      "text/plain": [
       "<IPython.core.display.HTML object>"
      ]
     },
     "metadata": {},
     "output_type": "display_data"
    },
    {
     "data": {
      "text/html": [
       " View project at <a href='https://wandb.ai/ignacio-onate/Unsampling-fi' target=\"_blank\">https://wandb.ai/ignacio-onate/Unsampling-fi</a>"
      ],
      "text/plain": [
       "<IPython.core.display.HTML object>"
      ]
     },
     "metadata": {},
     "output_type": "display_data"
    },
    {
     "data": {
      "text/html": [
       " View run at <a href='https://wandb.ai/ignacio-onate/Unsampling-fi/runs/yvs043kr' target=\"_blank\">https://wandb.ai/ignacio-onate/Unsampling-fi/runs/yvs043kr</a>"
      ],
      "text/plain": [
       "<IPython.core.display.HTML object>"
      ]
     },
     "metadata": {},
     "output_type": "display_data"
    },
    {
     "name": "stdout",
     "output_type": "stream",
     "text": [
      "SVM accuracy:  0.5522381639619454\n",
      "SVM f1:  0.3597763419482513\n",
      "SVM precision:  0.24487483069157281\n",
      "SVM recall:  0.6805146812685703\n",
      "SVM roc_auc: 0.607959027156658\n",
      "Modelo:  SVM\n",
      "XGB accuracy:  0.5373867756682418\n",
      "XGB f1:  0.3610332485999721\n",
      "XGB precision:  0.24245412810141959\n",
      "XGB recall:  0.7066744868698851\n",
      "XGB roc_auc: 0.6386347923725102\n",
      "Modelo:  XGB\n",
      "RF accuracy:  0.5567539619239716\n",
      "RF f1:  0.35821883630553936\n",
      "RF precision:  0.24488018854420557\n",
      "RF recall:  0.6690189511058138\n",
      "RF roc_auc: 0.6415320812637301\n",
      "Modelo:  RF\n",
      "LR accuracy:  0.5369909586260391\n",
      "LR f1:  0.3582661431902333\n",
      "LR precision:  0.24088115942061558\n",
      "LR recall:  0.6989043857572977\n",
      "LR roc_auc: 0.6349135728706592\n",
      "Modelo:  LR\n"
     ]
    }
   ],
   "source": [
    "from imblearn.under_sampling import RandomUnderSampler\n",
    "from collections import Counter\n",
    "under_sampler = RandomUnderSampler(random_state=42)\n",
    "\n",
    "X = features_importantes\n",
    "y = labels_\n",
    "\n",
    "\n",
    "\n",
    "wandb.init(project=\"Unsampling-fi\")\n",
    "for name, model in models.items():\n",
    "    # define pipeline\n",
    "    under = RandomUnderSampler(random_state=42)\n",
    "    steps = [('under', under), ('model', model)]\n",
    "    pipeline = Pipeline(steps=steps)\n",
    "    # evaluate pipeline\n",
    "    scores = cross_validate(pipeline, X, y, scoring=['accuracy','f1','precision','recall','roc_auc'], cv=5, n_jobs=-1)\n",
    "    #score = mean(scores)\n",
    "            \n",
    "    wandb.log({\n",
    "        'accuracy_'+name: mean(scores['test_accuracy']),\n",
    "        'f1_'+name : mean(scores['test_f1']),\n",
    "        'precision_'+name : mean(scores['test_precision']),\n",
    "        'recall_'+name : mean(scores['test_recall']),\n",
    "        'roc_auc_'+name : mean(scores['test_roc_auc'])\n",
    "    })\n",
    "    print(name +' accuracy: ', mean(scores['test_accuracy']))\n",
    "    print(name +' f1: ', mean(scores['test_f1']))\n",
    "    print(name + ' precision: ', mean(scores['test_precision']))\n",
    "    print(name + ' recall: ', mean(scores['test_recall']))\n",
    "    print(name+ ' roc_auc:', mean(scores['test_roc_auc']))\n",
    "    print(\"Modelo: \", name)\n",
    "    #print(scores)\n"
   ]
  },
  {
   "cell_type": "markdown",
   "id": "5cb46b91",
   "metadata": {},
   "source": [
    "# AJUSTE DE HIPERPARAMETROS\n",
    "Tras los experimentos podemos concluir que el proceso que mejor balancea los datos el undersampling, quizas el accuracy no es el mas alto en los modelos, pero sus otras metricas son las mas altas.\n",
    "\n",
    "En el caso de RandomForest con todas las features, logra un mejor desempeño que los otros modelos segun la metrica Recall. Que es interesante para medir que tanto se equivoca al predecir como atraso. Por lo que tambien es interesante probar sus hiperparametros.\n",
    "\n"
   ]
  },
  {
   "cell_type": "markdown",
   "id": "3ff2ffcb",
   "metadata": {},
   "source": [
    "# Random Forest"
   ]
  },
  {
   "cell_type": "code",
   "execution_count": 11,
   "id": "3e8e3430",
   "metadata": {},
   "outputs": [
    {
     "name": "stdout",
     "output_type": "stream",
     "text": [
      "Create sweep with ID: wc95eubb\n",
      "Sweep URL: https://wandb.ai/ignacio-onate/cw-challenge-model-RF-ht/sweeps/wc95eubb\n"
     ]
    }
   ],
   "source": [
    "#Para esto debemos crear los diccionarios de hiperparametros.\n",
    "sweep_configuration3 = {\n",
    "    'method': 'bayes', #Usando Bayes como metodo de busqueda de parametros\n",
    "    'name': 'sweep',\n",
    "    'metric': {'goal': 'maximize', 'name': 'precision'},\n",
    "    'parameters': \n",
    "    {\n",
    "        'bootstrap': {'values':[True, False]},\n",
    "        'max_depth': {'values' :[10, 20, 30, 40, 50, 60, 70, 80, 90, 100, None]},\n",
    "        'max_features': {'values':['auto', 'sqrt']},\n",
    "        'min_samples_leaf': {'values': [1, 2, 4]},\n",
    "        'min_samples_split': {'values': [2, 5, 10]},\n",
    "        'n_estimators': {'values' : [200, 400, 600, 800, 1000, 1200, 1400, 1600, 1800, 2000]}\n",
    "     }\n",
    "}\n",
    "sweep_id3 = wandb.sweep(sweep=sweep_configuration3, project='cw-challenge-model-RF-ht')"
   ]
  },
  {
   "cell_type": "code",
   "execution_count": 12,
   "id": "0b8e8f3a",
   "metadata": {},
   "outputs": [
    {
     "name": "stderr",
     "output_type": "stream",
     "text": [
      "\u001b[34m\u001b[1mwandb\u001b[0m: Agent Starting Run: ofn7vf0y with config:\n",
      "\u001b[34m\u001b[1mwandb\u001b[0m: \tbootstrap: False\n",
      "\u001b[34m\u001b[1mwandb\u001b[0m: \tmax_depth: 10\n",
      "\u001b[34m\u001b[1mwandb\u001b[0m: \tmax_features: sqrt\n",
      "\u001b[34m\u001b[1mwandb\u001b[0m: \tmin_samples_leaf: 1\n",
      "\u001b[34m\u001b[1mwandb\u001b[0m: \tmin_samples_split: 5\n",
      "\u001b[34m\u001b[1mwandb\u001b[0m: \tn_estimators: 200\n"
     ]
    },
    {
     "data": {
      "text/html": [
       "Tracking run with wandb version 0.14.0"
      ],
      "text/plain": [
       "<IPython.core.display.HTML object>"
      ]
     },
     "metadata": {},
     "output_type": "display_data"
    },
    {
     "data": {
      "text/html": [
       "Run data is saved locally in <code>C:\\Users\\JhonG\\Documents\\nw-challenge\\nw-challenge\\model\\wandb\\run-20230326_175617-ofn7vf0y</code>"
      ],
      "text/plain": [
       "<IPython.core.display.HTML object>"
      ]
     },
     "metadata": {},
     "output_type": "display_data"
    },
    {
     "data": {
      "text/html": [
       "Syncing run <strong><a href='https://wandb.ai/ignacio-onate/cw-challenge-model-RF-ht/runs/ofn7vf0y' target=\"_blank\">sweepy-sweep-1</a></strong> to <a href='https://wandb.ai/ignacio-onate/cw-challenge-model-RF-ht' target=\"_blank\">Weights & Biases</a> (<a href='https://wandb.me/run' target=\"_blank\">docs</a>)<br/>Sweep page: <a href='https://wandb.ai/ignacio-onate/cw-challenge-model-RF-ht/sweeps/wc95eubb' target=\"_blank\">https://wandb.ai/ignacio-onate/cw-challenge-model-RF-ht/sweeps/wc95eubb</a>"
      ],
      "text/plain": [
       "<IPython.core.display.HTML object>"
      ]
     },
     "metadata": {},
     "output_type": "display_data"
    },
    {
     "data": {
      "text/html": [
       " View project at <a href='https://wandb.ai/ignacio-onate/cw-challenge-model-RF-ht' target=\"_blank\">https://wandb.ai/ignacio-onate/cw-challenge-model-RF-ht</a>"
      ],
      "text/plain": [
       "<IPython.core.display.HTML object>"
      ]
     },
     "metadata": {},
     "output_type": "display_data"
    },
    {
     "data": {
      "text/html": [
       " View sweep at <a href='https://wandb.ai/ignacio-onate/cw-challenge-model-RF-ht/sweeps/wc95eubb' target=\"_blank\">https://wandb.ai/ignacio-onate/cw-challenge-model-RF-ht/sweeps/wc95eubb</a>"
      ],
      "text/plain": [
       "<IPython.core.display.HTML object>"
      ]
     },
     "metadata": {},
     "output_type": "display_data"
    },
    {
     "data": {
      "text/html": [
       " View run at <a href='https://wandb.ai/ignacio-onate/cw-challenge-model-RF-ht/runs/ofn7vf0y' target=\"_blank\">https://wandb.ai/ignacio-onate/cw-challenge-model-RF-ht/runs/ofn7vf0y</a>"
      ],
      "text/plain": [
       "<IPython.core.display.HTML object>"
      ]
     },
     "metadata": {},
     "output_type": "display_data"
    },
    {
     "name": "stdout",
     "output_type": "stream",
     "text": [
      "Modelo:  RF\n"
     ]
    },
    {
     "data": {
      "text/html": [
       "Waiting for W&B process to finish... <strong style=\"color:green\">(success).</strong>"
      ],
      "text/plain": [
       "<IPython.core.display.HTML object>"
      ]
     },
     "metadata": {},
     "output_type": "display_data"
    },
    {
     "data": {
      "text/html": [
       "<style>\n",
       "    table.wandb td:nth-child(1) { padding: 0 10px; text-align: left ; width: auto;} td:nth-child(2) {text-align: left ; width: 100%}\n",
       "    .wandb-row { display: flex; flex-direction: row; flex-wrap: wrap; justify-content: flex-start; width: 100% }\n",
       "    .wandb-col { display: flex; flex-direction: column; flex-basis: 100%; flex: 1; padding: 10px; }\n",
       "    </style>\n",
       "<div class=\"wandb-row\"><div class=\"wandb-col\"><h3>Run history:</h3><br/><table class=\"wandb\"><tr><td>accuracy_RF</td><td>▁</td></tr><tr><td>f1_RF</td><td>▁</td></tr><tr><td>precision_RF</td><td>▁</td></tr><tr><td>recall_RF</td><td>▁</td></tr><tr><td>roc_auc_RF</td><td>▁</td></tr></table><br/></div><div class=\"wandb-col\"><h3>Run summary:</h3><br/><table class=\"wandb\"><tr><td>accuracy_RF</td><td>0.7838</td></tr><tr><td>f1_RF</td><td>0.31118</td></tr><tr><td>precision_RF</td><td>0.38021</td></tr><tr><td>recall_RF</td><td>0.26455</td></tr><tr><td>roc_auc_RF</td><td>0.67654</td></tr></table><br/></div></div>"
      ],
      "text/plain": [
       "<IPython.core.display.HTML object>"
      ]
     },
     "metadata": {},
     "output_type": "display_data"
    },
    {
     "data": {
      "text/html": [
       " View run <strong style=\"color:#cdcd00\">sweepy-sweep-1</strong> at: <a href='https://wandb.ai/ignacio-onate/cw-challenge-model-RF-ht/runs/ofn7vf0y' target=\"_blank\">https://wandb.ai/ignacio-onate/cw-challenge-model-RF-ht/runs/ofn7vf0y</a><br/>Synced 5 W&B file(s), 0 media file(s), 0 artifact file(s) and 0 other file(s)"
      ],
      "text/plain": [
       "<IPython.core.display.HTML object>"
      ]
     },
     "metadata": {},
     "output_type": "display_data"
    },
    {
     "data": {
      "text/html": [
       "Find logs at: <code>.\\wandb\\run-20230326_175617-ofn7vf0y\\logs</code>"
      ],
      "text/plain": [
       "<IPython.core.display.HTML object>"
      ]
     },
     "metadata": {},
     "output_type": "display_data"
    },
    {
     "name": "stderr",
     "output_type": "stream",
     "text": [
      "\u001b[34m\u001b[1mwandb\u001b[0m: Agent Starting Run: br4qf822 with config:\n",
      "\u001b[34m\u001b[1mwandb\u001b[0m: \tbootstrap: True\n",
      "\u001b[34m\u001b[1mwandb\u001b[0m: \tmax_depth: 50\n",
      "\u001b[34m\u001b[1mwandb\u001b[0m: \tmax_features: sqrt\n",
      "\u001b[34m\u001b[1mwandb\u001b[0m: \tmin_samples_leaf: 1\n",
      "\u001b[34m\u001b[1mwandb\u001b[0m: \tmin_samples_split: 10\n",
      "\u001b[34m\u001b[1mwandb\u001b[0m: \tn_estimators: 800\n"
     ]
    },
    {
     "data": {
      "text/html": [
       "Tracking run with wandb version 0.14.0"
      ],
      "text/plain": [
       "<IPython.core.display.HTML object>"
      ]
     },
     "metadata": {},
     "output_type": "display_data"
    },
    {
     "data": {
      "text/html": [
       "Run data is saved locally in <code>C:\\Users\\JhonG\\Documents\\nw-challenge\\nw-challenge\\model\\wandb\\run-20230326_175631-br4qf822</code>"
      ],
      "text/plain": [
       "<IPython.core.display.HTML object>"
      ]
     },
     "metadata": {},
     "output_type": "display_data"
    },
    {
     "data": {
      "text/html": [
       "Syncing run <strong><a href='https://wandb.ai/ignacio-onate/cw-challenge-model-RF-ht/runs/br4qf822' target=\"_blank\">sweet-sweep-2</a></strong> to <a href='https://wandb.ai/ignacio-onate/cw-challenge-model-RF-ht' target=\"_blank\">Weights & Biases</a> (<a href='https://wandb.me/run' target=\"_blank\">docs</a>)<br/>Sweep page: <a href='https://wandb.ai/ignacio-onate/cw-challenge-model-RF-ht/sweeps/wc95eubb' target=\"_blank\">https://wandb.ai/ignacio-onate/cw-challenge-model-RF-ht/sweeps/wc95eubb</a>"
      ],
      "text/plain": [
       "<IPython.core.display.HTML object>"
      ]
     },
     "metadata": {},
     "output_type": "display_data"
    },
    {
     "data": {
      "text/html": [
       " View project at <a href='https://wandb.ai/ignacio-onate/cw-challenge-model-RF-ht' target=\"_blank\">https://wandb.ai/ignacio-onate/cw-challenge-model-RF-ht</a>"
      ],
      "text/plain": [
       "<IPython.core.display.HTML object>"
      ]
     },
     "metadata": {},
     "output_type": "display_data"
    },
    {
     "data": {
      "text/html": [
       " View sweep at <a href='https://wandb.ai/ignacio-onate/cw-challenge-model-RF-ht/sweeps/wc95eubb' target=\"_blank\">https://wandb.ai/ignacio-onate/cw-challenge-model-RF-ht/sweeps/wc95eubb</a>"
      ],
      "text/plain": [
       "<IPython.core.display.HTML object>"
      ]
     },
     "metadata": {},
     "output_type": "display_data"
    },
    {
     "data": {
      "text/html": [
       " View run at <a href='https://wandb.ai/ignacio-onate/cw-challenge-model-RF-ht/runs/br4qf822' target=\"_blank\">https://wandb.ai/ignacio-onate/cw-challenge-model-RF-ht/runs/br4qf822</a>"
      ],
      "text/plain": [
       "<IPython.core.display.HTML object>"
      ]
     },
     "metadata": {},
     "output_type": "display_data"
    },
    {
     "name": "stdout",
     "output_type": "stream",
     "text": [
      "Modelo:  RF\n"
     ]
    },
    {
     "data": {
      "text/html": [
       "Waiting for W&B process to finish... <strong style=\"color:green\">(success).</strong>"
      ],
      "text/plain": [
       "<IPython.core.display.HTML object>"
      ]
     },
     "metadata": {},
     "output_type": "display_data"
    },
    {
     "data": {
      "text/html": [
       "<style>\n",
       "    table.wandb td:nth-child(1) { padding: 0 10px; text-align: left ; width: auto;} td:nth-child(2) {text-align: left ; width: 100%}\n",
       "    .wandb-row { display: flex; flex-direction: row; flex-wrap: wrap; justify-content: flex-start; width: 100% }\n",
       "    .wandb-col { display: flex; flex-direction: column; flex-basis: 100%; flex: 1; padding: 10px; }\n",
       "    </style>\n",
       "<div class=\"wandb-row\"><div class=\"wandb-col\"><h3>Run history:</h3><br/><table class=\"wandb\"><tr><td>accuracy_RF</td><td>▁</td></tr><tr><td>f1_RF</td><td>▁</td></tr><tr><td>precision_RF</td><td>▁</td></tr><tr><td>recall_RF</td><td>▁</td></tr><tr><td>roc_auc_RF</td><td>▁</td></tr></table><br/></div><div class=\"wandb-col\"><h3>Run summary:</h3><br/><table class=\"wandb\"><tr><td>accuracy_RF</td><td>0.72976</td></tr><tr><td>f1_RF</td><td>0.37101</td></tr><tr><td>precision_RF</td><td>0.32601</td></tr><tr><td>recall_RF</td><td>0.4315</td></tr><tr><td>roc_auc_RF</td><td>0.68172</td></tr></table><br/></div></div>"
      ],
      "text/plain": [
       "<IPython.core.display.HTML object>"
      ]
     },
     "metadata": {},
     "output_type": "display_data"
    },
    {
     "data": {
      "text/html": [
       " View run <strong style=\"color:#cdcd00\">sweet-sweep-2</strong> at: <a href='https://wandb.ai/ignacio-onate/cw-challenge-model-RF-ht/runs/br4qf822' target=\"_blank\">https://wandb.ai/ignacio-onate/cw-challenge-model-RF-ht/runs/br4qf822</a><br/>Synced 5 W&B file(s), 0 media file(s), 0 artifact file(s) and 0 other file(s)"
      ],
      "text/plain": [
       "<IPython.core.display.HTML object>"
      ]
     },
     "metadata": {},
     "output_type": "display_data"
    },
    {
     "data": {
      "text/html": [
       "Find logs at: <code>.\\wandb\\run-20230326_175631-br4qf822\\logs</code>"
      ],
      "text/plain": [
       "<IPython.core.display.HTML object>"
      ]
     },
     "metadata": {},
     "output_type": "display_data"
    },
    {
     "name": "stderr",
     "output_type": "stream",
     "text": [
      "\u001b[34m\u001b[1mwandb\u001b[0m: Agent Starting Run: xo2pfb3e with config:\n",
      "\u001b[34m\u001b[1mwandb\u001b[0m: \tbootstrap: False\n",
      "\u001b[34m\u001b[1mwandb\u001b[0m: \tmax_depth: None\n",
      "\u001b[34m\u001b[1mwandb\u001b[0m: \tmax_features: auto\n",
      "\u001b[34m\u001b[1mwandb\u001b[0m: \tmin_samples_leaf: 2\n",
      "\u001b[34m\u001b[1mwandb\u001b[0m: \tmin_samples_split: 10\n",
      "\u001b[34m\u001b[1mwandb\u001b[0m: \tn_estimators: 800\n"
     ]
    },
    {
     "data": {
      "text/html": [
       "Tracking run with wandb version 0.14.0"
      ],
      "text/plain": [
       "<IPython.core.display.HTML object>"
      ]
     },
     "metadata": {},
     "output_type": "display_data"
    },
    {
     "data": {
      "text/html": [
       "Run data is saved locally in <code>C:\\Users\\JhonG\\Documents\\nw-challenge\\nw-challenge\\model\\wandb\\run-20230326_175646-xo2pfb3e</code>"
      ],
      "text/plain": [
       "<IPython.core.display.HTML object>"
      ]
     },
     "metadata": {},
     "output_type": "display_data"
    },
    {
     "data": {
      "text/html": [
       "Syncing run <strong><a href='https://wandb.ai/ignacio-onate/cw-challenge-model-RF-ht/runs/xo2pfb3e' target=\"_blank\">bright-sweep-3</a></strong> to <a href='https://wandb.ai/ignacio-onate/cw-challenge-model-RF-ht' target=\"_blank\">Weights & Biases</a> (<a href='https://wandb.me/run' target=\"_blank\">docs</a>)<br/>Sweep page: <a href='https://wandb.ai/ignacio-onate/cw-challenge-model-RF-ht/sweeps/wc95eubb' target=\"_blank\">https://wandb.ai/ignacio-onate/cw-challenge-model-RF-ht/sweeps/wc95eubb</a>"
      ],
      "text/plain": [
       "<IPython.core.display.HTML object>"
      ]
     },
     "metadata": {},
     "output_type": "display_data"
    },
    {
     "data": {
      "text/html": [
       " View project at <a href='https://wandb.ai/ignacio-onate/cw-challenge-model-RF-ht' target=\"_blank\">https://wandb.ai/ignacio-onate/cw-challenge-model-RF-ht</a>"
      ],
      "text/plain": [
       "<IPython.core.display.HTML object>"
      ]
     },
     "metadata": {},
     "output_type": "display_data"
    },
    {
     "data": {
      "text/html": [
       " View sweep at <a href='https://wandb.ai/ignacio-onate/cw-challenge-model-RF-ht/sweeps/wc95eubb' target=\"_blank\">https://wandb.ai/ignacio-onate/cw-challenge-model-RF-ht/sweeps/wc95eubb</a>"
      ],
      "text/plain": [
       "<IPython.core.display.HTML object>"
      ]
     },
     "metadata": {},
     "output_type": "display_data"
    },
    {
     "data": {
      "text/html": [
       " View run at <a href='https://wandb.ai/ignacio-onate/cw-challenge-model-RF-ht/runs/xo2pfb3e' target=\"_blank\">https://wandb.ai/ignacio-onate/cw-challenge-model-RF-ht/runs/xo2pfb3e</a>"
      ],
      "text/plain": [
       "<IPython.core.display.HTML object>"
      ]
     },
     "metadata": {},
     "output_type": "display_data"
    },
    {
     "name": "stdout",
     "output_type": "stream",
     "text": [
      "Modelo:  RF\n"
     ]
    },
    {
     "data": {
      "text/html": [
       "Waiting for W&B process to finish... <strong style=\"color:green\">(success).</strong>"
      ],
      "text/plain": [
       "<IPython.core.display.HTML object>"
      ]
     },
     "metadata": {},
     "output_type": "display_data"
    },
    {
     "data": {
      "text/html": [
       "<style>\n",
       "    table.wandb td:nth-child(1) { padding: 0 10px; text-align: left ; width: auto;} td:nth-child(2) {text-align: left ; width: 100%}\n",
       "    .wandb-row { display: flex; flex-direction: row; flex-wrap: wrap; justify-content: flex-start; width: 100% }\n",
       "    .wandb-col { display: flex; flex-direction: column; flex-basis: 100%; flex: 1; padding: 10px; }\n",
       "    </style>\n",
       "<div class=\"wandb-row\"><div class=\"wandb-col\"><h3>Run history:</h3><br/><table class=\"wandb\"><tr><td>accuracy_RF</td><td>▁</td></tr><tr><td>f1_RF</td><td>▁</td></tr><tr><td>precision_RF</td><td>▁</td></tr><tr><td>recall_RF</td><td>▁</td></tr><tr><td>roc_auc_RF</td><td>▁</td></tr></table><br/></div><div class=\"wandb-col\"><h3>Run summary:</h3><br/><table class=\"wandb\"><tr><td>accuracy_RF</td><td>0.73013</td></tr><tr><td>f1_RF</td><td>0.37109</td></tr><tr><td>precision_RF</td><td>0.32636</td></tr><tr><td>recall_RF</td><td>0.43087</td></tr><tr><td>roc_auc_RF</td><td>0.68134</td></tr></table><br/></div></div>"
      ],
      "text/plain": [
       "<IPython.core.display.HTML object>"
      ]
     },
     "metadata": {},
     "output_type": "display_data"
    },
    {
     "data": {
      "text/html": [
       " View run <strong style=\"color:#cdcd00\">bright-sweep-3</strong> at: <a href='https://wandb.ai/ignacio-onate/cw-challenge-model-RF-ht/runs/xo2pfb3e' target=\"_blank\">https://wandb.ai/ignacio-onate/cw-challenge-model-RF-ht/runs/xo2pfb3e</a><br/>Synced 5 W&B file(s), 0 media file(s), 0 artifact file(s) and 0 other file(s)"
      ],
      "text/plain": [
       "<IPython.core.display.HTML object>"
      ]
     },
     "metadata": {},
     "output_type": "display_data"
    },
    {
     "data": {
      "text/html": [
       "Find logs at: <code>.\\wandb\\run-20230326_175646-xo2pfb3e\\logs</code>"
      ],
      "text/plain": [
       "<IPython.core.display.HTML object>"
      ]
     },
     "metadata": {},
     "output_type": "display_data"
    },
    {
     "name": "stderr",
     "output_type": "stream",
     "text": [
      "\u001b[34m\u001b[1mwandb\u001b[0m: Agent Starting Run: tqsons77 with config:\n",
      "\u001b[34m\u001b[1mwandb\u001b[0m: \tbootstrap: False\n",
      "\u001b[34m\u001b[1mwandb\u001b[0m: \tmax_depth: 90\n",
      "\u001b[34m\u001b[1mwandb\u001b[0m: \tmax_features: auto\n",
      "\u001b[34m\u001b[1mwandb\u001b[0m: \tmin_samples_leaf: 4\n",
      "\u001b[34m\u001b[1mwandb\u001b[0m: \tmin_samples_split: 2\n",
      "\u001b[34m\u001b[1mwandb\u001b[0m: \tn_estimators: 400\n"
     ]
    },
    {
     "data": {
      "text/html": [
       "Tracking run with wandb version 0.14.0"
      ],
      "text/plain": [
       "<IPython.core.display.HTML object>"
      ]
     },
     "metadata": {},
     "output_type": "display_data"
    },
    {
     "data": {
      "text/html": [
       "Run data is saved locally in <code>C:\\Users\\JhonG\\Documents\\nw-challenge\\nw-challenge\\model\\wandb\\run-20230326_175702-tqsons77</code>"
      ],
      "text/plain": [
       "<IPython.core.display.HTML object>"
      ]
     },
     "metadata": {},
     "output_type": "display_data"
    },
    {
     "data": {
      "text/html": [
       "Syncing run <strong><a href='https://wandb.ai/ignacio-onate/cw-challenge-model-RF-ht/runs/tqsons77' target=\"_blank\">eager-sweep-4</a></strong> to <a href='https://wandb.ai/ignacio-onate/cw-challenge-model-RF-ht' target=\"_blank\">Weights & Biases</a> (<a href='https://wandb.me/run' target=\"_blank\">docs</a>)<br/>Sweep page: <a href='https://wandb.ai/ignacio-onate/cw-challenge-model-RF-ht/sweeps/wc95eubb' target=\"_blank\">https://wandb.ai/ignacio-onate/cw-challenge-model-RF-ht/sweeps/wc95eubb</a>"
      ],
      "text/plain": [
       "<IPython.core.display.HTML object>"
      ]
     },
     "metadata": {},
     "output_type": "display_data"
    },
    {
     "data": {
      "text/html": [
       " View project at <a href='https://wandb.ai/ignacio-onate/cw-challenge-model-RF-ht' target=\"_blank\">https://wandb.ai/ignacio-onate/cw-challenge-model-RF-ht</a>"
      ],
      "text/plain": [
       "<IPython.core.display.HTML object>"
      ]
     },
     "metadata": {},
     "output_type": "display_data"
    },
    {
     "data": {
      "text/html": [
       " View sweep at <a href='https://wandb.ai/ignacio-onate/cw-challenge-model-RF-ht/sweeps/wc95eubb' target=\"_blank\">https://wandb.ai/ignacio-onate/cw-challenge-model-RF-ht/sweeps/wc95eubb</a>"
      ],
      "text/plain": [
       "<IPython.core.display.HTML object>"
      ]
     },
     "metadata": {},
     "output_type": "display_data"
    },
    {
     "data": {
      "text/html": [
       " View run at <a href='https://wandb.ai/ignacio-onate/cw-challenge-model-RF-ht/runs/tqsons77' target=\"_blank\">https://wandb.ai/ignacio-onate/cw-challenge-model-RF-ht/runs/tqsons77</a>"
      ],
      "text/plain": [
       "<IPython.core.display.HTML object>"
      ]
     },
     "metadata": {},
     "output_type": "display_data"
    },
    {
     "name": "stdout",
     "output_type": "stream",
     "text": [
      "Modelo:  RF\n"
     ]
    },
    {
     "data": {
      "text/html": [
       "Waiting for W&B process to finish... <strong style=\"color:green\">(success).</strong>"
      ],
      "text/plain": [
       "<IPython.core.display.HTML object>"
      ]
     },
     "metadata": {},
     "output_type": "display_data"
    },
    {
     "data": {
      "text/html": [
       "<style>\n",
       "    table.wandb td:nth-child(1) { padding: 0 10px; text-align: left ; width: auto;} td:nth-child(2) {text-align: left ; width: 100%}\n",
       "    .wandb-row { display: flex; flex-direction: row; flex-wrap: wrap; justify-content: flex-start; width: 100% }\n",
       "    .wandb-col { display: flex; flex-direction: column; flex-basis: 100%; flex: 1; padding: 10px; }\n",
       "    </style>\n",
       "<div class=\"wandb-row\"><div class=\"wandb-col\"><h3>Run history:</h3><br/><table class=\"wandb\"><tr><td>accuracy_RF</td><td>▁</td></tr><tr><td>f1_RF</td><td>▁</td></tr><tr><td>precision_RF</td><td>▁</td></tr><tr><td>recall_RF</td><td>▁</td></tr><tr><td>roc_auc_RF</td><td>▁</td></tr></table><br/></div><div class=\"wandb-col\"><h3>Run summary:</h3><br/><table class=\"wandb\"><tr><td>accuracy_RF</td><td>0.73341</td></tr><tr><td>f1_RF</td><td>0.36826</td></tr><tr><td>precision_RF</td><td>0.32785</td></tr><tr><td>recall_RF</td><td>0.42033</td></tr><tr><td>roc_auc_RF</td><td>0.68141</td></tr></table><br/></div></div>"
      ],
      "text/plain": [
       "<IPython.core.display.HTML object>"
      ]
     },
     "metadata": {},
     "output_type": "display_data"
    },
    {
     "data": {
      "text/html": [
       " View run <strong style=\"color:#cdcd00\">eager-sweep-4</strong> at: <a href='https://wandb.ai/ignacio-onate/cw-challenge-model-RF-ht/runs/tqsons77' target=\"_blank\">https://wandb.ai/ignacio-onate/cw-challenge-model-RF-ht/runs/tqsons77</a><br/>Synced 5 W&B file(s), 0 media file(s), 0 artifact file(s) and 0 other file(s)"
      ],
      "text/plain": [
       "<IPython.core.display.HTML object>"
      ]
     },
     "metadata": {},
     "output_type": "display_data"
    },
    {
     "data": {
      "text/html": [
       "Find logs at: <code>.\\wandb\\run-20230326_175702-tqsons77\\logs</code>"
      ],
      "text/plain": [
       "<IPython.core.display.HTML object>"
      ]
     },
     "metadata": {},
     "output_type": "display_data"
    },
    {
     "name": "stderr",
     "output_type": "stream",
     "text": [
      "\u001b[34m\u001b[1mwandb\u001b[0m: Agent Starting Run: 5wk21nz8 with config:\n",
      "\u001b[34m\u001b[1mwandb\u001b[0m: \tbootstrap: False\n",
      "\u001b[34m\u001b[1mwandb\u001b[0m: \tmax_depth: 100\n",
      "\u001b[34m\u001b[1mwandb\u001b[0m: \tmax_features: sqrt\n",
      "\u001b[34m\u001b[1mwandb\u001b[0m: \tmin_samples_leaf: 2\n",
      "\u001b[34m\u001b[1mwandb\u001b[0m: \tmin_samples_split: 10\n",
      "\u001b[34m\u001b[1mwandb\u001b[0m: \tn_estimators: 1600\n"
     ]
    },
    {
     "data": {
      "text/html": [
       "Tracking run with wandb version 0.14.0"
      ],
      "text/plain": [
       "<IPython.core.display.HTML object>"
      ]
     },
     "metadata": {},
     "output_type": "display_data"
    },
    {
     "data": {
      "text/html": [
       "Run data is saved locally in <code>C:\\Users\\JhonG\\Documents\\nw-challenge\\nw-challenge\\model\\wandb\\run-20230326_175718-5wk21nz8</code>"
      ],
      "text/plain": [
       "<IPython.core.display.HTML object>"
      ]
     },
     "metadata": {},
     "output_type": "display_data"
    },
    {
     "data": {
      "text/html": [
       "Syncing run <strong><a href='https://wandb.ai/ignacio-onate/cw-challenge-model-RF-ht/runs/5wk21nz8' target=\"_blank\">helpful-sweep-5</a></strong> to <a href='https://wandb.ai/ignacio-onate/cw-challenge-model-RF-ht' target=\"_blank\">Weights & Biases</a> (<a href='https://wandb.me/run' target=\"_blank\">docs</a>)<br/>Sweep page: <a href='https://wandb.ai/ignacio-onate/cw-challenge-model-RF-ht/sweeps/wc95eubb' target=\"_blank\">https://wandb.ai/ignacio-onate/cw-challenge-model-RF-ht/sweeps/wc95eubb</a>"
      ],
      "text/plain": [
       "<IPython.core.display.HTML object>"
      ]
     },
     "metadata": {},
     "output_type": "display_data"
    },
    {
     "data": {
      "text/html": [
       " View project at <a href='https://wandb.ai/ignacio-onate/cw-challenge-model-RF-ht' target=\"_blank\">https://wandb.ai/ignacio-onate/cw-challenge-model-RF-ht</a>"
      ],
      "text/plain": [
       "<IPython.core.display.HTML object>"
      ]
     },
     "metadata": {},
     "output_type": "display_data"
    },
    {
     "data": {
      "text/html": [
       " View sweep at <a href='https://wandb.ai/ignacio-onate/cw-challenge-model-RF-ht/sweeps/wc95eubb' target=\"_blank\">https://wandb.ai/ignacio-onate/cw-challenge-model-RF-ht/sweeps/wc95eubb</a>"
      ],
      "text/plain": [
       "<IPython.core.display.HTML object>"
      ]
     },
     "metadata": {},
     "output_type": "display_data"
    },
    {
     "data": {
      "text/html": [
       " View run at <a href='https://wandb.ai/ignacio-onate/cw-challenge-model-RF-ht/runs/5wk21nz8' target=\"_blank\">https://wandb.ai/ignacio-onate/cw-challenge-model-RF-ht/runs/5wk21nz8</a>"
      ],
      "text/plain": [
       "<IPython.core.display.HTML object>"
      ]
     },
     "metadata": {},
     "output_type": "display_data"
    },
    {
     "name": "stdout",
     "output_type": "stream",
     "text": [
      "Modelo:  RF\n"
     ]
    },
    {
     "data": {
      "text/html": [
       "Waiting for W&B process to finish... <strong style=\"color:green\">(success).</strong>"
      ],
      "text/plain": [
       "<IPython.core.display.HTML object>"
      ]
     },
     "metadata": {},
     "output_type": "display_data"
    },
    {
     "data": {
      "text/html": [
       "<style>\n",
       "    table.wandb td:nth-child(1) { padding: 0 10px; text-align: left ; width: auto;} td:nth-child(2) {text-align: left ; width: 100%}\n",
       "    .wandb-row { display: flex; flex-direction: row; flex-wrap: wrap; justify-content: flex-start; width: 100% }\n",
       "    .wandb-col { display: flex; flex-direction: column; flex-basis: 100%; flex: 1; padding: 10px; }\n",
       "    </style>\n",
       "<div class=\"wandb-row\"><div class=\"wandb-col\"><h3>Run history:</h3><br/><table class=\"wandb\"><tr><td>accuracy_RF</td><td>▁</td></tr><tr><td>f1_RF</td><td>▁</td></tr><tr><td>precision_RF</td><td>▁</td></tr><tr><td>recall_RF</td><td>▁</td></tr><tr><td>roc_auc_RF</td><td>▁</td></tr></table><br/></div><div class=\"wandb-col\"><h3>Run summary:</h3><br/><table class=\"wandb\"><tr><td>accuracy_RF</td><td>0.7348</td></tr><tr><td>f1_RF</td><td>0.36792</td></tr><tr><td>precision_RF</td><td>0.32923</td></tr><tr><td>recall_RF</td><td>0.41755</td></tr><tr><td>roc_auc_RF</td><td>0.68134</td></tr></table><br/></div></div>"
      ],
      "text/plain": [
       "<IPython.core.display.HTML object>"
      ]
     },
     "metadata": {},
     "output_type": "display_data"
    },
    {
     "data": {
      "text/html": [
       " View run <strong style=\"color:#cdcd00\">helpful-sweep-5</strong> at: <a href='https://wandb.ai/ignacio-onate/cw-challenge-model-RF-ht/runs/5wk21nz8' target=\"_blank\">https://wandb.ai/ignacio-onate/cw-challenge-model-RF-ht/runs/5wk21nz8</a><br/>Synced 5 W&B file(s), 0 media file(s), 0 artifact file(s) and 0 other file(s)"
      ],
      "text/plain": [
       "<IPython.core.display.HTML object>"
      ]
     },
     "metadata": {},
     "output_type": "display_data"
    },
    {
     "data": {
      "text/html": [
       "Find logs at: <code>.\\wandb\\run-20230326_175718-5wk21nz8\\logs</code>"
      ],
      "text/plain": [
       "<IPython.core.display.HTML object>"
      ]
     },
     "metadata": {},
     "output_type": "display_data"
    },
    {
     "name": "stderr",
     "output_type": "stream",
     "text": [
      "\u001b[34m\u001b[1mwandb\u001b[0m: Agent Starting Run: 9yngcjf8 with config:\n",
      "\u001b[34m\u001b[1mwandb\u001b[0m: \tbootstrap: True\n",
      "\u001b[34m\u001b[1mwandb\u001b[0m: \tmax_depth: 90\n",
      "\u001b[34m\u001b[1mwandb\u001b[0m: \tmax_features: auto\n",
      "\u001b[34m\u001b[1mwandb\u001b[0m: \tmin_samples_leaf: 2\n",
      "\u001b[34m\u001b[1mwandb\u001b[0m: \tmin_samples_split: 10\n",
      "\u001b[34m\u001b[1mwandb\u001b[0m: \tn_estimators: 200\n"
     ]
    },
    {
     "data": {
      "text/html": [
       "Tracking run with wandb version 0.14.0"
      ],
      "text/plain": [
       "<IPython.core.display.HTML object>"
      ]
     },
     "metadata": {},
     "output_type": "display_data"
    },
    {
     "data": {
      "text/html": [
       "Run data is saved locally in <code>C:\\Users\\JhonG\\Documents\\nw-challenge\\nw-challenge\\model\\wandb\\run-20230326_175734-9yngcjf8</code>"
      ],
      "text/plain": [
       "<IPython.core.display.HTML object>"
      ]
     },
     "metadata": {},
     "output_type": "display_data"
    },
    {
     "data": {
      "text/html": [
       "Syncing run <strong><a href='https://wandb.ai/ignacio-onate/cw-challenge-model-RF-ht/runs/9yngcjf8' target=\"_blank\">ethereal-sweep-6</a></strong> to <a href='https://wandb.ai/ignacio-onate/cw-challenge-model-RF-ht' target=\"_blank\">Weights & Biases</a> (<a href='https://wandb.me/run' target=\"_blank\">docs</a>)<br/>Sweep page: <a href='https://wandb.ai/ignacio-onate/cw-challenge-model-RF-ht/sweeps/wc95eubb' target=\"_blank\">https://wandb.ai/ignacio-onate/cw-challenge-model-RF-ht/sweeps/wc95eubb</a>"
      ],
      "text/plain": [
       "<IPython.core.display.HTML object>"
      ]
     },
     "metadata": {},
     "output_type": "display_data"
    },
    {
     "data": {
      "text/html": [
       " View project at <a href='https://wandb.ai/ignacio-onate/cw-challenge-model-RF-ht' target=\"_blank\">https://wandb.ai/ignacio-onate/cw-challenge-model-RF-ht</a>"
      ],
      "text/plain": [
       "<IPython.core.display.HTML object>"
      ]
     },
     "metadata": {},
     "output_type": "display_data"
    },
    {
     "data": {
      "text/html": [
       " View sweep at <a href='https://wandb.ai/ignacio-onate/cw-challenge-model-RF-ht/sweeps/wc95eubb' target=\"_blank\">https://wandb.ai/ignacio-onate/cw-challenge-model-RF-ht/sweeps/wc95eubb</a>"
      ],
      "text/plain": [
       "<IPython.core.display.HTML object>"
      ]
     },
     "metadata": {},
     "output_type": "display_data"
    },
    {
     "data": {
      "text/html": [
       " View run at <a href='https://wandb.ai/ignacio-onate/cw-challenge-model-RF-ht/runs/9yngcjf8' target=\"_blank\">https://wandb.ai/ignacio-onate/cw-challenge-model-RF-ht/runs/9yngcjf8</a>"
      ],
      "text/plain": [
       "<IPython.core.display.HTML object>"
      ]
     },
     "metadata": {},
     "output_type": "display_data"
    },
    {
     "name": "stdout",
     "output_type": "stream",
     "text": [
      "Modelo:  RF\n"
     ]
    },
    {
     "data": {
      "text/html": [
       "Waiting for W&B process to finish... <strong style=\"color:green\">(success).</strong>"
      ],
      "text/plain": [
       "<IPython.core.display.HTML object>"
      ]
     },
     "metadata": {},
     "output_type": "display_data"
    },
    {
     "data": {
      "text/html": [
       "<style>\n",
       "    table.wandb td:nth-child(1) { padding: 0 10px; text-align: left ; width: auto;} td:nth-child(2) {text-align: left ; width: 100%}\n",
       "    .wandb-row { display: flex; flex-direction: row; flex-wrap: wrap; justify-content: flex-start; width: 100% }\n",
       "    .wandb-col { display: flex; flex-direction: column; flex-basis: 100%; flex: 1; padding: 10px; }\n",
       "    </style>\n",
       "<div class=\"wandb-row\"><div class=\"wandb-col\"><h3>Run history:</h3><br/><table class=\"wandb\"><tr><td>accuracy_RF</td><td>▁</td></tr><tr><td>f1_RF</td><td>▁</td></tr><tr><td>precision_RF</td><td>▁</td></tr><tr><td>recall_RF</td><td>▁</td></tr><tr><td>roc_auc_RF</td><td>▁</td></tr></table><br/></div><div class=\"wandb-col\"><h3>Run summary:</h3><br/><table class=\"wandb\"><tr><td>accuracy_RF</td><td>0.72867</td></tr><tr><td>f1_RF</td><td>0.36808</td></tr><tr><td>precision_RF</td><td>0.32332</td></tr><tr><td>recall_RF</td><td>0.4273</td></tr><tr><td>roc_auc_RF</td><td>0.68096</td></tr></table><br/></div></div>"
      ],
      "text/plain": [
       "<IPython.core.display.HTML object>"
      ]
     },
     "metadata": {},
     "output_type": "display_data"
    },
    {
     "data": {
      "text/html": [
       " View run <strong style=\"color:#cdcd00\">ethereal-sweep-6</strong> at: <a href='https://wandb.ai/ignacio-onate/cw-challenge-model-RF-ht/runs/9yngcjf8' target=\"_blank\">https://wandb.ai/ignacio-onate/cw-challenge-model-RF-ht/runs/9yngcjf8</a><br/>Synced 5 W&B file(s), 0 media file(s), 0 artifact file(s) and 0 other file(s)"
      ],
      "text/plain": [
       "<IPython.core.display.HTML object>"
      ]
     },
     "metadata": {},
     "output_type": "display_data"
    },
    {
     "data": {
      "text/html": [
       "Find logs at: <code>.\\wandb\\run-20230326_175734-9yngcjf8\\logs</code>"
      ],
      "text/plain": [
       "<IPython.core.display.HTML object>"
      ]
     },
     "metadata": {},
     "output_type": "display_data"
    },
    {
     "name": "stderr",
     "output_type": "stream",
     "text": [
      "\u001b[34m\u001b[1mwandb\u001b[0m: Agent Starting Run: gof4x5uu with config:\n",
      "\u001b[34m\u001b[1mwandb\u001b[0m: \tbootstrap: True\n",
      "\u001b[34m\u001b[1mwandb\u001b[0m: \tmax_depth: 30\n",
      "\u001b[34m\u001b[1mwandb\u001b[0m: \tmax_features: sqrt\n",
      "\u001b[34m\u001b[1mwandb\u001b[0m: \tmin_samples_leaf: 1\n",
      "\u001b[34m\u001b[1mwandb\u001b[0m: \tmin_samples_split: 10\n",
      "\u001b[34m\u001b[1mwandb\u001b[0m: \tn_estimators: 800\n"
     ]
    },
    {
     "data": {
      "text/html": [
       "Tracking run with wandb version 0.14.0"
      ],
      "text/plain": [
       "<IPython.core.display.HTML object>"
      ]
     },
     "metadata": {},
     "output_type": "display_data"
    },
    {
     "data": {
      "text/html": [
       "Run data is saved locally in <code>C:\\Users\\JhonG\\Documents\\nw-challenge\\nw-challenge\\model\\wandb\\run-20230326_175750-gof4x5uu</code>"
      ],
      "text/plain": [
       "<IPython.core.display.HTML object>"
      ]
     },
     "metadata": {},
     "output_type": "display_data"
    },
    {
     "data": {
      "text/html": [
       "Syncing run <strong><a href='https://wandb.ai/ignacio-onate/cw-challenge-model-RF-ht/runs/gof4x5uu' target=\"_blank\">woven-sweep-7</a></strong> to <a href='https://wandb.ai/ignacio-onate/cw-challenge-model-RF-ht' target=\"_blank\">Weights & Biases</a> (<a href='https://wandb.me/run' target=\"_blank\">docs</a>)<br/>Sweep page: <a href='https://wandb.ai/ignacio-onate/cw-challenge-model-RF-ht/sweeps/wc95eubb' target=\"_blank\">https://wandb.ai/ignacio-onate/cw-challenge-model-RF-ht/sweeps/wc95eubb</a>"
      ],
      "text/plain": [
       "<IPython.core.display.HTML object>"
      ]
     },
     "metadata": {},
     "output_type": "display_data"
    },
    {
     "data": {
      "text/html": [
       " View project at <a href='https://wandb.ai/ignacio-onate/cw-challenge-model-RF-ht' target=\"_blank\">https://wandb.ai/ignacio-onate/cw-challenge-model-RF-ht</a>"
      ],
      "text/plain": [
       "<IPython.core.display.HTML object>"
      ]
     },
     "metadata": {},
     "output_type": "display_data"
    },
    {
     "data": {
      "text/html": [
       " View sweep at <a href='https://wandb.ai/ignacio-onate/cw-challenge-model-RF-ht/sweeps/wc95eubb' target=\"_blank\">https://wandb.ai/ignacio-onate/cw-challenge-model-RF-ht/sweeps/wc95eubb</a>"
      ],
      "text/plain": [
       "<IPython.core.display.HTML object>"
      ]
     },
     "metadata": {},
     "output_type": "display_data"
    },
    {
     "data": {
      "text/html": [
       " View run at <a href='https://wandb.ai/ignacio-onate/cw-challenge-model-RF-ht/runs/gof4x5uu' target=\"_blank\">https://wandb.ai/ignacio-onate/cw-challenge-model-RF-ht/runs/gof4x5uu</a>"
      ],
      "text/plain": [
       "<IPython.core.display.HTML object>"
      ]
     },
     "metadata": {},
     "output_type": "display_data"
    },
    {
     "name": "stdout",
     "output_type": "stream",
     "text": [
      "Modelo:  RF\n"
     ]
    },
    {
     "data": {
      "text/html": [
       "Waiting for W&B process to finish... <strong style=\"color:green\">(success).</strong>"
      ],
      "text/plain": [
       "<IPython.core.display.HTML object>"
      ]
     },
     "metadata": {},
     "output_type": "display_data"
    },
    {
     "data": {
      "text/html": [
       "<style>\n",
       "    table.wandb td:nth-child(1) { padding: 0 10px; text-align: left ; width: auto;} td:nth-child(2) {text-align: left ; width: 100%}\n",
       "    .wandb-row { display: flex; flex-direction: row; flex-wrap: wrap; justify-content: flex-start; width: 100% }\n",
       "    .wandb-col { display: flex; flex-direction: column; flex-basis: 100%; flex: 1; padding: 10px; }\n",
       "    </style>\n",
       "<div class=\"wandb-row\"><div class=\"wandb-col\"><h3>Run history:</h3><br/><table class=\"wandb\"><tr><td>accuracy_RF</td><td>▁</td></tr><tr><td>f1_RF</td><td>▁</td></tr><tr><td>precision_RF</td><td>▁</td></tr><tr><td>recall_RF</td><td>▁</td></tr><tr><td>roc_auc_RF</td><td>▁</td></tr></table><br/></div><div class=\"wandb-col\"><h3>Run summary:</h3><br/><table class=\"wandb\"><tr><td>accuracy_RF</td><td>0.73171</td></tr><tr><td>f1_RF</td><td>0.3685</td></tr><tr><td>precision_RF</td><td>0.32685</td></tr><tr><td>recall_RF</td><td>0.4235</td></tr><tr><td>roc_auc_RF</td><td>0.68125</td></tr></table><br/></div></div>"
      ],
      "text/plain": [
       "<IPython.core.display.HTML object>"
      ]
     },
     "metadata": {},
     "output_type": "display_data"
    },
    {
     "data": {
      "text/html": [
       " View run <strong style=\"color:#cdcd00\">woven-sweep-7</strong> at: <a href='https://wandb.ai/ignacio-onate/cw-challenge-model-RF-ht/runs/gof4x5uu' target=\"_blank\">https://wandb.ai/ignacio-onate/cw-challenge-model-RF-ht/runs/gof4x5uu</a><br/>Synced 5 W&B file(s), 0 media file(s), 0 artifact file(s) and 0 other file(s)"
      ],
      "text/plain": [
       "<IPython.core.display.HTML object>"
      ]
     },
     "metadata": {},
     "output_type": "display_data"
    },
    {
     "data": {
      "text/html": [
       "Find logs at: <code>.\\wandb\\run-20230326_175750-gof4x5uu\\logs</code>"
      ],
      "text/plain": [
       "<IPython.core.display.HTML object>"
      ]
     },
     "metadata": {},
     "output_type": "display_data"
    },
    {
     "name": "stderr",
     "output_type": "stream",
     "text": [
      "\u001b[34m\u001b[1mwandb\u001b[0m: Agent Starting Run: hw9g58g7 with config:\n",
      "\u001b[34m\u001b[1mwandb\u001b[0m: \tbootstrap: False\n",
      "\u001b[34m\u001b[1mwandb\u001b[0m: \tmax_depth: 50\n",
      "\u001b[34m\u001b[1mwandb\u001b[0m: \tmax_features: auto\n",
      "\u001b[34m\u001b[1mwandb\u001b[0m: \tmin_samples_leaf: 1\n",
      "\u001b[34m\u001b[1mwandb\u001b[0m: \tmin_samples_split: 5\n",
      "\u001b[34m\u001b[1mwandb\u001b[0m: \tn_estimators: 1000\n"
     ]
    },
    {
     "data": {
      "text/html": [
       "Tracking run with wandb version 0.14.0"
      ],
      "text/plain": [
       "<IPython.core.display.HTML object>"
      ]
     },
     "metadata": {},
     "output_type": "display_data"
    },
    {
     "data": {
      "text/html": [
       "Run data is saved locally in <code>C:\\Users\\JhonG\\Documents\\nw-challenge\\nw-challenge\\model\\wandb\\run-20230326_175806-hw9g58g7</code>"
      ],
      "text/plain": [
       "<IPython.core.display.HTML object>"
      ]
     },
     "metadata": {},
     "output_type": "display_data"
    },
    {
     "data": {
      "text/html": [
       "Syncing run <strong><a href='https://wandb.ai/ignacio-onate/cw-challenge-model-RF-ht/runs/hw9g58g7' target=\"_blank\">clean-sweep-8</a></strong> to <a href='https://wandb.ai/ignacio-onate/cw-challenge-model-RF-ht' target=\"_blank\">Weights & Biases</a> (<a href='https://wandb.me/run' target=\"_blank\">docs</a>)<br/>Sweep page: <a href='https://wandb.ai/ignacio-onate/cw-challenge-model-RF-ht/sweeps/wc95eubb' target=\"_blank\">https://wandb.ai/ignacio-onate/cw-challenge-model-RF-ht/sweeps/wc95eubb</a>"
      ],
      "text/plain": [
       "<IPython.core.display.HTML object>"
      ]
     },
     "metadata": {},
     "output_type": "display_data"
    },
    {
     "data": {
      "text/html": [
       " View project at <a href='https://wandb.ai/ignacio-onate/cw-challenge-model-RF-ht' target=\"_blank\">https://wandb.ai/ignacio-onate/cw-challenge-model-RF-ht</a>"
      ],
      "text/plain": [
       "<IPython.core.display.HTML object>"
      ]
     },
     "metadata": {},
     "output_type": "display_data"
    },
    {
     "data": {
      "text/html": [
       " View sweep at <a href='https://wandb.ai/ignacio-onate/cw-challenge-model-RF-ht/sweeps/wc95eubb' target=\"_blank\">https://wandb.ai/ignacio-onate/cw-challenge-model-RF-ht/sweeps/wc95eubb</a>"
      ],
      "text/plain": [
       "<IPython.core.display.HTML object>"
      ]
     },
     "metadata": {},
     "output_type": "display_data"
    },
    {
     "data": {
      "text/html": [
       " View run at <a href='https://wandb.ai/ignacio-onate/cw-challenge-model-RF-ht/runs/hw9g58g7' target=\"_blank\">https://wandb.ai/ignacio-onate/cw-challenge-model-RF-ht/runs/hw9g58g7</a>"
      ],
      "text/plain": [
       "<IPython.core.display.HTML object>"
      ]
     },
     "metadata": {},
     "output_type": "display_data"
    },
    {
     "name": "stdout",
     "output_type": "stream",
     "text": [
      "Modelo:  RF\n"
     ]
    },
    {
     "data": {
      "text/html": [
       "Waiting for W&B process to finish... <strong style=\"color:green\">(success).</strong>"
      ],
      "text/plain": [
       "<IPython.core.display.HTML object>"
      ]
     },
     "metadata": {},
     "output_type": "display_data"
    },
    {
     "data": {
      "text/html": [
       "<style>\n",
       "    table.wandb td:nth-child(1) { padding: 0 10px; text-align: left ; width: auto;} td:nth-child(2) {text-align: left ; width: 100%}\n",
       "    .wandb-row { display: flex; flex-direction: row; flex-wrap: wrap; justify-content: flex-start; width: 100% }\n",
       "    .wandb-col { display: flex; flex-direction: column; flex-basis: 100%; flex: 1; padding: 10px; }\n",
       "    </style>\n",
       "<div class=\"wandb-row\"><div class=\"wandb-col\"><h3>Run history:</h3><br/><table class=\"wandb\"><tr><td>accuracy_RF</td><td>▁</td></tr><tr><td>f1_RF</td><td>▁</td></tr><tr><td>precision_RF</td><td>▁</td></tr><tr><td>recall_RF</td><td>▁</td></tr><tr><td>roc_auc_RF</td><td>▁</td></tr></table><br/></div><div class=\"wandb-col\"><h3>Run summary:</h3><br/><table class=\"wandb\"><tr><td>accuracy_RF</td><td>0.73516</td></tr><tr><td>f1_RF</td><td>0.36641</td></tr><tr><td>precision_RF</td><td>0.32876</td></tr><tr><td>recall_RF</td><td>0.4143</td></tr><tr><td>roc_auc_RF</td><td>0.68081</td></tr></table><br/></div></div>"
      ],
      "text/plain": [
       "<IPython.core.display.HTML object>"
      ]
     },
     "metadata": {},
     "output_type": "display_data"
    },
    {
     "data": {
      "text/html": [
       " View run <strong style=\"color:#cdcd00\">clean-sweep-8</strong> at: <a href='https://wandb.ai/ignacio-onate/cw-challenge-model-RF-ht/runs/hw9g58g7' target=\"_blank\">https://wandb.ai/ignacio-onate/cw-challenge-model-RF-ht/runs/hw9g58g7</a><br/>Synced 5 W&B file(s), 0 media file(s), 0 artifact file(s) and 0 other file(s)"
      ],
      "text/plain": [
       "<IPython.core.display.HTML object>"
      ]
     },
     "metadata": {},
     "output_type": "display_data"
    },
    {
     "data": {
      "text/html": [
       "Find logs at: <code>.\\wandb\\run-20230326_175806-hw9g58g7\\logs</code>"
      ],
      "text/plain": [
       "<IPython.core.display.HTML object>"
      ]
     },
     "metadata": {},
     "output_type": "display_data"
    },
    {
     "name": "stderr",
     "output_type": "stream",
     "text": [
      "\u001b[34m\u001b[1mwandb\u001b[0m: Agent Starting Run: b2ki30vd with config:\n",
      "\u001b[34m\u001b[1mwandb\u001b[0m: \tbootstrap: False\n",
      "\u001b[34m\u001b[1mwandb\u001b[0m: \tmax_depth: 40\n",
      "\u001b[34m\u001b[1mwandb\u001b[0m: \tmax_features: sqrt\n",
      "\u001b[34m\u001b[1mwandb\u001b[0m: \tmin_samples_leaf: 1\n",
      "\u001b[34m\u001b[1mwandb\u001b[0m: \tmin_samples_split: 2\n",
      "\u001b[34m\u001b[1mwandb\u001b[0m: \tn_estimators: 1400\n"
     ]
    },
    {
     "data": {
      "text/html": [
       "Tracking run with wandb version 0.14.0"
      ],
      "text/plain": [
       "<IPython.core.display.HTML object>"
      ]
     },
     "metadata": {},
     "output_type": "display_data"
    },
    {
     "data": {
      "text/html": [
       "Run data is saved locally in <code>C:\\Users\\JhonG\\Documents\\nw-challenge\\nw-challenge\\model\\wandb\\run-20230326_175823-b2ki30vd</code>"
      ],
      "text/plain": [
       "<IPython.core.display.HTML object>"
      ]
     },
     "metadata": {},
     "output_type": "display_data"
    },
    {
     "data": {
      "text/html": [
       "Syncing run <strong><a href='https://wandb.ai/ignacio-onate/cw-challenge-model-RF-ht/runs/b2ki30vd' target=\"_blank\">upbeat-sweep-9</a></strong> to <a href='https://wandb.ai/ignacio-onate/cw-challenge-model-RF-ht' target=\"_blank\">Weights & Biases</a> (<a href='https://wandb.me/run' target=\"_blank\">docs</a>)<br/>Sweep page: <a href='https://wandb.ai/ignacio-onate/cw-challenge-model-RF-ht/sweeps/wc95eubb' target=\"_blank\">https://wandb.ai/ignacio-onate/cw-challenge-model-RF-ht/sweeps/wc95eubb</a>"
      ],
      "text/plain": [
       "<IPython.core.display.HTML object>"
      ]
     },
     "metadata": {},
     "output_type": "display_data"
    },
    {
     "data": {
      "text/html": [
       " View project at <a href='https://wandb.ai/ignacio-onate/cw-challenge-model-RF-ht' target=\"_blank\">https://wandb.ai/ignacio-onate/cw-challenge-model-RF-ht</a>"
      ],
      "text/plain": [
       "<IPython.core.display.HTML object>"
      ]
     },
     "metadata": {},
     "output_type": "display_data"
    },
    {
     "data": {
      "text/html": [
       " View sweep at <a href='https://wandb.ai/ignacio-onate/cw-challenge-model-RF-ht/sweeps/wc95eubb' target=\"_blank\">https://wandb.ai/ignacio-onate/cw-challenge-model-RF-ht/sweeps/wc95eubb</a>"
      ],
      "text/plain": [
       "<IPython.core.display.HTML object>"
      ]
     },
     "metadata": {},
     "output_type": "display_data"
    },
    {
     "data": {
      "text/html": [
       " View run at <a href='https://wandb.ai/ignacio-onate/cw-challenge-model-RF-ht/runs/b2ki30vd' target=\"_blank\">https://wandb.ai/ignacio-onate/cw-challenge-model-RF-ht/runs/b2ki30vd</a>"
      ],
      "text/plain": [
       "<IPython.core.display.HTML object>"
      ]
     },
     "metadata": {},
     "output_type": "display_data"
    },
    {
     "name": "stdout",
     "output_type": "stream",
     "text": [
      "Modelo:  RF\n"
     ]
    },
    {
     "data": {
      "text/html": [
       "Waiting for W&B process to finish... <strong style=\"color:green\">(success).</strong>"
      ],
      "text/plain": [
       "<IPython.core.display.HTML object>"
      ]
     },
     "metadata": {},
     "output_type": "display_data"
    },
    {
     "data": {
      "text/html": [
       "<style>\n",
       "    table.wandb td:nth-child(1) { padding: 0 10px; text-align: left ; width: auto;} td:nth-child(2) {text-align: left ; width: 100%}\n",
       "    .wandb-row { display: flex; flex-direction: row; flex-wrap: wrap; justify-content: flex-start; width: 100% }\n",
       "    .wandb-col { display: flex; flex-direction: column; flex-basis: 100%; flex: 1; padding: 10px; }\n",
       "    </style>\n",
       "<div class=\"wandb-row\"><div class=\"wandb-col\"><h3>Run history:</h3><br/><table class=\"wandb\"><tr><td>accuracy_RF</td><td>▁</td></tr><tr><td>f1_RF</td><td>▁</td></tr><tr><td>precision_RF</td><td>▁</td></tr><tr><td>recall_RF</td><td>▁</td></tr><tr><td>roc_auc_RF</td><td>▁</td></tr></table><br/></div><div class=\"wandb-col\"><h3>Run summary:</h3><br/><table class=\"wandb\"><tr><td>accuracy_RF</td><td>0.73076</td></tr><tr><td>f1_RF</td><td>0.37002</td></tr><tr><td>precision_RF</td><td>0.32627</td></tr><tr><td>recall_RF</td><td>0.42746</td></tr><tr><td>roc_auc_RF</td><td>0.68118</td></tr></table><br/></div></div>"
      ],
      "text/plain": [
       "<IPython.core.display.HTML object>"
      ]
     },
     "metadata": {},
     "output_type": "display_data"
    },
    {
     "data": {
      "text/html": [
       " View run <strong style=\"color:#cdcd00\">upbeat-sweep-9</strong> at: <a href='https://wandb.ai/ignacio-onate/cw-challenge-model-RF-ht/runs/b2ki30vd' target=\"_blank\">https://wandb.ai/ignacio-onate/cw-challenge-model-RF-ht/runs/b2ki30vd</a><br/>Synced 5 W&B file(s), 0 media file(s), 0 artifact file(s) and 0 other file(s)"
      ],
      "text/plain": [
       "<IPython.core.display.HTML object>"
      ]
     },
     "metadata": {},
     "output_type": "display_data"
    },
    {
     "data": {
      "text/html": [
       "Find logs at: <code>.\\wandb\\run-20230326_175823-b2ki30vd\\logs</code>"
      ],
      "text/plain": [
       "<IPython.core.display.HTML object>"
      ]
     },
     "metadata": {},
     "output_type": "display_data"
    },
    {
     "name": "stderr",
     "output_type": "stream",
     "text": [
      "\u001b[34m\u001b[1mwandb\u001b[0m: Agent Starting Run: izoe0d4n with config:\n",
      "\u001b[34m\u001b[1mwandb\u001b[0m: \tbootstrap: True\n",
      "\u001b[34m\u001b[1mwandb\u001b[0m: \tmax_depth: 80\n",
      "\u001b[34m\u001b[1mwandb\u001b[0m: \tmax_features: auto\n",
      "\u001b[34m\u001b[1mwandb\u001b[0m: \tmin_samples_leaf: 4\n",
      "\u001b[34m\u001b[1mwandb\u001b[0m: \tmin_samples_split: 2\n",
      "\u001b[34m\u001b[1mwandb\u001b[0m: \tn_estimators: 600\n"
     ]
    },
    {
     "data": {
      "text/html": [
       "Tracking run with wandb version 0.14.0"
      ],
      "text/plain": [
       "<IPython.core.display.HTML object>"
      ]
     },
     "metadata": {},
     "output_type": "display_data"
    },
    {
     "data": {
      "text/html": [
       "Run data is saved locally in <code>C:\\Users\\JhonG\\Documents\\nw-challenge\\nw-challenge\\model\\wandb\\run-20230326_175838-izoe0d4n</code>"
      ],
      "text/plain": [
       "<IPython.core.display.HTML object>"
      ]
     },
     "metadata": {},
     "output_type": "display_data"
    },
    {
     "data": {
      "text/html": [
       "Syncing run <strong><a href='https://wandb.ai/ignacio-onate/cw-challenge-model-RF-ht/runs/izoe0d4n' target=\"_blank\">noble-sweep-10</a></strong> to <a href='https://wandb.ai/ignacio-onate/cw-challenge-model-RF-ht' target=\"_blank\">Weights & Biases</a> (<a href='https://wandb.me/run' target=\"_blank\">docs</a>)<br/>Sweep page: <a href='https://wandb.ai/ignacio-onate/cw-challenge-model-RF-ht/sweeps/wc95eubb' target=\"_blank\">https://wandb.ai/ignacio-onate/cw-challenge-model-RF-ht/sweeps/wc95eubb</a>"
      ],
      "text/plain": [
       "<IPython.core.display.HTML object>"
      ]
     },
     "metadata": {},
     "output_type": "display_data"
    },
    {
     "data": {
      "text/html": [
       " View project at <a href='https://wandb.ai/ignacio-onate/cw-challenge-model-RF-ht' target=\"_blank\">https://wandb.ai/ignacio-onate/cw-challenge-model-RF-ht</a>"
      ],
      "text/plain": [
       "<IPython.core.display.HTML object>"
      ]
     },
     "metadata": {},
     "output_type": "display_data"
    },
    {
     "data": {
      "text/html": [
       " View sweep at <a href='https://wandb.ai/ignacio-onate/cw-challenge-model-RF-ht/sweeps/wc95eubb' target=\"_blank\">https://wandb.ai/ignacio-onate/cw-challenge-model-RF-ht/sweeps/wc95eubb</a>"
      ],
      "text/plain": [
       "<IPython.core.display.HTML object>"
      ]
     },
     "metadata": {},
     "output_type": "display_data"
    },
    {
     "data": {
      "text/html": [
       " View run at <a href='https://wandb.ai/ignacio-onate/cw-challenge-model-RF-ht/runs/izoe0d4n' target=\"_blank\">https://wandb.ai/ignacio-onate/cw-challenge-model-RF-ht/runs/izoe0d4n</a>"
      ],
      "text/plain": [
       "<IPython.core.display.HTML object>"
      ]
     },
     "metadata": {},
     "output_type": "display_data"
    },
    {
     "name": "stdout",
     "output_type": "stream",
     "text": [
      "Modelo:  RF\n"
     ]
    },
    {
     "data": {
      "text/html": [
       "Waiting for W&B process to finish... <strong style=\"color:green\">(success).</strong>"
      ],
      "text/plain": [
       "<IPython.core.display.HTML object>"
      ]
     },
     "metadata": {},
     "output_type": "display_data"
    },
    {
     "data": {
      "text/html": [
       "<style>\n",
       "    table.wandb td:nth-child(1) { padding: 0 10px; text-align: left ; width: auto;} td:nth-child(2) {text-align: left ; width: 100%}\n",
       "    .wandb-row { display: flex; flex-direction: row; flex-wrap: wrap; justify-content: flex-start; width: 100% }\n",
       "    .wandb-col { display: flex; flex-direction: column; flex-basis: 100%; flex: 1; padding: 10px; }\n",
       "    </style>\n",
       "<div class=\"wandb-row\"><div class=\"wandb-col\"><h3>Run history:</h3><br/><table class=\"wandb\"><tr><td>accuracy_RF</td><td>▁</td></tr><tr><td>f1_RF</td><td>▁</td></tr><tr><td>precision_RF</td><td>▁</td></tr><tr><td>recall_RF</td><td>▁</td></tr><tr><td>roc_auc_RF</td><td>▁</td></tr></table><br/></div><div class=\"wandb-col\"><h3>Run summary:</h3><br/><table class=\"wandb\"><tr><td>accuracy_RF</td><td>0.73194</td></tr><tr><td>f1_RF</td><td>0.36892</td></tr><tr><td>precision_RF</td><td>0.32723</td></tr><tr><td>recall_RF</td><td>0.42405</td></tr><tr><td>roc_auc_RF</td><td>0.68088</td></tr></table><br/></div></div>"
      ],
      "text/plain": [
       "<IPython.core.display.HTML object>"
      ]
     },
     "metadata": {},
     "output_type": "display_data"
    },
    {
     "data": {
      "text/html": [
       " View run <strong style=\"color:#cdcd00\">noble-sweep-10</strong> at: <a href='https://wandb.ai/ignacio-onate/cw-challenge-model-RF-ht/runs/izoe0d4n' target=\"_blank\">https://wandb.ai/ignacio-onate/cw-challenge-model-RF-ht/runs/izoe0d4n</a><br/>Synced 5 W&B file(s), 0 media file(s), 0 artifact file(s) and 0 other file(s)"
      ],
      "text/plain": [
       "<IPython.core.display.HTML object>"
      ]
     },
     "metadata": {},
     "output_type": "display_data"
    },
    {
     "data": {
      "text/html": [
       "Find logs at: <code>.\\wandb\\run-20230326_175838-izoe0d4n\\logs</code>"
      ],
      "text/plain": [
       "<IPython.core.display.HTML object>"
      ]
     },
     "metadata": {},
     "output_type": "display_data"
    },
    {
     "name": "stderr",
     "output_type": "stream",
     "text": [
      "\u001b[34m\u001b[1mwandb\u001b[0m: Agent Starting Run: 9gsdrj9x with config:\n",
      "\u001b[34m\u001b[1mwandb\u001b[0m: \tbootstrap: True\n",
      "\u001b[34m\u001b[1mwandb\u001b[0m: \tmax_depth: 100\n",
      "\u001b[34m\u001b[1mwandb\u001b[0m: \tmax_features: sqrt\n",
      "\u001b[34m\u001b[1mwandb\u001b[0m: \tmin_samples_leaf: 4\n",
      "\u001b[34m\u001b[1mwandb\u001b[0m: \tmin_samples_split: 2\n",
      "\u001b[34m\u001b[1mwandb\u001b[0m: \tn_estimators: 1400\n"
     ]
    },
    {
     "data": {
      "text/html": [
       "Tracking run with wandb version 0.14.0"
      ],
      "text/plain": [
       "<IPython.core.display.HTML object>"
      ]
     },
     "metadata": {},
     "output_type": "display_data"
    },
    {
     "data": {
      "text/html": [
       "Run data is saved locally in <code>C:\\Users\\JhonG\\Documents\\nw-challenge\\nw-challenge\\model\\wandb\\run-20230326_175850-9gsdrj9x</code>"
      ],
      "text/plain": [
       "<IPython.core.display.HTML object>"
      ]
     },
     "metadata": {},
     "output_type": "display_data"
    },
    {
     "data": {
      "text/html": [
       "Syncing run <strong><a href='https://wandb.ai/ignacio-onate/cw-challenge-model-RF-ht/runs/9gsdrj9x' target=\"_blank\">fanciful-sweep-11</a></strong> to <a href='https://wandb.ai/ignacio-onate/cw-challenge-model-RF-ht' target=\"_blank\">Weights & Biases</a> (<a href='https://wandb.me/run' target=\"_blank\">docs</a>)<br/>Sweep page: <a href='https://wandb.ai/ignacio-onate/cw-challenge-model-RF-ht/sweeps/wc95eubb' target=\"_blank\">https://wandb.ai/ignacio-onate/cw-challenge-model-RF-ht/sweeps/wc95eubb</a>"
      ],
      "text/plain": [
       "<IPython.core.display.HTML object>"
      ]
     },
     "metadata": {},
     "output_type": "display_data"
    },
    {
     "data": {
      "text/html": [
       " View project at <a href='https://wandb.ai/ignacio-onate/cw-challenge-model-RF-ht' target=\"_blank\">https://wandb.ai/ignacio-onate/cw-challenge-model-RF-ht</a>"
      ],
      "text/plain": [
       "<IPython.core.display.HTML object>"
      ]
     },
     "metadata": {},
     "output_type": "display_data"
    },
    {
     "data": {
      "text/html": [
       " View sweep at <a href='https://wandb.ai/ignacio-onate/cw-challenge-model-RF-ht/sweeps/wc95eubb' target=\"_blank\">https://wandb.ai/ignacio-onate/cw-challenge-model-RF-ht/sweeps/wc95eubb</a>"
      ],
      "text/plain": [
       "<IPython.core.display.HTML object>"
      ]
     },
     "metadata": {},
     "output_type": "display_data"
    },
    {
     "data": {
      "text/html": [
       " View run at <a href='https://wandb.ai/ignacio-onate/cw-challenge-model-RF-ht/runs/9gsdrj9x' target=\"_blank\">https://wandb.ai/ignacio-onate/cw-challenge-model-RF-ht/runs/9gsdrj9x</a>"
      ],
      "text/plain": [
       "<IPython.core.display.HTML object>"
      ]
     },
     "metadata": {},
     "output_type": "display_data"
    },
    {
     "name": "stdout",
     "output_type": "stream",
     "text": [
      "Modelo:  RF\n"
     ]
    },
    {
     "data": {
      "text/html": [
       "Waiting for W&B process to finish... <strong style=\"color:green\">(success).</strong>"
      ],
      "text/plain": [
       "<IPython.core.display.HTML object>"
      ]
     },
     "metadata": {},
     "output_type": "display_data"
    },
    {
     "data": {
      "text/html": [
       "<style>\n",
       "    table.wandb td:nth-child(1) { padding: 0 10px; text-align: left ; width: auto;} td:nth-child(2) {text-align: left ; width: 100%}\n",
       "    .wandb-row { display: flex; flex-direction: row; flex-wrap: wrap; justify-content: flex-start; width: 100% }\n",
       "    .wandb-col { display: flex; flex-direction: column; flex-basis: 100%; flex: 1; padding: 10px; }\n",
       "    </style>\n",
       "<div class=\"wandb-row\"><div class=\"wandb-col\"><h3>Run history:</h3><br/><table class=\"wandb\"><tr><td>accuracy_RF</td><td>▁</td></tr><tr><td>f1_RF</td><td>▁</td></tr><tr><td>precision_RF</td><td>▁</td></tr><tr><td>recall_RF</td><td>▁</td></tr><tr><td>roc_auc_RF</td><td>▁</td></tr></table><br/></div><div class=\"wandb-col\"><h3>Run summary:</h3><br/><table class=\"wandb\"><tr><td>accuracy_RF</td><td>0.73013</td></tr><tr><td>f1_RF</td><td>0.36784</td></tr><tr><td>precision_RF</td><td>0.32478</td></tr><tr><td>recall_RF</td><td>0.42508</td></tr><tr><td>roc_auc_RF</td><td>0.68099</td></tr></table><br/></div></div>"
      ],
      "text/plain": [
       "<IPython.core.display.HTML object>"
      ]
     },
     "metadata": {},
     "output_type": "display_data"
    },
    {
     "data": {
      "text/html": [
       " View run <strong style=\"color:#cdcd00\">fanciful-sweep-11</strong> at: <a href='https://wandb.ai/ignacio-onate/cw-challenge-model-RF-ht/runs/9gsdrj9x' target=\"_blank\">https://wandb.ai/ignacio-onate/cw-challenge-model-RF-ht/runs/9gsdrj9x</a><br/>Synced 5 W&B file(s), 0 media file(s), 0 artifact file(s) and 0 other file(s)"
      ],
      "text/plain": [
       "<IPython.core.display.HTML object>"
      ]
     },
     "metadata": {},
     "output_type": "display_data"
    },
    {
     "data": {
      "text/html": [
       "Find logs at: <code>.\\wandb\\run-20230326_175850-9gsdrj9x\\logs</code>"
      ],
      "text/plain": [
       "<IPython.core.display.HTML object>"
      ]
     },
     "metadata": {},
     "output_type": "display_data"
    },
    {
     "name": "stderr",
     "output_type": "stream",
     "text": [
      "\u001b[34m\u001b[1mwandb\u001b[0m: Sweep Agent: Waiting for job.\n",
      "\u001b[34m\u001b[1mwandb\u001b[0m: Job received.\n",
      "\u001b[34m\u001b[1mwandb\u001b[0m: Agent Starting Run: 53pqwde2 with config:\n",
      "\u001b[34m\u001b[1mwandb\u001b[0m: \tbootstrap: False\n",
      "\u001b[34m\u001b[1mwandb\u001b[0m: \tmax_depth: 20\n",
      "\u001b[34m\u001b[1mwandb\u001b[0m: \tmax_features: auto\n",
      "\u001b[34m\u001b[1mwandb\u001b[0m: \tmin_samples_leaf: 2\n",
      "\u001b[34m\u001b[1mwandb\u001b[0m: \tmin_samples_split: 5\n",
      "\u001b[34m\u001b[1mwandb\u001b[0m: \tn_estimators: 2000\n"
     ]
    },
    {
     "data": {
      "text/html": [
       "Tracking run with wandb version 0.14.0"
      ],
      "text/plain": [
       "<IPython.core.display.HTML object>"
      ]
     },
     "metadata": {},
     "output_type": "display_data"
    },
    {
     "data": {
      "text/html": [
       "Run data is saved locally in <code>C:\\Users\\JhonG\\Documents\\nw-challenge\\nw-challenge\\model\\wandb\\run-20230326_175909-53pqwde2</code>"
      ],
      "text/plain": [
       "<IPython.core.display.HTML object>"
      ]
     },
     "metadata": {},
     "output_type": "display_data"
    },
    {
     "data": {
      "text/html": [
       "Syncing run <strong><a href='https://wandb.ai/ignacio-onate/cw-challenge-model-RF-ht/runs/53pqwde2' target=\"_blank\">sweet-sweep-12</a></strong> to <a href='https://wandb.ai/ignacio-onate/cw-challenge-model-RF-ht' target=\"_blank\">Weights & Biases</a> (<a href='https://wandb.me/run' target=\"_blank\">docs</a>)<br/>Sweep page: <a href='https://wandb.ai/ignacio-onate/cw-challenge-model-RF-ht/sweeps/wc95eubb' target=\"_blank\">https://wandb.ai/ignacio-onate/cw-challenge-model-RF-ht/sweeps/wc95eubb</a>"
      ],
      "text/plain": [
       "<IPython.core.display.HTML object>"
      ]
     },
     "metadata": {},
     "output_type": "display_data"
    },
    {
     "data": {
      "text/html": [
       " View project at <a href='https://wandb.ai/ignacio-onate/cw-challenge-model-RF-ht' target=\"_blank\">https://wandb.ai/ignacio-onate/cw-challenge-model-RF-ht</a>"
      ],
      "text/plain": [
       "<IPython.core.display.HTML object>"
      ]
     },
     "metadata": {},
     "output_type": "display_data"
    },
    {
     "data": {
      "text/html": [
       " View sweep at <a href='https://wandb.ai/ignacio-onate/cw-challenge-model-RF-ht/sweeps/wc95eubb' target=\"_blank\">https://wandb.ai/ignacio-onate/cw-challenge-model-RF-ht/sweeps/wc95eubb</a>"
      ],
      "text/plain": [
       "<IPython.core.display.HTML object>"
      ]
     },
     "metadata": {},
     "output_type": "display_data"
    },
    {
     "data": {
      "text/html": [
       " View run at <a href='https://wandb.ai/ignacio-onate/cw-challenge-model-RF-ht/runs/53pqwde2' target=\"_blank\">https://wandb.ai/ignacio-onate/cw-challenge-model-RF-ht/runs/53pqwde2</a>"
      ],
      "text/plain": [
       "<IPython.core.display.HTML object>"
      ]
     },
     "metadata": {},
     "output_type": "display_data"
    },
    {
     "name": "stdout",
     "output_type": "stream",
     "text": [
      "Modelo:  RF\n"
     ]
    },
    {
     "data": {
      "text/html": [
       "Waiting for W&B process to finish... <strong style=\"color:green\">(success).</strong>"
      ],
      "text/plain": [
       "<IPython.core.display.HTML object>"
      ]
     },
     "metadata": {},
     "output_type": "display_data"
    },
    {
     "data": {
      "text/html": [
       "<style>\n",
       "    table.wandb td:nth-child(1) { padding: 0 10px; text-align: left ; width: auto;} td:nth-child(2) {text-align: left ; width: 100%}\n",
       "    .wandb-row { display: flex; flex-direction: row; flex-wrap: wrap; justify-content: flex-start; width: 100% }\n",
       "    .wandb-col { display: flex; flex-direction: column; flex-basis: 100%; flex: 1; padding: 10px; }\n",
       "    </style>\n",
       "<div class=\"wandb-row\"><div class=\"wandb-col\"><h3>Run history:</h3><br/><table class=\"wandb\"><tr><td>accuracy_RF</td><td>▁</td></tr><tr><td>f1_RF</td><td>▁</td></tr><tr><td>precision_RF</td><td>▁</td></tr><tr><td>recall_RF</td><td>▁</td></tr><tr><td>roc_auc_RF</td><td>▁</td></tr></table><br/></div><div class=\"wandb-col\"><h3>Run summary:</h3><br/><table class=\"wandb\"><tr><td>accuracy_RF</td><td>0.74999</td></tr><tr><td>f1_RF</td><td>0.35828</td></tr><tr><td>precision_RF</td><td>0.34137</td></tr><tr><td>recall_RF</td><td>0.3776</td></tr><tr><td>roc_auc_RF</td><td>0.68229</td></tr></table><br/></div></div>"
      ],
      "text/plain": [
       "<IPython.core.display.HTML object>"
      ]
     },
     "metadata": {},
     "output_type": "display_data"
    },
    {
     "data": {
      "text/html": [
       " View run <strong style=\"color:#cdcd00\">sweet-sweep-12</strong> at: <a href='https://wandb.ai/ignacio-onate/cw-challenge-model-RF-ht/runs/53pqwde2' target=\"_blank\">https://wandb.ai/ignacio-onate/cw-challenge-model-RF-ht/runs/53pqwde2</a><br/>Synced 5 W&B file(s), 0 media file(s), 0 artifact file(s) and 0 other file(s)"
      ],
      "text/plain": [
       "<IPython.core.display.HTML object>"
      ]
     },
     "metadata": {},
     "output_type": "display_data"
    },
    {
     "data": {
      "text/html": [
       "Find logs at: <code>.\\wandb\\run-20230326_175909-53pqwde2\\logs</code>"
      ],
      "text/plain": [
       "<IPython.core.display.HTML object>"
      ]
     },
     "metadata": {},
     "output_type": "display_data"
    },
    {
     "name": "stderr",
     "output_type": "stream",
     "text": [
      "\u001b[34m\u001b[1mwandb\u001b[0m: Sweep Agent: Waiting for job.\n",
      "\u001b[34m\u001b[1mwandb\u001b[0m: Job received.\n",
      "\u001b[34m\u001b[1mwandb\u001b[0m: Agent Starting Run: 67j43pbm with config:\n",
      "\u001b[34m\u001b[1mwandb\u001b[0m: \tbootstrap: False\n",
      "\u001b[34m\u001b[1mwandb\u001b[0m: \tmax_depth: 70\n",
      "\u001b[34m\u001b[1mwandb\u001b[0m: \tmax_features: sqrt\n",
      "\u001b[34m\u001b[1mwandb\u001b[0m: \tmin_samples_leaf: 1\n",
      "\u001b[34m\u001b[1mwandb\u001b[0m: \tmin_samples_split: 10\n",
      "\u001b[34m\u001b[1mwandb\u001b[0m: \tn_estimators: 1800\n"
     ]
    },
    {
     "data": {
      "text/html": [
       "Tracking run with wandb version 0.14.0"
      ],
      "text/plain": [
       "<IPython.core.display.HTML object>"
      ]
     },
     "metadata": {},
     "output_type": "display_data"
    },
    {
     "data": {
      "text/html": [
       "Run data is saved locally in <code>C:\\Users\\JhonG\\Documents\\nw-challenge\\nw-challenge\\model\\wandb\\run-20230326_175930-67j43pbm</code>"
      ],
      "text/plain": [
       "<IPython.core.display.HTML object>"
      ]
     },
     "metadata": {},
     "output_type": "display_data"
    },
    {
     "data": {
      "text/html": [
       "Syncing run <strong><a href='https://wandb.ai/ignacio-onate/cw-challenge-model-RF-ht/runs/67j43pbm' target=\"_blank\">wandering-sweep-13</a></strong> to <a href='https://wandb.ai/ignacio-onate/cw-challenge-model-RF-ht' target=\"_blank\">Weights & Biases</a> (<a href='https://wandb.me/run' target=\"_blank\">docs</a>)<br/>Sweep page: <a href='https://wandb.ai/ignacio-onate/cw-challenge-model-RF-ht/sweeps/wc95eubb' target=\"_blank\">https://wandb.ai/ignacio-onate/cw-challenge-model-RF-ht/sweeps/wc95eubb</a>"
      ],
      "text/plain": [
       "<IPython.core.display.HTML object>"
      ]
     },
     "metadata": {},
     "output_type": "display_data"
    },
    {
     "data": {
      "text/html": [
       " View project at <a href='https://wandb.ai/ignacio-onate/cw-challenge-model-RF-ht' target=\"_blank\">https://wandb.ai/ignacio-onate/cw-challenge-model-RF-ht</a>"
      ],
      "text/plain": [
       "<IPython.core.display.HTML object>"
      ]
     },
     "metadata": {},
     "output_type": "display_data"
    },
    {
     "data": {
      "text/html": [
       " View sweep at <a href='https://wandb.ai/ignacio-onate/cw-challenge-model-RF-ht/sweeps/wc95eubb' target=\"_blank\">https://wandb.ai/ignacio-onate/cw-challenge-model-RF-ht/sweeps/wc95eubb</a>"
      ],
      "text/plain": [
       "<IPython.core.display.HTML object>"
      ]
     },
     "metadata": {},
     "output_type": "display_data"
    },
    {
     "data": {
      "text/html": [
       " View run at <a href='https://wandb.ai/ignacio-onate/cw-challenge-model-RF-ht/runs/67j43pbm' target=\"_blank\">https://wandb.ai/ignacio-onate/cw-challenge-model-RF-ht/runs/67j43pbm</a>"
      ],
      "text/plain": [
       "<IPython.core.display.HTML object>"
      ]
     },
     "metadata": {},
     "output_type": "display_data"
    },
    {
     "name": "stdout",
     "output_type": "stream",
     "text": [
      "Modelo:  RF\n"
     ]
    },
    {
     "data": {
      "text/html": [
       "Waiting for W&B process to finish... <strong style=\"color:green\">(success).</strong>"
      ],
      "text/plain": [
       "<IPython.core.display.HTML object>"
      ]
     },
     "metadata": {},
     "output_type": "display_data"
    },
    {
     "data": {
      "text/html": [
       "<style>\n",
       "    table.wandb td:nth-child(1) { padding: 0 10px; text-align: left ; width: auto;} td:nth-child(2) {text-align: left ; width: 100%}\n",
       "    .wandb-row { display: flex; flex-direction: row; flex-wrap: wrap; justify-content: flex-start; width: 100% }\n",
       "    .wandb-col { display: flex; flex-direction: column; flex-basis: 100%; flex: 1; padding: 10px; }\n",
       "    </style>\n",
       "<div class=\"wandb-row\"><div class=\"wandb-col\"><h3>Run history:</h3><br/><table class=\"wandb\"><tr><td>accuracy_RF</td><td>▁</td></tr><tr><td>f1_RF</td><td>▁</td></tr><tr><td>precision_RF</td><td>▁</td></tr><tr><td>recall_RF</td><td>▁</td></tr><tr><td>roc_auc_RF</td><td>▁</td></tr></table><br/></div><div class=\"wandb-col\"><h3>Run summary:</h3><br/><table class=\"wandb\"><tr><td>accuracy_RF</td><td>0.73441</td></tr><tr><td>f1_RF</td><td>0.37015</td></tr><tr><td>precision_RF</td><td>0.32973</td></tr><tr><td>recall_RF</td><td>0.42215</td></tr><tr><td>roc_auc_RF</td><td>0.68102</td></tr></table><br/></div></div>"
      ],
      "text/plain": [
       "<IPython.core.display.HTML object>"
      ]
     },
     "metadata": {},
     "output_type": "display_data"
    },
    {
     "data": {
      "text/html": [
       " View run <strong style=\"color:#cdcd00\">wandering-sweep-13</strong> at: <a href='https://wandb.ai/ignacio-onate/cw-challenge-model-RF-ht/runs/67j43pbm' target=\"_blank\">https://wandb.ai/ignacio-onate/cw-challenge-model-RF-ht/runs/67j43pbm</a><br/>Synced 5 W&B file(s), 0 media file(s), 0 artifact file(s) and 0 other file(s)"
      ],
      "text/plain": [
       "<IPython.core.display.HTML object>"
      ]
     },
     "metadata": {},
     "output_type": "display_data"
    },
    {
     "data": {
      "text/html": [
       "Find logs at: <code>.\\wandb\\run-20230326_175930-67j43pbm\\logs</code>"
      ],
      "text/plain": [
       "<IPython.core.display.HTML object>"
      ]
     },
     "metadata": {},
     "output_type": "display_data"
    },
    {
     "name": "stderr",
     "output_type": "stream",
     "text": [
      "\u001b[34m\u001b[1mwandb\u001b[0m: Sweep Agent: Waiting for job.\n",
      "\u001b[34m\u001b[1mwandb\u001b[0m: Job received.\n",
      "\u001b[34m\u001b[1mwandb\u001b[0m: Agent Starting Run: o9euhgot with config:\n",
      "\u001b[34m\u001b[1mwandb\u001b[0m: \tbootstrap: True\n",
      "\u001b[34m\u001b[1mwandb\u001b[0m: \tmax_depth: 70\n",
      "\u001b[34m\u001b[1mwandb\u001b[0m: \tmax_features: sqrt\n",
      "\u001b[34m\u001b[1mwandb\u001b[0m: \tmin_samples_leaf: 4\n",
      "\u001b[34m\u001b[1mwandb\u001b[0m: \tmin_samples_split: 2\n",
      "\u001b[34m\u001b[1mwandb\u001b[0m: \tn_estimators: 400\n"
     ]
    },
    {
     "data": {
      "text/html": [
       "Tracking run with wandb version 0.14.0"
      ],
      "text/plain": [
       "<IPython.core.display.HTML object>"
      ]
     },
     "metadata": {},
     "output_type": "display_data"
    },
    {
     "data": {
      "text/html": [
       "Run data is saved locally in <code>C:\\Users\\JhonG\\Documents\\nw-challenge\\nw-challenge\\model\\wandb\\run-20230326_175951-o9euhgot</code>"
      ],
      "text/plain": [
       "<IPython.core.display.HTML object>"
      ]
     },
     "metadata": {},
     "output_type": "display_data"
    },
    {
     "data": {
      "text/html": [
       "Syncing run <strong><a href='https://wandb.ai/ignacio-onate/cw-challenge-model-RF-ht/runs/o9euhgot' target=\"_blank\">dazzling-sweep-14</a></strong> to <a href='https://wandb.ai/ignacio-onate/cw-challenge-model-RF-ht' target=\"_blank\">Weights & Biases</a> (<a href='https://wandb.me/run' target=\"_blank\">docs</a>)<br/>Sweep page: <a href='https://wandb.ai/ignacio-onate/cw-challenge-model-RF-ht/sweeps/wc95eubb' target=\"_blank\">https://wandb.ai/ignacio-onate/cw-challenge-model-RF-ht/sweeps/wc95eubb</a>"
      ],
      "text/plain": [
       "<IPython.core.display.HTML object>"
      ]
     },
     "metadata": {},
     "output_type": "display_data"
    },
    {
     "data": {
      "text/html": [
       " View project at <a href='https://wandb.ai/ignacio-onate/cw-challenge-model-RF-ht' target=\"_blank\">https://wandb.ai/ignacio-onate/cw-challenge-model-RF-ht</a>"
      ],
      "text/plain": [
       "<IPython.core.display.HTML object>"
      ]
     },
     "metadata": {},
     "output_type": "display_data"
    },
    {
     "data": {
      "text/html": [
       " View sweep at <a href='https://wandb.ai/ignacio-onate/cw-challenge-model-RF-ht/sweeps/wc95eubb' target=\"_blank\">https://wandb.ai/ignacio-onate/cw-challenge-model-RF-ht/sweeps/wc95eubb</a>"
      ],
      "text/plain": [
       "<IPython.core.display.HTML object>"
      ]
     },
     "metadata": {},
     "output_type": "display_data"
    },
    {
     "data": {
      "text/html": [
       " View run at <a href='https://wandb.ai/ignacio-onate/cw-challenge-model-RF-ht/runs/o9euhgot' target=\"_blank\">https://wandb.ai/ignacio-onate/cw-challenge-model-RF-ht/runs/o9euhgot</a>"
      ],
      "text/plain": [
       "<IPython.core.display.HTML object>"
      ]
     },
     "metadata": {},
     "output_type": "display_data"
    },
    {
     "name": "stdout",
     "output_type": "stream",
     "text": [
      "Modelo:  RF\n"
     ]
    },
    {
     "data": {
      "text/html": [
       "Waiting for W&B process to finish... <strong style=\"color:green\">(success).</strong>"
      ],
      "text/plain": [
       "<IPython.core.display.HTML object>"
      ]
     },
     "metadata": {},
     "output_type": "display_data"
    },
    {
     "data": {
      "text/html": [
       "<style>\n",
       "    table.wandb td:nth-child(1) { padding: 0 10px; text-align: left ; width: auto;} td:nth-child(2) {text-align: left ; width: 100%}\n",
       "    .wandb-row { display: flex; flex-direction: row; flex-wrap: wrap; justify-content: flex-start; width: 100% }\n",
       "    .wandb-col { display: flex; flex-direction: column; flex-basis: 100%; flex: 1; padding: 10px; }\n",
       "    </style>\n",
       "<div class=\"wandb-row\"><div class=\"wandb-col\"><h3>Run history:</h3><br/><table class=\"wandb\"><tr><td>accuracy_RF</td><td>▁</td></tr><tr><td>f1_RF</td><td>▁</td></tr><tr><td>precision_RF</td><td>▁</td></tr><tr><td>recall_RF</td><td>▁</td></tr><tr><td>roc_auc_RF</td><td>▁</td></tr></table><br/></div><div class=\"wandb-col\"><h3>Run summary:</h3><br/><table class=\"wandb\"><tr><td>accuracy_RF</td><td>0.72913</td></tr><tr><td>f1_RF</td><td>0.37177</td></tr><tr><td>precision_RF</td><td>0.32565</td></tr><tr><td>recall_RF</td><td>0.43349</td></tr><tr><td>roc_auc_RF</td><td>0.68183</td></tr></table><br/></div></div>"
      ],
      "text/plain": [
       "<IPython.core.display.HTML object>"
      ]
     },
     "metadata": {},
     "output_type": "display_data"
    },
    {
     "data": {
      "text/html": [
       " View run <strong style=\"color:#cdcd00\">dazzling-sweep-14</strong> at: <a href='https://wandb.ai/ignacio-onate/cw-challenge-model-RF-ht/runs/o9euhgot' target=\"_blank\">https://wandb.ai/ignacio-onate/cw-challenge-model-RF-ht/runs/o9euhgot</a><br/>Synced 5 W&B file(s), 0 media file(s), 0 artifact file(s) and 0 other file(s)"
      ],
      "text/plain": [
       "<IPython.core.display.HTML object>"
      ]
     },
     "metadata": {},
     "output_type": "display_data"
    },
    {
     "data": {
      "text/html": [
       "Find logs at: <code>.\\wandb\\run-20230326_175951-o9euhgot\\logs</code>"
      ],
      "text/plain": [
       "<IPython.core.display.HTML object>"
      ]
     },
     "metadata": {},
     "output_type": "display_data"
    },
    {
     "name": "stderr",
     "output_type": "stream",
     "text": [
      "\u001b[34m\u001b[1mwandb\u001b[0m: Agent Starting Run: 7dmyjxnh with config:\n",
      "\u001b[34m\u001b[1mwandb\u001b[0m: \tbootstrap: False\n",
      "\u001b[34m\u001b[1mwandb\u001b[0m: \tmax_depth: 50\n",
      "\u001b[34m\u001b[1mwandb\u001b[0m: \tmax_features: auto\n",
      "\u001b[34m\u001b[1mwandb\u001b[0m: \tmin_samples_leaf: 1\n",
      "\u001b[34m\u001b[1mwandb\u001b[0m: \tmin_samples_split: 5\n",
      "\u001b[34m\u001b[1mwandb\u001b[0m: \tn_estimators: 800\n"
     ]
    },
    {
     "data": {
      "text/html": [
       "Tracking run with wandb version 0.14.0"
      ],
      "text/plain": [
       "<IPython.core.display.HTML object>"
      ]
     },
     "metadata": {},
     "output_type": "display_data"
    },
    {
     "data": {
      "text/html": [
       "Run data is saved locally in <code>C:\\Users\\JhonG\\Documents\\nw-challenge\\nw-challenge\\model\\wandb\\run-20230326_180003-7dmyjxnh</code>"
      ],
      "text/plain": [
       "<IPython.core.display.HTML object>"
      ]
     },
     "metadata": {},
     "output_type": "display_data"
    },
    {
     "data": {
      "text/html": [
       "Syncing run <strong><a href='https://wandb.ai/ignacio-onate/cw-challenge-model-RF-ht/runs/7dmyjxnh' target=\"_blank\">solar-sweep-15</a></strong> to <a href='https://wandb.ai/ignacio-onate/cw-challenge-model-RF-ht' target=\"_blank\">Weights & Biases</a> (<a href='https://wandb.me/run' target=\"_blank\">docs</a>)<br/>Sweep page: <a href='https://wandb.ai/ignacio-onate/cw-challenge-model-RF-ht/sweeps/wc95eubb' target=\"_blank\">https://wandb.ai/ignacio-onate/cw-challenge-model-RF-ht/sweeps/wc95eubb</a>"
      ],
      "text/plain": [
       "<IPython.core.display.HTML object>"
      ]
     },
     "metadata": {},
     "output_type": "display_data"
    },
    {
     "data": {
      "text/html": [
       " View project at <a href='https://wandb.ai/ignacio-onate/cw-challenge-model-RF-ht' target=\"_blank\">https://wandb.ai/ignacio-onate/cw-challenge-model-RF-ht</a>"
      ],
      "text/plain": [
       "<IPython.core.display.HTML object>"
      ]
     },
     "metadata": {},
     "output_type": "display_data"
    },
    {
     "data": {
      "text/html": [
       " View sweep at <a href='https://wandb.ai/ignacio-onate/cw-challenge-model-RF-ht/sweeps/wc95eubb' target=\"_blank\">https://wandb.ai/ignacio-onate/cw-challenge-model-RF-ht/sweeps/wc95eubb</a>"
      ],
      "text/plain": [
       "<IPython.core.display.HTML object>"
      ]
     },
     "metadata": {},
     "output_type": "display_data"
    },
    {
     "data": {
      "text/html": [
       " View run at <a href='https://wandb.ai/ignacio-onate/cw-challenge-model-RF-ht/runs/7dmyjxnh' target=\"_blank\">https://wandb.ai/ignacio-onate/cw-challenge-model-RF-ht/runs/7dmyjxnh</a>"
      ],
      "text/plain": [
       "<IPython.core.display.HTML object>"
      ]
     },
     "metadata": {},
     "output_type": "display_data"
    },
    {
     "name": "stdout",
     "output_type": "stream",
     "text": [
      "Modelo:  RF\n"
     ]
    },
    {
     "data": {
      "text/html": [
       "Waiting for W&B process to finish... <strong style=\"color:green\">(success).</strong>"
      ],
      "text/plain": [
       "<IPython.core.display.HTML object>"
      ]
     },
     "metadata": {},
     "output_type": "display_data"
    },
    {
     "data": {
      "text/html": [
       "<style>\n",
       "    table.wandb td:nth-child(1) { padding: 0 10px; text-align: left ; width: auto;} td:nth-child(2) {text-align: left ; width: 100%}\n",
       "    .wandb-row { display: flex; flex-direction: row; flex-wrap: wrap; justify-content: flex-start; width: 100% }\n",
       "    .wandb-col { display: flex; flex-direction: column; flex-basis: 100%; flex: 1; padding: 10px; }\n",
       "    </style>\n",
       "<div class=\"wandb-row\"><div class=\"wandb-col\"><h3>Run history:</h3><br/><table class=\"wandb\"><tr><td>accuracy_RF</td><td>▁</td></tr><tr><td>f1_RF</td><td>▁</td></tr><tr><td>precision_RF</td><td>▁</td></tr><tr><td>recall_RF</td><td>▁</td></tr><tr><td>roc_auc_RF</td><td>▁</td></tr></table><br/></div><div class=\"wandb-col\"><h3>Run summary:</h3><br/><table class=\"wandb\"><tr><td>accuracy_RF</td><td>0.73432</td></tr><tr><td>f1_RF</td><td>0.36411</td></tr><tr><td>precision_RF</td><td>0.32692</td></tr><tr><td>recall_RF</td><td>0.41176</td></tr><tr><td>roc_auc_RF</td><td>0.68051</td></tr></table><br/></div></div>"
      ],
      "text/plain": [
       "<IPython.core.display.HTML object>"
      ]
     },
     "metadata": {},
     "output_type": "display_data"
    },
    {
     "data": {
      "text/html": [
       " View run <strong style=\"color:#cdcd00\">solar-sweep-15</strong> at: <a href='https://wandb.ai/ignacio-onate/cw-challenge-model-RF-ht/runs/7dmyjxnh' target=\"_blank\">https://wandb.ai/ignacio-onate/cw-challenge-model-RF-ht/runs/7dmyjxnh</a><br/>Synced 5 W&B file(s), 0 media file(s), 0 artifact file(s) and 0 other file(s)"
      ],
      "text/plain": [
       "<IPython.core.display.HTML object>"
      ]
     },
     "metadata": {},
     "output_type": "display_data"
    },
    {
     "data": {
      "text/html": [
       "Find logs at: <code>.\\wandb\\run-20230326_180003-7dmyjxnh\\logs</code>"
      ],
      "text/plain": [
       "<IPython.core.display.HTML object>"
      ]
     },
     "metadata": {},
     "output_type": "display_data"
    }
   ],
   "source": [
    "X = features\n",
    "y = label\n",
    "\n",
    "def train():\n",
    "    wandb.init()\n",
    "    # define pipeline\n",
    "    name = 'RF'\n",
    "    model = RandomForestClassifier(bootstrap = wandb.config.bootstrap, max_depth=wandb.config.max_depth, max_features = wandb.config.max_features)\n",
    "    under = RandomUnderSampler(sampling_strategy=0.7)\n",
    "    steps = [('under', under), ('model', model)]\n",
    "    pipeline = Pipeline(steps=steps)\n",
    "    # evaluate pipeline\n",
    "    scores = cross_validate(pipeline, X, y, scoring=['accuracy','f1','precision','recall','roc_auc'], cv=5, n_jobs=-1)\n",
    "    #score = mean(scores)         \n",
    "    wandb.log({\n",
    "        'accuracy_'+name: mean(scores['test_accuracy']),\n",
    "        'f1_'+name : mean(scores['test_f1']),\n",
    "        'precision_'+name : mean(scores['test_precision']), \n",
    "        'recall_'+name : mean(scores['test_recall']),\n",
    "        'roc_auc_'+name : mean(scores['test_roc_auc'])\n",
    "        })\n",
    "    print(\"Modelo: \", name)\n",
    "    #print(scores)\n",
    "wandb.agent(sweep_id3, function = train, count = 15)"
   ]
  },
  {
   "cell_type": "markdown",
   "id": "f52aec06",
   "metadata": {},
   "source": [
    "# XGB con todas las features"
   ]
  },
  {
   "cell_type": "code",
   "execution_count": 13,
   "id": "397bd7ce",
   "metadata": {},
   "outputs": [
    {
     "name": "stdout",
     "output_type": "stream",
     "text": [
      "Create sweep with ID: lxyem30k\n",
      "Sweep URL: https://wandb.ai/ignacio-onate/cw-challenge-model-XGB-ht/sweeps/lxyem30k\n"
     ]
    }
   ],
   "source": [
    "#Para esto debemos crear los diccionarios de hiperparametros.\n",
    "sweep_configuration4 = {\n",
    "    'method': 'bayes', #Usando Bayes como metodo de busqueda de parametros\n",
    "    'name': 'sweep',\n",
    "    'metric': {'goal': 'maximize', 'name': 'precision'},\n",
    "    'parameters' : {\n",
    "                'learning_rate': {'values':[0.01,0.05, 0.1]},\n",
    "                'n_estimators': {'values' : [50, 100, 150]},\n",
    "                'subsample': {'values' : [0.5, 0.9]}\n",
    "    }\n",
    "}\n",
    "sweep_id4 = wandb.sweep(sweep=sweep_configuration4, project='cw-challenge-model-XGB-ht')"
   ]
  },
  {
   "cell_type": "code",
   "execution_count": 14,
   "id": "eb109e72",
   "metadata": {
    "scrolled": true
   },
   "outputs": [
    {
     "name": "stderr",
     "output_type": "stream",
     "text": [
      "\u001b[34m\u001b[1mwandb\u001b[0m: Agent Starting Run: s5vup0m1 with config:\n",
      "\u001b[34m\u001b[1mwandb\u001b[0m: \tlearning_rate: 0.05\n",
      "\u001b[34m\u001b[1mwandb\u001b[0m: \tn_estimators: 50\n",
      "\u001b[34m\u001b[1mwandb\u001b[0m: \tsubsample: 0.9\n"
     ]
    },
    {
     "data": {
      "text/html": [
       "Tracking run with wandb version 0.14.0"
      ],
      "text/plain": [
       "<IPython.core.display.HTML object>"
      ]
     },
     "metadata": {},
     "output_type": "display_data"
    },
    {
     "data": {
      "text/html": [
       "Run data is saved locally in <code>C:\\Users\\JhonG\\Documents\\nw-challenge\\nw-challenge\\model\\wandb\\run-20230326_180016-s5vup0m1</code>"
      ],
      "text/plain": [
       "<IPython.core.display.HTML object>"
      ]
     },
     "metadata": {},
     "output_type": "display_data"
    },
    {
     "data": {
      "text/html": [
       "Syncing run <strong><a href='https://wandb.ai/ignacio-onate/cw-challenge-model-XGB-ht/runs/s5vup0m1' target=\"_blank\">azure-sweep-1</a></strong> to <a href='https://wandb.ai/ignacio-onate/cw-challenge-model-XGB-ht' target=\"_blank\">Weights & Biases</a> (<a href='https://wandb.me/run' target=\"_blank\">docs</a>)<br/>Sweep page: <a href='https://wandb.ai/ignacio-onate/cw-challenge-model-XGB-ht/sweeps/lxyem30k' target=\"_blank\">https://wandb.ai/ignacio-onate/cw-challenge-model-XGB-ht/sweeps/lxyem30k</a>"
      ],
      "text/plain": [
       "<IPython.core.display.HTML object>"
      ]
     },
     "metadata": {},
     "output_type": "display_data"
    },
    {
     "data": {
      "text/html": [
       " View project at <a href='https://wandb.ai/ignacio-onate/cw-challenge-model-XGB-ht' target=\"_blank\">https://wandb.ai/ignacio-onate/cw-challenge-model-XGB-ht</a>"
      ],
      "text/plain": [
       "<IPython.core.display.HTML object>"
      ]
     },
     "metadata": {},
     "output_type": "display_data"
    },
    {
     "data": {
      "text/html": [
       " View sweep at <a href='https://wandb.ai/ignacio-onate/cw-challenge-model-XGB-ht/sweeps/lxyem30k' target=\"_blank\">https://wandb.ai/ignacio-onate/cw-challenge-model-XGB-ht/sweeps/lxyem30k</a>"
      ],
      "text/plain": [
       "<IPython.core.display.HTML object>"
      ]
     },
     "metadata": {},
     "output_type": "display_data"
    },
    {
     "data": {
      "text/html": [
       " View run at <a href='https://wandb.ai/ignacio-onate/cw-challenge-model-XGB-ht/runs/s5vup0m1' target=\"_blank\">https://wandb.ai/ignacio-onate/cw-challenge-model-XGB-ht/runs/s5vup0m1</a>"
      ],
      "text/plain": [
       "<IPython.core.display.HTML object>"
      ]
     },
     "metadata": {},
     "output_type": "display_data"
    },
    {
     "name": "stdout",
     "output_type": "stream",
     "text": [
      "Modelo:  XGB_FP\n"
     ]
    },
    {
     "data": {
      "text/html": [
       "Waiting for W&B process to finish... <strong style=\"color:green\">(success).</strong>"
      ],
      "text/plain": [
       "<IPython.core.display.HTML object>"
      ]
     },
     "metadata": {},
     "output_type": "display_data"
    },
    {
     "data": {
      "text/html": [
       "<style>\n",
       "    table.wandb td:nth-child(1) { padding: 0 10px; text-align: left ; width: auto;} td:nth-child(2) {text-align: left ; width: 100%}\n",
       "    .wandb-row { display: flex; flex-direction: row; flex-wrap: wrap; justify-content: flex-start; width: 100% }\n",
       "    .wandb-col { display: flex; flex-direction: column; flex-basis: 100%; flex: 1; padding: 10px; }\n",
       "    </style>\n",
       "<div class=\"wandb-row\"><div class=\"wandb-col\"><h3>Run history:</h3><br/><table class=\"wandb\"><tr><td>accuracy_XGB_FP</td><td>▁</td></tr><tr><td>f1_XGB_FP</td><td>▁</td></tr><tr><td>precision_XGB_FP</td><td>▁</td></tr><tr><td>recall_XGB_FP</td><td>▁</td></tr><tr><td>roc_auc_XGB_FP</td><td>▁</td></tr></table><br/></div><div class=\"wandb-col\"><h3>Run summary:</h3><br/><table class=\"wandb\"><tr><td>accuracy_XGB_FP</td><td>0.61223</td></tr><tr><td>f1_XGB_FP</td><td>0.38818</td></tr><tr><td>precision_XGB_FP</td><td>0.27411</td></tr><tr><td>recall_XGB_FP</td><td>0.66506</td></tr><tr><td>roc_auc_XGB_FP</td><td>0.68196</td></tr></table><br/></div></div>"
      ],
      "text/plain": [
       "<IPython.core.display.HTML object>"
      ]
     },
     "metadata": {},
     "output_type": "display_data"
    },
    {
     "data": {
      "text/html": [
       " View run <strong style=\"color:#cdcd00\">azure-sweep-1</strong> at: <a href='https://wandb.ai/ignacio-onate/cw-challenge-model-XGB-ht/runs/s5vup0m1' target=\"_blank\">https://wandb.ai/ignacio-onate/cw-challenge-model-XGB-ht/runs/s5vup0m1</a><br/>Synced 5 W&B file(s), 0 media file(s), 0 artifact file(s) and 0 other file(s)"
      ],
      "text/plain": [
       "<IPython.core.display.HTML object>"
      ]
     },
     "metadata": {},
     "output_type": "display_data"
    },
    {
     "data": {
      "text/html": [
       "Find logs at: <code>.\\wandb\\run-20230326_180016-s5vup0m1\\logs</code>"
      ],
      "text/plain": [
       "<IPython.core.display.HTML object>"
      ]
     },
     "metadata": {},
     "output_type": "display_data"
    },
    {
     "name": "stderr",
     "output_type": "stream",
     "text": [
      "\u001b[34m\u001b[1mwandb\u001b[0m: Agent Starting Run: 4dtyfi34 with config:\n",
      "\u001b[34m\u001b[1mwandb\u001b[0m: \tlearning_rate: 0.01\n",
      "\u001b[34m\u001b[1mwandb\u001b[0m: \tn_estimators: 150\n",
      "\u001b[34m\u001b[1mwandb\u001b[0m: \tsubsample: 0.9\n"
     ]
    },
    {
     "data": {
      "text/html": [
       "Tracking run with wandb version 0.14.0"
      ],
      "text/plain": [
       "<IPython.core.display.HTML object>"
      ]
     },
     "metadata": {},
     "output_type": "display_data"
    },
    {
     "data": {
      "text/html": [
       "Run data is saved locally in <code>C:\\Users\\JhonG\\Documents\\nw-challenge\\nw-challenge\\model\\wandb\\run-20230326_180031-4dtyfi34</code>"
      ],
      "text/plain": [
       "<IPython.core.display.HTML object>"
      ]
     },
     "metadata": {},
     "output_type": "display_data"
    },
    {
     "data": {
      "text/html": [
       "Syncing run <strong><a href='https://wandb.ai/ignacio-onate/cw-challenge-model-XGB-ht/runs/4dtyfi34' target=\"_blank\">autumn-sweep-2</a></strong> to <a href='https://wandb.ai/ignacio-onate/cw-challenge-model-XGB-ht' target=\"_blank\">Weights & Biases</a> (<a href='https://wandb.me/run' target=\"_blank\">docs</a>)<br/>Sweep page: <a href='https://wandb.ai/ignacio-onate/cw-challenge-model-XGB-ht/sweeps/lxyem30k' target=\"_blank\">https://wandb.ai/ignacio-onate/cw-challenge-model-XGB-ht/sweeps/lxyem30k</a>"
      ],
      "text/plain": [
       "<IPython.core.display.HTML object>"
      ]
     },
     "metadata": {},
     "output_type": "display_data"
    },
    {
     "data": {
      "text/html": [
       " View project at <a href='https://wandb.ai/ignacio-onate/cw-challenge-model-XGB-ht' target=\"_blank\">https://wandb.ai/ignacio-onate/cw-challenge-model-XGB-ht</a>"
      ],
      "text/plain": [
       "<IPython.core.display.HTML object>"
      ]
     },
     "metadata": {},
     "output_type": "display_data"
    },
    {
     "data": {
      "text/html": [
       " View sweep at <a href='https://wandb.ai/ignacio-onate/cw-challenge-model-XGB-ht/sweeps/lxyem30k' target=\"_blank\">https://wandb.ai/ignacio-onate/cw-challenge-model-XGB-ht/sweeps/lxyem30k</a>"
      ],
      "text/plain": [
       "<IPython.core.display.HTML object>"
      ]
     },
     "metadata": {},
     "output_type": "display_data"
    },
    {
     "data": {
      "text/html": [
       " View run at <a href='https://wandb.ai/ignacio-onate/cw-challenge-model-XGB-ht/runs/4dtyfi34' target=\"_blank\">https://wandb.ai/ignacio-onate/cw-challenge-model-XGB-ht/runs/4dtyfi34</a>"
      ],
      "text/plain": [
       "<IPython.core.display.HTML object>"
      ]
     },
     "metadata": {},
     "output_type": "display_data"
    },
    {
     "name": "stdout",
     "output_type": "stream",
     "text": [
      "Modelo:  XGB_FP\n"
     ]
    },
    {
     "data": {
      "text/html": [
       "Waiting for W&B process to finish... <strong style=\"color:green\">(success).</strong>"
      ],
      "text/plain": [
       "<IPython.core.display.HTML object>"
      ]
     },
     "metadata": {},
     "output_type": "display_data"
    },
    {
     "data": {
      "text/html": [
       "<style>\n",
       "    table.wandb td:nth-child(1) { padding: 0 10px; text-align: left ; width: auto;} td:nth-child(2) {text-align: left ; width: 100%}\n",
       "    .wandb-row { display: flex; flex-direction: row; flex-wrap: wrap; justify-content: flex-start; width: 100% }\n",
       "    .wandb-col { display: flex; flex-direction: column; flex-basis: 100%; flex: 1; padding: 10px; }\n",
       "    </style>\n",
       "<div class=\"wandb-row\"><div class=\"wandb-col\"><h3>Run history:</h3><br/><table class=\"wandb\"><tr><td>accuracy_XGB_FP</td><td>▁</td></tr><tr><td>f1_XGB_FP</td><td>▁</td></tr><tr><td>precision_XGB_FP</td><td>▁</td></tr><tr><td>recall_XGB_FP</td><td>▁</td></tr><tr><td>roc_auc_XGB_FP</td><td>▁</td></tr></table><br/></div><div class=\"wandb-col\"><h3>Run summary:</h3><br/><table class=\"wandb\"><tr><td>accuracy_XGB_FP</td><td>0.59823</td></tr><tr><td>f1_XGB_FP</td><td>0.38102</td></tr><tr><td>precision_XGB_FP</td><td>0.26653</td></tr><tr><td>recall_XGB_FP</td><td>0.66847</td></tr><tr><td>roc_auc_XGB_FP</td><td>0.67818</td></tr></table><br/></div></div>"
      ],
      "text/plain": [
       "<IPython.core.display.HTML object>"
      ]
     },
     "metadata": {},
     "output_type": "display_data"
    },
    {
     "data": {
      "text/html": [
       " View run <strong style=\"color:#cdcd00\">autumn-sweep-2</strong> at: <a href='https://wandb.ai/ignacio-onate/cw-challenge-model-XGB-ht/runs/4dtyfi34' target=\"_blank\">https://wandb.ai/ignacio-onate/cw-challenge-model-XGB-ht/runs/4dtyfi34</a><br/>Synced 5 W&B file(s), 0 media file(s), 0 artifact file(s) and 0 other file(s)"
      ],
      "text/plain": [
       "<IPython.core.display.HTML object>"
      ]
     },
     "metadata": {},
     "output_type": "display_data"
    },
    {
     "data": {
      "text/html": [
       "Find logs at: <code>.\\wandb\\run-20230326_180031-4dtyfi34\\logs</code>"
      ],
      "text/plain": [
       "<IPython.core.display.HTML object>"
      ]
     },
     "metadata": {},
     "output_type": "display_data"
    },
    {
     "name": "stderr",
     "output_type": "stream",
     "text": [
      "\u001b[34m\u001b[1mwandb\u001b[0m: Agent Starting Run: ukgb1xcl with config:\n",
      "\u001b[34m\u001b[1mwandb\u001b[0m: \tlearning_rate: 0.1\n",
      "\u001b[34m\u001b[1mwandb\u001b[0m: \tn_estimators: 50\n",
      "\u001b[34m\u001b[1mwandb\u001b[0m: \tsubsample: 0.9\n"
     ]
    },
    {
     "data": {
      "text/html": [
       "Tracking run with wandb version 0.14.0"
      ],
      "text/plain": [
       "<IPython.core.display.HTML object>"
      ]
     },
     "metadata": {},
     "output_type": "display_data"
    },
    {
     "data": {
      "text/html": [
       "Run data is saved locally in <code>C:\\Users\\JhonG\\Documents\\nw-challenge\\nw-challenge\\model\\wandb\\run-20230326_180053-ukgb1xcl</code>"
      ],
      "text/plain": [
       "<IPython.core.display.HTML object>"
      ]
     },
     "metadata": {},
     "output_type": "display_data"
    },
    {
     "data": {
      "text/html": [
       "Syncing run <strong><a href='https://wandb.ai/ignacio-onate/cw-challenge-model-XGB-ht/runs/ukgb1xcl' target=\"_blank\">azure-sweep-3</a></strong> to <a href='https://wandb.ai/ignacio-onate/cw-challenge-model-XGB-ht' target=\"_blank\">Weights & Biases</a> (<a href='https://wandb.me/run' target=\"_blank\">docs</a>)<br/>Sweep page: <a href='https://wandb.ai/ignacio-onate/cw-challenge-model-XGB-ht/sweeps/lxyem30k' target=\"_blank\">https://wandb.ai/ignacio-onate/cw-challenge-model-XGB-ht/sweeps/lxyem30k</a>"
      ],
      "text/plain": [
       "<IPython.core.display.HTML object>"
      ]
     },
     "metadata": {},
     "output_type": "display_data"
    },
    {
     "data": {
      "text/html": [
       " View project at <a href='https://wandb.ai/ignacio-onate/cw-challenge-model-XGB-ht' target=\"_blank\">https://wandb.ai/ignacio-onate/cw-challenge-model-XGB-ht</a>"
      ],
      "text/plain": [
       "<IPython.core.display.HTML object>"
      ]
     },
     "metadata": {},
     "output_type": "display_data"
    },
    {
     "data": {
      "text/html": [
       " View sweep at <a href='https://wandb.ai/ignacio-onate/cw-challenge-model-XGB-ht/sweeps/lxyem30k' target=\"_blank\">https://wandb.ai/ignacio-onate/cw-challenge-model-XGB-ht/sweeps/lxyem30k</a>"
      ],
      "text/plain": [
       "<IPython.core.display.HTML object>"
      ]
     },
     "metadata": {},
     "output_type": "display_data"
    },
    {
     "data": {
      "text/html": [
       " View run at <a href='https://wandb.ai/ignacio-onate/cw-challenge-model-XGB-ht/runs/ukgb1xcl' target=\"_blank\">https://wandb.ai/ignacio-onate/cw-challenge-model-XGB-ht/runs/ukgb1xcl</a>"
      ],
      "text/plain": [
       "<IPython.core.display.HTML object>"
      ]
     },
     "metadata": {},
     "output_type": "display_data"
    },
    {
     "name": "stdout",
     "output_type": "stream",
     "text": [
      "Modelo:  XGB_FP\n"
     ]
    },
    {
     "data": {
      "text/html": [
       "Waiting for W&B process to finish... <strong style=\"color:green\">(success).</strong>"
      ],
      "text/plain": [
       "<IPython.core.display.HTML object>"
      ]
     },
     "metadata": {},
     "output_type": "display_data"
    },
    {
     "data": {
      "text/html": [
       "<style>\n",
       "    table.wandb td:nth-child(1) { padding: 0 10px; text-align: left ; width: auto;} td:nth-child(2) {text-align: left ; width: 100%}\n",
       "    .wandb-row { display: flex; flex-direction: row; flex-wrap: wrap; justify-content: flex-start; width: 100% }\n",
       "    .wandb-col { display: flex; flex-direction: column; flex-basis: 100%; flex: 1; padding: 10px; }\n",
       "    </style>\n",
       "<div class=\"wandb-row\"><div class=\"wandb-col\"><h3>Run history:</h3><br/><table class=\"wandb\"><tr><td>accuracy_XGB_FP</td><td>▁</td></tr><tr><td>f1_XGB_FP</td><td>▁</td></tr><tr><td>precision_XGB_FP</td><td>▁</td></tr><tr><td>recall_XGB_FP</td><td>▁</td></tr><tr><td>roc_auc_XGB_FP</td><td>▁</td></tr></table><br/></div><div class=\"wandb-col\"><h3>Run summary:</h3><br/><table class=\"wandb\"><tr><td>accuracy_XGB_FP</td><td>0.61232</td></tr><tr><td>f1_XGB_FP</td><td>0.38782</td></tr><tr><td>precision_XGB_FP</td><td>0.27394</td></tr><tr><td>recall_XGB_FP</td><td>0.66402</td></tr><tr><td>roc_auc_XGB_FP</td><td>0.6824</td></tr></table><br/></div></div>"
      ],
      "text/plain": [
       "<IPython.core.display.HTML object>"
      ]
     },
     "metadata": {},
     "output_type": "display_data"
    },
    {
     "data": {
      "text/html": [
       " View run <strong style=\"color:#cdcd00\">azure-sweep-3</strong> at: <a href='https://wandb.ai/ignacio-onate/cw-challenge-model-XGB-ht/runs/ukgb1xcl' target=\"_blank\">https://wandb.ai/ignacio-onate/cw-challenge-model-XGB-ht/runs/ukgb1xcl</a><br/>Synced 5 W&B file(s), 0 media file(s), 0 artifact file(s) and 0 other file(s)"
      ],
      "text/plain": [
       "<IPython.core.display.HTML object>"
      ]
     },
     "metadata": {},
     "output_type": "display_data"
    },
    {
     "data": {
      "text/html": [
       "Find logs at: <code>.\\wandb\\run-20230326_180053-ukgb1xcl\\logs</code>"
      ],
      "text/plain": [
       "<IPython.core.display.HTML object>"
      ]
     },
     "metadata": {},
     "output_type": "display_data"
    },
    {
     "name": "stderr",
     "output_type": "stream",
     "text": [
      "\u001b[34m\u001b[1mwandb\u001b[0m: Agent Starting Run: u4nb7gu4 with config:\n",
      "\u001b[34m\u001b[1mwandb\u001b[0m: \tlearning_rate: 0.05\n",
      "\u001b[34m\u001b[1mwandb\u001b[0m: \tn_estimators: 100\n",
      "\u001b[34m\u001b[1mwandb\u001b[0m: \tsubsample: 0.9\n"
     ]
    },
    {
     "data": {
      "text/html": [
       "Tracking run with wandb version 0.14.0"
      ],
      "text/plain": [
       "<IPython.core.display.HTML object>"
      ]
     },
     "metadata": {},
     "output_type": "display_data"
    },
    {
     "data": {
      "text/html": [
       "Run data is saved locally in <code>C:\\Users\\JhonG\\Documents\\nw-challenge\\nw-challenge\\model\\wandb\\run-20230326_180108-u4nb7gu4</code>"
      ],
      "text/plain": [
       "<IPython.core.display.HTML object>"
      ]
     },
     "metadata": {},
     "output_type": "display_data"
    },
    {
     "data": {
      "text/html": [
       "Syncing run <strong><a href='https://wandb.ai/ignacio-onate/cw-challenge-model-XGB-ht/runs/u4nb7gu4' target=\"_blank\">azure-sweep-4</a></strong> to <a href='https://wandb.ai/ignacio-onate/cw-challenge-model-XGB-ht' target=\"_blank\">Weights & Biases</a> (<a href='https://wandb.me/run' target=\"_blank\">docs</a>)<br/>Sweep page: <a href='https://wandb.ai/ignacio-onate/cw-challenge-model-XGB-ht/sweeps/lxyem30k' target=\"_blank\">https://wandb.ai/ignacio-onate/cw-challenge-model-XGB-ht/sweeps/lxyem30k</a>"
      ],
      "text/plain": [
       "<IPython.core.display.HTML object>"
      ]
     },
     "metadata": {},
     "output_type": "display_data"
    },
    {
     "data": {
      "text/html": [
       " View project at <a href='https://wandb.ai/ignacio-onate/cw-challenge-model-XGB-ht' target=\"_blank\">https://wandb.ai/ignacio-onate/cw-challenge-model-XGB-ht</a>"
      ],
      "text/plain": [
       "<IPython.core.display.HTML object>"
      ]
     },
     "metadata": {},
     "output_type": "display_data"
    },
    {
     "data": {
      "text/html": [
       " View sweep at <a href='https://wandb.ai/ignacio-onate/cw-challenge-model-XGB-ht/sweeps/lxyem30k' target=\"_blank\">https://wandb.ai/ignacio-onate/cw-challenge-model-XGB-ht/sweeps/lxyem30k</a>"
      ],
      "text/plain": [
       "<IPython.core.display.HTML object>"
      ]
     },
     "metadata": {},
     "output_type": "display_data"
    },
    {
     "data": {
      "text/html": [
       " View run at <a href='https://wandb.ai/ignacio-onate/cw-challenge-model-XGB-ht/runs/u4nb7gu4' target=\"_blank\">https://wandb.ai/ignacio-onate/cw-challenge-model-XGB-ht/runs/u4nb7gu4</a>"
      ],
      "text/plain": [
       "<IPython.core.display.HTML object>"
      ]
     },
     "metadata": {},
     "output_type": "display_data"
    },
    {
     "name": "stdout",
     "output_type": "stream",
     "text": [
      "Modelo:  XGB_FP\n"
     ]
    },
    {
     "data": {
      "text/html": [
       "Waiting for W&B process to finish... <strong style=\"color:green\">(success).</strong>"
      ],
      "text/plain": [
       "<IPython.core.display.HTML object>"
      ]
     },
     "metadata": {},
     "output_type": "display_data"
    },
    {
     "data": {
      "text/html": [
       "<style>\n",
       "    table.wandb td:nth-child(1) { padding: 0 10px; text-align: left ; width: auto;} td:nth-child(2) {text-align: left ; width: 100%}\n",
       "    .wandb-row { display: flex; flex-direction: row; flex-wrap: wrap; justify-content: flex-start; width: 100% }\n",
       "    .wandb-col { display: flex; flex-direction: column; flex-basis: 100%; flex: 1; padding: 10px; }\n",
       "    </style>\n",
       "<div class=\"wandb-row\"><div class=\"wandb-col\"><h3>Run history:</h3><br/><table class=\"wandb\"><tr><td>accuracy_XGB_FP</td><td>▁</td></tr><tr><td>f1_XGB_FP</td><td>▁</td></tr><tr><td>precision_XGB_FP</td><td>▁</td></tr><tr><td>recall_XGB_FP</td><td>▁</td></tr><tr><td>roc_auc_XGB_FP</td><td>▁</td></tr></table><br/></div><div class=\"wandb-col\"><h3>Run summary:</h3><br/><table class=\"wandb\"><tr><td>accuracy_XGB_FP</td><td>0.61776</td></tr><tr><td>f1_XGB_FP</td><td>0.38788</td></tr><tr><td>precision_XGB_FP</td><td>0.27565</td></tr><tr><td>recall_XGB_FP</td><td>0.65467</td></tr><tr><td>roc_auc_XGB_FP</td><td>0.68278</td></tr></table><br/></div></div>"
      ],
      "text/plain": [
       "<IPython.core.display.HTML object>"
      ]
     },
     "metadata": {},
     "output_type": "display_data"
    },
    {
     "data": {
      "text/html": [
       " View run <strong style=\"color:#cdcd00\">azure-sweep-4</strong> at: <a href='https://wandb.ai/ignacio-onate/cw-challenge-model-XGB-ht/runs/u4nb7gu4' target=\"_blank\">https://wandb.ai/ignacio-onate/cw-challenge-model-XGB-ht/runs/u4nb7gu4</a><br/>Synced 5 W&B file(s), 0 media file(s), 0 artifact file(s) and 0 other file(s)"
      ],
      "text/plain": [
       "<IPython.core.display.HTML object>"
      ]
     },
     "metadata": {},
     "output_type": "display_data"
    },
    {
     "data": {
      "text/html": [
       "Find logs at: <code>.\\wandb\\run-20230326_180108-u4nb7gu4\\logs</code>"
      ],
      "text/plain": [
       "<IPython.core.display.HTML object>"
      ]
     },
     "metadata": {},
     "output_type": "display_data"
    },
    {
     "name": "stderr",
     "output_type": "stream",
     "text": [
      "\u001b[34m\u001b[1mwandb\u001b[0m: Agent Starting Run: ufvybf0s with config:\n",
      "\u001b[34m\u001b[1mwandb\u001b[0m: \tlearning_rate: 0.1\n",
      "\u001b[34m\u001b[1mwandb\u001b[0m: \tn_estimators: 50\n",
      "\u001b[34m\u001b[1mwandb\u001b[0m: \tsubsample: 0.5\n"
     ]
    },
    {
     "data": {
      "text/html": [
       "Tracking run with wandb version 0.14.0"
      ],
      "text/plain": [
       "<IPython.core.display.HTML object>"
      ]
     },
     "metadata": {},
     "output_type": "display_data"
    },
    {
     "data": {
      "text/html": [
       "Run data is saved locally in <code>C:\\Users\\JhonG\\Documents\\nw-challenge\\nw-challenge\\model\\wandb\\run-20230326_180125-ufvybf0s</code>"
      ],
      "text/plain": [
       "<IPython.core.display.HTML object>"
      ]
     },
     "metadata": {},
     "output_type": "display_data"
    },
    {
     "data": {
      "text/html": [
       "Syncing run <strong><a href='https://wandb.ai/ignacio-onate/cw-challenge-model-XGB-ht/runs/ufvybf0s' target=\"_blank\">easy-sweep-5</a></strong> to <a href='https://wandb.ai/ignacio-onate/cw-challenge-model-XGB-ht' target=\"_blank\">Weights & Biases</a> (<a href='https://wandb.me/run' target=\"_blank\">docs</a>)<br/>Sweep page: <a href='https://wandb.ai/ignacio-onate/cw-challenge-model-XGB-ht/sweeps/lxyem30k' target=\"_blank\">https://wandb.ai/ignacio-onate/cw-challenge-model-XGB-ht/sweeps/lxyem30k</a>"
      ],
      "text/plain": [
       "<IPython.core.display.HTML object>"
      ]
     },
     "metadata": {},
     "output_type": "display_data"
    },
    {
     "data": {
      "text/html": [
       " View project at <a href='https://wandb.ai/ignacio-onate/cw-challenge-model-XGB-ht' target=\"_blank\">https://wandb.ai/ignacio-onate/cw-challenge-model-XGB-ht</a>"
      ],
      "text/plain": [
       "<IPython.core.display.HTML object>"
      ]
     },
     "metadata": {},
     "output_type": "display_data"
    },
    {
     "data": {
      "text/html": [
       " View sweep at <a href='https://wandb.ai/ignacio-onate/cw-challenge-model-XGB-ht/sweeps/lxyem30k' target=\"_blank\">https://wandb.ai/ignacio-onate/cw-challenge-model-XGB-ht/sweeps/lxyem30k</a>"
      ],
      "text/plain": [
       "<IPython.core.display.HTML object>"
      ]
     },
     "metadata": {},
     "output_type": "display_data"
    },
    {
     "data": {
      "text/html": [
       " View run at <a href='https://wandb.ai/ignacio-onate/cw-challenge-model-XGB-ht/runs/ufvybf0s' target=\"_blank\">https://wandb.ai/ignacio-onate/cw-challenge-model-XGB-ht/runs/ufvybf0s</a>"
      ],
      "text/plain": [
       "<IPython.core.display.HTML object>"
      ]
     },
     "metadata": {},
     "output_type": "display_data"
    },
    {
     "name": "stdout",
     "output_type": "stream",
     "text": [
      "Modelo:  XGB_FP\n"
     ]
    },
    {
     "data": {
      "text/html": [
       "Waiting for W&B process to finish... <strong style=\"color:green\">(success).</strong>"
      ],
      "text/plain": [
       "<IPython.core.display.HTML object>"
      ]
     },
     "metadata": {},
     "output_type": "display_data"
    },
    {
     "data": {
      "text/html": [
       "<style>\n",
       "    table.wandb td:nth-child(1) { padding: 0 10px; text-align: left ; width: auto;} td:nth-child(2) {text-align: left ; width: 100%}\n",
       "    .wandb-row { display: flex; flex-direction: row; flex-wrap: wrap; justify-content: flex-start; width: 100% }\n",
       "    .wandb-col { display: flex; flex-direction: column; flex-basis: 100%; flex: 1; padding: 10px; }\n",
       "    </style>\n",
       "<div class=\"wandb-row\"><div class=\"wandb-col\"><h3>Run history:</h3><br/><table class=\"wandb\"><tr><td>accuracy_XGB_FP</td><td>▁</td></tr><tr><td>f1_XGB_FP</td><td>▁</td></tr><tr><td>precision_XGB_FP</td><td>▁</td></tr><tr><td>recall_XGB_FP</td><td>▁</td></tr><tr><td>roc_auc_XGB_FP</td><td>▁</td></tr></table><br/></div><div class=\"wandb-col\"><h3>Run summary:</h3><br/><table class=\"wandb\"><tr><td>accuracy_XGB_FP</td><td>0.62349</td></tr><tr><td>f1_XGB_FP</td><td>0.3914</td></tr><tr><td>precision_XGB_FP</td><td>0.27932</td></tr><tr><td>recall_XGB_FP</td><td>0.65443</td></tr><tr><td>roc_auc_XGB_FP</td><td>0.68514</td></tr></table><br/></div></div>"
      ],
      "text/plain": [
       "<IPython.core.display.HTML object>"
      ]
     },
     "metadata": {},
     "output_type": "display_data"
    },
    {
     "data": {
      "text/html": [
       " View run <strong style=\"color:#cdcd00\">easy-sweep-5</strong> at: <a href='https://wandb.ai/ignacio-onate/cw-challenge-model-XGB-ht/runs/ufvybf0s' target=\"_blank\">https://wandb.ai/ignacio-onate/cw-challenge-model-XGB-ht/runs/ufvybf0s</a><br/>Synced 5 W&B file(s), 0 media file(s), 0 artifact file(s) and 0 other file(s)"
      ],
      "text/plain": [
       "<IPython.core.display.HTML object>"
      ]
     },
     "metadata": {},
     "output_type": "display_data"
    },
    {
     "data": {
      "text/html": [
       "Find logs at: <code>.\\wandb\\run-20230326_180125-ufvybf0s\\logs</code>"
      ],
      "text/plain": [
       "<IPython.core.display.HTML object>"
      ]
     },
     "metadata": {},
     "output_type": "display_data"
    },
    {
     "name": "stderr",
     "output_type": "stream",
     "text": [
      "\u001b[34m\u001b[1mwandb\u001b[0m: Agent Starting Run: x7v73wkf with config:\n",
      "\u001b[34m\u001b[1mwandb\u001b[0m: \tlearning_rate: 0.01\n",
      "\u001b[34m\u001b[1mwandb\u001b[0m: \tn_estimators: 100\n",
      "\u001b[34m\u001b[1mwandb\u001b[0m: \tsubsample: 0.5\n"
     ]
    },
    {
     "data": {
      "text/html": [
       "Tracking run with wandb version 0.14.0"
      ],
      "text/plain": [
       "<IPython.core.display.HTML object>"
      ]
     },
     "metadata": {},
     "output_type": "display_data"
    },
    {
     "data": {
      "text/html": [
       "Run data is saved locally in <code>C:\\Users\\JhonG\\Documents\\nw-challenge\\nw-challenge\\model\\wandb\\run-20230326_180141-x7v73wkf</code>"
      ],
      "text/plain": [
       "<IPython.core.display.HTML object>"
      ]
     },
     "metadata": {},
     "output_type": "display_data"
    },
    {
     "data": {
      "text/html": [
       "Syncing run <strong><a href='https://wandb.ai/ignacio-onate/cw-challenge-model-XGB-ht/runs/x7v73wkf' target=\"_blank\">vivid-sweep-6</a></strong> to <a href='https://wandb.ai/ignacio-onate/cw-challenge-model-XGB-ht' target=\"_blank\">Weights & Biases</a> (<a href='https://wandb.me/run' target=\"_blank\">docs</a>)<br/>Sweep page: <a href='https://wandb.ai/ignacio-onate/cw-challenge-model-XGB-ht/sweeps/lxyem30k' target=\"_blank\">https://wandb.ai/ignacio-onate/cw-challenge-model-XGB-ht/sweeps/lxyem30k</a>"
      ],
      "text/plain": [
       "<IPython.core.display.HTML object>"
      ]
     },
     "metadata": {},
     "output_type": "display_data"
    },
    {
     "data": {
      "text/html": [
       " View project at <a href='https://wandb.ai/ignacio-onate/cw-challenge-model-XGB-ht' target=\"_blank\">https://wandb.ai/ignacio-onate/cw-challenge-model-XGB-ht</a>"
      ],
      "text/plain": [
       "<IPython.core.display.HTML object>"
      ]
     },
     "metadata": {},
     "output_type": "display_data"
    },
    {
     "data": {
      "text/html": [
       " View sweep at <a href='https://wandb.ai/ignacio-onate/cw-challenge-model-XGB-ht/sweeps/lxyem30k' target=\"_blank\">https://wandb.ai/ignacio-onate/cw-challenge-model-XGB-ht/sweeps/lxyem30k</a>"
      ],
      "text/plain": [
       "<IPython.core.display.HTML object>"
      ]
     },
     "metadata": {},
     "output_type": "display_data"
    },
    {
     "data": {
      "text/html": [
       " View run at <a href='https://wandb.ai/ignacio-onate/cw-challenge-model-XGB-ht/runs/x7v73wkf' target=\"_blank\">https://wandb.ai/ignacio-onate/cw-challenge-model-XGB-ht/runs/x7v73wkf</a>"
      ],
      "text/plain": [
       "<IPython.core.display.HTML object>"
      ]
     },
     "metadata": {},
     "output_type": "display_data"
    },
    {
     "name": "stdout",
     "output_type": "stream",
     "text": [
      "Modelo:  XGB_FP\n"
     ]
    },
    {
     "data": {
      "text/html": [
       "Waiting for W&B process to finish... <strong style=\"color:green\">(success).</strong>"
      ],
      "text/plain": [
       "<IPython.core.display.HTML object>"
      ]
     },
     "metadata": {},
     "output_type": "display_data"
    },
    {
     "data": {
      "text/html": [
       "<style>\n",
       "    table.wandb td:nth-child(1) { padding: 0 10px; text-align: left ; width: auto;} td:nth-child(2) {text-align: left ; width: 100%}\n",
       "    .wandb-row { display: flex; flex-direction: row; flex-wrap: wrap; justify-content: flex-start; width: 100% }\n",
       "    .wandb-col { display: flex; flex-direction: column; flex-basis: 100%; flex: 1; padding: 10px; }\n",
       "    </style>\n",
       "<div class=\"wandb-row\"><div class=\"wandb-col\"><h3>Run history:</h3><br/><table class=\"wandb\"><tr><td>accuracy_XGB_FP</td><td>▁</td></tr><tr><td>f1_XGB_FP</td><td>▁</td></tr><tr><td>precision_XGB_FP</td><td>▁</td></tr><tr><td>recall_XGB_FP</td><td>▁</td></tr><tr><td>roc_auc_XGB_FP</td><td>▁</td></tr></table><br/></div><div class=\"wandb-col\"><h3>Run summary:</h3><br/><table class=\"wandb\"><tr><td>accuracy_XGB_FP</td><td>0.59854</td></tr><tr><td>f1_XGB_FP</td><td>0.38459</td></tr><tr><td>precision_XGB_FP</td><td>0.26851</td></tr><tr><td>recall_XGB_FP</td><td>0.67798</td></tr><tr><td>roc_auc_XGB_FP</td><td>0.67866</td></tr></table><br/></div></div>"
      ],
      "text/plain": [
       "<IPython.core.display.HTML object>"
      ]
     },
     "metadata": {},
     "output_type": "display_data"
    },
    {
     "data": {
      "text/html": [
       " View run <strong style=\"color:#cdcd00\">vivid-sweep-6</strong> at: <a href='https://wandb.ai/ignacio-onate/cw-challenge-model-XGB-ht/runs/x7v73wkf' target=\"_blank\">https://wandb.ai/ignacio-onate/cw-challenge-model-XGB-ht/runs/x7v73wkf</a><br/>Synced 5 W&B file(s), 0 media file(s), 0 artifact file(s) and 0 other file(s)"
      ],
      "text/plain": [
       "<IPython.core.display.HTML object>"
      ]
     },
     "metadata": {},
     "output_type": "display_data"
    },
    {
     "data": {
      "text/html": [
       "Find logs at: <code>.\\wandb\\run-20230326_180141-x7v73wkf\\logs</code>"
      ],
      "text/plain": [
       "<IPython.core.display.HTML object>"
      ]
     },
     "metadata": {},
     "output_type": "display_data"
    },
    {
     "name": "stderr",
     "output_type": "stream",
     "text": [
      "\u001b[34m\u001b[1mwandb\u001b[0m: Sweep Agent: Waiting for job.\n",
      "\u001b[34m\u001b[1mwandb\u001b[0m: Job received.\n",
      "\u001b[34m\u001b[1mwandb\u001b[0m: Agent Starting Run: vb6fzpur with config:\n",
      "\u001b[34m\u001b[1mwandb\u001b[0m: \tlearning_rate: 0.01\n",
      "\u001b[34m\u001b[1mwandb\u001b[0m: \tn_estimators: 50\n",
      "\u001b[34m\u001b[1mwandb\u001b[0m: \tsubsample: 0.9\n"
     ]
    },
    {
     "data": {
      "text/html": [
       "Tracking run with wandb version 0.14.0"
      ],
      "text/plain": [
       "<IPython.core.display.HTML object>"
      ]
     },
     "metadata": {},
     "output_type": "display_data"
    },
    {
     "data": {
      "text/html": [
       "Run data is saved locally in <code>C:\\Users\\JhonG\\Documents\\nw-challenge\\nw-challenge\\model\\wandb\\run-20230326_180206-vb6fzpur</code>"
      ],
      "text/plain": [
       "<IPython.core.display.HTML object>"
      ]
     },
     "metadata": {},
     "output_type": "display_data"
    },
    {
     "data": {
      "text/html": [
       "Syncing run <strong><a href='https://wandb.ai/ignacio-onate/cw-challenge-model-XGB-ht/runs/vb6fzpur' target=\"_blank\">jumping-sweep-7</a></strong> to <a href='https://wandb.ai/ignacio-onate/cw-challenge-model-XGB-ht' target=\"_blank\">Weights & Biases</a> (<a href='https://wandb.me/run' target=\"_blank\">docs</a>)<br/>Sweep page: <a href='https://wandb.ai/ignacio-onate/cw-challenge-model-XGB-ht/sweeps/lxyem30k' target=\"_blank\">https://wandb.ai/ignacio-onate/cw-challenge-model-XGB-ht/sweeps/lxyem30k</a>"
      ],
      "text/plain": [
       "<IPython.core.display.HTML object>"
      ]
     },
     "metadata": {},
     "output_type": "display_data"
    },
    {
     "data": {
      "text/html": [
       " View project at <a href='https://wandb.ai/ignacio-onate/cw-challenge-model-XGB-ht' target=\"_blank\">https://wandb.ai/ignacio-onate/cw-challenge-model-XGB-ht</a>"
      ],
      "text/plain": [
       "<IPython.core.display.HTML object>"
      ]
     },
     "metadata": {},
     "output_type": "display_data"
    },
    {
     "data": {
      "text/html": [
       " View sweep at <a href='https://wandb.ai/ignacio-onate/cw-challenge-model-XGB-ht/sweeps/lxyem30k' target=\"_blank\">https://wandb.ai/ignacio-onate/cw-challenge-model-XGB-ht/sweeps/lxyem30k</a>"
      ],
      "text/plain": [
       "<IPython.core.display.HTML object>"
      ]
     },
     "metadata": {},
     "output_type": "display_data"
    },
    {
     "data": {
      "text/html": [
       " View run at <a href='https://wandb.ai/ignacio-onate/cw-challenge-model-XGB-ht/runs/vb6fzpur' target=\"_blank\">https://wandb.ai/ignacio-onate/cw-challenge-model-XGB-ht/runs/vb6fzpur</a>"
      ],
      "text/plain": [
       "<IPython.core.display.HTML object>"
      ]
     },
     "metadata": {},
     "output_type": "display_data"
    },
    {
     "name": "stdout",
     "output_type": "stream",
     "text": [
      "Modelo:  XGB_FP\n"
     ]
    },
    {
     "data": {
      "text/html": [
       "Waiting for W&B process to finish... <strong style=\"color:green\">(success).</strong>"
      ],
      "text/plain": [
       "<IPython.core.display.HTML object>"
      ]
     },
     "metadata": {},
     "output_type": "display_data"
    },
    {
     "data": {
      "text/html": [
       "<style>\n",
       "    table.wandb td:nth-child(1) { padding: 0 10px; text-align: left ; width: auto;} td:nth-child(2) {text-align: left ; width: 100%}\n",
       "    .wandb-row { display: flex; flex-direction: row; flex-wrap: wrap; justify-content: flex-start; width: 100% }\n",
       "    .wandb-col { display: flex; flex-direction: column; flex-basis: 100%; flex: 1; padding: 10px; }\n",
       "    </style>\n",
       "<div class=\"wandb-row\"><div class=\"wandb-col\"><h3>Run history:</h3><br/><table class=\"wandb\"><tr><td>accuracy_XGB_FP</td><td>▁</td></tr><tr><td>f1_XGB_FP</td><td>▁</td></tr><tr><td>precision_XGB_FP</td><td>▁</td></tr><tr><td>recall_XGB_FP</td><td>▁</td></tr><tr><td>roc_auc_XGB_FP</td><td>▁</td></tr></table><br/></div><div class=\"wandb-col\"><h3>Run summary:</h3><br/><table class=\"wandb\"><tr><td>accuracy_XGB_FP</td><td>0.58694</td></tr><tr><td>f1_XGB_FP</td><td>0.38103</td></tr><tr><td>precision_XGB_FP</td><td>0.26379</td></tr><tr><td>recall_XGB_FP</td><td>0.68718</td></tr><tr><td>roc_auc_XGB_FP</td><td>0.6745</td></tr></table><br/></div></div>"
      ],
      "text/plain": [
       "<IPython.core.display.HTML object>"
      ]
     },
     "metadata": {},
     "output_type": "display_data"
    },
    {
     "data": {
      "text/html": [
       " View run <strong style=\"color:#cdcd00\">jumping-sweep-7</strong> at: <a href='https://wandb.ai/ignacio-onate/cw-challenge-model-XGB-ht/runs/vb6fzpur' target=\"_blank\">https://wandb.ai/ignacio-onate/cw-challenge-model-XGB-ht/runs/vb6fzpur</a><br/>Synced 5 W&B file(s), 0 media file(s), 0 artifact file(s) and 0 other file(s)"
      ],
      "text/plain": [
       "<IPython.core.display.HTML object>"
      ]
     },
     "metadata": {},
     "output_type": "display_data"
    },
    {
     "data": {
      "text/html": [
       "Find logs at: <code>.\\wandb\\run-20230326_180206-vb6fzpur\\logs</code>"
      ],
      "text/plain": [
       "<IPython.core.display.HTML object>"
      ]
     },
     "metadata": {},
     "output_type": "display_data"
    },
    {
     "name": "stderr",
     "output_type": "stream",
     "text": [
      "\u001b[34m\u001b[1mwandb\u001b[0m: Sweep Agent: Waiting for job.\n",
      "\u001b[34m\u001b[1mwandb\u001b[0m: Job received.\n",
      "\u001b[34m\u001b[1mwandb\u001b[0m: Agent Starting Run: h5k1gfvl with config:\n",
      "\u001b[34m\u001b[1mwandb\u001b[0m: \tlearning_rate: 0.01\n",
      "\u001b[34m\u001b[1mwandb\u001b[0m: \tn_estimators: 100\n",
      "\u001b[34m\u001b[1mwandb\u001b[0m: \tsubsample: 0.5\n"
     ]
    },
    {
     "data": {
      "text/html": [
       "Tracking run with wandb version 0.14.0"
      ],
      "text/plain": [
       "<IPython.core.display.HTML object>"
      ]
     },
     "metadata": {},
     "output_type": "display_data"
    },
    {
     "data": {
      "text/html": [
       "Run data is saved locally in <code>C:\\Users\\JhonG\\Documents\\nw-challenge\\nw-challenge\\model\\wandb\\run-20230326_180227-h5k1gfvl</code>"
      ],
      "text/plain": [
       "<IPython.core.display.HTML object>"
      ]
     },
     "metadata": {},
     "output_type": "display_data"
    },
    {
     "data": {
      "text/html": [
       "Syncing run <strong><a href='https://wandb.ai/ignacio-onate/cw-challenge-model-XGB-ht/runs/h5k1gfvl' target=\"_blank\">swept-sweep-8</a></strong> to <a href='https://wandb.ai/ignacio-onate/cw-challenge-model-XGB-ht' target=\"_blank\">Weights & Biases</a> (<a href='https://wandb.me/run' target=\"_blank\">docs</a>)<br/>Sweep page: <a href='https://wandb.ai/ignacio-onate/cw-challenge-model-XGB-ht/sweeps/lxyem30k' target=\"_blank\">https://wandb.ai/ignacio-onate/cw-challenge-model-XGB-ht/sweeps/lxyem30k</a>"
      ],
      "text/plain": [
       "<IPython.core.display.HTML object>"
      ]
     },
     "metadata": {},
     "output_type": "display_data"
    },
    {
     "data": {
      "text/html": [
       " View project at <a href='https://wandb.ai/ignacio-onate/cw-challenge-model-XGB-ht' target=\"_blank\">https://wandb.ai/ignacio-onate/cw-challenge-model-XGB-ht</a>"
      ],
      "text/plain": [
       "<IPython.core.display.HTML object>"
      ]
     },
     "metadata": {},
     "output_type": "display_data"
    },
    {
     "data": {
      "text/html": [
       " View sweep at <a href='https://wandb.ai/ignacio-onate/cw-challenge-model-XGB-ht/sweeps/lxyem30k' target=\"_blank\">https://wandb.ai/ignacio-onate/cw-challenge-model-XGB-ht/sweeps/lxyem30k</a>"
      ],
      "text/plain": [
       "<IPython.core.display.HTML object>"
      ]
     },
     "metadata": {},
     "output_type": "display_data"
    },
    {
     "data": {
      "text/html": [
       " View run at <a href='https://wandb.ai/ignacio-onate/cw-challenge-model-XGB-ht/runs/h5k1gfvl' target=\"_blank\">https://wandb.ai/ignacio-onate/cw-challenge-model-XGB-ht/runs/h5k1gfvl</a>"
      ],
      "text/plain": [
       "<IPython.core.display.HTML object>"
      ]
     },
     "metadata": {},
     "output_type": "display_data"
    },
    {
     "name": "stdout",
     "output_type": "stream",
     "text": [
      "Modelo:  XGB_FP\n"
     ]
    },
    {
     "data": {
      "text/html": [
       "Waiting for W&B process to finish... <strong style=\"color:green\">(success).</strong>"
      ],
      "text/plain": [
       "<IPython.core.display.HTML object>"
      ]
     },
     "metadata": {},
     "output_type": "display_data"
    },
    {
     "data": {
      "text/html": [
       "<style>\n",
       "    table.wandb td:nth-child(1) { padding: 0 10px; text-align: left ; width: auto;} td:nth-child(2) {text-align: left ; width: 100%}\n",
       "    .wandb-row { display: flex; flex-direction: row; flex-wrap: wrap; justify-content: flex-start; width: 100% }\n",
       "    .wandb-col { display: flex; flex-direction: column; flex-basis: 100%; flex: 1; padding: 10px; }\n",
       "    </style>\n",
       "<div class=\"wandb-row\"><div class=\"wandb-col\"><h3>Run history:</h3><br/><table class=\"wandb\"><tr><td>accuracy_XGB_FP</td><td>▁</td></tr><tr><td>f1_XGB_FP</td><td>▁</td></tr><tr><td>precision_XGB_FP</td><td>▁</td></tr><tr><td>recall_XGB_FP</td><td>▁</td></tr><tr><td>roc_auc_XGB_FP</td><td>▁</td></tr></table><br/></div><div class=\"wandb-col\"><h3>Run summary:</h3><br/><table class=\"wandb\"><tr><td>accuracy_XGB_FP</td><td>0.59624</td></tr><tr><td>f1_XGB_FP</td><td>0.3865</td></tr><tr><td>precision_XGB_FP</td><td>0.26891</td></tr><tr><td>recall_XGB_FP</td><td>0.68741</td></tr><tr><td>roc_auc_XGB_FP</td><td>0.67911</td></tr></table><br/></div></div>"
      ],
      "text/plain": [
       "<IPython.core.display.HTML object>"
      ]
     },
     "metadata": {},
     "output_type": "display_data"
    },
    {
     "data": {
      "text/html": [
       " View run <strong style=\"color:#cdcd00\">swept-sweep-8</strong> at: <a href='https://wandb.ai/ignacio-onate/cw-challenge-model-XGB-ht/runs/h5k1gfvl' target=\"_blank\">https://wandb.ai/ignacio-onate/cw-challenge-model-XGB-ht/runs/h5k1gfvl</a><br/>Synced 5 W&B file(s), 0 media file(s), 0 artifact file(s) and 0 other file(s)"
      ],
      "text/plain": [
       "<IPython.core.display.HTML object>"
      ]
     },
     "metadata": {},
     "output_type": "display_data"
    },
    {
     "data": {
      "text/html": [
       "Find logs at: <code>.\\wandb\\run-20230326_180227-h5k1gfvl\\logs</code>"
      ],
      "text/plain": [
       "<IPython.core.display.HTML object>"
      ]
     },
     "metadata": {},
     "output_type": "display_data"
    },
    {
     "name": "stderr",
     "output_type": "stream",
     "text": [
      "\u001b[34m\u001b[1mwandb\u001b[0m: Agent Starting Run: spse8ghc with config:\n",
      "\u001b[34m\u001b[1mwandb\u001b[0m: \tlearning_rate: 0.1\n",
      "\u001b[34m\u001b[1mwandb\u001b[0m: \tn_estimators: 50\n",
      "\u001b[34m\u001b[1mwandb\u001b[0m: \tsubsample: 0.5\n"
     ]
    },
    {
     "data": {
      "text/html": [
       "Tracking run with wandb version 0.14.0"
      ],
      "text/plain": [
       "<IPython.core.display.HTML object>"
      ]
     },
     "metadata": {},
     "output_type": "display_data"
    },
    {
     "data": {
      "text/html": [
       "Run data is saved locally in <code>C:\\Users\\JhonG\\Documents\\nw-challenge\\nw-challenge\\model\\wandb\\run-20230326_180244-spse8ghc</code>"
      ],
      "text/plain": [
       "<IPython.core.display.HTML object>"
      ]
     },
     "metadata": {},
     "output_type": "display_data"
    },
    {
     "data": {
      "text/html": [
       "Syncing run <strong><a href='https://wandb.ai/ignacio-onate/cw-challenge-model-XGB-ht/runs/spse8ghc' target=\"_blank\">wobbly-sweep-9</a></strong> to <a href='https://wandb.ai/ignacio-onate/cw-challenge-model-XGB-ht' target=\"_blank\">Weights & Biases</a> (<a href='https://wandb.me/run' target=\"_blank\">docs</a>)<br/>Sweep page: <a href='https://wandb.ai/ignacio-onate/cw-challenge-model-XGB-ht/sweeps/lxyem30k' target=\"_blank\">https://wandb.ai/ignacio-onate/cw-challenge-model-XGB-ht/sweeps/lxyem30k</a>"
      ],
      "text/plain": [
       "<IPython.core.display.HTML object>"
      ]
     },
     "metadata": {},
     "output_type": "display_data"
    },
    {
     "data": {
      "text/html": [
       " View project at <a href='https://wandb.ai/ignacio-onate/cw-challenge-model-XGB-ht' target=\"_blank\">https://wandb.ai/ignacio-onate/cw-challenge-model-XGB-ht</a>"
      ],
      "text/plain": [
       "<IPython.core.display.HTML object>"
      ]
     },
     "metadata": {},
     "output_type": "display_data"
    },
    {
     "data": {
      "text/html": [
       " View sweep at <a href='https://wandb.ai/ignacio-onate/cw-challenge-model-XGB-ht/sweeps/lxyem30k' target=\"_blank\">https://wandb.ai/ignacio-onate/cw-challenge-model-XGB-ht/sweeps/lxyem30k</a>"
      ],
      "text/plain": [
       "<IPython.core.display.HTML object>"
      ]
     },
     "metadata": {},
     "output_type": "display_data"
    },
    {
     "data": {
      "text/html": [
       " View run at <a href='https://wandb.ai/ignacio-onate/cw-challenge-model-XGB-ht/runs/spse8ghc' target=\"_blank\">https://wandb.ai/ignacio-onate/cw-challenge-model-XGB-ht/runs/spse8ghc</a>"
      ],
      "text/plain": [
       "<IPython.core.display.HTML object>"
      ]
     },
     "metadata": {},
     "output_type": "display_data"
    },
    {
     "name": "stdout",
     "output_type": "stream",
     "text": [
      "Modelo:  XGB_FP\n"
     ]
    },
    {
     "data": {
      "text/html": [
       "Waiting for W&B process to finish... <strong style=\"color:green\">(success).</strong>"
      ],
      "text/plain": [
       "<IPython.core.display.HTML object>"
      ]
     },
     "metadata": {},
     "output_type": "display_data"
    },
    {
     "data": {
      "text/html": [
       "<style>\n",
       "    table.wandb td:nth-child(1) { padding: 0 10px; text-align: left ; width: auto;} td:nth-child(2) {text-align: left ; width: 100%}\n",
       "    .wandb-row { display: flex; flex-direction: row; flex-wrap: wrap; justify-content: flex-start; width: 100% }\n",
       "    .wandb-col { display: flex; flex-direction: column; flex-basis: 100%; flex: 1; padding: 10px; }\n",
       "    </style>\n",
       "<div class=\"wandb-row\"><div class=\"wandb-col\"><h3>Run history:</h3><br/><table class=\"wandb\"><tr><td>accuracy_XGB_FP</td><td>▁</td></tr><tr><td>f1_XGB_FP</td><td>▁</td></tr><tr><td>precision_XGB_FP</td><td>▁</td></tr><tr><td>recall_XGB_FP</td><td>▁</td></tr><tr><td>roc_auc_XGB_FP</td><td>▁</td></tr></table><br/></div><div class=\"wandb-col\"><h3>Run summary:</h3><br/><table class=\"wandb\"><tr><td>accuracy_XGB_FP</td><td>0.62594</td></tr><tr><td>f1_XGB_FP</td><td>0.3901</td></tr><tr><td>precision_XGB_FP</td><td>0.27948</td></tr><tr><td>recall_XGB_FP</td><td>0.64674</td></tr><tr><td>roc_auc_XGB_FP</td><td>0.68376</td></tr></table><br/></div></div>"
      ],
      "text/plain": [
       "<IPython.core.display.HTML object>"
      ]
     },
     "metadata": {},
     "output_type": "display_data"
    },
    {
     "data": {
      "text/html": [
       " View run <strong style=\"color:#cdcd00\">wobbly-sweep-9</strong> at: <a href='https://wandb.ai/ignacio-onate/cw-challenge-model-XGB-ht/runs/spse8ghc' target=\"_blank\">https://wandb.ai/ignacio-onate/cw-challenge-model-XGB-ht/runs/spse8ghc</a><br/>Synced 5 W&B file(s), 0 media file(s), 0 artifact file(s) and 0 other file(s)"
      ],
      "text/plain": [
       "<IPython.core.display.HTML object>"
      ]
     },
     "metadata": {},
     "output_type": "display_data"
    },
    {
     "data": {
      "text/html": [
       "Find logs at: <code>.\\wandb\\run-20230326_180244-spse8ghc\\logs</code>"
      ],
      "text/plain": [
       "<IPython.core.display.HTML object>"
      ]
     },
     "metadata": {},
     "output_type": "display_data"
    },
    {
     "name": "stderr",
     "output_type": "stream",
     "text": [
      "\u001b[34m\u001b[1mwandb\u001b[0m: Agent Starting Run: p79h49p7 with config:\n",
      "\u001b[34m\u001b[1mwandb\u001b[0m: \tlearning_rate: 0.01\n",
      "\u001b[34m\u001b[1mwandb\u001b[0m: \tn_estimators: 150\n",
      "\u001b[34m\u001b[1mwandb\u001b[0m: \tsubsample: 0.5\n"
     ]
    },
    {
     "data": {
      "text/html": [
       "Tracking run with wandb version 0.14.0"
      ],
      "text/plain": [
       "<IPython.core.display.HTML object>"
      ]
     },
     "metadata": {},
     "output_type": "display_data"
    },
    {
     "data": {
      "text/html": [
       "Run data is saved locally in <code>C:\\Users\\JhonG\\Documents\\nw-challenge\\nw-challenge\\model\\wandb\\run-20230326_180301-p79h49p7</code>"
      ],
      "text/plain": [
       "<IPython.core.display.HTML object>"
      ]
     },
     "metadata": {},
     "output_type": "display_data"
    },
    {
     "data": {
      "text/html": [
       "Syncing run <strong><a href='https://wandb.ai/ignacio-onate/cw-challenge-model-XGB-ht/runs/p79h49p7' target=\"_blank\">fluent-sweep-10</a></strong> to <a href='https://wandb.ai/ignacio-onate/cw-challenge-model-XGB-ht' target=\"_blank\">Weights & Biases</a> (<a href='https://wandb.me/run' target=\"_blank\">docs</a>)<br/>Sweep page: <a href='https://wandb.ai/ignacio-onate/cw-challenge-model-XGB-ht/sweeps/lxyem30k' target=\"_blank\">https://wandb.ai/ignacio-onate/cw-challenge-model-XGB-ht/sweeps/lxyem30k</a>"
      ],
      "text/plain": [
       "<IPython.core.display.HTML object>"
      ]
     },
     "metadata": {},
     "output_type": "display_data"
    },
    {
     "data": {
      "text/html": [
       " View project at <a href='https://wandb.ai/ignacio-onate/cw-challenge-model-XGB-ht' target=\"_blank\">https://wandb.ai/ignacio-onate/cw-challenge-model-XGB-ht</a>"
      ],
      "text/plain": [
       "<IPython.core.display.HTML object>"
      ]
     },
     "metadata": {},
     "output_type": "display_data"
    },
    {
     "data": {
      "text/html": [
       " View sweep at <a href='https://wandb.ai/ignacio-onate/cw-challenge-model-XGB-ht/sweeps/lxyem30k' target=\"_blank\">https://wandb.ai/ignacio-onate/cw-challenge-model-XGB-ht/sweeps/lxyem30k</a>"
      ],
      "text/plain": [
       "<IPython.core.display.HTML object>"
      ]
     },
     "metadata": {},
     "output_type": "display_data"
    },
    {
     "data": {
      "text/html": [
       " View run at <a href='https://wandb.ai/ignacio-onate/cw-challenge-model-XGB-ht/runs/p79h49p7' target=\"_blank\">https://wandb.ai/ignacio-onate/cw-challenge-model-XGB-ht/runs/p79h49p7</a>"
      ],
      "text/plain": [
       "<IPython.core.display.HTML object>"
      ]
     },
     "metadata": {},
     "output_type": "display_data"
    },
    {
     "name": "stdout",
     "output_type": "stream",
     "text": [
      "Modelo:  XGB_FP\n"
     ]
    },
    {
     "data": {
      "text/html": [
       "Waiting for W&B process to finish... <strong style=\"color:green\">(success).</strong>"
      ],
      "text/plain": [
       "<IPython.core.display.HTML object>"
      ]
     },
     "metadata": {},
     "output_type": "display_data"
    },
    {
     "data": {
      "text/html": [
       "<style>\n",
       "    table.wandb td:nth-child(1) { padding: 0 10px; text-align: left ; width: auto;} td:nth-child(2) {text-align: left ; width: 100%}\n",
       "    .wandb-row { display: flex; flex-direction: row; flex-wrap: wrap; justify-content: flex-start; width: 100% }\n",
       "    .wandb-col { display: flex; flex-direction: column; flex-basis: 100%; flex: 1; padding: 10px; }\n",
       "    </style>\n",
       "<div class=\"wandb-row\"><div class=\"wandb-col\"><h3>Run history:</h3><br/><table class=\"wandb\"><tr><td>accuracy_XGB_FP</td><td>▁</td></tr><tr><td>f1_XGB_FP</td><td>▁</td></tr><tr><td>precision_XGB_FP</td><td>▁</td></tr><tr><td>recall_XGB_FP</td><td>▁</td></tr><tr><td>roc_auc_XGB_FP</td><td>▁</td></tr></table><br/></div><div class=\"wandb-col\"><h3>Run summary:</h3><br/><table class=\"wandb\"><tr><td>accuracy_XGB_FP</td><td>0.60284</td></tr><tr><td>f1_XGB_FP</td><td>0.38596</td></tr><tr><td>precision_XGB_FP</td><td>0.27029</td></tr><tr><td>recall_XGB_FP</td><td>0.67489</td></tr><tr><td>roc_auc_XGB_FP</td><td>0.68013</td></tr></table><br/></div></div>"
      ],
      "text/plain": [
       "<IPython.core.display.HTML object>"
      ]
     },
     "metadata": {},
     "output_type": "display_data"
    },
    {
     "data": {
      "text/html": [
       " View run <strong style=\"color:#cdcd00\">fluent-sweep-10</strong> at: <a href='https://wandb.ai/ignacio-onate/cw-challenge-model-XGB-ht/runs/p79h49p7' target=\"_blank\">https://wandb.ai/ignacio-onate/cw-challenge-model-XGB-ht/runs/p79h49p7</a><br/>Synced 5 W&B file(s), 0 media file(s), 0 artifact file(s) and 0 other file(s)"
      ],
      "text/plain": [
       "<IPython.core.display.HTML object>"
      ]
     },
     "metadata": {},
     "output_type": "display_data"
    },
    {
     "data": {
      "text/html": [
       "Find logs at: <code>.\\wandb\\run-20230326_180301-p79h49p7\\logs</code>"
      ],
      "text/plain": [
       "<IPython.core.display.HTML object>"
      ]
     },
     "metadata": {},
     "output_type": "display_data"
    },
    {
     "name": "stderr",
     "output_type": "stream",
     "text": [
      "\u001b[34m\u001b[1mwandb\u001b[0m: Agent Starting Run: 0j2l0ahb with config:\n",
      "\u001b[34m\u001b[1mwandb\u001b[0m: \tlearning_rate: 0.01\n",
      "\u001b[34m\u001b[1mwandb\u001b[0m: \tn_estimators: 100\n",
      "\u001b[34m\u001b[1mwandb\u001b[0m: \tsubsample: 0.5\n"
     ]
    },
    {
     "data": {
      "text/html": [
       "Tracking run with wandb version 0.14.0"
      ],
      "text/plain": [
       "<IPython.core.display.HTML object>"
      ]
     },
     "metadata": {},
     "output_type": "display_data"
    },
    {
     "data": {
      "text/html": [
       "Run data is saved locally in <code>C:\\Users\\JhonG\\Documents\\nw-challenge\\nw-challenge\\model\\wandb\\run-20230326_180322-0j2l0ahb</code>"
      ],
      "text/plain": [
       "<IPython.core.display.HTML object>"
      ]
     },
     "metadata": {},
     "output_type": "display_data"
    },
    {
     "data": {
      "text/html": [
       "Syncing run <strong><a href='https://wandb.ai/ignacio-onate/cw-challenge-model-XGB-ht/runs/0j2l0ahb' target=\"_blank\">comic-sweep-11</a></strong> to <a href='https://wandb.ai/ignacio-onate/cw-challenge-model-XGB-ht' target=\"_blank\">Weights & Biases</a> (<a href='https://wandb.me/run' target=\"_blank\">docs</a>)<br/>Sweep page: <a href='https://wandb.ai/ignacio-onate/cw-challenge-model-XGB-ht/sweeps/lxyem30k' target=\"_blank\">https://wandb.ai/ignacio-onate/cw-challenge-model-XGB-ht/sweeps/lxyem30k</a>"
      ],
      "text/plain": [
       "<IPython.core.display.HTML object>"
      ]
     },
     "metadata": {},
     "output_type": "display_data"
    },
    {
     "data": {
      "text/html": [
       " View project at <a href='https://wandb.ai/ignacio-onate/cw-challenge-model-XGB-ht' target=\"_blank\">https://wandb.ai/ignacio-onate/cw-challenge-model-XGB-ht</a>"
      ],
      "text/plain": [
       "<IPython.core.display.HTML object>"
      ]
     },
     "metadata": {},
     "output_type": "display_data"
    },
    {
     "data": {
      "text/html": [
       " View sweep at <a href='https://wandb.ai/ignacio-onate/cw-challenge-model-XGB-ht/sweeps/lxyem30k' target=\"_blank\">https://wandb.ai/ignacio-onate/cw-challenge-model-XGB-ht/sweeps/lxyem30k</a>"
      ],
      "text/plain": [
       "<IPython.core.display.HTML object>"
      ]
     },
     "metadata": {},
     "output_type": "display_data"
    },
    {
     "data": {
      "text/html": [
       " View run at <a href='https://wandb.ai/ignacio-onate/cw-challenge-model-XGB-ht/runs/0j2l0ahb' target=\"_blank\">https://wandb.ai/ignacio-onate/cw-challenge-model-XGB-ht/runs/0j2l0ahb</a>"
      ],
      "text/plain": [
       "<IPython.core.display.HTML object>"
      ]
     },
     "metadata": {},
     "output_type": "display_data"
    },
    {
     "name": "stdout",
     "output_type": "stream",
     "text": [
      "Modelo:  XGB_FP\n"
     ]
    },
    {
     "data": {
      "text/html": [
       "Waiting for W&B process to finish... <strong style=\"color:green\">(success).</strong>"
      ],
      "text/plain": [
       "<IPython.core.display.HTML object>"
      ]
     },
     "metadata": {},
     "output_type": "display_data"
    },
    {
     "data": {
      "text/html": [
       "<style>\n",
       "    table.wandb td:nth-child(1) { padding: 0 10px; text-align: left ; width: auto;} td:nth-child(2) {text-align: left ; width: 100%}\n",
       "    .wandb-row { display: flex; flex-direction: row; flex-wrap: wrap; justify-content: flex-start; width: 100% }\n",
       "    .wandb-col { display: flex; flex-direction: column; flex-basis: 100%; flex: 1; padding: 10px; }\n",
       "    </style>\n",
       "<div class=\"wandb-row\"><div class=\"wandb-col\"><h3>Run history:</h3><br/><table class=\"wandb\"><tr><td>accuracy_XGB_FP</td><td>▁</td></tr><tr><td>f1_XGB_FP</td><td>▁</td></tr><tr><td>precision_XGB_FP</td><td>▁</td></tr><tr><td>recall_XGB_FP</td><td>▁</td></tr><tr><td>roc_auc_XGB_FP</td><td>▁</td></tr></table><br/></div><div class=\"wandb-col\"><h3>Run summary:</h3><br/><table class=\"wandb\"><tr><td>accuracy_XGB_FP</td><td>0.60162</td></tr><tr><td>f1_XGB_FP</td><td>0.38528</td></tr><tr><td>precision_XGB_FP</td><td>0.26958</td></tr><tr><td>recall_XGB_FP</td><td>0.67504</td></tr><tr><td>roc_auc_XGB_FP</td><td>0.67921</td></tr></table><br/></div></div>"
      ],
      "text/plain": [
       "<IPython.core.display.HTML object>"
      ]
     },
     "metadata": {},
     "output_type": "display_data"
    },
    {
     "data": {
      "text/html": [
       " View run <strong style=\"color:#cdcd00\">comic-sweep-11</strong> at: <a href='https://wandb.ai/ignacio-onate/cw-challenge-model-XGB-ht/runs/0j2l0ahb' target=\"_blank\">https://wandb.ai/ignacio-onate/cw-challenge-model-XGB-ht/runs/0j2l0ahb</a><br/>Synced 5 W&B file(s), 0 media file(s), 0 artifact file(s) and 0 other file(s)"
      ],
      "text/plain": [
       "<IPython.core.display.HTML object>"
      ]
     },
     "metadata": {},
     "output_type": "display_data"
    },
    {
     "data": {
      "text/html": [
       "Find logs at: <code>.\\wandb\\run-20230326_180322-0j2l0ahb\\logs</code>"
      ],
      "text/plain": [
       "<IPython.core.display.HTML object>"
      ]
     },
     "metadata": {},
     "output_type": "display_data"
    },
    {
     "name": "stderr",
     "output_type": "stream",
     "text": [
      "\u001b[34m\u001b[1mwandb\u001b[0m: Agent Starting Run: 7vm8xph4 with config:\n",
      "\u001b[34m\u001b[1mwandb\u001b[0m: \tlearning_rate: 0.1\n",
      "\u001b[34m\u001b[1mwandb\u001b[0m: \tn_estimators: 50\n",
      "\u001b[34m\u001b[1mwandb\u001b[0m: \tsubsample: 0.5\n"
     ]
    },
    {
     "data": {
      "text/html": [
       "Tracking run with wandb version 0.14.0"
      ],
      "text/plain": [
       "<IPython.core.display.HTML object>"
      ]
     },
     "metadata": {},
     "output_type": "display_data"
    },
    {
     "data": {
      "text/html": [
       "Run data is saved locally in <code>C:\\Users\\JhonG\\Documents\\nw-challenge\\nw-challenge\\model\\wandb\\run-20230326_180342-7vm8xph4</code>"
      ],
      "text/plain": [
       "<IPython.core.display.HTML object>"
      ]
     },
     "metadata": {},
     "output_type": "display_data"
    },
    {
     "data": {
      "text/html": [
       "Syncing run <strong><a href='https://wandb.ai/ignacio-onate/cw-challenge-model-XGB-ht/runs/7vm8xph4' target=\"_blank\">olive-sweep-12</a></strong> to <a href='https://wandb.ai/ignacio-onate/cw-challenge-model-XGB-ht' target=\"_blank\">Weights & Biases</a> (<a href='https://wandb.me/run' target=\"_blank\">docs</a>)<br/>Sweep page: <a href='https://wandb.ai/ignacio-onate/cw-challenge-model-XGB-ht/sweeps/lxyem30k' target=\"_blank\">https://wandb.ai/ignacio-onate/cw-challenge-model-XGB-ht/sweeps/lxyem30k</a>"
      ],
      "text/plain": [
       "<IPython.core.display.HTML object>"
      ]
     },
     "metadata": {},
     "output_type": "display_data"
    },
    {
     "data": {
      "text/html": [
       " View project at <a href='https://wandb.ai/ignacio-onate/cw-challenge-model-XGB-ht' target=\"_blank\">https://wandb.ai/ignacio-onate/cw-challenge-model-XGB-ht</a>"
      ],
      "text/plain": [
       "<IPython.core.display.HTML object>"
      ]
     },
     "metadata": {},
     "output_type": "display_data"
    },
    {
     "data": {
      "text/html": [
       " View sweep at <a href='https://wandb.ai/ignacio-onate/cw-challenge-model-XGB-ht/sweeps/lxyem30k' target=\"_blank\">https://wandb.ai/ignacio-onate/cw-challenge-model-XGB-ht/sweeps/lxyem30k</a>"
      ],
      "text/plain": [
       "<IPython.core.display.HTML object>"
      ]
     },
     "metadata": {},
     "output_type": "display_data"
    },
    {
     "data": {
      "text/html": [
       " View run at <a href='https://wandb.ai/ignacio-onate/cw-challenge-model-XGB-ht/runs/7vm8xph4' target=\"_blank\">https://wandb.ai/ignacio-onate/cw-challenge-model-XGB-ht/runs/7vm8xph4</a>"
      ],
      "text/plain": [
       "<IPython.core.display.HTML object>"
      ]
     },
     "metadata": {},
     "output_type": "display_data"
    },
    {
     "name": "stdout",
     "output_type": "stream",
     "text": [
      "Modelo:  XGB_FP\n"
     ]
    },
    {
     "data": {
      "text/html": [
       "Waiting for W&B process to finish... <strong style=\"color:green\">(success).</strong>"
      ],
      "text/plain": [
       "<IPython.core.display.HTML object>"
      ]
     },
     "metadata": {},
     "output_type": "display_data"
    },
    {
     "data": {
      "text/html": [
       "<style>\n",
       "    table.wandb td:nth-child(1) { padding: 0 10px; text-align: left ; width: auto;} td:nth-child(2) {text-align: left ; width: 100%}\n",
       "    .wandb-row { display: flex; flex-direction: row; flex-wrap: wrap; justify-content: flex-start; width: 100% }\n",
       "    .wandb-col { display: flex; flex-direction: column; flex-basis: 100%; flex: 1; padding: 10px; }\n",
       "    </style>\n",
       "<div class=\"wandb-row\"><div class=\"wandb-col\"><h3>Run history:</h3><br/><table class=\"wandb\"><tr><td>accuracy_XGB_FP</td><td>▁</td></tr><tr><td>f1_XGB_FP</td><td>▁</td></tr><tr><td>precision_XGB_FP</td><td>▁</td></tr><tr><td>recall_XGB_FP</td><td>▁</td></tr><tr><td>roc_auc_XGB_FP</td><td>▁</td></tr></table><br/></div><div class=\"wandb-col\"><h3>Run summary:</h3><br/><table class=\"wandb\"><tr><td>accuracy_XGB_FP</td><td>0.62468</td></tr><tr><td>f1_XGB_FP</td><td>0.39037</td></tr><tr><td>precision_XGB_FP</td><td>0.27905</td></tr><tr><td>recall_XGB_FP</td><td>0.64975</td></tr><tr><td>roc_auc_XGB_FP</td><td>0.68433</td></tr></table><br/></div></div>"
      ],
      "text/plain": [
       "<IPython.core.display.HTML object>"
      ]
     },
     "metadata": {},
     "output_type": "display_data"
    },
    {
     "data": {
      "text/html": [
       " View run <strong style=\"color:#cdcd00\">olive-sweep-12</strong> at: <a href='https://wandb.ai/ignacio-onate/cw-challenge-model-XGB-ht/runs/7vm8xph4' target=\"_blank\">https://wandb.ai/ignacio-onate/cw-challenge-model-XGB-ht/runs/7vm8xph4</a><br/>Synced 5 W&B file(s), 0 media file(s), 0 artifact file(s) and 0 other file(s)"
      ],
      "text/plain": [
       "<IPython.core.display.HTML object>"
      ]
     },
     "metadata": {},
     "output_type": "display_data"
    },
    {
     "data": {
      "text/html": [
       "Find logs at: <code>.\\wandb\\run-20230326_180342-7vm8xph4\\logs</code>"
      ],
      "text/plain": [
       "<IPython.core.display.HTML object>"
      ]
     },
     "metadata": {},
     "output_type": "display_data"
    },
    {
     "name": "stderr",
     "output_type": "stream",
     "text": [
      "\u001b[34m\u001b[1mwandb\u001b[0m: Agent Starting Run: acc428gp with config:\n",
      "\u001b[34m\u001b[1mwandb\u001b[0m: \tlearning_rate: 0.01\n",
      "\u001b[34m\u001b[1mwandb\u001b[0m: \tn_estimators: 100\n",
      "\u001b[34m\u001b[1mwandb\u001b[0m: \tsubsample: 0.5\n"
     ]
    },
    {
     "data": {
      "text/html": [
       "Tracking run with wandb version 0.14.0"
      ],
      "text/plain": [
       "<IPython.core.display.HTML object>"
      ]
     },
     "metadata": {},
     "output_type": "display_data"
    },
    {
     "data": {
      "text/html": [
       "Run data is saved locally in <code>C:\\Users\\JhonG\\Documents\\nw-challenge\\nw-challenge\\model\\wandb\\run-20230326_180358-acc428gp</code>"
      ],
      "text/plain": [
       "<IPython.core.display.HTML object>"
      ]
     },
     "metadata": {},
     "output_type": "display_data"
    },
    {
     "data": {
      "text/html": [
       "Syncing run <strong><a href='https://wandb.ai/ignacio-onate/cw-challenge-model-XGB-ht/runs/acc428gp' target=\"_blank\">electric-sweep-13</a></strong> to <a href='https://wandb.ai/ignacio-onate/cw-challenge-model-XGB-ht' target=\"_blank\">Weights & Biases</a> (<a href='https://wandb.me/run' target=\"_blank\">docs</a>)<br/>Sweep page: <a href='https://wandb.ai/ignacio-onate/cw-challenge-model-XGB-ht/sweeps/lxyem30k' target=\"_blank\">https://wandb.ai/ignacio-onate/cw-challenge-model-XGB-ht/sweeps/lxyem30k</a>"
      ],
      "text/plain": [
       "<IPython.core.display.HTML object>"
      ]
     },
     "metadata": {},
     "output_type": "display_data"
    },
    {
     "data": {
      "text/html": [
       " View project at <a href='https://wandb.ai/ignacio-onate/cw-challenge-model-XGB-ht' target=\"_blank\">https://wandb.ai/ignacio-onate/cw-challenge-model-XGB-ht</a>"
      ],
      "text/plain": [
       "<IPython.core.display.HTML object>"
      ]
     },
     "metadata": {},
     "output_type": "display_data"
    },
    {
     "data": {
      "text/html": [
       " View sweep at <a href='https://wandb.ai/ignacio-onate/cw-challenge-model-XGB-ht/sweeps/lxyem30k' target=\"_blank\">https://wandb.ai/ignacio-onate/cw-challenge-model-XGB-ht/sweeps/lxyem30k</a>"
      ],
      "text/plain": [
       "<IPython.core.display.HTML object>"
      ]
     },
     "metadata": {},
     "output_type": "display_data"
    },
    {
     "data": {
      "text/html": [
       " View run at <a href='https://wandb.ai/ignacio-onate/cw-challenge-model-XGB-ht/runs/acc428gp' target=\"_blank\">https://wandb.ai/ignacio-onate/cw-challenge-model-XGB-ht/runs/acc428gp</a>"
      ],
      "text/plain": [
       "<IPython.core.display.HTML object>"
      ]
     },
     "metadata": {},
     "output_type": "display_data"
    },
    {
     "name": "stdout",
     "output_type": "stream",
     "text": [
      "Modelo:  XGB_FP\n"
     ]
    },
    {
     "data": {
      "text/html": [
       "Waiting for W&B process to finish... <strong style=\"color:green\">(success).</strong>"
      ],
      "text/plain": [
       "<IPython.core.display.HTML object>"
      ]
     },
     "metadata": {},
     "output_type": "display_data"
    },
    {
     "data": {
      "text/html": [
       "<style>\n",
       "    table.wandb td:nth-child(1) { padding: 0 10px; text-align: left ; width: auto;} td:nth-child(2) {text-align: left ; width: 100%}\n",
       "    .wandb-row { display: flex; flex-direction: row; flex-wrap: wrap; justify-content: flex-start; width: 100% }\n",
       "    .wandb-col { display: flex; flex-direction: column; flex-basis: 100%; flex: 1; padding: 10px; }\n",
       "    </style>\n",
       "<div class=\"wandb-row\"><div class=\"wandb-col\"><h3>Run history:</h3><br/><table class=\"wandb\"><tr><td>accuracy_XGB_FP</td><td>▁</td></tr><tr><td>f1_XGB_FP</td><td>▁</td></tr><tr><td>precision_XGB_FP</td><td>▁</td></tr><tr><td>recall_XGB_FP</td><td>▁</td></tr><tr><td>roc_auc_XGB_FP</td><td>▁</td></tr></table><br/></div><div class=\"wandb-col\"><h3>Run summary:</h3><br/><table class=\"wandb\"><tr><td>accuracy_XGB_FP</td><td>0.59413</td></tr><tr><td>f1_XGB_FP</td><td>0.38337</td></tr><tr><td>precision_XGB_FP</td><td>0.26664</td></tr><tr><td>recall_XGB_FP</td><td>0.68218</td></tr><tr><td>roc_auc_XGB_FP</td><td>0.6786</td></tr></table><br/></div></div>"
      ],
      "text/plain": [
       "<IPython.core.display.HTML object>"
      ]
     },
     "metadata": {},
     "output_type": "display_data"
    },
    {
     "data": {
      "text/html": [
       " View run <strong style=\"color:#cdcd00\">electric-sweep-13</strong> at: <a href='https://wandb.ai/ignacio-onate/cw-challenge-model-XGB-ht/runs/acc428gp' target=\"_blank\">https://wandb.ai/ignacio-onate/cw-challenge-model-XGB-ht/runs/acc428gp</a><br/>Synced 5 W&B file(s), 0 media file(s), 0 artifact file(s) and 0 other file(s)"
      ],
      "text/plain": [
       "<IPython.core.display.HTML object>"
      ]
     },
     "metadata": {},
     "output_type": "display_data"
    },
    {
     "data": {
      "text/html": [
       "Find logs at: <code>.\\wandb\\run-20230326_180358-acc428gp\\logs</code>"
      ],
      "text/plain": [
       "<IPython.core.display.HTML object>"
      ]
     },
     "metadata": {},
     "output_type": "display_data"
    },
    {
     "name": "stderr",
     "output_type": "stream",
     "text": [
      "\u001b[34m\u001b[1mwandb\u001b[0m: Agent Starting Run: hsrgx8ba with config:\n",
      "\u001b[34m\u001b[1mwandb\u001b[0m: \tlearning_rate: 0.1\n",
      "\u001b[34m\u001b[1mwandb\u001b[0m: \tn_estimators: 100\n",
      "\u001b[34m\u001b[1mwandb\u001b[0m: \tsubsample: 0.9\n"
     ]
    },
    {
     "data": {
      "text/html": [
       "Tracking run with wandb version 0.14.0"
      ],
      "text/plain": [
       "<IPython.core.display.HTML object>"
      ]
     },
     "metadata": {},
     "output_type": "display_data"
    },
    {
     "data": {
      "text/html": [
       "Run data is saved locally in <code>C:\\Users\\JhonG\\Documents\\nw-challenge\\nw-challenge\\model\\wandb\\run-20230326_180415-hsrgx8ba</code>"
      ],
      "text/plain": [
       "<IPython.core.display.HTML object>"
      ]
     },
     "metadata": {},
     "output_type": "display_data"
    },
    {
     "data": {
      "text/html": [
       "Syncing run <strong><a href='https://wandb.ai/ignacio-onate/cw-challenge-model-XGB-ht/runs/hsrgx8ba' target=\"_blank\">misty-sweep-14</a></strong> to <a href='https://wandb.ai/ignacio-onate/cw-challenge-model-XGB-ht' target=\"_blank\">Weights & Biases</a> (<a href='https://wandb.me/run' target=\"_blank\">docs</a>)<br/>Sweep page: <a href='https://wandb.ai/ignacio-onate/cw-challenge-model-XGB-ht/sweeps/lxyem30k' target=\"_blank\">https://wandb.ai/ignacio-onate/cw-challenge-model-XGB-ht/sweeps/lxyem30k</a>"
      ],
      "text/plain": [
       "<IPython.core.display.HTML object>"
      ]
     },
     "metadata": {},
     "output_type": "display_data"
    },
    {
     "data": {
      "text/html": [
       " View project at <a href='https://wandb.ai/ignacio-onate/cw-challenge-model-XGB-ht' target=\"_blank\">https://wandb.ai/ignacio-onate/cw-challenge-model-XGB-ht</a>"
      ],
      "text/plain": [
       "<IPython.core.display.HTML object>"
      ]
     },
     "metadata": {},
     "output_type": "display_data"
    },
    {
     "data": {
      "text/html": [
       " View sweep at <a href='https://wandb.ai/ignacio-onate/cw-challenge-model-XGB-ht/sweeps/lxyem30k' target=\"_blank\">https://wandb.ai/ignacio-onate/cw-challenge-model-XGB-ht/sweeps/lxyem30k</a>"
      ],
      "text/plain": [
       "<IPython.core.display.HTML object>"
      ]
     },
     "metadata": {},
     "output_type": "display_data"
    },
    {
     "data": {
      "text/html": [
       " View run at <a href='https://wandb.ai/ignacio-onate/cw-challenge-model-XGB-ht/runs/hsrgx8ba' target=\"_blank\">https://wandb.ai/ignacio-onate/cw-challenge-model-XGB-ht/runs/hsrgx8ba</a>"
      ],
      "text/plain": [
       "<IPython.core.display.HTML object>"
      ]
     },
     "metadata": {},
     "output_type": "display_data"
    },
    {
     "name": "stdout",
     "output_type": "stream",
     "text": [
      "Modelo:  XGB_FP\n"
     ]
    },
    {
     "data": {
      "text/html": [
       "Waiting for W&B process to finish... <strong style=\"color:green\">(success).</strong>"
      ],
      "text/plain": [
       "<IPython.core.display.HTML object>"
      ]
     },
     "metadata": {},
     "output_type": "display_data"
    },
    {
     "data": {
      "text/html": [
       "<style>\n",
       "    table.wandb td:nth-child(1) { padding: 0 10px; text-align: left ; width: auto;} td:nth-child(2) {text-align: left ; width: 100%}\n",
       "    .wandb-row { display: flex; flex-direction: row; flex-wrap: wrap; justify-content: flex-start; width: 100% }\n",
       "    .wandb-col { display: flex; flex-direction: column; flex-basis: 100%; flex: 1; padding: 10px; }\n",
       "    </style>\n",
       "<div class=\"wandb-row\"><div class=\"wandb-col\"><h3>Run history:</h3><br/><table class=\"wandb\"><tr><td>accuracy_XGB_FP</td><td>▁</td></tr><tr><td>f1_XGB_FP</td><td>▁</td></tr><tr><td>precision_XGB_FP</td><td>▁</td></tr><tr><td>recall_XGB_FP</td><td>▁</td></tr><tr><td>roc_auc_XGB_FP</td><td>▁</td></tr></table><br/></div><div class=\"wandb-col\"><h3>Run summary:</h3><br/><table class=\"wandb\"><tr><td>accuracy_XGB_FP</td><td>0.62852</td></tr><tr><td>f1_XGB_FP</td><td>0.38659</td></tr><tr><td>precision_XGB_FP</td><td>0.27839</td></tr><tr><td>recall_XGB_FP</td><td>0.63295</td></tr><tr><td>roc_auc_XGB_FP</td><td>0.68172</td></tr></table><br/></div></div>"
      ],
      "text/plain": [
       "<IPython.core.display.HTML object>"
      ]
     },
     "metadata": {},
     "output_type": "display_data"
    },
    {
     "data": {
      "text/html": [
       " View run <strong style=\"color:#cdcd00\">misty-sweep-14</strong> at: <a href='https://wandb.ai/ignacio-onate/cw-challenge-model-XGB-ht/runs/hsrgx8ba' target=\"_blank\">https://wandb.ai/ignacio-onate/cw-challenge-model-XGB-ht/runs/hsrgx8ba</a><br/>Synced 5 W&B file(s), 0 media file(s), 0 artifact file(s) and 0 other file(s)"
      ],
      "text/plain": [
       "<IPython.core.display.HTML object>"
      ]
     },
     "metadata": {},
     "output_type": "display_data"
    },
    {
     "data": {
      "text/html": [
       "Find logs at: <code>.\\wandb\\run-20230326_180415-hsrgx8ba\\logs</code>"
      ],
      "text/plain": [
       "<IPython.core.display.HTML object>"
      ]
     },
     "metadata": {},
     "output_type": "display_data"
    },
    {
     "name": "stderr",
     "output_type": "stream",
     "text": [
      "\u001b[34m\u001b[1mwandb\u001b[0m: Sweep Agent: Waiting for job.\n",
      "\u001b[34m\u001b[1mwandb\u001b[0m: Job received.\n",
      "\u001b[34m\u001b[1mwandb\u001b[0m: Agent Starting Run: is1wghwx with config:\n",
      "\u001b[34m\u001b[1mwandb\u001b[0m: \tlearning_rate: 0.1\n",
      "\u001b[34m\u001b[1mwandb\u001b[0m: \tn_estimators: 100\n",
      "\u001b[34m\u001b[1mwandb\u001b[0m: \tsubsample: 0.9\n"
     ]
    },
    {
     "data": {
      "text/html": [
       "Tracking run with wandb version 0.14.0"
      ],
      "text/plain": [
       "<IPython.core.display.HTML object>"
      ]
     },
     "metadata": {},
     "output_type": "display_data"
    },
    {
     "data": {
      "text/html": [
       "Run data is saved locally in <code>C:\\Users\\JhonG\\Documents\\nw-challenge\\nw-challenge\\model\\wandb\\run-20230326_180439-is1wghwx</code>"
      ],
      "text/plain": [
       "<IPython.core.display.HTML object>"
      ]
     },
     "metadata": {},
     "output_type": "display_data"
    },
    {
     "data": {
      "text/html": [
       "Syncing run <strong><a href='https://wandb.ai/ignacio-onate/cw-challenge-model-XGB-ht/runs/is1wghwx' target=\"_blank\">denim-sweep-15</a></strong> to <a href='https://wandb.ai/ignacio-onate/cw-challenge-model-XGB-ht' target=\"_blank\">Weights & Biases</a> (<a href='https://wandb.me/run' target=\"_blank\">docs</a>)<br/>Sweep page: <a href='https://wandb.ai/ignacio-onate/cw-challenge-model-XGB-ht/sweeps/lxyem30k' target=\"_blank\">https://wandb.ai/ignacio-onate/cw-challenge-model-XGB-ht/sweeps/lxyem30k</a>"
      ],
      "text/plain": [
       "<IPython.core.display.HTML object>"
      ]
     },
     "metadata": {},
     "output_type": "display_data"
    },
    {
     "data": {
      "text/html": [
       " View project at <a href='https://wandb.ai/ignacio-onate/cw-challenge-model-XGB-ht' target=\"_blank\">https://wandb.ai/ignacio-onate/cw-challenge-model-XGB-ht</a>"
      ],
      "text/plain": [
       "<IPython.core.display.HTML object>"
      ]
     },
     "metadata": {},
     "output_type": "display_data"
    },
    {
     "data": {
      "text/html": [
       " View sweep at <a href='https://wandb.ai/ignacio-onate/cw-challenge-model-XGB-ht/sweeps/lxyem30k' target=\"_blank\">https://wandb.ai/ignacio-onate/cw-challenge-model-XGB-ht/sweeps/lxyem30k</a>"
      ],
      "text/plain": [
       "<IPython.core.display.HTML object>"
      ]
     },
     "metadata": {},
     "output_type": "display_data"
    },
    {
     "data": {
      "text/html": [
       " View run at <a href='https://wandb.ai/ignacio-onate/cw-challenge-model-XGB-ht/runs/is1wghwx' target=\"_blank\">https://wandb.ai/ignacio-onate/cw-challenge-model-XGB-ht/runs/is1wghwx</a>"
      ],
      "text/plain": [
       "<IPython.core.display.HTML object>"
      ]
     },
     "metadata": {},
     "output_type": "display_data"
    },
    {
     "name": "stdout",
     "output_type": "stream",
     "text": [
      "Modelo:  XGB_FP\n"
     ]
    },
    {
     "data": {
      "text/html": [
       "Waiting for W&B process to finish... <strong style=\"color:green\">(success).</strong>"
      ],
      "text/plain": [
       "<IPython.core.display.HTML object>"
      ]
     },
     "metadata": {},
     "output_type": "display_data"
    },
    {
     "data": {
      "text/html": [
       "<style>\n",
       "    table.wandb td:nth-child(1) { padding: 0 10px; text-align: left ; width: auto;} td:nth-child(2) {text-align: left ; width: 100%}\n",
       "    .wandb-row { display: flex; flex-direction: row; flex-wrap: wrap; justify-content: flex-start; width: 100% }\n",
       "    .wandb-col { display: flex; flex-direction: column; flex-basis: 100%; flex: 1; padding: 10px; }\n",
       "    </style>\n",
       "<div class=\"wandb-row\"><div class=\"wandb-col\"><h3>Run history:</h3><br/><table class=\"wandb\"><tr><td>accuracy_XGB_FP</td><td>▁</td></tr><tr><td>f1_XGB_FP</td><td>▁</td></tr><tr><td>precision_XGB_FP</td><td>▁</td></tr><tr><td>recall_XGB_FP</td><td>▁</td></tr><tr><td>roc_auc_XGB_FP</td><td>▁</td></tr></table><br/></div><div class=\"wandb-col\"><h3>Run summary:</h3><br/><table class=\"wandb\"><tr><td>accuracy_XGB_FP</td><td>0.62987</td></tr><tr><td>f1_XGB_FP</td><td>0.38969</td></tr><tr><td>precision_XGB_FP</td><td>0.28037</td></tr><tr><td>recall_XGB_FP</td><td>0.63905</td></tr><tr><td>roc_auc_XGB_FP</td><td>0.68315</td></tr></table><br/></div></div>"
      ],
      "text/plain": [
       "<IPython.core.display.HTML object>"
      ]
     },
     "metadata": {},
     "output_type": "display_data"
    },
    {
     "data": {
      "text/html": [
       " View run <strong style=\"color:#cdcd00\">denim-sweep-15</strong> at: <a href='https://wandb.ai/ignacio-onate/cw-challenge-model-XGB-ht/runs/is1wghwx' target=\"_blank\">https://wandb.ai/ignacio-onate/cw-challenge-model-XGB-ht/runs/is1wghwx</a><br/>Synced 5 W&B file(s), 0 media file(s), 0 artifact file(s) and 0 other file(s)"
      ],
      "text/plain": [
       "<IPython.core.display.HTML object>"
      ]
     },
     "metadata": {},
     "output_type": "display_data"
    },
    {
     "data": {
      "text/html": [
       "Find logs at: <code>.\\wandb\\run-20230326_180439-is1wghwx\\logs</code>"
      ],
      "text/plain": [
       "<IPython.core.display.HTML object>"
      ]
     },
     "metadata": {},
     "output_type": "display_data"
    }
   ],
   "source": [
    "X = features\n",
    "y = label\n",
    "\n",
    "def train():\n",
    "    wandb.init()\n",
    "    # define pipeline\n",
    "    name = 'XGB_FP'\n",
    "    model = xgb.XGBClassifier(random_state=1, learning_rate=wandb.config.learning_rate, subsample = wandb.config.subsample, n_estimators=wandb.config.n_estimators,max_depth = 10)    \n",
    "    under = RandomUnderSampler()\n",
    "    steps = [('under', under), ('model', model)]\n",
    "    pipeline = Pipeline(steps=steps)\n",
    "    # evaluate pipeline\n",
    "    scores = cross_validate(pipeline, X, y, scoring=['accuracy','f1','precision','recall','roc_auc'], cv=5, n_jobs=-1)\n",
    "    #score = mean(scores)         \n",
    "    wandb.log({\n",
    "        'accuracy_'+name: mean(scores['test_accuracy']),\n",
    "        'f1_'+name : mean(scores['test_f1']),\n",
    "        'precision_'+name : mean(scores['test_precision']), \n",
    "        'recall_'+name : mean(scores['test_recall']),\n",
    "        'roc_auc_'+name : mean(scores['test_roc_auc'])\n",
    "        })\n",
    "    print(\"Modelo: \", name)\n",
    "    #print(scores)\n",
    "wandb.agent(sweep_id4, function = train, count = 15)"
   ]
  },
  {
   "cell_type": "markdown",
   "id": "c7af7266",
   "metadata": {},
   "source": [
    "# XGB Features principales"
   ]
  },
  {
   "cell_type": "code",
   "execution_count": 15,
   "id": "9477755c",
   "metadata": {},
   "outputs": [
    {
     "name": "stdout",
     "output_type": "stream",
     "text": [
      "Create sweep with ID: 0lcka3ii\n",
      "Sweep URL: https://wandb.ai/ignacio-onate/cw-challenge-model-XGB-ht-fp/sweeps/0lcka3ii\n"
     ]
    }
   ],
   "source": [
    "#Para esto debemos crear los diccionarios de hiperparametros.\n",
    "sweep_configuration5 = {\n",
    "    'method': 'bayes', #Usando Bayes como metodo de busqueda de parametros\n",
    "    'name': 'sweep',\n",
    "    'metric': {'goal': 'maximize', 'name': 'precision'},\n",
    "    'parameters' : {\n",
    "                'learning_rate': {'values':[0.01,0.05, 0.1]},\n",
    "                'n_estimators': {'values' : [50, 100, 150]},\n",
    "                'subsample': {'values' : [0.5, 0.9]}\n",
    "    }\n",
    "}\n",
    "sweep_id5 = wandb.sweep(sweep=sweep_configuration4, project='cw-challenge-model-XGB-ht-fp')"
   ]
  },
  {
   "cell_type": "code",
   "execution_count": 16,
   "id": "ab0bcb7b",
   "metadata": {},
   "outputs": [
    {
     "name": "stderr",
     "output_type": "stream",
     "text": [
      "\u001b[34m\u001b[1mwandb\u001b[0m: Agent Starting Run: fah8wym1 with config:\n",
      "\u001b[34m\u001b[1mwandb\u001b[0m: \tlearning_rate: 0.01\n",
      "\u001b[34m\u001b[1mwandb\u001b[0m: \tn_estimators: 50\n",
      "\u001b[34m\u001b[1mwandb\u001b[0m: \tsubsample: 0.9\n"
     ]
    },
    {
     "data": {
      "text/html": [
       "Tracking run with wandb version 0.14.0"
      ],
      "text/plain": [
       "<IPython.core.display.HTML object>"
      ]
     },
     "metadata": {},
     "output_type": "display_data"
    },
    {
     "data": {
      "text/html": [
       "Run data is saved locally in <code>C:\\Users\\JhonG\\Documents\\nw-challenge\\nw-challenge\\model\\wandb\\run-20230326_182420-fah8wym1</code>"
      ],
      "text/plain": [
       "<IPython.core.display.HTML object>"
      ]
     },
     "metadata": {},
     "output_type": "display_data"
    },
    {
     "data": {
      "text/html": [
       "Syncing run <strong><a href='https://wandb.ai/ignacio-onate/cw-challenge-model-XGB-ht-fp/runs/fah8wym1' target=\"_blank\">clear-sweep-1</a></strong> to <a href='https://wandb.ai/ignacio-onate/cw-challenge-model-XGB-ht-fp' target=\"_blank\">Weights & Biases</a> (<a href='https://wandb.me/run' target=\"_blank\">docs</a>)<br/>Sweep page: <a href='https://wandb.ai/ignacio-onate/cw-challenge-model-XGB-ht-fp/sweeps/0lcka3ii' target=\"_blank\">https://wandb.ai/ignacio-onate/cw-challenge-model-XGB-ht-fp/sweeps/0lcka3ii</a>"
      ],
      "text/plain": [
       "<IPython.core.display.HTML object>"
      ]
     },
     "metadata": {},
     "output_type": "display_data"
    },
    {
     "data": {
      "text/html": [
       " View project at <a href='https://wandb.ai/ignacio-onate/cw-challenge-model-XGB-ht-fp' target=\"_blank\">https://wandb.ai/ignacio-onate/cw-challenge-model-XGB-ht-fp</a>"
      ],
      "text/plain": [
       "<IPython.core.display.HTML object>"
      ]
     },
     "metadata": {},
     "output_type": "display_data"
    },
    {
     "data": {
      "text/html": [
       " View sweep at <a href='https://wandb.ai/ignacio-onate/cw-challenge-model-XGB-ht-fp/sweeps/0lcka3ii' target=\"_blank\">https://wandb.ai/ignacio-onate/cw-challenge-model-XGB-ht-fp/sweeps/0lcka3ii</a>"
      ],
      "text/plain": [
       "<IPython.core.display.HTML object>"
      ]
     },
     "metadata": {},
     "output_type": "display_data"
    },
    {
     "data": {
      "text/html": [
       " View run at <a href='https://wandb.ai/ignacio-onate/cw-challenge-model-XGB-ht-fp/runs/fah8wym1' target=\"_blank\">https://wandb.ai/ignacio-onate/cw-challenge-model-XGB-ht-fp/runs/fah8wym1</a>"
      ],
      "text/plain": [
       "<IPython.core.display.HTML object>"
      ]
     },
     "metadata": {},
     "output_type": "display_data"
    },
    {
     "name": "stdout",
     "output_type": "stream",
     "text": [
      "Modelo:  XGB_FI\n"
     ]
    },
    {
     "data": {
      "text/html": [
       "Waiting for W&B process to finish... <strong style=\"color:green\">(success).</strong>"
      ],
      "text/plain": [
       "<IPython.core.display.HTML object>"
      ]
     },
     "metadata": {},
     "output_type": "display_data"
    },
    {
     "data": {
      "text/html": [
       "<style>\n",
       "    table.wandb td:nth-child(1) { padding: 0 10px; text-align: left ; width: auto;} td:nth-child(2) {text-align: left ; width: 100%}\n",
       "    .wandb-row { display: flex; flex-direction: row; flex-wrap: wrap; justify-content: flex-start; width: 100% }\n",
       "    .wandb-col { display: flex; flex-direction: column; flex-basis: 100%; flex: 1; padding: 10px; }\n",
       "    </style>\n",
       "<div class=\"wandb-row\"><div class=\"wandb-col\"><h3>Run history:</h3><br/><table class=\"wandb\"><tr><td>accuracy_XGB_FI</td><td>▁</td></tr><tr><td>f1_XGB_FI</td><td>▁</td></tr><tr><td>precision_XGB_FI</td><td>▁</td></tr><tr><td>recall_XGB_FI</td><td>▁</td></tr><tr><td>roc_auc_XGB_FI</td><td>▁</td></tr></table><br/></div><div class=\"wandb-col\"><h3>Run summary:</h3><br/><table class=\"wandb\"><tr><td>accuracy_XGB_FI</td><td>0.55134</td></tr><tr><td>f1_XGB_FI</td><td>0.35917</td></tr><tr><td>precision_XGB_FI</td><td>0.24461</td></tr><tr><td>recall_XGB_FI</td><td>0.67933</td></tr><tr><td>roc_auc_XGB_FI</td><td>0.64191</td></tr></table><br/></div></div>"
      ],
      "text/plain": [
       "<IPython.core.display.HTML object>"
      ]
     },
     "metadata": {},
     "output_type": "display_data"
    },
    {
     "data": {
      "text/html": [
       " View run <strong style=\"color:#cdcd00\">clear-sweep-1</strong> at: <a href='https://wandb.ai/ignacio-onate/cw-challenge-model-XGB-ht-fp/runs/fah8wym1' target=\"_blank\">https://wandb.ai/ignacio-onate/cw-challenge-model-XGB-ht-fp/runs/fah8wym1</a><br/>Synced 5 W&B file(s), 0 media file(s), 0 artifact file(s) and 0 other file(s)"
      ],
      "text/plain": [
       "<IPython.core.display.HTML object>"
      ]
     },
     "metadata": {},
     "output_type": "display_data"
    },
    {
     "data": {
      "text/html": [
       "Find logs at: <code>.\\wandb\\run-20230326_182420-fah8wym1\\logs</code>"
      ],
      "text/plain": [
       "<IPython.core.display.HTML object>"
      ]
     },
     "metadata": {},
     "output_type": "display_data"
    },
    {
     "name": "stderr",
     "output_type": "stream",
     "text": [
      "\u001b[34m\u001b[1mwandb\u001b[0m: Agent Starting Run: a0zgelr5 with config:\n",
      "\u001b[34m\u001b[1mwandb\u001b[0m: \tlearning_rate: 0.1\n",
      "\u001b[34m\u001b[1mwandb\u001b[0m: \tn_estimators: 150\n",
      "\u001b[34m\u001b[1mwandb\u001b[0m: \tsubsample: 0.9\n"
     ]
    },
    {
     "data": {
      "text/html": [
       "Tracking run with wandb version 0.14.0"
      ],
      "text/plain": [
       "<IPython.core.display.HTML object>"
      ]
     },
     "metadata": {},
     "output_type": "display_data"
    },
    {
     "data": {
      "text/html": [
       "Run data is saved locally in <code>C:\\Users\\JhonG\\Documents\\nw-challenge\\nw-challenge\\model\\wandb\\run-20230326_182436-a0zgelr5</code>"
      ],
      "text/plain": [
       "<IPython.core.display.HTML object>"
      ]
     },
     "metadata": {},
     "output_type": "display_data"
    },
    {
     "data": {
      "text/html": [
       "Syncing run <strong><a href='https://wandb.ai/ignacio-onate/cw-challenge-model-XGB-ht-fp/runs/a0zgelr5' target=\"_blank\">fresh-sweep-2</a></strong> to <a href='https://wandb.ai/ignacio-onate/cw-challenge-model-XGB-ht-fp' target=\"_blank\">Weights & Biases</a> (<a href='https://wandb.me/run' target=\"_blank\">docs</a>)<br/>Sweep page: <a href='https://wandb.ai/ignacio-onate/cw-challenge-model-XGB-ht-fp/sweeps/0lcka3ii' target=\"_blank\">https://wandb.ai/ignacio-onate/cw-challenge-model-XGB-ht-fp/sweeps/0lcka3ii</a>"
      ],
      "text/plain": [
       "<IPython.core.display.HTML object>"
      ]
     },
     "metadata": {},
     "output_type": "display_data"
    },
    {
     "data": {
      "text/html": [
       " View project at <a href='https://wandb.ai/ignacio-onate/cw-challenge-model-XGB-ht-fp' target=\"_blank\">https://wandb.ai/ignacio-onate/cw-challenge-model-XGB-ht-fp</a>"
      ],
      "text/plain": [
       "<IPython.core.display.HTML object>"
      ]
     },
     "metadata": {},
     "output_type": "display_data"
    },
    {
     "data": {
      "text/html": [
       " View sweep at <a href='https://wandb.ai/ignacio-onate/cw-challenge-model-XGB-ht-fp/sweeps/0lcka3ii' target=\"_blank\">https://wandb.ai/ignacio-onate/cw-challenge-model-XGB-ht-fp/sweeps/0lcka3ii</a>"
      ],
      "text/plain": [
       "<IPython.core.display.HTML object>"
      ]
     },
     "metadata": {},
     "output_type": "display_data"
    },
    {
     "data": {
      "text/html": [
       " View run at <a href='https://wandb.ai/ignacio-onate/cw-challenge-model-XGB-ht-fp/runs/a0zgelr5' target=\"_blank\">https://wandb.ai/ignacio-onate/cw-challenge-model-XGB-ht-fp/runs/a0zgelr5</a>"
      ],
      "text/plain": [
       "<IPython.core.display.HTML object>"
      ]
     },
     "metadata": {},
     "output_type": "display_data"
    },
    {
     "name": "stdout",
     "output_type": "stream",
     "text": [
      "Modelo:  XGB_FI\n"
     ]
    },
    {
     "data": {
      "text/html": [
       "Waiting for W&B process to finish... <strong style=\"color:green\">(success).</strong>"
      ],
      "text/plain": [
       "<IPython.core.display.HTML object>"
      ]
     },
     "metadata": {},
     "output_type": "display_data"
    },
    {
     "data": {
      "text/html": [
       "<style>\n",
       "    table.wandb td:nth-child(1) { padding: 0 10px; text-align: left ; width: auto;} td:nth-child(2) {text-align: left ; width: 100%}\n",
       "    .wandb-row { display: flex; flex-direction: row; flex-wrap: wrap; justify-content: flex-start; width: 100% }\n",
       "    .wandb-col { display: flex; flex-direction: column; flex-basis: 100%; flex: 1; padding: 10px; }\n",
       "    </style>\n",
       "<div class=\"wandb-row\"><div class=\"wandb-col\"><h3>Run history:</h3><br/><table class=\"wandb\"><tr><td>accuracy_XGB_FI</td><td>▁</td></tr><tr><td>f1_XGB_FI</td><td>▁</td></tr><tr><td>precision_XGB_FI</td><td>▁</td></tr><tr><td>recall_XGB_FI</td><td>▁</td></tr><tr><td>roc_auc_XGB_FI</td><td>▁</td></tr></table><br/></div><div class=\"wandb-col\"><h3>Run summary:</h3><br/><table class=\"wandb\"><tr><td>accuracy_XGB_FI</td><td>0.55173</td></tr><tr><td>f1_XGB_FI</td><td>0.35886</td></tr><tr><td>precision_XGB_FI</td><td>0.2443</td></tr><tr><td>recall_XGB_FI</td><td>0.67869</td></tr><tr><td>roc_auc_XGB_FI</td><td>0.64134</td></tr></table><br/></div></div>"
      ],
      "text/plain": [
       "<IPython.core.display.HTML object>"
      ]
     },
     "metadata": {},
     "output_type": "display_data"
    },
    {
     "data": {
      "text/html": [
       " View run <strong style=\"color:#cdcd00\">fresh-sweep-2</strong> at: <a href='https://wandb.ai/ignacio-onate/cw-challenge-model-XGB-ht-fp/runs/a0zgelr5' target=\"_blank\">https://wandb.ai/ignacio-onate/cw-challenge-model-XGB-ht-fp/runs/a0zgelr5</a><br/>Synced 5 W&B file(s), 0 media file(s), 0 artifact file(s) and 0 other file(s)"
      ],
      "text/plain": [
       "<IPython.core.display.HTML object>"
      ]
     },
     "metadata": {},
     "output_type": "display_data"
    },
    {
     "data": {
      "text/html": [
       "Find logs at: <code>.\\wandb\\run-20230326_182436-a0zgelr5\\logs</code>"
      ],
      "text/plain": [
       "<IPython.core.display.HTML object>"
      ]
     },
     "metadata": {},
     "output_type": "display_data"
    },
    {
     "name": "stderr",
     "output_type": "stream",
     "text": [
      "\u001b[34m\u001b[1mwandb\u001b[0m: Agent Starting Run: 6or6g5jt with config:\n",
      "\u001b[34m\u001b[1mwandb\u001b[0m: \tlearning_rate: 0.05\n",
      "\u001b[34m\u001b[1mwandb\u001b[0m: \tn_estimators: 100\n",
      "\u001b[34m\u001b[1mwandb\u001b[0m: \tsubsample: 0.5\n"
     ]
    },
    {
     "data": {
      "text/html": [
       "Tracking run with wandb version 0.14.0"
      ],
      "text/plain": [
       "<IPython.core.display.HTML object>"
      ]
     },
     "metadata": {},
     "output_type": "display_data"
    },
    {
     "data": {
      "text/html": [
       "Run data is saved locally in <code>C:\\Users\\JhonG\\Documents\\nw-challenge\\nw-challenge\\model\\wandb\\run-20230326_182451-6or6g5jt</code>"
      ],
      "text/plain": [
       "<IPython.core.display.HTML object>"
      ]
     },
     "metadata": {},
     "output_type": "display_data"
    },
    {
     "data": {
      "text/html": [
       "Syncing run <strong><a href='https://wandb.ai/ignacio-onate/cw-challenge-model-XGB-ht-fp/runs/6or6g5jt' target=\"_blank\">soft-sweep-3</a></strong> to <a href='https://wandb.ai/ignacio-onate/cw-challenge-model-XGB-ht-fp' target=\"_blank\">Weights & Biases</a> (<a href='https://wandb.me/run' target=\"_blank\">docs</a>)<br/>Sweep page: <a href='https://wandb.ai/ignacio-onate/cw-challenge-model-XGB-ht-fp/sweeps/0lcka3ii' target=\"_blank\">https://wandb.ai/ignacio-onate/cw-challenge-model-XGB-ht-fp/sweeps/0lcka3ii</a>"
      ],
      "text/plain": [
       "<IPython.core.display.HTML object>"
      ]
     },
     "metadata": {},
     "output_type": "display_data"
    },
    {
     "data": {
      "text/html": [
       " View project at <a href='https://wandb.ai/ignacio-onate/cw-challenge-model-XGB-ht-fp' target=\"_blank\">https://wandb.ai/ignacio-onate/cw-challenge-model-XGB-ht-fp</a>"
      ],
      "text/plain": [
       "<IPython.core.display.HTML object>"
      ]
     },
     "metadata": {},
     "output_type": "display_data"
    },
    {
     "data": {
      "text/html": [
       " View sweep at <a href='https://wandb.ai/ignacio-onate/cw-challenge-model-XGB-ht-fp/sweeps/0lcka3ii' target=\"_blank\">https://wandb.ai/ignacio-onate/cw-challenge-model-XGB-ht-fp/sweeps/0lcka3ii</a>"
      ],
      "text/plain": [
       "<IPython.core.display.HTML object>"
      ]
     },
     "metadata": {},
     "output_type": "display_data"
    },
    {
     "data": {
      "text/html": [
       " View run at <a href='https://wandb.ai/ignacio-onate/cw-challenge-model-XGB-ht-fp/runs/6or6g5jt' target=\"_blank\">https://wandb.ai/ignacio-onate/cw-challenge-model-XGB-ht-fp/runs/6or6g5jt</a>"
      ],
      "text/plain": [
       "<IPython.core.display.HTML object>"
      ]
     },
     "metadata": {},
     "output_type": "display_data"
    },
    {
     "name": "stdout",
     "output_type": "stream",
     "text": [
      "Modelo:  XGB_FI\n"
     ]
    },
    {
     "data": {
      "text/html": [
       "Waiting for W&B process to finish... <strong style=\"color:green\">(success).</strong>"
      ],
      "text/plain": [
       "<IPython.core.display.HTML object>"
      ]
     },
     "metadata": {},
     "output_type": "display_data"
    },
    {
     "data": {
      "text/html": [
       "<style>\n",
       "    table.wandb td:nth-child(1) { padding: 0 10px; text-align: left ; width: auto;} td:nth-child(2) {text-align: left ; width: 100%}\n",
       "    .wandb-row { display: flex; flex-direction: row; flex-wrap: wrap; justify-content: flex-start; width: 100% }\n",
       "    .wandb-col { display: flex; flex-direction: column; flex-basis: 100%; flex: 1; padding: 10px; }\n",
       "    </style>\n",
       "<div class=\"wandb-row\"><div class=\"wandb-col\"><h3>Run history:</h3><br/><table class=\"wandb\"><tr><td>accuracy_XGB_FI</td><td>▁</td></tr><tr><td>f1_XGB_FI</td><td>▁</td></tr><tr><td>precision_XGB_FI</td><td>▁</td></tr><tr><td>recall_XGB_FI</td><td>▁</td></tr><tr><td>roc_auc_XGB_FI</td><td>▁</td></tr></table><br/></div><div class=\"wandb-col\"><h3>Run summary:</h3><br/><table class=\"wandb\"><tr><td>accuracy_XGB_FI</td><td>0.55913</td></tr><tr><td>f1_XGB_FI</td><td>0.35899</td></tr><tr><td>precision_XGB_FI</td><td>0.24603</td></tr><tr><td>recall_XGB_FI</td><td>0.66744</td></tr><tr><td>roc_auc_XGB_FI</td><td>0.64146</td></tr></table><br/></div></div>"
      ],
      "text/plain": [
       "<IPython.core.display.HTML object>"
      ]
     },
     "metadata": {},
     "output_type": "display_data"
    },
    {
     "data": {
      "text/html": [
       " View run <strong style=\"color:#cdcd00\">soft-sweep-3</strong> at: <a href='https://wandb.ai/ignacio-onate/cw-challenge-model-XGB-ht-fp/runs/6or6g5jt' target=\"_blank\">https://wandb.ai/ignacio-onate/cw-challenge-model-XGB-ht-fp/runs/6or6g5jt</a><br/>Synced 5 W&B file(s), 0 media file(s), 0 artifact file(s) and 0 other file(s)"
      ],
      "text/plain": [
       "<IPython.core.display.HTML object>"
      ]
     },
     "metadata": {},
     "output_type": "display_data"
    },
    {
     "data": {
      "text/html": [
       "Find logs at: <code>.\\wandb\\run-20230326_182451-6or6g5jt\\logs</code>"
      ],
      "text/plain": [
       "<IPython.core.display.HTML object>"
      ]
     },
     "metadata": {},
     "output_type": "display_data"
    },
    {
     "name": "stderr",
     "output_type": "stream",
     "text": [
      "\u001b[34m\u001b[1mwandb\u001b[0m: Agent Starting Run: lqmn6fk8 with config:\n",
      "\u001b[34m\u001b[1mwandb\u001b[0m: \tlearning_rate: 0.01\n",
      "\u001b[34m\u001b[1mwandb\u001b[0m: \tn_estimators: 50\n",
      "\u001b[34m\u001b[1mwandb\u001b[0m: \tsubsample: 0.5\n"
     ]
    },
    {
     "data": {
      "text/html": [
       "Tracking run with wandb version 0.14.0"
      ],
      "text/plain": [
       "<IPython.core.display.HTML object>"
      ]
     },
     "metadata": {},
     "output_type": "display_data"
    },
    {
     "data": {
      "text/html": [
       "Run data is saved locally in <code>C:\\Users\\JhonG\\Documents\\nw-challenge\\nw-challenge\\model\\wandb\\run-20230326_182507-lqmn6fk8</code>"
      ],
      "text/plain": [
       "<IPython.core.display.HTML object>"
      ]
     },
     "metadata": {},
     "output_type": "display_data"
    },
    {
     "data": {
      "text/html": [
       "Syncing run <strong><a href='https://wandb.ai/ignacio-onate/cw-challenge-model-XGB-ht-fp/runs/lqmn6fk8' target=\"_blank\">olive-sweep-4</a></strong> to <a href='https://wandb.ai/ignacio-onate/cw-challenge-model-XGB-ht-fp' target=\"_blank\">Weights & Biases</a> (<a href='https://wandb.me/run' target=\"_blank\">docs</a>)<br/>Sweep page: <a href='https://wandb.ai/ignacio-onate/cw-challenge-model-XGB-ht-fp/sweeps/0lcka3ii' target=\"_blank\">https://wandb.ai/ignacio-onate/cw-challenge-model-XGB-ht-fp/sweeps/0lcka3ii</a>"
      ],
      "text/plain": [
       "<IPython.core.display.HTML object>"
      ]
     },
     "metadata": {},
     "output_type": "display_data"
    },
    {
     "data": {
      "text/html": [
       " View project at <a href='https://wandb.ai/ignacio-onate/cw-challenge-model-XGB-ht-fp' target=\"_blank\">https://wandb.ai/ignacio-onate/cw-challenge-model-XGB-ht-fp</a>"
      ],
      "text/plain": [
       "<IPython.core.display.HTML object>"
      ]
     },
     "metadata": {},
     "output_type": "display_data"
    },
    {
     "data": {
      "text/html": [
       " View sweep at <a href='https://wandb.ai/ignacio-onate/cw-challenge-model-XGB-ht-fp/sweeps/0lcka3ii' target=\"_blank\">https://wandb.ai/ignacio-onate/cw-challenge-model-XGB-ht-fp/sweeps/0lcka3ii</a>"
      ],
      "text/plain": [
       "<IPython.core.display.HTML object>"
      ]
     },
     "metadata": {},
     "output_type": "display_data"
    },
    {
     "data": {
      "text/html": [
       " View run at <a href='https://wandb.ai/ignacio-onate/cw-challenge-model-XGB-ht-fp/runs/lqmn6fk8' target=\"_blank\">https://wandb.ai/ignacio-onate/cw-challenge-model-XGB-ht-fp/runs/lqmn6fk8</a>"
      ],
      "text/plain": [
       "<IPython.core.display.HTML object>"
      ]
     },
     "metadata": {},
     "output_type": "display_data"
    },
    {
     "name": "stdout",
     "output_type": "stream",
     "text": [
      "Modelo:  XGB_FI\n"
     ]
    },
    {
     "data": {
      "text/html": [
       "Waiting for W&B process to finish... <strong style=\"color:green\">(success).</strong>"
      ],
      "text/plain": [
       "<IPython.core.display.HTML object>"
      ]
     },
     "metadata": {},
     "output_type": "display_data"
    },
    {
     "data": {
      "text/html": [
       "<style>\n",
       "    table.wandb td:nth-child(1) { padding: 0 10px; text-align: left ; width: auto;} td:nth-child(2) {text-align: left ; width: 100%}\n",
       "    .wandb-row { display: flex; flex-direction: row; flex-wrap: wrap; justify-content: flex-start; width: 100% }\n",
       "    .wandb-col { display: flex; flex-direction: column; flex-basis: 100%; flex: 1; padding: 10px; }\n",
       "    </style>\n",
       "<div class=\"wandb-row\"><div class=\"wandb-col\"><h3>Run history:</h3><br/><table class=\"wandb\"><tr><td>accuracy_XGB_FI</td><td>▁</td></tr><tr><td>f1_XGB_FI</td><td>▁</td></tr><tr><td>precision_XGB_FI</td><td>▁</td></tr><tr><td>recall_XGB_FI</td><td>▁</td></tr><tr><td>roc_auc_XGB_FI</td><td>▁</td></tr></table><br/></div><div class=\"wandb-col\"><h3>Run summary:</h3><br/><table class=\"wandb\"><tr><td>accuracy_XGB_FI</td><td>0.54629</td></tr><tr><td>f1_XGB_FI</td><td>0.35916</td></tr><tr><td>precision_XGB_FI</td><td>0.24333</td></tr><tr><td>recall_XGB_FI</td><td>0.68781</td></tr><tr><td>roc_auc_XGB_FI</td><td>0.64133</td></tr></table><br/></div></div>"
      ],
      "text/plain": [
       "<IPython.core.display.HTML object>"
      ]
     },
     "metadata": {},
     "output_type": "display_data"
    },
    {
     "data": {
      "text/html": [
       " View run <strong style=\"color:#cdcd00\">olive-sweep-4</strong> at: <a href='https://wandb.ai/ignacio-onate/cw-challenge-model-XGB-ht-fp/runs/lqmn6fk8' target=\"_blank\">https://wandb.ai/ignacio-onate/cw-challenge-model-XGB-ht-fp/runs/lqmn6fk8</a><br/>Synced 5 W&B file(s), 0 media file(s), 0 artifact file(s) and 0 other file(s)"
      ],
      "text/plain": [
       "<IPython.core.display.HTML object>"
      ]
     },
     "metadata": {},
     "output_type": "display_data"
    },
    {
     "data": {
      "text/html": [
       "Find logs at: <code>.\\wandb\\run-20230326_182507-lqmn6fk8\\logs</code>"
      ],
      "text/plain": [
       "<IPython.core.display.HTML object>"
      ]
     },
     "metadata": {},
     "output_type": "display_data"
    },
    {
     "name": "stderr",
     "output_type": "stream",
     "text": [
      "\u001b[34m\u001b[1mwandb\u001b[0m: Agent Starting Run: x4tzp3ez with config:\n",
      "\u001b[34m\u001b[1mwandb\u001b[0m: \tlearning_rate: 0.05\n",
      "\u001b[34m\u001b[1mwandb\u001b[0m: \tn_estimators: 150\n",
      "\u001b[34m\u001b[1mwandb\u001b[0m: \tsubsample: 0.9\n"
     ]
    },
    {
     "data": {
      "text/html": [
       "Tracking run with wandb version 0.14.0"
      ],
      "text/plain": [
       "<IPython.core.display.HTML object>"
      ]
     },
     "metadata": {},
     "output_type": "display_data"
    },
    {
     "data": {
      "text/html": [
       "Run data is saved locally in <code>C:\\Users\\JhonG\\Documents\\nw-challenge\\nw-challenge\\model\\wandb\\run-20230326_182518-x4tzp3ez</code>"
      ],
      "text/plain": [
       "<IPython.core.display.HTML object>"
      ]
     },
     "metadata": {},
     "output_type": "display_data"
    },
    {
     "data": {
      "text/html": [
       "Syncing run <strong><a href='https://wandb.ai/ignacio-onate/cw-challenge-model-XGB-ht-fp/runs/x4tzp3ez' target=\"_blank\">hearty-sweep-5</a></strong> to <a href='https://wandb.ai/ignacio-onate/cw-challenge-model-XGB-ht-fp' target=\"_blank\">Weights & Biases</a> (<a href='https://wandb.me/run' target=\"_blank\">docs</a>)<br/>Sweep page: <a href='https://wandb.ai/ignacio-onate/cw-challenge-model-XGB-ht-fp/sweeps/0lcka3ii' target=\"_blank\">https://wandb.ai/ignacio-onate/cw-challenge-model-XGB-ht-fp/sweeps/0lcka3ii</a>"
      ],
      "text/plain": [
       "<IPython.core.display.HTML object>"
      ]
     },
     "metadata": {},
     "output_type": "display_data"
    },
    {
     "data": {
      "text/html": [
       " View project at <a href='https://wandb.ai/ignacio-onate/cw-challenge-model-XGB-ht-fp' target=\"_blank\">https://wandb.ai/ignacio-onate/cw-challenge-model-XGB-ht-fp</a>"
      ],
      "text/plain": [
       "<IPython.core.display.HTML object>"
      ]
     },
     "metadata": {},
     "output_type": "display_data"
    },
    {
     "data": {
      "text/html": [
       " View sweep at <a href='https://wandb.ai/ignacio-onate/cw-challenge-model-XGB-ht-fp/sweeps/0lcka3ii' target=\"_blank\">https://wandb.ai/ignacio-onate/cw-challenge-model-XGB-ht-fp/sweeps/0lcka3ii</a>"
      ],
      "text/plain": [
       "<IPython.core.display.HTML object>"
      ]
     },
     "metadata": {},
     "output_type": "display_data"
    },
    {
     "data": {
      "text/html": [
       " View run at <a href='https://wandb.ai/ignacio-onate/cw-challenge-model-XGB-ht-fp/runs/x4tzp3ez' target=\"_blank\">https://wandb.ai/ignacio-onate/cw-challenge-model-XGB-ht-fp/runs/x4tzp3ez</a>"
      ],
      "text/plain": [
       "<IPython.core.display.HTML object>"
      ]
     },
     "metadata": {},
     "output_type": "display_data"
    },
    {
     "name": "stdout",
     "output_type": "stream",
     "text": [
      "Modelo:  XGB_FI\n"
     ]
    },
    {
     "data": {
      "text/html": [
       "Waiting for W&B process to finish... <strong style=\"color:green\">(success).</strong>"
      ],
      "text/plain": [
       "<IPython.core.display.HTML object>"
      ]
     },
     "metadata": {},
     "output_type": "display_data"
    },
    {
     "data": {
      "text/html": [
       "<style>\n",
       "    table.wandb td:nth-child(1) { padding: 0 10px; text-align: left ; width: auto;} td:nth-child(2) {text-align: left ; width: 100%}\n",
       "    .wandb-row { display: flex; flex-direction: row; flex-wrap: wrap; justify-content: flex-start; width: 100% }\n",
       "    .wandb-col { display: flex; flex-direction: column; flex-basis: 100%; flex: 1; padding: 10px; }\n",
       "    </style>\n",
       "<div class=\"wandb-row\"><div class=\"wandb-col\"><h3>Run history:</h3><br/><table class=\"wandb\"><tr><td>accuracy_XGB_FI</td><td>▁</td></tr><tr><td>f1_XGB_FI</td><td>▁</td></tr><tr><td>precision_XGB_FI</td><td>▁</td></tr><tr><td>recall_XGB_FI</td><td>▁</td></tr><tr><td>roc_auc_XGB_FI</td><td>▁</td></tr></table><br/></div><div class=\"wandb-col\"><h3>Run summary:</h3><br/><table class=\"wandb\"><tr><td>accuracy_XGB_FI</td><td>0.5569</td></tr><tr><td>f1_XGB_FI</td><td>0.35913</td></tr><tr><td>precision_XGB_FI</td><td>0.24572</td></tr><tr><td>recall_XGB_FI</td><td>0.67171</td></tr><tr><td>roc_auc_XGB_FI</td><td>0.64116</td></tr></table><br/></div></div>"
      ],
      "text/plain": [
       "<IPython.core.display.HTML object>"
      ]
     },
     "metadata": {},
     "output_type": "display_data"
    },
    {
     "data": {
      "text/html": [
       " View run <strong style=\"color:#cdcd00\">hearty-sweep-5</strong> at: <a href='https://wandb.ai/ignacio-onate/cw-challenge-model-XGB-ht-fp/runs/x4tzp3ez' target=\"_blank\">https://wandb.ai/ignacio-onate/cw-challenge-model-XGB-ht-fp/runs/x4tzp3ez</a><br/>Synced 5 W&B file(s), 0 media file(s), 0 artifact file(s) and 0 other file(s)"
      ],
      "text/plain": [
       "<IPython.core.display.HTML object>"
      ]
     },
     "metadata": {},
     "output_type": "display_data"
    },
    {
     "data": {
      "text/html": [
       "Find logs at: <code>.\\wandb\\run-20230326_182518-x4tzp3ez\\logs</code>"
      ],
      "text/plain": [
       "<IPython.core.display.HTML object>"
      ]
     },
     "metadata": {},
     "output_type": "display_data"
    },
    {
     "name": "stderr",
     "output_type": "stream",
     "text": [
      "\u001b[34m\u001b[1mwandb\u001b[0m: Agent Starting Run: 2nni4ixj with config:\n",
      "\u001b[34m\u001b[1mwandb\u001b[0m: \tlearning_rate: 0.01\n",
      "\u001b[34m\u001b[1mwandb\u001b[0m: \tn_estimators: 150\n",
      "\u001b[34m\u001b[1mwandb\u001b[0m: \tsubsample: 0.9\n"
     ]
    },
    {
     "data": {
      "text/html": [
       "Tracking run with wandb version 0.14.0"
      ],
      "text/plain": [
       "<IPython.core.display.HTML object>"
      ]
     },
     "metadata": {},
     "output_type": "display_data"
    },
    {
     "data": {
      "text/html": [
       "Run data is saved locally in <code>C:\\Users\\JhonG\\Documents\\nw-challenge\\nw-challenge\\model\\wandb\\run-20230326_182534-2nni4ixj</code>"
      ],
      "text/plain": [
       "<IPython.core.display.HTML object>"
      ]
     },
     "metadata": {},
     "output_type": "display_data"
    },
    {
     "data": {
      "text/html": [
       "Syncing run <strong><a href='https://wandb.ai/ignacio-onate/cw-challenge-model-XGB-ht-fp/runs/2nni4ixj' target=\"_blank\">distinctive-sweep-6</a></strong> to <a href='https://wandb.ai/ignacio-onate/cw-challenge-model-XGB-ht-fp' target=\"_blank\">Weights & Biases</a> (<a href='https://wandb.me/run' target=\"_blank\">docs</a>)<br/>Sweep page: <a href='https://wandb.ai/ignacio-onate/cw-challenge-model-XGB-ht-fp/sweeps/0lcka3ii' target=\"_blank\">https://wandb.ai/ignacio-onate/cw-challenge-model-XGB-ht-fp/sweeps/0lcka3ii</a>"
      ],
      "text/plain": [
       "<IPython.core.display.HTML object>"
      ]
     },
     "metadata": {},
     "output_type": "display_data"
    },
    {
     "data": {
      "text/html": [
       " View project at <a href='https://wandb.ai/ignacio-onate/cw-challenge-model-XGB-ht-fp' target=\"_blank\">https://wandb.ai/ignacio-onate/cw-challenge-model-XGB-ht-fp</a>"
      ],
      "text/plain": [
       "<IPython.core.display.HTML object>"
      ]
     },
     "metadata": {},
     "output_type": "display_data"
    },
    {
     "data": {
      "text/html": [
       " View sweep at <a href='https://wandb.ai/ignacio-onate/cw-challenge-model-XGB-ht-fp/sweeps/0lcka3ii' target=\"_blank\">https://wandb.ai/ignacio-onate/cw-challenge-model-XGB-ht-fp/sweeps/0lcka3ii</a>"
      ],
      "text/plain": [
       "<IPython.core.display.HTML object>"
      ]
     },
     "metadata": {},
     "output_type": "display_data"
    },
    {
     "data": {
      "text/html": [
       " View run at <a href='https://wandb.ai/ignacio-onate/cw-challenge-model-XGB-ht-fp/runs/2nni4ixj' target=\"_blank\">https://wandb.ai/ignacio-onate/cw-challenge-model-XGB-ht-fp/runs/2nni4ixj</a>"
      ],
      "text/plain": [
       "<IPython.core.display.HTML object>"
      ]
     },
     "metadata": {},
     "output_type": "display_data"
    },
    {
     "name": "stdout",
     "output_type": "stream",
     "text": [
      "Modelo:  XGB_FI\n"
     ]
    },
    {
     "data": {
      "text/html": [
       "Waiting for W&B process to finish... <strong style=\"color:green\">(success).</strong>"
      ],
      "text/plain": [
       "<IPython.core.display.HTML object>"
      ]
     },
     "metadata": {},
     "output_type": "display_data"
    },
    {
     "data": {
      "text/html": [
       "<style>\n",
       "    table.wandb td:nth-child(1) { padding: 0 10px; text-align: left ; width: auto;} td:nth-child(2) {text-align: left ; width: 100%}\n",
       "    .wandb-row { display: flex; flex-direction: row; flex-wrap: wrap; justify-content: flex-start; width: 100% }\n",
       "    .wandb-col { display: flex; flex-direction: column; flex-basis: 100%; flex: 1; padding: 10px; }\n",
       "    </style>\n",
       "<div class=\"wandb-row\"><div class=\"wandb-col\"><h3>Run history:</h3><br/><table class=\"wandb\"><tr><td>accuracy_XGB_FI</td><td>▁</td></tr><tr><td>f1_XGB_FI</td><td>▁</td></tr><tr><td>precision_XGB_FI</td><td>▁</td></tr><tr><td>recall_XGB_FI</td><td>▁</td></tr><tr><td>roc_auc_XGB_FI</td><td>▁</td></tr></table><br/></div><div class=\"wandb-col\"><h3>Run summary:</h3><br/><table class=\"wandb\"><tr><td>accuracy_XGB_FI</td><td>0.5624</td></tr><tr><td>f1_XGB_FI</td><td>0.35871</td></tr><tr><td>precision_XGB_FI</td><td>0.24661</td></tr><tr><td>recall_XGB_FI</td><td>0.66243</td></tr><tr><td>roc_auc_XGB_FI</td><td>0.64185</td></tr></table><br/></div></div>"
      ],
      "text/plain": [
       "<IPython.core.display.HTML object>"
      ]
     },
     "metadata": {},
     "output_type": "display_data"
    },
    {
     "data": {
      "text/html": [
       " View run <strong style=\"color:#cdcd00\">distinctive-sweep-6</strong> at: <a href='https://wandb.ai/ignacio-onate/cw-challenge-model-XGB-ht-fp/runs/2nni4ixj' target=\"_blank\">https://wandb.ai/ignacio-onate/cw-challenge-model-XGB-ht-fp/runs/2nni4ixj</a><br/>Synced 5 W&B file(s), 0 media file(s), 0 artifact file(s) and 0 other file(s)"
      ],
      "text/plain": [
       "<IPython.core.display.HTML object>"
      ]
     },
     "metadata": {},
     "output_type": "display_data"
    },
    {
     "data": {
      "text/html": [
       "Find logs at: <code>.\\wandb\\run-20230326_182534-2nni4ixj\\logs</code>"
      ],
      "text/plain": [
       "<IPython.core.display.HTML object>"
      ]
     },
     "metadata": {},
     "output_type": "display_data"
    },
    {
     "name": "stderr",
     "output_type": "stream",
     "text": [
      "\u001b[34m\u001b[1mwandb\u001b[0m: Agent Starting Run: zkny5me9 with config:\n",
      "\u001b[34m\u001b[1mwandb\u001b[0m: \tlearning_rate: 0.01\n",
      "\u001b[34m\u001b[1mwandb\u001b[0m: \tn_estimators: 150\n",
      "\u001b[34m\u001b[1mwandb\u001b[0m: \tsubsample: 0.5\n"
     ]
    },
    {
     "data": {
      "text/html": [
       "Tracking run with wandb version 0.14.0"
      ],
      "text/plain": [
       "<IPython.core.display.HTML object>"
      ]
     },
     "metadata": {},
     "output_type": "display_data"
    },
    {
     "data": {
      "text/html": [
       "Run data is saved locally in <code>C:\\Users\\JhonG\\Documents\\nw-challenge\\nw-challenge\\model\\wandb\\run-20230326_182550-zkny5me9</code>"
      ],
      "text/plain": [
       "<IPython.core.display.HTML object>"
      ]
     },
     "metadata": {},
     "output_type": "display_data"
    },
    {
     "data": {
      "text/html": [
       "Syncing run <strong><a href='https://wandb.ai/ignacio-onate/cw-challenge-model-XGB-ht-fp/runs/zkny5me9' target=\"_blank\">young-sweep-7</a></strong> to <a href='https://wandb.ai/ignacio-onate/cw-challenge-model-XGB-ht-fp' target=\"_blank\">Weights & Biases</a> (<a href='https://wandb.me/run' target=\"_blank\">docs</a>)<br/>Sweep page: <a href='https://wandb.ai/ignacio-onate/cw-challenge-model-XGB-ht-fp/sweeps/0lcka3ii' target=\"_blank\">https://wandb.ai/ignacio-onate/cw-challenge-model-XGB-ht-fp/sweeps/0lcka3ii</a>"
      ],
      "text/plain": [
       "<IPython.core.display.HTML object>"
      ]
     },
     "metadata": {},
     "output_type": "display_data"
    },
    {
     "data": {
      "text/html": [
       " View project at <a href='https://wandb.ai/ignacio-onate/cw-challenge-model-XGB-ht-fp' target=\"_blank\">https://wandb.ai/ignacio-onate/cw-challenge-model-XGB-ht-fp</a>"
      ],
      "text/plain": [
       "<IPython.core.display.HTML object>"
      ]
     },
     "metadata": {},
     "output_type": "display_data"
    },
    {
     "data": {
      "text/html": [
       " View sweep at <a href='https://wandb.ai/ignacio-onate/cw-challenge-model-XGB-ht-fp/sweeps/0lcka3ii' target=\"_blank\">https://wandb.ai/ignacio-onate/cw-challenge-model-XGB-ht-fp/sweeps/0lcka3ii</a>"
      ],
      "text/plain": [
       "<IPython.core.display.HTML object>"
      ]
     },
     "metadata": {},
     "output_type": "display_data"
    },
    {
     "data": {
      "text/html": [
       " View run at <a href='https://wandb.ai/ignacio-onate/cw-challenge-model-XGB-ht-fp/runs/zkny5me9' target=\"_blank\">https://wandb.ai/ignacio-onate/cw-challenge-model-XGB-ht-fp/runs/zkny5me9</a>"
      ],
      "text/plain": [
       "<IPython.core.display.HTML object>"
      ]
     },
     "metadata": {},
     "output_type": "display_data"
    },
    {
     "name": "stdout",
     "output_type": "stream",
     "text": [
      "Modelo:  XGB_FI\n"
     ]
    },
    {
     "data": {
      "text/html": [
       "Waiting for W&B process to finish... <strong style=\"color:green\">(success).</strong>"
      ],
      "text/plain": [
       "<IPython.core.display.HTML object>"
      ]
     },
     "metadata": {},
     "output_type": "display_data"
    },
    {
     "data": {
      "text/html": [
       "<style>\n",
       "    table.wandb td:nth-child(1) { padding: 0 10px; text-align: left ; width: auto;} td:nth-child(2) {text-align: left ; width: 100%}\n",
       "    .wandb-row { display: flex; flex-direction: row; flex-wrap: wrap; justify-content: flex-start; width: 100% }\n",
       "    .wandb-col { display: flex; flex-direction: column; flex-basis: 100%; flex: 1; padding: 10px; }\n",
       "    </style>\n",
       "<div class=\"wandb-row\"><div class=\"wandb-col\"><h3>Run history:</h3><br/><table class=\"wandb\"><tr><td>accuracy_XGB_FI</td><td>▁</td></tr><tr><td>f1_XGB_FI</td><td>▁</td></tr><tr><td>precision_XGB_FI</td><td>▁</td></tr><tr><td>recall_XGB_FI</td><td>▁</td></tr><tr><td>roc_auc_XGB_FI</td><td>▁</td></tr></table><br/></div><div class=\"wandb-col\"><h3>Run summary:</h3><br/><table class=\"wandb\"><tr><td>accuracy_XGB_FI</td><td>0.55884</td></tr><tr><td>f1_XGB_FI</td><td>0.35924</td></tr><tr><td>precision_XGB_FI</td><td>0.24618</td></tr><tr><td>recall_XGB_FI</td><td>0.66878</td></tr><tr><td>roc_auc_XGB_FI</td><td>0.64192</td></tr></table><br/></div></div>"
      ],
      "text/plain": [
       "<IPython.core.display.HTML object>"
      ]
     },
     "metadata": {},
     "output_type": "display_data"
    },
    {
     "data": {
      "text/html": [
       " View run <strong style=\"color:#cdcd00\">young-sweep-7</strong> at: <a href='https://wandb.ai/ignacio-onate/cw-challenge-model-XGB-ht-fp/runs/zkny5me9' target=\"_blank\">https://wandb.ai/ignacio-onate/cw-challenge-model-XGB-ht-fp/runs/zkny5me9</a><br/>Synced 5 W&B file(s), 0 media file(s), 0 artifact file(s) and 0 other file(s)"
      ],
      "text/plain": [
       "<IPython.core.display.HTML object>"
      ]
     },
     "metadata": {},
     "output_type": "display_data"
    },
    {
     "data": {
      "text/html": [
       "Find logs at: <code>.\\wandb\\run-20230326_182550-zkny5me9\\logs</code>"
      ],
      "text/plain": [
       "<IPython.core.display.HTML object>"
      ]
     },
     "metadata": {},
     "output_type": "display_data"
    },
    {
     "name": "stderr",
     "output_type": "stream",
     "text": [
      "\u001b[34m\u001b[1mwandb\u001b[0m: Agent Starting Run: s0nruze5 with config:\n",
      "\u001b[34m\u001b[1mwandb\u001b[0m: \tlearning_rate: 0.1\n",
      "\u001b[34m\u001b[1mwandb\u001b[0m: \tn_estimators: 100\n",
      "\u001b[34m\u001b[1mwandb\u001b[0m: \tsubsample: 0.5\n"
     ]
    },
    {
     "data": {
      "text/html": [
       "Tracking run with wandb version 0.14.0"
      ],
      "text/plain": [
       "<IPython.core.display.HTML object>"
      ]
     },
     "metadata": {},
     "output_type": "display_data"
    },
    {
     "data": {
      "text/html": [
       "Run data is saved locally in <code>C:\\Users\\JhonG\\Documents\\nw-challenge\\nw-challenge\\model\\wandb\\run-20230326_182607-s0nruze5</code>"
      ],
      "text/plain": [
       "<IPython.core.display.HTML object>"
      ]
     },
     "metadata": {},
     "output_type": "display_data"
    },
    {
     "data": {
      "text/html": [
       "Syncing run <strong><a href='https://wandb.ai/ignacio-onate/cw-challenge-model-XGB-ht-fp/runs/s0nruze5' target=\"_blank\">comfy-sweep-8</a></strong> to <a href='https://wandb.ai/ignacio-onate/cw-challenge-model-XGB-ht-fp' target=\"_blank\">Weights & Biases</a> (<a href='https://wandb.me/run' target=\"_blank\">docs</a>)<br/>Sweep page: <a href='https://wandb.ai/ignacio-onate/cw-challenge-model-XGB-ht-fp/sweeps/0lcka3ii' target=\"_blank\">https://wandb.ai/ignacio-onate/cw-challenge-model-XGB-ht-fp/sweeps/0lcka3ii</a>"
      ],
      "text/plain": [
       "<IPython.core.display.HTML object>"
      ]
     },
     "metadata": {},
     "output_type": "display_data"
    },
    {
     "data": {
      "text/html": [
       " View project at <a href='https://wandb.ai/ignacio-onate/cw-challenge-model-XGB-ht-fp' target=\"_blank\">https://wandb.ai/ignacio-onate/cw-challenge-model-XGB-ht-fp</a>"
      ],
      "text/plain": [
       "<IPython.core.display.HTML object>"
      ]
     },
     "metadata": {},
     "output_type": "display_data"
    },
    {
     "data": {
      "text/html": [
       " View sweep at <a href='https://wandb.ai/ignacio-onate/cw-challenge-model-XGB-ht-fp/sweeps/0lcka3ii' target=\"_blank\">https://wandb.ai/ignacio-onate/cw-challenge-model-XGB-ht-fp/sweeps/0lcka3ii</a>"
      ],
      "text/plain": [
       "<IPython.core.display.HTML object>"
      ]
     },
     "metadata": {},
     "output_type": "display_data"
    },
    {
     "data": {
      "text/html": [
       " View run at <a href='https://wandb.ai/ignacio-onate/cw-challenge-model-XGB-ht-fp/runs/s0nruze5' target=\"_blank\">https://wandb.ai/ignacio-onate/cw-challenge-model-XGB-ht-fp/runs/s0nruze5</a>"
      ],
      "text/plain": [
       "<IPython.core.display.HTML object>"
      ]
     },
     "metadata": {},
     "output_type": "display_data"
    },
    {
     "name": "stdout",
     "output_type": "stream",
     "text": [
      "Modelo:  XGB_FI\n"
     ]
    },
    {
     "data": {
      "text/html": [
       "Waiting for W&B process to finish... <strong style=\"color:green\">(success).</strong>"
      ],
      "text/plain": [
       "<IPython.core.display.HTML object>"
      ]
     },
     "metadata": {},
     "output_type": "display_data"
    },
    {
     "data": {
      "text/html": [
       "<style>\n",
       "    table.wandb td:nth-child(1) { padding: 0 10px; text-align: left ; width: auto;} td:nth-child(2) {text-align: left ; width: 100%}\n",
       "    .wandb-row { display: flex; flex-direction: row; flex-wrap: wrap; justify-content: flex-start; width: 100% }\n",
       "    .wandb-col { display: flex; flex-direction: column; flex-basis: 100%; flex: 1; padding: 10px; }\n",
       "    </style>\n",
       "<div class=\"wandb-row\"><div class=\"wandb-col\"><h3>Run history:</h3><br/><table class=\"wandb\"><tr><td>accuracy_XGB_FI</td><td>▁</td></tr><tr><td>f1_XGB_FI</td><td>▁</td></tr><tr><td>precision_XGB_FI</td><td>▁</td></tr><tr><td>recall_XGB_FI</td><td>▁</td></tr><tr><td>roc_auc_XGB_FI</td><td>▁</td></tr></table><br/></div><div class=\"wandb-col\"><h3>Run summary:</h3><br/><table class=\"wandb\"><tr><td>accuracy_XGB_FI</td><td>0.55882</td></tr><tr><td>f1_XGB_FI</td><td>0.36052</td></tr><tr><td>precision_XGB_FI</td><td>0.24674</td></tr><tr><td>recall_XGB_FI</td><td>0.67282</td></tr><tr><td>roc_auc_XGB_FI</td><td>0.64125</td></tr></table><br/></div></div>"
      ],
      "text/plain": [
       "<IPython.core.display.HTML object>"
      ]
     },
     "metadata": {},
     "output_type": "display_data"
    },
    {
     "data": {
      "text/html": [
       " View run <strong style=\"color:#cdcd00\">comfy-sweep-8</strong> at: <a href='https://wandb.ai/ignacio-onate/cw-challenge-model-XGB-ht-fp/runs/s0nruze5' target=\"_blank\">https://wandb.ai/ignacio-onate/cw-challenge-model-XGB-ht-fp/runs/s0nruze5</a><br/>Synced 5 W&B file(s), 0 media file(s), 0 artifact file(s) and 0 other file(s)"
      ],
      "text/plain": [
       "<IPython.core.display.HTML object>"
      ]
     },
     "metadata": {},
     "output_type": "display_data"
    },
    {
     "data": {
      "text/html": [
       "Find logs at: <code>.\\wandb\\run-20230326_182607-s0nruze5\\logs</code>"
      ],
      "text/plain": [
       "<IPython.core.display.HTML object>"
      ]
     },
     "metadata": {},
     "output_type": "display_data"
    },
    {
     "name": "stderr",
     "output_type": "stream",
     "text": [
      "\u001b[34m\u001b[1mwandb\u001b[0m: Sweep Agent: Waiting for job.\n",
      "\u001b[34m\u001b[1mwandb\u001b[0m: Job received.\n",
      "\u001b[34m\u001b[1mwandb\u001b[0m: Agent Starting Run: 2a99736q with config:\n",
      "\u001b[34m\u001b[1mwandb\u001b[0m: \tlearning_rate: 0.01\n",
      "\u001b[34m\u001b[1mwandb\u001b[0m: \tn_estimators: 150\n",
      "\u001b[34m\u001b[1mwandb\u001b[0m: \tsubsample: 0.5\n"
     ]
    },
    {
     "data": {
      "text/html": [
       "Tracking run with wandb version 0.14.0"
      ],
      "text/plain": [
       "<IPython.core.display.HTML object>"
      ]
     },
     "metadata": {},
     "output_type": "display_data"
    },
    {
     "data": {
      "text/html": [
       "Run data is saved locally in <code>C:\\Users\\JhonG\\Documents\\nw-challenge\\nw-challenge\\model\\wandb\\run-20230326_182627-2a99736q</code>"
      ],
      "text/plain": [
       "<IPython.core.display.HTML object>"
      ]
     },
     "metadata": {},
     "output_type": "display_data"
    },
    {
     "data": {
      "text/html": [
       "Syncing run <strong><a href='https://wandb.ai/ignacio-onate/cw-challenge-model-XGB-ht-fp/runs/2a99736q' target=\"_blank\">whole-sweep-9</a></strong> to <a href='https://wandb.ai/ignacio-onate/cw-challenge-model-XGB-ht-fp' target=\"_blank\">Weights & Biases</a> (<a href='https://wandb.me/run' target=\"_blank\">docs</a>)<br/>Sweep page: <a href='https://wandb.ai/ignacio-onate/cw-challenge-model-XGB-ht-fp/sweeps/0lcka3ii' target=\"_blank\">https://wandb.ai/ignacio-onate/cw-challenge-model-XGB-ht-fp/sweeps/0lcka3ii</a>"
      ],
      "text/plain": [
       "<IPython.core.display.HTML object>"
      ]
     },
     "metadata": {},
     "output_type": "display_data"
    },
    {
     "data": {
      "text/html": [
       " View project at <a href='https://wandb.ai/ignacio-onate/cw-challenge-model-XGB-ht-fp' target=\"_blank\">https://wandb.ai/ignacio-onate/cw-challenge-model-XGB-ht-fp</a>"
      ],
      "text/plain": [
       "<IPython.core.display.HTML object>"
      ]
     },
     "metadata": {},
     "output_type": "display_data"
    },
    {
     "data": {
      "text/html": [
       " View sweep at <a href='https://wandb.ai/ignacio-onate/cw-challenge-model-XGB-ht-fp/sweeps/0lcka3ii' target=\"_blank\">https://wandb.ai/ignacio-onate/cw-challenge-model-XGB-ht-fp/sweeps/0lcka3ii</a>"
      ],
      "text/plain": [
       "<IPython.core.display.HTML object>"
      ]
     },
     "metadata": {},
     "output_type": "display_data"
    },
    {
     "data": {
      "text/html": [
       " View run at <a href='https://wandb.ai/ignacio-onate/cw-challenge-model-XGB-ht-fp/runs/2a99736q' target=\"_blank\">https://wandb.ai/ignacio-onate/cw-challenge-model-XGB-ht-fp/runs/2a99736q</a>"
      ],
      "text/plain": [
       "<IPython.core.display.HTML object>"
      ]
     },
     "metadata": {},
     "output_type": "display_data"
    },
    {
     "name": "stdout",
     "output_type": "stream",
     "text": [
      "Modelo:  XGB_FI\n"
     ]
    },
    {
     "data": {
      "text/html": [
       "Waiting for W&B process to finish... <strong style=\"color:green\">(success).</strong>"
      ],
      "text/plain": [
       "<IPython.core.display.HTML object>"
      ]
     },
     "metadata": {},
     "output_type": "display_data"
    },
    {
     "data": {
      "text/html": [
       "<style>\n",
       "    table.wandb td:nth-child(1) { padding: 0 10px; text-align: left ; width: auto;} td:nth-child(2) {text-align: left ; width: 100%}\n",
       "    .wandb-row { display: flex; flex-direction: row; flex-wrap: wrap; justify-content: flex-start; width: 100% }\n",
       "    .wandb-col { display: flex; flex-direction: column; flex-basis: 100%; flex: 1; padding: 10px; }\n",
       "    </style>\n",
       "<div class=\"wandb-row\"><div class=\"wandb-col\"><h3>Run history:</h3><br/><table class=\"wandb\"><tr><td>accuracy_XGB_FI</td><td>▁</td></tr><tr><td>f1_XGB_FI</td><td>▁</td></tr><tr><td>precision_XGB_FI</td><td>▁</td></tr><tr><td>recall_XGB_FI</td><td>▁</td></tr><tr><td>roc_auc_XGB_FI</td><td>▁</td></tr></table><br/></div><div class=\"wandb-col\"><h3>Run summary:</h3><br/><table class=\"wandb\"><tr><td>accuracy_XGB_FI</td><td>0.58149</td></tr><tr><td>f1_XGB_FI</td><td>0.35858</td></tr><tr><td>precision_XGB_FI</td><td>0.25059</td></tr><tr><td>recall_XGB_FI</td><td>0.63287</td></tr><tr><td>roc_auc_XGB_FI</td><td>0.64214</td></tr></table><br/></div></div>"
      ],
      "text/plain": [
       "<IPython.core.display.HTML object>"
      ]
     },
     "metadata": {},
     "output_type": "display_data"
    },
    {
     "data": {
      "text/html": [
       " View run <strong style=\"color:#cdcd00\">whole-sweep-9</strong> at: <a href='https://wandb.ai/ignacio-onate/cw-challenge-model-XGB-ht-fp/runs/2a99736q' target=\"_blank\">https://wandb.ai/ignacio-onate/cw-challenge-model-XGB-ht-fp/runs/2a99736q</a><br/>Synced 5 W&B file(s), 0 media file(s), 0 artifact file(s) and 0 other file(s)"
      ],
      "text/plain": [
       "<IPython.core.display.HTML object>"
      ]
     },
     "metadata": {},
     "output_type": "display_data"
    },
    {
     "data": {
      "text/html": [
       "Find logs at: <code>.\\wandb\\run-20230326_182627-2a99736q\\logs</code>"
      ],
      "text/plain": [
       "<IPython.core.display.HTML object>"
      ]
     },
     "metadata": {},
     "output_type": "display_data"
    },
    {
     "name": "stderr",
     "output_type": "stream",
     "text": [
      "\u001b[34m\u001b[1mwandb\u001b[0m: Agent Starting Run: nwmpt1sl with config:\n",
      "\u001b[34m\u001b[1mwandb\u001b[0m: \tlearning_rate: 0.05\n",
      "\u001b[34m\u001b[1mwandb\u001b[0m: \tn_estimators: 100\n",
      "\u001b[34m\u001b[1mwandb\u001b[0m: \tsubsample: 0.9\n"
     ]
    },
    {
     "data": {
      "text/html": [
       "Tracking run with wandb version 0.14.0"
      ],
      "text/plain": [
       "<IPython.core.display.HTML object>"
      ]
     },
     "metadata": {},
     "output_type": "display_data"
    },
    {
     "data": {
      "text/html": [
       "Run data is saved locally in <code>C:\\Users\\JhonG\\Documents\\nw-challenge\\nw-challenge\\model\\wandb\\run-20230326_182645-nwmpt1sl</code>"
      ],
      "text/plain": [
       "<IPython.core.display.HTML object>"
      ]
     },
     "metadata": {},
     "output_type": "display_data"
    },
    {
     "data": {
      "text/html": [
       "Syncing run <strong><a href='https://wandb.ai/ignacio-onate/cw-challenge-model-XGB-ht-fp/runs/nwmpt1sl' target=\"_blank\">smooth-sweep-10</a></strong> to <a href='https://wandb.ai/ignacio-onate/cw-challenge-model-XGB-ht-fp' target=\"_blank\">Weights & Biases</a> (<a href='https://wandb.me/run' target=\"_blank\">docs</a>)<br/>Sweep page: <a href='https://wandb.ai/ignacio-onate/cw-challenge-model-XGB-ht-fp/sweeps/0lcka3ii' target=\"_blank\">https://wandb.ai/ignacio-onate/cw-challenge-model-XGB-ht-fp/sweeps/0lcka3ii</a>"
      ],
      "text/plain": [
       "<IPython.core.display.HTML object>"
      ]
     },
     "metadata": {},
     "output_type": "display_data"
    },
    {
     "data": {
      "text/html": [
       " View project at <a href='https://wandb.ai/ignacio-onate/cw-challenge-model-XGB-ht-fp' target=\"_blank\">https://wandb.ai/ignacio-onate/cw-challenge-model-XGB-ht-fp</a>"
      ],
      "text/plain": [
       "<IPython.core.display.HTML object>"
      ]
     },
     "metadata": {},
     "output_type": "display_data"
    },
    {
     "data": {
      "text/html": [
       " View sweep at <a href='https://wandb.ai/ignacio-onate/cw-challenge-model-XGB-ht-fp/sweeps/0lcka3ii' target=\"_blank\">https://wandb.ai/ignacio-onate/cw-challenge-model-XGB-ht-fp/sweeps/0lcka3ii</a>"
      ],
      "text/plain": [
       "<IPython.core.display.HTML object>"
      ]
     },
     "metadata": {},
     "output_type": "display_data"
    },
    {
     "data": {
      "text/html": [
       " View run at <a href='https://wandb.ai/ignacio-onate/cw-challenge-model-XGB-ht-fp/runs/nwmpt1sl' target=\"_blank\">https://wandb.ai/ignacio-onate/cw-challenge-model-XGB-ht-fp/runs/nwmpt1sl</a>"
      ],
      "text/plain": [
       "<IPython.core.display.HTML object>"
      ]
     },
     "metadata": {},
     "output_type": "display_data"
    },
    {
     "name": "stdout",
     "output_type": "stream",
     "text": [
      "Modelo:  XGB_FI\n"
     ]
    },
    {
     "data": {
      "text/html": [
       "Waiting for W&B process to finish... <strong style=\"color:green\">(success).</strong>"
      ],
      "text/plain": [
       "<IPython.core.display.HTML object>"
      ]
     },
     "metadata": {},
     "output_type": "display_data"
    },
    {
     "data": {
      "text/html": [
       "<style>\n",
       "    table.wandb td:nth-child(1) { padding: 0 10px; text-align: left ; width: auto;} td:nth-child(2) {text-align: left ; width: 100%}\n",
       "    .wandb-row { display: flex; flex-direction: row; flex-wrap: wrap; justify-content: flex-start; width: 100% }\n",
       "    .wandb-col { display: flex; flex-direction: column; flex-basis: 100%; flex: 1; padding: 10px; }\n",
       "    </style>\n",
       "<div class=\"wandb-row\"><div class=\"wandb-col\"><h3>Run history:</h3><br/><table class=\"wandb\"><tr><td>accuracy_XGB_FI</td><td>▁</td></tr><tr><td>f1_XGB_FI</td><td>▁</td></tr><tr><td>precision_XGB_FI</td><td>▁</td></tr><tr><td>recall_XGB_FI</td><td>▁</td></tr><tr><td>roc_auc_XGB_FI</td><td>▁</td></tr></table><br/></div><div class=\"wandb-col\"><h3>Run summary:</h3><br/><table class=\"wandb\"><tr><td>accuracy_XGB_FI</td><td>0.56439</td></tr><tr><td>f1_XGB_FI</td><td>0.35846</td></tr><tr><td>precision_XGB_FI</td><td>0.24687</td></tr><tr><td>recall_XGB_FI</td><td>0.658</td></tr><tr><td>roc_auc_XGB_FI</td><td>0.64123</td></tr></table><br/></div></div>"
      ],
      "text/plain": [
       "<IPython.core.display.HTML object>"
      ]
     },
     "metadata": {},
     "output_type": "display_data"
    },
    {
     "data": {
      "text/html": [
       " View run <strong style=\"color:#cdcd00\">smooth-sweep-10</strong> at: <a href='https://wandb.ai/ignacio-onate/cw-challenge-model-XGB-ht-fp/runs/nwmpt1sl' target=\"_blank\">https://wandb.ai/ignacio-onate/cw-challenge-model-XGB-ht-fp/runs/nwmpt1sl</a><br/>Synced 5 W&B file(s), 0 media file(s), 0 artifact file(s) and 0 other file(s)"
      ],
      "text/plain": [
       "<IPython.core.display.HTML object>"
      ]
     },
     "metadata": {},
     "output_type": "display_data"
    },
    {
     "data": {
      "text/html": [
       "Find logs at: <code>.\\wandb\\run-20230326_182645-nwmpt1sl\\logs</code>"
      ],
      "text/plain": [
       "<IPython.core.display.HTML object>"
      ]
     },
     "metadata": {},
     "output_type": "display_data"
    },
    {
     "name": "stderr",
     "output_type": "stream",
     "text": [
      "\u001b[34m\u001b[1mwandb\u001b[0m: Agent Starting Run: 23bpbeez with config:\n",
      "\u001b[34m\u001b[1mwandb\u001b[0m: \tlearning_rate: 0.05\n",
      "\u001b[34m\u001b[1mwandb\u001b[0m: \tn_estimators: 50\n",
      "\u001b[34m\u001b[1mwandb\u001b[0m: \tsubsample: 0.9\n"
     ]
    },
    {
     "data": {
      "text/html": [
       "Tracking run with wandb version 0.14.0"
      ],
      "text/plain": [
       "<IPython.core.display.HTML object>"
      ]
     },
     "metadata": {},
     "output_type": "display_data"
    },
    {
     "data": {
      "text/html": [
       "Run data is saved locally in <code>C:\\Users\\JhonG\\Documents\\nw-challenge\\nw-challenge\\model\\wandb\\run-20230326_182700-23bpbeez</code>"
      ],
      "text/plain": [
       "<IPython.core.display.HTML object>"
      ]
     },
     "metadata": {},
     "output_type": "display_data"
    },
    {
     "data": {
      "text/html": [
       "Syncing run <strong><a href='https://wandb.ai/ignacio-onate/cw-challenge-model-XGB-ht-fp/runs/23bpbeez' target=\"_blank\">rural-sweep-11</a></strong> to <a href='https://wandb.ai/ignacio-onate/cw-challenge-model-XGB-ht-fp' target=\"_blank\">Weights & Biases</a> (<a href='https://wandb.me/run' target=\"_blank\">docs</a>)<br/>Sweep page: <a href='https://wandb.ai/ignacio-onate/cw-challenge-model-XGB-ht-fp/sweeps/0lcka3ii' target=\"_blank\">https://wandb.ai/ignacio-onate/cw-challenge-model-XGB-ht-fp/sweeps/0lcka3ii</a>"
      ],
      "text/plain": [
       "<IPython.core.display.HTML object>"
      ]
     },
     "metadata": {},
     "output_type": "display_data"
    },
    {
     "data": {
      "text/html": [
       " View project at <a href='https://wandb.ai/ignacio-onate/cw-challenge-model-XGB-ht-fp' target=\"_blank\">https://wandb.ai/ignacio-onate/cw-challenge-model-XGB-ht-fp</a>"
      ],
      "text/plain": [
       "<IPython.core.display.HTML object>"
      ]
     },
     "metadata": {},
     "output_type": "display_data"
    },
    {
     "data": {
      "text/html": [
       " View sweep at <a href='https://wandb.ai/ignacio-onate/cw-challenge-model-XGB-ht-fp/sweeps/0lcka3ii' target=\"_blank\">https://wandb.ai/ignacio-onate/cw-challenge-model-XGB-ht-fp/sweeps/0lcka3ii</a>"
      ],
      "text/plain": [
       "<IPython.core.display.HTML object>"
      ]
     },
     "metadata": {},
     "output_type": "display_data"
    },
    {
     "data": {
      "text/html": [
       " View run at <a href='https://wandb.ai/ignacio-onate/cw-challenge-model-XGB-ht-fp/runs/23bpbeez' target=\"_blank\">https://wandb.ai/ignacio-onate/cw-challenge-model-XGB-ht-fp/runs/23bpbeez</a>"
      ],
      "text/plain": [
       "<IPython.core.display.HTML object>"
      ]
     },
     "metadata": {},
     "output_type": "display_data"
    },
    {
     "name": "stdout",
     "output_type": "stream",
     "text": [
      "Modelo:  XGB_FI\n"
     ]
    },
    {
     "data": {
      "text/html": [
       "Waiting for W&B process to finish... <strong style=\"color:green\">(success).</strong>"
      ],
      "text/plain": [
       "<IPython.core.display.HTML object>"
      ]
     },
     "metadata": {},
     "output_type": "display_data"
    },
    {
     "data": {
      "text/html": [
       "<style>\n",
       "    table.wandb td:nth-child(1) { padding: 0 10px; text-align: left ; width: auto;} td:nth-child(2) {text-align: left ; width: 100%}\n",
       "    .wandb-row { display: flex; flex-direction: row; flex-wrap: wrap; justify-content: flex-start; width: 100% }\n",
       "    .wandb-col { display: flex; flex-direction: column; flex-basis: 100%; flex: 1; padding: 10px; }\n",
       "    </style>\n",
       "<div class=\"wandb-row\"><div class=\"wandb-col\"><h3>Run history:</h3><br/><table class=\"wandb\"><tr><td>accuracy_XGB_FI</td><td>▁</td></tr><tr><td>f1_XGB_FI</td><td>▁</td></tr><tr><td>precision_XGB_FI</td><td>▁</td></tr><tr><td>recall_XGB_FI</td><td>▁</td></tr><tr><td>roc_auc_XGB_FI</td><td>▁</td></tr></table><br/></div><div class=\"wandb-col\"><h3>Run summary:</h3><br/><table class=\"wandb\"><tr><td>accuracy_XGB_FI</td><td>0.54431</td></tr><tr><td>f1_XGB_FI</td><td>0.35874</td></tr><tr><td>precision_XGB_FI</td><td>0.24257</td></tr><tr><td>recall_XGB_FI</td><td>0.68947</td></tr><tr><td>roc_auc_XGB_FI</td><td>0.6417</td></tr></table><br/></div></div>"
      ],
      "text/plain": [
       "<IPython.core.display.HTML object>"
      ]
     },
     "metadata": {},
     "output_type": "display_data"
    },
    {
     "data": {
      "text/html": [
       " View run <strong style=\"color:#cdcd00\">rural-sweep-11</strong> at: <a href='https://wandb.ai/ignacio-onate/cw-challenge-model-XGB-ht-fp/runs/23bpbeez' target=\"_blank\">https://wandb.ai/ignacio-onate/cw-challenge-model-XGB-ht-fp/runs/23bpbeez</a><br/>Synced 5 W&B file(s), 0 media file(s), 0 artifact file(s) and 0 other file(s)"
      ],
      "text/plain": [
       "<IPython.core.display.HTML object>"
      ]
     },
     "metadata": {},
     "output_type": "display_data"
    },
    {
     "data": {
      "text/html": [
       "Find logs at: <code>.\\wandb\\run-20230326_182700-23bpbeez\\logs</code>"
      ],
      "text/plain": [
       "<IPython.core.display.HTML object>"
      ]
     },
     "metadata": {},
     "output_type": "display_data"
    },
    {
     "name": "stderr",
     "output_type": "stream",
     "text": [
      "\u001b[34m\u001b[1mwandb\u001b[0m: Sweep Agent: Waiting for job.\n",
      "\u001b[34m\u001b[1mwandb\u001b[0m: Job received.\n",
      "\u001b[34m\u001b[1mwandb\u001b[0m: Agent Starting Run: 2vzx9ifb with config:\n",
      "\u001b[34m\u001b[1mwandb\u001b[0m: \tlearning_rate: 0.01\n",
      "\u001b[34m\u001b[1mwandb\u001b[0m: \tn_estimators: 100\n",
      "\u001b[34m\u001b[1mwandb\u001b[0m: \tsubsample: 0.9\n"
     ]
    },
    {
     "data": {
      "text/html": [
       "Tracking run with wandb version 0.14.0"
      ],
      "text/plain": [
       "<IPython.core.display.HTML object>"
      ]
     },
     "metadata": {},
     "output_type": "display_data"
    },
    {
     "data": {
      "text/html": [
       "Run data is saved locally in <code>C:\\Users\\JhonG\\Documents\\nw-challenge\\nw-challenge\\model\\wandb\\run-20230326_182720-2vzx9ifb</code>"
      ],
      "text/plain": [
       "<IPython.core.display.HTML object>"
      ]
     },
     "metadata": {},
     "output_type": "display_data"
    },
    {
     "data": {
      "text/html": [
       "Syncing run <strong><a href='https://wandb.ai/ignacio-onate/cw-challenge-model-XGB-ht-fp/runs/2vzx9ifb' target=\"_blank\">true-sweep-12</a></strong> to <a href='https://wandb.ai/ignacio-onate/cw-challenge-model-XGB-ht-fp' target=\"_blank\">Weights & Biases</a> (<a href='https://wandb.me/run' target=\"_blank\">docs</a>)<br/>Sweep page: <a href='https://wandb.ai/ignacio-onate/cw-challenge-model-XGB-ht-fp/sweeps/0lcka3ii' target=\"_blank\">https://wandb.ai/ignacio-onate/cw-challenge-model-XGB-ht-fp/sweeps/0lcka3ii</a>"
      ],
      "text/plain": [
       "<IPython.core.display.HTML object>"
      ]
     },
     "metadata": {},
     "output_type": "display_data"
    },
    {
     "data": {
      "text/html": [
       " View project at <a href='https://wandb.ai/ignacio-onate/cw-challenge-model-XGB-ht-fp' target=\"_blank\">https://wandb.ai/ignacio-onate/cw-challenge-model-XGB-ht-fp</a>"
      ],
      "text/plain": [
       "<IPython.core.display.HTML object>"
      ]
     },
     "metadata": {},
     "output_type": "display_data"
    },
    {
     "data": {
      "text/html": [
       " View sweep at <a href='https://wandb.ai/ignacio-onate/cw-challenge-model-XGB-ht-fp/sweeps/0lcka3ii' target=\"_blank\">https://wandb.ai/ignacio-onate/cw-challenge-model-XGB-ht-fp/sweeps/0lcka3ii</a>"
      ],
      "text/plain": [
       "<IPython.core.display.HTML object>"
      ]
     },
     "metadata": {},
     "output_type": "display_data"
    },
    {
     "data": {
      "text/html": [
       " View run at <a href='https://wandb.ai/ignacio-onate/cw-challenge-model-XGB-ht-fp/runs/2vzx9ifb' target=\"_blank\">https://wandb.ai/ignacio-onate/cw-challenge-model-XGB-ht-fp/runs/2vzx9ifb</a>"
      ],
      "text/plain": [
       "<IPython.core.display.HTML object>"
      ]
     },
     "metadata": {},
     "output_type": "display_data"
    },
    {
     "name": "stdout",
     "output_type": "stream",
     "text": [
      "Modelo:  XGB_FI\n"
     ]
    },
    {
     "data": {
      "text/html": [
       "Waiting for W&B process to finish... <strong style=\"color:green\">(success).</strong>"
      ],
      "text/plain": [
       "<IPython.core.display.HTML object>"
      ]
     },
     "metadata": {},
     "output_type": "display_data"
    },
    {
     "data": {
      "text/html": [
       "<style>\n",
       "    table.wandb td:nth-child(1) { padding: 0 10px; text-align: left ; width: auto;} td:nth-child(2) {text-align: left ; width: 100%}\n",
       "    .wandb-row { display: flex; flex-direction: row; flex-wrap: wrap; justify-content: flex-start; width: 100% }\n",
       "    .wandb-col { display: flex; flex-direction: column; flex-basis: 100%; flex: 1; padding: 10px; }\n",
       "    </style>\n",
       "<div class=\"wandb-row\"><div class=\"wandb-col\"><h3>Run history:</h3><br/><table class=\"wandb\"><tr><td>accuracy_XGB_FI</td><td>▁</td></tr><tr><td>f1_XGB_FI</td><td>▁</td></tr><tr><td>precision_XGB_FI</td><td>▁</td></tr><tr><td>recall_XGB_FI</td><td>▁</td></tr><tr><td>roc_auc_XGB_FI</td><td>▁</td></tr></table><br/></div><div class=\"wandb-col\"><h3>Run summary:</h3><br/><table class=\"wandb\"><tr><td>accuracy_XGB_FI</td><td>0.54982</td></tr><tr><td>f1_XGB_FI</td><td>0.35969</td></tr><tr><td>precision_XGB_FI</td><td>0.24434</td></tr><tr><td>recall_XGB_FI</td><td>0.684</td></tr><tr><td>roc_auc_XGB_FI</td><td>0.64109</td></tr></table><br/></div></div>"
      ],
      "text/plain": [
       "<IPython.core.display.HTML object>"
      ]
     },
     "metadata": {},
     "output_type": "display_data"
    },
    {
     "data": {
      "text/html": [
       " View run <strong style=\"color:#cdcd00\">true-sweep-12</strong> at: <a href='https://wandb.ai/ignacio-onate/cw-challenge-model-XGB-ht-fp/runs/2vzx9ifb' target=\"_blank\">https://wandb.ai/ignacio-onate/cw-challenge-model-XGB-ht-fp/runs/2vzx9ifb</a><br/>Synced 5 W&B file(s), 0 media file(s), 0 artifact file(s) and 0 other file(s)"
      ],
      "text/plain": [
       "<IPython.core.display.HTML object>"
      ]
     },
     "metadata": {},
     "output_type": "display_data"
    },
    {
     "data": {
      "text/html": [
       "Find logs at: <code>.\\wandb\\run-20230326_182720-2vzx9ifb\\logs</code>"
      ],
      "text/plain": [
       "<IPython.core.display.HTML object>"
      ]
     },
     "metadata": {},
     "output_type": "display_data"
    },
    {
     "name": "stderr",
     "output_type": "stream",
     "text": [
      "\u001b[34m\u001b[1mwandb\u001b[0m: Agent Starting Run: bibq8npj with config:\n",
      "\u001b[34m\u001b[1mwandb\u001b[0m: \tlearning_rate: 0.1\n",
      "\u001b[34m\u001b[1mwandb\u001b[0m: \tn_estimators: 100\n",
      "\u001b[34m\u001b[1mwandb\u001b[0m: \tsubsample: 0.5\n"
     ]
    },
    {
     "data": {
      "text/html": [
       "Tracking run with wandb version 0.14.0"
      ],
      "text/plain": [
       "<IPython.core.display.HTML object>"
      ]
     },
     "metadata": {},
     "output_type": "display_data"
    },
    {
     "data": {
      "text/html": [
       "Run data is saved locally in <code>C:\\Users\\JhonG\\Documents\\nw-challenge\\nw-challenge\\model\\wandb\\run-20230326_182732-bibq8npj</code>"
      ],
      "text/plain": [
       "<IPython.core.display.HTML object>"
      ]
     },
     "metadata": {},
     "output_type": "display_data"
    },
    {
     "data": {
      "text/html": [
       "Syncing run <strong><a href='https://wandb.ai/ignacio-onate/cw-challenge-model-XGB-ht-fp/runs/bibq8npj' target=\"_blank\">vivid-sweep-13</a></strong> to <a href='https://wandb.ai/ignacio-onate/cw-challenge-model-XGB-ht-fp' target=\"_blank\">Weights & Biases</a> (<a href='https://wandb.me/run' target=\"_blank\">docs</a>)<br/>Sweep page: <a href='https://wandb.ai/ignacio-onate/cw-challenge-model-XGB-ht-fp/sweeps/0lcka3ii' target=\"_blank\">https://wandb.ai/ignacio-onate/cw-challenge-model-XGB-ht-fp/sweeps/0lcka3ii</a>"
      ],
      "text/plain": [
       "<IPython.core.display.HTML object>"
      ]
     },
     "metadata": {},
     "output_type": "display_data"
    },
    {
     "data": {
      "text/html": [
       " View project at <a href='https://wandb.ai/ignacio-onate/cw-challenge-model-XGB-ht-fp' target=\"_blank\">https://wandb.ai/ignacio-onate/cw-challenge-model-XGB-ht-fp</a>"
      ],
      "text/plain": [
       "<IPython.core.display.HTML object>"
      ]
     },
     "metadata": {},
     "output_type": "display_data"
    },
    {
     "data": {
      "text/html": [
       " View sweep at <a href='https://wandb.ai/ignacio-onate/cw-challenge-model-XGB-ht-fp/sweeps/0lcka3ii' target=\"_blank\">https://wandb.ai/ignacio-onate/cw-challenge-model-XGB-ht-fp/sweeps/0lcka3ii</a>"
      ],
      "text/plain": [
       "<IPython.core.display.HTML object>"
      ]
     },
     "metadata": {},
     "output_type": "display_data"
    },
    {
     "data": {
      "text/html": [
       " View run at <a href='https://wandb.ai/ignacio-onate/cw-challenge-model-XGB-ht-fp/runs/bibq8npj' target=\"_blank\">https://wandb.ai/ignacio-onate/cw-challenge-model-XGB-ht-fp/runs/bibq8npj</a>"
      ],
      "text/plain": [
       "<IPython.core.display.HTML object>"
      ]
     },
     "metadata": {},
     "output_type": "display_data"
    },
    {
     "name": "stdout",
     "output_type": "stream",
     "text": [
      "Modelo:  XGB_FI\n"
     ]
    },
    {
     "data": {
      "text/html": [
       "Waiting for W&B process to finish... <strong style=\"color:green\">(success).</strong>"
      ],
      "text/plain": [
       "<IPython.core.display.HTML object>"
      ]
     },
     "metadata": {},
     "output_type": "display_data"
    },
    {
     "data": {
      "text/html": [
       "<style>\n",
       "    table.wandb td:nth-child(1) { padding: 0 10px; text-align: left ; width: auto;} td:nth-child(2) {text-align: left ; width: 100%}\n",
       "    .wandb-row { display: flex; flex-direction: row; flex-wrap: wrap; justify-content: flex-start; width: 100% }\n",
       "    .wandb-col { display: flex; flex-direction: column; flex-basis: 100%; flex: 1; padding: 10px; }\n",
       "    </style>\n",
       "<div class=\"wandb-row\"><div class=\"wandb-col\"><h3>Run history:</h3><br/><table class=\"wandb\"><tr><td>accuracy_XGB_FI</td><td>▁</td></tr><tr><td>f1_XGB_FI</td><td>▁</td></tr><tr><td>precision_XGB_FI</td><td>▁</td></tr><tr><td>recall_XGB_FI</td><td>▁</td></tr><tr><td>roc_auc_XGB_FI</td><td>▁</td></tr></table><br/></div><div class=\"wandb-col\"><h3>Run summary:</h3><br/><table class=\"wandb\"><tr><td>accuracy_XGB_FI</td><td>0.54947</td></tr><tr><td>f1_XGB_FI</td><td>0.359</td></tr><tr><td>precision_XGB_FI</td><td>0.24394</td></tr><tr><td>recall_XGB_FI</td><td>0.68266</td></tr><tr><td>roc_auc_XGB_FI</td><td>0.64156</td></tr></table><br/></div></div>"
      ],
      "text/plain": [
       "<IPython.core.display.HTML object>"
      ]
     },
     "metadata": {},
     "output_type": "display_data"
    },
    {
     "data": {
      "text/html": [
       " View run <strong style=\"color:#cdcd00\">vivid-sweep-13</strong> at: <a href='https://wandb.ai/ignacio-onate/cw-challenge-model-XGB-ht-fp/runs/bibq8npj' target=\"_blank\">https://wandb.ai/ignacio-onate/cw-challenge-model-XGB-ht-fp/runs/bibq8npj</a><br/>Synced 5 W&B file(s), 0 media file(s), 0 artifact file(s) and 0 other file(s)"
      ],
      "text/plain": [
       "<IPython.core.display.HTML object>"
      ]
     },
     "metadata": {},
     "output_type": "display_data"
    },
    {
     "data": {
      "text/html": [
       "Find logs at: <code>.\\wandb\\run-20230326_182732-bibq8npj\\logs</code>"
      ],
      "text/plain": [
       "<IPython.core.display.HTML object>"
      ]
     },
     "metadata": {},
     "output_type": "display_data"
    },
    {
     "name": "stderr",
     "output_type": "stream",
     "text": [
      "\u001b[34m\u001b[1mwandb\u001b[0m: Agent Starting Run: e9l47env with config:\n",
      "\u001b[34m\u001b[1mwandb\u001b[0m: \tlearning_rate: 0.05\n",
      "\u001b[34m\u001b[1mwandb\u001b[0m: \tn_estimators: 150\n",
      "\u001b[34m\u001b[1mwandb\u001b[0m: \tsubsample: 0.5\n"
     ]
    },
    {
     "data": {
      "text/html": [
       "Tracking run with wandb version 0.14.0"
      ],
      "text/plain": [
       "<IPython.core.display.HTML object>"
      ]
     },
     "metadata": {},
     "output_type": "display_data"
    },
    {
     "data": {
      "text/html": [
       "Run data is saved locally in <code>C:\\Users\\JhonG\\Documents\\nw-challenge\\nw-challenge\\model\\wandb\\run-20230326_182748-e9l47env</code>"
      ],
      "text/plain": [
       "<IPython.core.display.HTML object>"
      ]
     },
     "metadata": {},
     "output_type": "display_data"
    },
    {
     "data": {
      "text/html": [
       "Syncing run <strong><a href='https://wandb.ai/ignacio-onate/cw-challenge-model-XGB-ht-fp/runs/e9l47env' target=\"_blank\">peachy-sweep-14</a></strong> to <a href='https://wandb.ai/ignacio-onate/cw-challenge-model-XGB-ht-fp' target=\"_blank\">Weights & Biases</a> (<a href='https://wandb.me/run' target=\"_blank\">docs</a>)<br/>Sweep page: <a href='https://wandb.ai/ignacio-onate/cw-challenge-model-XGB-ht-fp/sweeps/0lcka3ii' target=\"_blank\">https://wandb.ai/ignacio-onate/cw-challenge-model-XGB-ht-fp/sweeps/0lcka3ii</a>"
      ],
      "text/plain": [
       "<IPython.core.display.HTML object>"
      ]
     },
     "metadata": {},
     "output_type": "display_data"
    },
    {
     "data": {
      "text/html": [
       " View project at <a href='https://wandb.ai/ignacio-onate/cw-challenge-model-XGB-ht-fp' target=\"_blank\">https://wandb.ai/ignacio-onate/cw-challenge-model-XGB-ht-fp</a>"
      ],
      "text/plain": [
       "<IPython.core.display.HTML object>"
      ]
     },
     "metadata": {},
     "output_type": "display_data"
    },
    {
     "data": {
      "text/html": [
       " View sweep at <a href='https://wandb.ai/ignacio-onate/cw-challenge-model-XGB-ht-fp/sweeps/0lcka3ii' target=\"_blank\">https://wandb.ai/ignacio-onate/cw-challenge-model-XGB-ht-fp/sweeps/0lcka3ii</a>"
      ],
      "text/plain": [
       "<IPython.core.display.HTML object>"
      ]
     },
     "metadata": {},
     "output_type": "display_data"
    },
    {
     "data": {
      "text/html": [
       " View run at <a href='https://wandb.ai/ignacio-onate/cw-challenge-model-XGB-ht-fp/runs/e9l47env' target=\"_blank\">https://wandb.ai/ignacio-onate/cw-challenge-model-XGB-ht-fp/runs/e9l47env</a>"
      ],
      "text/plain": [
       "<IPython.core.display.HTML object>"
      ]
     },
     "metadata": {},
     "output_type": "display_data"
    },
    {
     "name": "stdout",
     "output_type": "stream",
     "text": [
      "Modelo:  XGB_FI\n"
     ]
    },
    {
     "data": {
      "text/html": [
       "Waiting for W&B process to finish... <strong style=\"color:green\">(success).</strong>"
      ],
      "text/plain": [
       "<IPython.core.display.HTML object>"
      ]
     },
     "metadata": {},
     "output_type": "display_data"
    },
    {
     "data": {
      "text/html": [
       "<style>\n",
       "    table.wandb td:nth-child(1) { padding: 0 10px; text-align: left ; width: auto;} td:nth-child(2) {text-align: left ; width: 100%}\n",
       "    .wandb-row { display: flex; flex-direction: row; flex-wrap: wrap; justify-content: flex-start; width: 100% }\n",
       "    .wandb-col { display: flex; flex-direction: column; flex-basis: 100%; flex: 1; padding: 10px; }\n",
       "    </style>\n",
       "<div class=\"wandb-row\"><div class=\"wandb-col\"><h3>Run history:</h3><br/><table class=\"wandb\"><tr><td>accuracy_XGB_FI</td><td>▁</td></tr><tr><td>f1_XGB_FI</td><td>▁</td></tr><tr><td>precision_XGB_FI</td><td>▁</td></tr><tr><td>recall_XGB_FI</td><td>▁</td></tr><tr><td>roc_auc_XGB_FI</td><td>▁</td></tr></table><br/></div><div class=\"wandb-col\"><h3>Run summary:</h3><br/><table class=\"wandb\"><tr><td>accuracy_XGB_FI</td><td>0.57945</td></tr><tr><td>f1_XGB_FI</td><td>0.35812</td></tr><tr><td>precision_XGB_FI</td><td>0.2499</td></tr><tr><td>recall_XGB_FI</td><td>0.6343</td></tr><tr><td>roc_auc_XGB_FI</td><td>0.64151</td></tr></table><br/></div></div>"
      ],
      "text/plain": [
       "<IPython.core.display.HTML object>"
      ]
     },
     "metadata": {},
     "output_type": "display_data"
    },
    {
     "data": {
      "text/html": [
       " View run <strong style=\"color:#cdcd00\">peachy-sweep-14</strong> at: <a href='https://wandb.ai/ignacio-onate/cw-challenge-model-XGB-ht-fp/runs/e9l47env' target=\"_blank\">https://wandb.ai/ignacio-onate/cw-challenge-model-XGB-ht-fp/runs/e9l47env</a><br/>Synced 5 W&B file(s), 0 media file(s), 0 artifact file(s) and 0 other file(s)"
      ],
      "text/plain": [
       "<IPython.core.display.HTML object>"
      ]
     },
     "metadata": {},
     "output_type": "display_data"
    },
    {
     "data": {
      "text/html": [
       "Find logs at: <code>.\\wandb\\run-20230326_182748-e9l47env\\logs</code>"
      ],
      "text/plain": [
       "<IPython.core.display.HTML object>"
      ]
     },
     "metadata": {},
     "output_type": "display_data"
    },
    {
     "name": "stderr",
     "output_type": "stream",
     "text": [
      "\u001b[34m\u001b[1mwandb\u001b[0m: Agent Starting Run: iky1tqj8 with config:\n",
      "\u001b[34m\u001b[1mwandb\u001b[0m: \tlearning_rate: 0.05\n",
      "\u001b[34m\u001b[1mwandb\u001b[0m: \tn_estimators: 100\n",
      "\u001b[34m\u001b[1mwandb\u001b[0m: \tsubsample: 0.9\n"
     ]
    },
    {
     "data": {
      "text/html": [
       "Tracking run with wandb version 0.14.0"
      ],
      "text/plain": [
       "<IPython.core.display.HTML object>"
      ]
     },
     "metadata": {},
     "output_type": "display_data"
    },
    {
     "data": {
      "text/html": [
       "Run data is saved locally in <code>C:\\Users\\JhonG\\Documents\\nw-challenge\\nw-challenge\\model\\wandb\\run-20230326_182804-iky1tqj8</code>"
      ],
      "text/plain": [
       "<IPython.core.display.HTML object>"
      ]
     },
     "metadata": {},
     "output_type": "display_data"
    },
    {
     "data": {
      "text/html": [
       "Syncing run <strong><a href='https://wandb.ai/ignacio-onate/cw-challenge-model-XGB-ht-fp/runs/iky1tqj8' target=\"_blank\">vibrant-sweep-15</a></strong> to <a href='https://wandb.ai/ignacio-onate/cw-challenge-model-XGB-ht-fp' target=\"_blank\">Weights & Biases</a> (<a href='https://wandb.me/run' target=\"_blank\">docs</a>)<br/>Sweep page: <a href='https://wandb.ai/ignacio-onate/cw-challenge-model-XGB-ht-fp/sweeps/0lcka3ii' target=\"_blank\">https://wandb.ai/ignacio-onate/cw-challenge-model-XGB-ht-fp/sweeps/0lcka3ii</a>"
      ],
      "text/plain": [
       "<IPython.core.display.HTML object>"
      ]
     },
     "metadata": {},
     "output_type": "display_data"
    },
    {
     "data": {
      "text/html": [
       " View project at <a href='https://wandb.ai/ignacio-onate/cw-challenge-model-XGB-ht-fp' target=\"_blank\">https://wandb.ai/ignacio-onate/cw-challenge-model-XGB-ht-fp</a>"
      ],
      "text/plain": [
       "<IPython.core.display.HTML object>"
      ]
     },
     "metadata": {},
     "output_type": "display_data"
    },
    {
     "data": {
      "text/html": [
       " View sweep at <a href='https://wandb.ai/ignacio-onate/cw-challenge-model-XGB-ht-fp/sweeps/0lcka3ii' target=\"_blank\">https://wandb.ai/ignacio-onate/cw-challenge-model-XGB-ht-fp/sweeps/0lcka3ii</a>"
      ],
      "text/plain": [
       "<IPython.core.display.HTML object>"
      ]
     },
     "metadata": {},
     "output_type": "display_data"
    },
    {
     "data": {
      "text/html": [
       " View run at <a href='https://wandb.ai/ignacio-onate/cw-challenge-model-XGB-ht-fp/runs/iky1tqj8' target=\"_blank\">https://wandb.ai/ignacio-onate/cw-challenge-model-XGB-ht-fp/runs/iky1tqj8</a>"
      ],
      "text/plain": [
       "<IPython.core.display.HTML object>"
      ]
     },
     "metadata": {},
     "output_type": "display_data"
    },
    {
     "name": "stdout",
     "output_type": "stream",
     "text": [
      "Modelo:  XGB_FI\n"
     ]
    },
    {
     "data": {
      "text/html": [
       "Waiting for W&B process to finish... <strong style=\"color:green\">(success).</strong>"
      ],
      "text/plain": [
       "<IPython.core.display.HTML object>"
      ]
     },
     "metadata": {},
     "output_type": "display_data"
    },
    {
     "data": {
      "text/html": [
       "<style>\n",
       "    table.wandb td:nth-child(1) { padding: 0 10px; text-align: left ; width: auto;} td:nth-child(2) {text-align: left ; width: 100%}\n",
       "    .wandb-row { display: flex; flex-direction: row; flex-wrap: wrap; justify-content: flex-start; width: 100% }\n",
       "    .wandb-col { display: flex; flex-direction: column; flex-basis: 100%; flex: 1; padding: 10px; }\n",
       "    </style>\n",
       "<div class=\"wandb-row\"><div class=\"wandb-col\"><h3>Run history:</h3><br/><table class=\"wandb\"><tr><td>accuracy_XGB_FI</td><td>▁</td></tr><tr><td>f1_XGB_FI</td><td>▁</td></tr><tr><td>precision_XGB_FI</td><td>▁</td></tr><tr><td>recall_XGB_FI</td><td>▁</td></tr><tr><td>roc_auc_XGB_FI</td><td>▁</td></tr></table><br/></div><div class=\"wandb-col\"><h3>Run summary:</h3><br/><table class=\"wandb\"><tr><td>accuracy_XGB_FI</td><td>0.54431</td></tr><tr><td>f1_XGB_FI</td><td>0.3594</td></tr><tr><td>precision_XGB_FI</td><td>0.24317</td></tr><tr><td>recall_XGB_FI</td><td>0.69161</td></tr><tr><td>roc_auc_XGB_FI</td><td>0.64216</td></tr></table><br/></div></div>"
      ],
      "text/plain": [
       "<IPython.core.display.HTML object>"
      ]
     },
     "metadata": {},
     "output_type": "display_data"
    },
    {
     "data": {
      "text/html": [
       " View run <strong style=\"color:#cdcd00\">vibrant-sweep-15</strong> at: <a href='https://wandb.ai/ignacio-onate/cw-challenge-model-XGB-ht-fp/runs/iky1tqj8' target=\"_blank\">https://wandb.ai/ignacio-onate/cw-challenge-model-XGB-ht-fp/runs/iky1tqj8</a><br/>Synced 5 W&B file(s), 0 media file(s), 0 artifact file(s) and 0 other file(s)"
      ],
      "text/plain": [
       "<IPython.core.display.HTML object>"
      ]
     },
     "metadata": {},
     "output_type": "display_data"
    },
    {
     "data": {
      "text/html": [
       "Find logs at: <code>.\\wandb\\run-20230326_182804-iky1tqj8\\logs</code>"
      ],
      "text/plain": [
       "<IPython.core.display.HTML object>"
      ]
     },
     "metadata": {},
     "output_type": "display_data"
    }
   ],
   "source": [
    "X = features_importantes\n",
    "y = labels_\n",
    "\n",
    "def train():\n",
    "    wandb.init()\n",
    "    # define pipeline\n",
    "    name = 'XGB_FI'\n",
    "    model = xgb.XGBClassifier(random_state=1, learning_rate=wandb.config.learning_rate, subsample = wandb.config.subsample, n_estimators=wandb.config.n_estimators,max_depth = 10)    \n",
    "    under = RandomUnderSampler()\n",
    "    steps = [('under', under), ('model', model)]\n",
    "    pipeline = Pipeline(steps=steps)\n",
    "    # evaluate pipeline\n",
    "    scores = cross_validate(pipeline, X, y, scoring=['accuracy','f1','precision','recall','roc_auc'], cv=5, n_jobs=-1)\n",
    "    #score = mean(scores)         \n",
    "    wandb.log({\n",
    "        'accuracy_'+name: mean(scores['test_accuracy']),\n",
    "        'f1_'+name : mean(scores['test_f1']),\n",
    "        'precision_'+name : mean(scores['test_precision']), \n",
    "        'recall_'+name : mean(scores['test_recall']),\n",
    "        'roc_auc_'+name : mean(scores['test_roc_auc'])\n",
    "        })\n",
    "    print(\"Modelo: \", name)\n",
    "    #print(scores)\n",
    "wandb.agent(sweep_id5, function = train, count = 15)"
   ]
  },
  {
   "cell_type": "markdown",
   "id": "17b2cb3b",
   "metadata": {},
   "source": [
    "# CONCLUSIONES PARA LAS METRICAS OBTENIDAS\n",
    "Si bien, los resultados no fueron alentadores, para continuar el trabajo sobre este set de datos, hay que tener en cuenta el objetivo de esta predicción, por ejemplo, en caso de ser de uso logistico donde predecir un atraso positivo implica una preparacion extra por parte del aeropuerto la cual consume recursos, es escencial buscar aumentar la metrica que nos permita disminuir el mal uso de los recursos. En caso que sea para informar a un cliente si su vuelo podria atrasarse, en este caso, el predecir un positivo podria no ser costoso para el aeropuerto, por lo que maximizar otras metricas podria ser mejor.\n",
    "\n",
    "### Para continuar con el desafio se esocgio el modelo XGB con los hiperparametros encontrados y todas las features."
   ]
  },
  {
   "cell_type": "code",
   "execution_count": 18,
   "id": "cddec0f0",
   "metadata": {},
   "outputs": [
    {
     "data": {
      "text/html": [
       "<style>#sk-container-id-1 {color: black;background-color: white;}#sk-container-id-1 pre{padding: 0;}#sk-container-id-1 div.sk-toggleable {background-color: white;}#sk-container-id-1 label.sk-toggleable__label {cursor: pointer;display: block;width: 100%;margin-bottom: 0;padding: 0.3em;box-sizing: border-box;text-align: center;}#sk-container-id-1 label.sk-toggleable__label-arrow:before {content: \"▸\";float: left;margin-right: 0.25em;color: #696969;}#sk-container-id-1 label.sk-toggleable__label-arrow:hover:before {color: black;}#sk-container-id-1 div.sk-estimator:hover label.sk-toggleable__label-arrow:before {color: black;}#sk-container-id-1 div.sk-toggleable__content {max-height: 0;max-width: 0;overflow: hidden;text-align: left;background-color: #f0f8ff;}#sk-container-id-1 div.sk-toggleable__content pre {margin: 0.2em;color: black;border-radius: 0.25em;background-color: #f0f8ff;}#sk-container-id-1 input.sk-toggleable__control:checked~div.sk-toggleable__content {max-height: 200px;max-width: 100%;overflow: auto;}#sk-container-id-1 input.sk-toggleable__control:checked~label.sk-toggleable__label-arrow:before {content: \"▾\";}#sk-container-id-1 div.sk-estimator input.sk-toggleable__control:checked~label.sk-toggleable__label {background-color: #d4ebff;}#sk-container-id-1 div.sk-label input.sk-toggleable__control:checked~label.sk-toggleable__label {background-color: #d4ebff;}#sk-container-id-1 input.sk-hidden--visually {border: 0;clip: rect(1px 1px 1px 1px);clip: rect(1px, 1px, 1px, 1px);height: 1px;margin: -1px;overflow: hidden;padding: 0;position: absolute;width: 1px;}#sk-container-id-1 div.sk-estimator {font-family: monospace;background-color: #f0f8ff;border: 1px dotted black;border-radius: 0.25em;box-sizing: border-box;margin-bottom: 0.5em;}#sk-container-id-1 div.sk-estimator:hover {background-color: #d4ebff;}#sk-container-id-1 div.sk-parallel-item::after {content: \"\";width: 100%;border-bottom: 1px solid gray;flex-grow: 1;}#sk-container-id-1 div.sk-label:hover label.sk-toggleable__label {background-color: #d4ebff;}#sk-container-id-1 div.sk-serial::before {content: \"\";position: absolute;border-left: 1px solid gray;box-sizing: border-box;top: 0;bottom: 0;left: 50%;z-index: 0;}#sk-container-id-1 div.sk-serial {display: flex;flex-direction: column;align-items: center;background-color: white;padding-right: 0.2em;padding-left: 0.2em;position: relative;}#sk-container-id-1 div.sk-item {position: relative;z-index: 1;}#sk-container-id-1 div.sk-parallel {display: flex;align-items: stretch;justify-content: center;background-color: white;position: relative;}#sk-container-id-1 div.sk-item::before, #sk-container-id-1 div.sk-parallel-item::before {content: \"\";position: absolute;border-left: 1px solid gray;box-sizing: border-box;top: 0;bottom: 0;left: 50%;z-index: -1;}#sk-container-id-1 div.sk-parallel-item {display: flex;flex-direction: column;z-index: 1;position: relative;background-color: white;}#sk-container-id-1 div.sk-parallel-item:first-child::after {align-self: flex-end;width: 50%;}#sk-container-id-1 div.sk-parallel-item:last-child::after {align-self: flex-start;width: 50%;}#sk-container-id-1 div.sk-parallel-item:only-child::after {width: 0;}#sk-container-id-1 div.sk-dashed-wrapped {border: 1px dashed gray;margin: 0 0.4em 0.5em 0.4em;box-sizing: border-box;padding-bottom: 0.4em;background-color: white;}#sk-container-id-1 div.sk-label label {font-family: monospace;font-weight: bold;display: inline-block;line-height: 1.2em;}#sk-container-id-1 div.sk-label-container {text-align: center;}#sk-container-id-1 div.sk-container {/* jupyter's `normalize.less` sets `[hidden] { display: none; }` but bootstrap.min.css set `[hidden] { display: none !important; }` so we also need the `!important` here to be able to override the default hidden behavior on the sphinx rendered scikit-learn.org. See: https://github.com/scikit-learn/scikit-learn/issues/21755 */display: inline-block !important;position: relative;}#sk-container-id-1 div.sk-text-repr-fallback {display: none;}</style><div id=\"sk-container-id-1\" class=\"sk-top-container\"><div class=\"sk-text-repr-fallback\"><pre>XGBClassifier(base_score=None, booster=None, callbacks=None,\n",
       "              colsample_bylevel=None, colsample_bynode=None,\n",
       "              colsample_bytree=None, early_stopping_rounds=None,\n",
       "              enable_categorical=False, eval_metric=None, feature_types=None,\n",
       "              gamma=None, gpu_id=None, grow_policy=None, importance_type=None,\n",
       "              interaction_constraints=None, learning_rate=0.01, max_bin=None,\n",
       "              max_cat_threshold=None, max_cat_to_onehot=None,\n",
       "              max_delta_step=None, max_depth=10, max_leaves=None,\n",
       "              min_child_weight=None, missing=nan, monotone_constraints=None,\n",
       "              n_estimators=100, n_jobs=None, num_parallel_tree=None,\n",
       "              predictor=None, random_state=1, ...)</pre><b>In a Jupyter environment, please rerun this cell to show the HTML representation or trust the notebook. <br />On GitHub, the HTML representation is unable to render, please try loading this page with nbviewer.org.</b></div><div class=\"sk-container\" hidden><div class=\"sk-item\"><div class=\"sk-estimator sk-toggleable\"><input class=\"sk-toggleable__control sk-hidden--visually\" id=\"sk-estimator-id-1\" type=\"checkbox\" checked><label for=\"sk-estimator-id-1\" class=\"sk-toggleable__label sk-toggleable__label-arrow\">XGBClassifier</label><div class=\"sk-toggleable__content\"><pre>XGBClassifier(base_score=None, booster=None, callbacks=None,\n",
       "              colsample_bylevel=None, colsample_bynode=None,\n",
       "              colsample_bytree=None, early_stopping_rounds=None,\n",
       "              enable_categorical=False, eval_metric=None, feature_types=None,\n",
       "              gamma=None, gpu_id=None, grow_policy=None, importance_type=None,\n",
       "              interaction_constraints=None, learning_rate=0.01, max_bin=None,\n",
       "              max_cat_threshold=None, max_cat_to_onehot=None,\n",
       "              max_delta_step=None, max_depth=10, max_leaves=None,\n",
       "              min_child_weight=None, missing=nan, monotone_constraints=None,\n",
       "              n_estimators=100, n_jobs=None, num_parallel_tree=None,\n",
       "              predictor=None, random_state=1, ...)</pre></div></div></div></div></div>"
      ],
      "text/plain": [
       "XGBClassifier(base_score=None, booster=None, callbacks=None,\n",
       "              colsample_bylevel=None, colsample_bynode=None,\n",
       "              colsample_bytree=None, early_stopping_rounds=None,\n",
       "              enable_categorical=False, eval_metric=None, feature_types=None,\n",
       "              gamma=None, gpu_id=None, grow_policy=None, importance_type=None,\n",
       "              interaction_constraints=None, learning_rate=0.01, max_bin=None,\n",
       "              max_cat_threshold=None, max_cat_to_onehot=None,\n",
       "              max_delta_step=None, max_depth=10, max_leaves=None,\n",
       "              min_child_weight=None, missing=nan, monotone_constraints=None,\n",
       "              n_estimators=100, n_jobs=None, num_parallel_tree=None,\n",
       "              predictor=None, random_state=1, ...)"
      ]
     },
     "execution_count": 18,
     "metadata": {},
     "output_type": "execute_result"
    }
   ],
   "source": [
    "#Entrenamos un nuevo modelo, con toda la data y los hiperparametros seleccionados en el sweep con mejores resultados.\n",
    "X = features\n",
    "y= label\n",
    "model = xgb.XGBClassifier(random_state=1, learning_rate=0.01, subsample = 0.5, n_estimators=100, max_depth = 10)\n",
    "model.fit(X,y)\n"
   ]
  },
  {
   "cell_type": "code",
   "execution_count": 19,
   "id": "c3aa47f1",
   "metadata": {},
   "outputs": [],
   "source": [
    "import pickle\n",
    "pickle.dump(model, open('XGB-model-cw.pkl', 'wb'))\n"
   ]
  },
  {
   "cell_type": "code",
   "execution_count": null,
   "id": "a0aeadfc",
   "metadata": {},
   "outputs": [],
   "source": []
  }
 ],
 "metadata": {
  "kernelspec": {
   "display_name": "Python 3 (ipykernel)",
   "language": "python",
   "name": "python3"
  },
  "language_info": {
   "codemirror_mode": {
    "name": "ipython",
    "version": 3
   },
   "file_extension": ".py",
   "mimetype": "text/x-python",
   "name": "python",
   "nbconvert_exporter": "python",
   "pygments_lexer": "ipython3",
   "version": "3.11.2"
  }
 },
 "nbformat": 4,
 "nbformat_minor": 5
}
