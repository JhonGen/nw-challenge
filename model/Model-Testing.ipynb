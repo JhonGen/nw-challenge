{
 "cells": [
  {
   "cell_type": "code",
   "execution_count": 1,
   "id": "d718fa42",
   "metadata": {},
   "outputs": [],
   "source": [
    "#Se importan las librerías necesarias para el problema\n",
    "import pandas as pd\n",
    "import numpy as np\n",
    "import matplotlib.pyplot as plt\n",
    "import seaborn as sns\n",
    "\n",
    "import missingno as msng\n",
    "import warnings\n",
    "warnings.filterwarnings('ignore')\n",
    "%matplotlib inline\n",
    "plt.rcParams['figure.figsize'] = (15, 10)"
   ]
  },
  {
   "cell_type": "code",
   "execution_count": 2,
   "id": "bb60950c",
   "metadata": {},
   "outputs": [],
   "source": [
    "df = pd.read_csv('../data/df_procesado.csv')"
   ]
  },
  {
   "cell_type": "code",
   "execution_count": 3,
   "id": "7a3a3af2",
   "metadata": {},
   "outputs": [],
   "source": [
    "from sklearn.model_selection import train_test_split\n",
    "from sklearn.utils import shuffle\n",
    "from sklearn.linear_model import LogisticRegression\n",
    "from sklearn.metrics import confusion_matrix, classification_report\n",
    "import numpy as np\n",
    "from sklearn.svm import SVC\n",
    "from imblearn.over_sampling import SMOTE\n",
    "from imblearn.under_sampling import RandomUnderSampler\n",
    "from imblearn.pipeline import Pipeline\n",
    "from sklearn.model_selection import cross_val_score\n",
    "from sklearn.model_selection import cross_validate\n",
    "import xgboost as xgb\n",
    "from xgboost import plot_importance\n",
    "from sklearn.metrics import roc_auc_score\n",
    "from numpy import mean\n",
    "from sklearn.ensemble import RandomForestClassifier\n",
    "import wandb\n"
   ]
  },
  {
   "cell_type": "code",
   "execution_count": 4,
   "id": "622511e1",
   "metadata": {},
   "outputs": [],
   "source": [
    "data = shuffle(df[['OPERA', 'MES', 'periodo_dia','TIPOVUELO', 'SIGLADES', 'DIANOM', 'atraso_15']], random_state = 111)"
   ]
  },
  {
   "cell_type": "code",
   "execution_count": 5,
   "id": "e3c86ef8",
   "metadata": {},
   "outputs": [],
   "source": [
    "features = pd.concat([pd.get_dummies(data['OPERA'], prefix = 'OPERA'),pd.get_dummies(data['TIPOVUELO'], prefix = 'TIPOVUELO'),pd.get_dummies(data['periodo_dia'], prefix = 'periodo_dia'), pd.get_dummies(data['MES'], prefix = 'MES')], axis = 1)\n",
    "label = data['atraso_15']"
   ]
  },
  {
   "cell_type": "code",
   "execution_count": 6,
   "id": "5a715a19",
   "metadata": {},
   "outputs": [],
   "source": [
    "features_importantes = features[['MES_7', 'TIPOVUELO_I', 'OPERA_Copa Air', 'OPERA_Latin American Wings',\n",
    "                                'MES_12', 'OPERA_Grupo LATAM', 'MES_10', 'OPERA_JetSmart SPA', 'OPERA_Air Canada',\n",
    "                                'MES_9', 'OPERA_American Airlines']]\n",
    "labels_ = label"
   ]
  },
  {
   "cell_type": "markdown",
   "id": "2be4373c",
   "metadata": {},
   "source": [
    "# PIPELINE DE MONITOREO\n",
    "Para probar distintos modelos y comparar sus métricas de forma cómoda, es buena práctica usar librerías que permitan hacer seguimiento de los distintos modelos entrenados, a modo de poder comparar y seleccionar correctamente los modelos de forma compacta. En este caso hacemos uso de W&B\n",
    "\n",
    "Dentro de la pipeline se incluyen procesos como Cross Validation, Oversampling, Undersampling."
   ]
  },
  {
   "cell_type": "code",
   "execution_count": 7,
   "id": "82a94c51",
   "metadata": {},
   "outputs": [
    {
     "name": "stdout",
     "output_type": "stream",
     "text": [
      "Create sweep with ID: aiz2vglq\n",
      "Sweep URL: https://wandb.ai/ignacio-onate/cw-challenge-model-test/sweeps/aiz2vglq\n"
     ]
    }
   ],
   "source": [
    "#nuestro primer hiperparametro a testear es el under-over-sampling para la data desbalanceada.\n",
    "sweep_configuration = {\n",
    "    'method': 'grid',\n",
    "    'name': 'sweep',\n",
    "    'metric': {'goal': 'maximize', 'name': 'precision'},\n",
    "    'parameters': \n",
    "    {\n",
    "        'over_values': {'values': [0.3, 0.4, 0.5]},\n",
    "        'under_values': {'values': [0.7, 0.6, 0.5]}\n",
    "     }\n",
    "}\n",
    "\n",
    "#creamos un diccionario con modelos base clasicos para clasificacion que seran sometidos a test\n",
    "\n",
    "models = {\n",
    "    'SVM' : SVC(),\n",
    "    'XGB' : xgb.XGBClassifier(random_state=1, learning_rate=0.01),\n",
    "    'RF'  : RandomForestClassifier(random_state = 1),\n",
    "    'LR'  : LogisticRegression()\n",
    " }\n",
    "sweep_id = wandb.sweep(sweep=sweep_configuration, project='cw-challenge-model-test')"
   ]
  },
  {
   "cell_type": "code",
   "execution_count": 8,
   "id": "eb8e7bd8",
   "metadata": {},
   "outputs": [
    {
     "name": "stderr",
     "output_type": "stream",
     "text": [
      "\u001b[34m\u001b[1mwandb\u001b[0m: Agent Starting Run: 2pwh13jl with config:\n",
      "\u001b[34m\u001b[1mwandb\u001b[0m: \tover_values: 0.3\n",
      "\u001b[34m\u001b[1mwandb\u001b[0m: \tunder_values: 0.7\n",
      "\u001b[34m\u001b[1mwandb\u001b[0m: Currently logged in as: \u001b[33mignacio-onate\u001b[0m. Use \u001b[1m`wandb login --relogin`\u001b[0m to force relogin\n"
     ]
    },
    {
     "data": {
      "text/html": [
       "Tracking run with wandb version 0.14.0"
      ],
      "text/plain": [
       "<IPython.core.display.HTML object>"
      ]
     },
     "metadata": {},
     "output_type": "display_data"
    },
    {
     "data": {
      "text/html": [
       "Run data is saved locally in <code>C:\\Users\\JhonG\\Documents\\nw-challenge\\nw-challenge\\model\\wandb\\run-20230326_000336-2pwh13jl</code>"
      ],
      "text/plain": [
       "<IPython.core.display.HTML object>"
      ]
     },
     "metadata": {},
     "output_type": "display_data"
    },
    {
     "data": {
      "text/html": [
       "Syncing run <strong><a href='https://wandb.ai/ignacio-onate/cw-challenge-model-test/runs/2pwh13jl' target=\"_blank\">jumping-sweep-1</a></strong> to <a href='https://wandb.ai/ignacio-onate/cw-challenge-model-test' target=\"_blank\">Weights & Biases</a> (<a href='https://wandb.me/run' target=\"_blank\">docs</a>)<br/>Sweep page: <a href='https://wandb.ai/ignacio-onate/cw-challenge-model-test/sweeps/aiz2vglq' target=\"_blank\">https://wandb.ai/ignacio-onate/cw-challenge-model-test/sweeps/aiz2vglq</a>"
      ],
      "text/plain": [
       "<IPython.core.display.HTML object>"
      ]
     },
     "metadata": {},
     "output_type": "display_data"
    },
    {
     "data": {
      "text/html": [
       " View project at <a href='https://wandb.ai/ignacio-onate/cw-challenge-model-test' target=\"_blank\">https://wandb.ai/ignacio-onate/cw-challenge-model-test</a>"
      ],
      "text/plain": [
       "<IPython.core.display.HTML object>"
      ]
     },
     "metadata": {},
     "output_type": "display_data"
    },
    {
     "data": {
      "text/html": [
       " View sweep at <a href='https://wandb.ai/ignacio-onate/cw-challenge-model-test/sweeps/aiz2vglq' target=\"_blank\">https://wandb.ai/ignacio-onate/cw-challenge-model-test/sweeps/aiz2vglq</a>"
      ],
      "text/plain": [
       "<IPython.core.display.HTML object>"
      ]
     },
     "metadata": {},
     "output_type": "display_data"
    },
    {
     "data": {
      "text/html": [
       " View run at <a href='https://wandb.ai/ignacio-onate/cw-challenge-model-test/runs/2pwh13jl' target=\"_blank\">https://wandb.ai/ignacio-onate/cw-challenge-model-test/runs/2pwh13jl</a>"
      ],
      "text/plain": [
       "<IPython.core.display.HTML object>"
      ]
     },
     "metadata": {},
     "output_type": "display_data"
    },
    {
     "name": "stdout",
     "output_type": "stream",
     "text": [
      "Modelo:  SVM\n",
      "Modelo:  XGB\n",
      "Modelo:  RF\n",
      "Modelo:  LR\n"
     ]
    },
    {
     "data": {
      "text/html": [
       "Waiting for W&B process to finish... <strong style=\"color:green\">(success).</strong>"
      ],
      "text/plain": [
       "<IPython.core.display.HTML object>"
      ]
     },
     "metadata": {},
     "output_type": "display_data"
    },
    {
     "data": {
      "text/html": [
       "<style>\n",
       "    table.wandb td:nth-child(1) { padding: 0 10px; text-align: left ; width: auto;} td:nth-child(2) {text-align: left ; width: 100%}\n",
       "    .wandb-row { display: flex; flex-direction: row; flex-wrap: wrap; justify-content: flex-start; width: 100% }\n",
       "    .wandb-col { display: flex; flex-direction: column; flex-basis: 100%; flex: 1; padding: 10px; }\n",
       "    </style>\n",
       "<div class=\"wandb-row\"><div class=\"wandb-col\"><h3>Run history:</h3><br/><table class=\"wandb\"><tr><td>accuracy_LR</td><td>▁</td></tr><tr><td>accuracy_RF</td><td>▁</td></tr><tr><td>accuracy_SVM</td><td>▁</td></tr><tr><td>accuracy_XGB</td><td>▁</td></tr><tr><td>f1_LR</td><td>▁</td></tr><tr><td>f1_RF</td><td>▁</td></tr><tr><td>f1_SVM</td><td>▁</td></tr><tr><td>f1_XGB</td><td>▁</td></tr><tr><td>precision_LR</td><td>▁</td></tr><tr><td>precision_RF</td><td>▁</td></tr><tr><td>precision_SVM</td><td>▁</td></tr><tr><td>precision_XGB</td><td>▁</td></tr><tr><td>recall_LR</td><td>▁</td></tr><tr><td>recall_RF</td><td>▁</td></tr><tr><td>recall_SVM</td><td>▁</td></tr><tr><td>recall_XGB</td><td>▁</td></tr><tr><td>roc_auc_LR</td><td>▁</td></tr><tr><td>roc_auc_RF</td><td>▁</td></tr><tr><td>roc_auc_SVM</td><td>▁</td></tr><tr><td>roc_auc_XGB</td><td>▁</td></tr></table><br/></div><div class=\"wandb-col\"><h3>Run summary:</h3><br/><table class=\"wandb\"><tr><td>accuracy_LR</td><td>0.74815</td></tr><tr><td>accuracy_RF</td><td>0.73073</td></tr><tr><td>accuracy_SVM</td><td>0.7715</td></tr><tr><td>accuracy_XGB</td><td>0.77552</td></tr><tr><td>f1_LR</td><td>0.32856</td></tr><tr><td>f1_RF</td><td>0.36873</td></tr><tr><td>f1_SVM</td><td>0.27951</td></tr><tr><td>f1_XGB</td><td>0.31423</td></tr><tr><td>precision_LR</td><td>0.32419</td></tr><tr><td>precision_RF</td><td>0.32609</td></tr><tr><td>precision_SVM</td><td>0.33529</td></tr><tr><td>precision_XGB</td><td>0.36134</td></tr><tr><td>recall_LR</td><td>0.33328</td></tr><tr><td>recall_RF</td><td>0.42556</td></tr><tr><td>recall_SVM</td><td>0.23981</td></tr><tr><td>recall_XGB</td><td>0.2785</td></tr><tr><td>roc_auc_LR</td><td>0.66453</td></tr><tr><td>roc_auc_RF</td><td>0.68132</td></tr><tr><td>roc_auc_SVM</td><td>0.65133</td></tr><tr><td>roc_auc_XGB</td><td>0.66471</td></tr></table><br/></div></div>"
      ],
      "text/plain": [
       "<IPython.core.display.HTML object>"
      ]
     },
     "metadata": {},
     "output_type": "display_data"
    },
    {
     "data": {
      "text/html": [
       " View run <strong style=\"color:#cdcd00\">jumping-sweep-1</strong> at: <a href='https://wandb.ai/ignacio-onate/cw-challenge-model-test/runs/2pwh13jl' target=\"_blank\">https://wandb.ai/ignacio-onate/cw-challenge-model-test/runs/2pwh13jl</a><br/>Synced 5 W&B file(s), 0 media file(s), 0 artifact file(s) and 0 other file(s)"
      ],
      "text/plain": [
       "<IPython.core.display.HTML object>"
      ]
     },
     "metadata": {},
     "output_type": "display_data"
    },
    {
     "data": {
      "text/html": [
       "Find logs at: <code>.\\wandb\\run-20230326_000336-2pwh13jl\\logs</code>"
      ],
      "text/plain": [
       "<IPython.core.display.HTML object>"
      ]
     },
     "metadata": {},
     "output_type": "display_data"
    },
    {
     "name": "stderr",
     "output_type": "stream",
     "text": [
      "\u001b[34m\u001b[1mwandb\u001b[0m: Agent Starting Run: 1ssmyda8 with config:\n",
      "\u001b[34m\u001b[1mwandb\u001b[0m: \tover_values: 0.3\n",
      "\u001b[34m\u001b[1mwandb\u001b[0m: \tunder_values: 0.6\n"
     ]
    },
    {
     "data": {
      "text/html": [
       "Tracking run with wandb version 0.14.0"
      ],
      "text/plain": [
       "<IPython.core.display.HTML object>"
      ]
     },
     "metadata": {},
     "output_type": "display_data"
    },
    {
     "data": {
      "text/html": [
       "Run data is saved locally in <code>C:\\Users\\JhonG\\Documents\\nw-challenge\\nw-challenge\\model\\wandb\\run-20230326_000902-1ssmyda8</code>"
      ],
      "text/plain": [
       "<IPython.core.display.HTML object>"
      ]
     },
     "metadata": {},
     "output_type": "display_data"
    },
    {
     "data": {
      "text/html": [
       "Syncing run <strong><a href='https://wandb.ai/ignacio-onate/cw-challenge-model-test/runs/1ssmyda8' target=\"_blank\">floral-sweep-2</a></strong> to <a href='https://wandb.ai/ignacio-onate/cw-challenge-model-test' target=\"_blank\">Weights & Biases</a> (<a href='https://wandb.me/run' target=\"_blank\">docs</a>)<br/>Sweep page: <a href='https://wandb.ai/ignacio-onate/cw-challenge-model-test/sweeps/aiz2vglq' target=\"_blank\">https://wandb.ai/ignacio-onate/cw-challenge-model-test/sweeps/aiz2vglq</a>"
      ],
      "text/plain": [
       "<IPython.core.display.HTML object>"
      ]
     },
     "metadata": {},
     "output_type": "display_data"
    },
    {
     "data": {
      "text/html": [
       " View project at <a href='https://wandb.ai/ignacio-onate/cw-challenge-model-test' target=\"_blank\">https://wandb.ai/ignacio-onate/cw-challenge-model-test</a>"
      ],
      "text/plain": [
       "<IPython.core.display.HTML object>"
      ]
     },
     "metadata": {},
     "output_type": "display_data"
    },
    {
     "data": {
      "text/html": [
       " View sweep at <a href='https://wandb.ai/ignacio-onate/cw-challenge-model-test/sweeps/aiz2vglq' target=\"_blank\">https://wandb.ai/ignacio-onate/cw-challenge-model-test/sweeps/aiz2vglq</a>"
      ],
      "text/plain": [
       "<IPython.core.display.HTML object>"
      ]
     },
     "metadata": {},
     "output_type": "display_data"
    },
    {
     "data": {
      "text/html": [
       " View run at <a href='https://wandb.ai/ignacio-onate/cw-challenge-model-test/runs/1ssmyda8' target=\"_blank\">https://wandb.ai/ignacio-onate/cw-challenge-model-test/runs/1ssmyda8</a>"
      ],
      "text/plain": [
       "<IPython.core.display.HTML object>"
      ]
     },
     "metadata": {},
     "output_type": "display_data"
    },
    {
     "name": "stdout",
     "output_type": "stream",
     "text": [
      "Modelo:  SVM\n",
      "Modelo:  XGB\n",
      "Modelo:  RF\n",
      "Modelo:  LR\n"
     ]
    },
    {
     "data": {
      "text/html": [
       "Waiting for W&B process to finish... <strong style=\"color:green\">(success).</strong>"
      ],
      "text/plain": [
       "<IPython.core.display.HTML object>"
      ]
     },
     "metadata": {},
     "output_type": "display_data"
    },
    {
     "data": {
      "text/html": [
       "<style>\n",
       "    table.wandb td:nth-child(1) { padding: 0 10px; text-align: left ; width: auto;} td:nth-child(2) {text-align: left ; width: 100%}\n",
       "    .wandb-row { display: flex; flex-direction: row; flex-wrap: wrap; justify-content: flex-start; width: 100% }\n",
       "    .wandb-col { display: flex; flex-direction: column; flex-basis: 100%; flex: 1; padding: 10px; }\n",
       "    </style>\n",
       "<div class=\"wandb-row\"><div class=\"wandb-col\"><h3>Run history:</h3><br/><table class=\"wandb\"><tr><td>accuracy_LR</td><td>▁</td></tr><tr><td>accuracy_RF</td><td>▁</td></tr><tr><td>accuracy_SVM</td><td>▁</td></tr><tr><td>accuracy_XGB</td><td>▁</td></tr><tr><td>f1_LR</td><td>▁</td></tr><tr><td>f1_RF</td><td>▁</td></tr><tr><td>f1_SVM</td><td>▁</td></tr><tr><td>f1_XGB</td><td>▁</td></tr><tr><td>precision_LR</td><td>▁</td></tr><tr><td>precision_RF</td><td>▁</td></tr><tr><td>precision_SVM</td><td>▁</td></tr><tr><td>precision_XGB</td><td>▁</td></tr><tr><td>recall_LR</td><td>▁</td></tr><tr><td>recall_RF</td><td>▁</td></tr><tr><td>recall_SVM</td><td>▁</td></tr><tr><td>recall_XGB</td><td>▁</td></tr><tr><td>roc_auc_LR</td><td>▁</td></tr><tr><td>roc_auc_RF</td><td>▁</td></tr><tr><td>roc_auc_SVM</td><td>▁</td></tr><tr><td>roc_auc_XGB</td><td>▁</td></tr></table><br/></div><div class=\"wandb-col\"><h3>Run summary:</h3><br/><table class=\"wandb\"><tr><td>accuracy_LR</td><td>0.77454</td></tr><tr><td>accuracy_RF</td><td>0.76656</td></tr><tr><td>accuracy_SVM</td><td>0.79977</td></tr><tr><td>accuracy_XGB</td><td>0.7949</td></tr><tr><td>f1_LR</td><td>0.29852</td></tr><tr><td>f1_RF</td><td>0.34126</td></tr><tr><td>f1_SVM</td><td>0.19173</td></tr><tr><td>f1_XGB</td><td>0.26136</td></tr><tr><td>precision_LR</td><td>0.3519</td></tr><tr><td>precision_RF</td><td>0.357</td></tr><tr><td>precision_SVM</td><td>0.39871</td></tr><tr><td>precision_XGB</td><td>0.39296</td></tr><tr><td>recall_LR</td><td>0.25955</td></tr><tr><td>recall_RF</td><td>0.32749</td></tr><tr><td>recall_SVM</td><td>0.13279</td></tr><tr><td>recall_XGB</td><td>0.197</td></tr><tr><td>roc_auc_LR</td><td>0.66451</td></tr><tr><td>roc_auc_RF</td><td>0.68243</td></tr><tr><td>roc_auc_SVM</td><td>0.64081</td></tr><tr><td>roc_auc_XGB</td><td>0.66547</td></tr></table><br/></div></div>"
      ],
      "text/plain": [
       "<IPython.core.display.HTML object>"
      ]
     },
     "metadata": {},
     "output_type": "display_data"
    },
    {
     "data": {
      "text/html": [
       " View run <strong style=\"color:#cdcd00\">floral-sweep-2</strong> at: <a href='https://wandb.ai/ignacio-onate/cw-challenge-model-test/runs/1ssmyda8' target=\"_blank\">https://wandb.ai/ignacio-onate/cw-challenge-model-test/runs/1ssmyda8</a><br/>Synced 5 W&B file(s), 0 media file(s), 0 artifact file(s) and 0 other file(s)"
      ],
      "text/plain": [
       "<IPython.core.display.HTML object>"
      ]
     },
     "metadata": {},
     "output_type": "display_data"
    },
    {
     "data": {
      "text/html": [
       "Find logs at: <code>.\\wandb\\run-20230326_000902-1ssmyda8\\logs</code>"
      ],
      "text/plain": [
       "<IPython.core.display.HTML object>"
      ]
     },
     "metadata": {},
     "output_type": "display_data"
    },
    {
     "name": "stderr",
     "output_type": "stream",
     "text": [
      "\u001b[34m\u001b[1mwandb\u001b[0m: Agent Starting Run: idm5793p with config:\n",
      "\u001b[34m\u001b[1mwandb\u001b[0m: \tover_values: 0.3\n",
      "\u001b[34m\u001b[1mwandb\u001b[0m: \tunder_values: 0.5\n"
     ]
    },
    {
     "data": {
      "text/html": [
       "Tracking run with wandb version 0.14.0"
      ],
      "text/plain": [
       "<IPython.core.display.HTML object>"
      ]
     },
     "metadata": {},
     "output_type": "display_data"
    },
    {
     "data": {
      "text/html": [
       "Run data is saved locally in <code>C:\\Users\\JhonG\\Documents\\nw-challenge\\nw-challenge\\model\\wandb\\run-20230326_001447-idm5793p</code>"
      ],
      "text/plain": [
       "<IPython.core.display.HTML object>"
      ]
     },
     "metadata": {},
     "output_type": "display_data"
    },
    {
     "data": {
      "text/html": [
       "Syncing run <strong><a href='https://wandb.ai/ignacio-onate/cw-challenge-model-test/runs/idm5793p' target=\"_blank\">electric-sweep-3</a></strong> to <a href='https://wandb.ai/ignacio-onate/cw-challenge-model-test' target=\"_blank\">Weights & Biases</a> (<a href='https://wandb.me/run' target=\"_blank\">docs</a>)<br/>Sweep page: <a href='https://wandb.ai/ignacio-onate/cw-challenge-model-test/sweeps/aiz2vglq' target=\"_blank\">https://wandb.ai/ignacio-onate/cw-challenge-model-test/sweeps/aiz2vglq</a>"
      ],
      "text/plain": [
       "<IPython.core.display.HTML object>"
      ]
     },
     "metadata": {},
     "output_type": "display_data"
    },
    {
     "data": {
      "text/html": [
       " View project at <a href='https://wandb.ai/ignacio-onate/cw-challenge-model-test' target=\"_blank\">https://wandb.ai/ignacio-onate/cw-challenge-model-test</a>"
      ],
      "text/plain": [
       "<IPython.core.display.HTML object>"
      ]
     },
     "metadata": {},
     "output_type": "display_data"
    },
    {
     "data": {
      "text/html": [
       " View sweep at <a href='https://wandb.ai/ignacio-onate/cw-challenge-model-test/sweeps/aiz2vglq' target=\"_blank\">https://wandb.ai/ignacio-onate/cw-challenge-model-test/sweeps/aiz2vglq</a>"
      ],
      "text/plain": [
       "<IPython.core.display.HTML object>"
      ]
     },
     "metadata": {},
     "output_type": "display_data"
    },
    {
     "data": {
      "text/html": [
       " View run at <a href='https://wandb.ai/ignacio-onate/cw-challenge-model-test/runs/idm5793p' target=\"_blank\">https://wandb.ai/ignacio-onate/cw-challenge-model-test/runs/idm5793p</a>"
      ],
      "text/plain": [
       "<IPython.core.display.HTML object>"
      ]
     },
     "metadata": {},
     "output_type": "display_data"
    },
    {
     "name": "stdout",
     "output_type": "stream",
     "text": [
      "Modelo:  SVM\n",
      "Modelo:  XGB\n",
      "Modelo:  RF\n",
      "Modelo:  LR\n"
     ]
    },
    {
     "data": {
      "text/html": [
       "Waiting for W&B process to finish... <strong style=\"color:green\">(success).</strong>"
      ],
      "text/plain": [
       "<IPython.core.display.HTML object>"
      ]
     },
     "metadata": {},
     "output_type": "display_data"
    },
    {
     "data": {
      "text/html": [
       "<style>\n",
       "    table.wandb td:nth-child(1) { padding: 0 10px; text-align: left ; width: auto;} td:nth-child(2) {text-align: left ; width: 100%}\n",
       "    .wandb-row { display: flex; flex-direction: row; flex-wrap: wrap; justify-content: flex-start; width: 100% }\n",
       "    .wandb-col { display: flex; flex-direction: column; flex-basis: 100%; flex: 1; padding: 10px; }\n",
       "    </style>\n",
       "<div class=\"wandb-row\"><div class=\"wandb-col\"><h3>Run history:</h3><br/><table class=\"wandb\"><tr><td>accuracy_LR</td><td>▁</td></tr><tr><td>accuracy_RF</td><td>▁</td></tr><tr><td>accuracy_SVM</td><td>▁</td></tr><tr><td>accuracy_XGB</td><td>▁</td></tr><tr><td>f1_LR</td><td>▁</td></tr><tr><td>f1_RF</td><td>▁</td></tr><tr><td>f1_SVM</td><td>▁</td></tr><tr><td>f1_XGB</td><td>▁</td></tr><tr><td>precision_LR</td><td>▁</td></tr><tr><td>precision_RF</td><td>▁</td></tr><tr><td>precision_SVM</td><td>▁</td></tr><tr><td>precision_XGB</td><td>▁</td></tr><tr><td>recall_LR</td><td>▁</td></tr><tr><td>recall_RF</td><td>▁</td></tr><tr><td>recall_SVM</td><td>▁</td></tr><tr><td>recall_XGB</td><td>▁</td></tr><tr><td>roc_auc_LR</td><td>▁</td></tr><tr><td>roc_auc_RF</td><td>▁</td></tr><tr><td>roc_auc_SVM</td><td>▁</td></tr><tr><td>roc_auc_XGB</td><td>▁</td></tr></table><br/></div><div class=\"wandb-col\"><h3>Run summary:</h3><br/><table class=\"wandb\"><tr><td>accuracy_LR</td><td>0.7939</td></tr><tr><td>accuracy_RF</td><td>0.79405</td></tr><tr><td>accuracy_SVM</td><td>0.80688</td></tr><tr><td>accuracy_XGB</td><td>0.80842</td></tr><tr><td>f1_LR</td><td>0.26959</td></tr><tr><td>f1_RF</td><td>0.29452</td></tr><tr><td>f1_SVM</td><td>0.17044</td></tr><tr><td>f1_XGB</td><td>0.19975</td></tr><tr><td>precision_LR</td><td>0.39183</td></tr><tr><td>precision_RF</td><td>0.402</td></tr><tr><td>precision_SVM</td><td>0.41415</td></tr><tr><td>precision_XGB</td><td>0.44408</td></tr><tr><td>recall_LR</td><td>0.20572</td></tr><tr><td>recall_RF</td><td>0.2326</td></tr><tr><td>recall_SVM</td><td>0.10734</td></tr><tr><td>recall_XGB</td><td>0.13017</td></tr><tr><td>roc_auc_LR</td><td>0.66454</td></tr><tr><td>roc_auc_RF</td><td>0.6824</td></tr><tr><td>roc_auc_SVM</td><td>0.61027</td></tr><tr><td>roc_auc_XGB</td><td>0.66308</td></tr></table><br/></div></div>"
      ],
      "text/plain": [
       "<IPython.core.display.HTML object>"
      ]
     },
     "metadata": {},
     "output_type": "display_data"
    },
    {
     "data": {
      "text/html": [
       " View run <strong style=\"color:#cdcd00\">electric-sweep-3</strong> at: <a href='https://wandb.ai/ignacio-onate/cw-challenge-model-test/runs/idm5793p' target=\"_blank\">https://wandb.ai/ignacio-onate/cw-challenge-model-test/runs/idm5793p</a><br/>Synced 5 W&B file(s), 0 media file(s), 0 artifact file(s) and 0 other file(s)"
      ],
      "text/plain": [
       "<IPython.core.display.HTML object>"
      ]
     },
     "metadata": {},
     "output_type": "display_data"
    },
    {
     "data": {
      "text/html": [
       "Find logs at: <code>.\\wandb\\run-20230326_001447-idm5793p\\logs</code>"
      ],
      "text/plain": [
       "<IPython.core.display.HTML object>"
      ]
     },
     "metadata": {},
     "output_type": "display_data"
    },
    {
     "name": "stderr",
     "output_type": "stream",
     "text": [
      "\u001b[34m\u001b[1mwandb\u001b[0m: Sweep Agent: Waiting for job.\n",
      "\u001b[34m\u001b[1mwandb\u001b[0m: Job received.\n",
      "\u001b[34m\u001b[1mwandb\u001b[0m: Agent Starting Run: plparvsp with config:\n",
      "\u001b[34m\u001b[1mwandb\u001b[0m: \tover_values: 0.4\n",
      "\u001b[34m\u001b[1mwandb\u001b[0m: \tunder_values: 0.7\n"
     ]
    },
    {
     "data": {
      "text/html": [
       "Tracking run with wandb version 0.14.0"
      ],
      "text/plain": [
       "<IPython.core.display.HTML object>"
      ]
     },
     "metadata": {},
     "output_type": "display_data"
    },
    {
     "data": {
      "text/html": [
       "Run data is saved locally in <code>C:\\Users\\JhonG\\Documents\\nw-challenge\\nw-challenge\\model\\wandb\\run-20230326_002029-plparvsp</code>"
      ],
      "text/plain": [
       "<IPython.core.display.HTML object>"
      ]
     },
     "metadata": {},
     "output_type": "display_data"
    },
    {
     "data": {
      "text/html": [
       "Syncing run <strong><a href='https://wandb.ai/ignacio-onate/cw-challenge-model-test/runs/plparvsp' target=\"_blank\">effortless-sweep-4</a></strong> to <a href='https://wandb.ai/ignacio-onate/cw-challenge-model-test' target=\"_blank\">Weights & Biases</a> (<a href='https://wandb.me/run' target=\"_blank\">docs</a>)<br/>Sweep page: <a href='https://wandb.ai/ignacio-onate/cw-challenge-model-test/sweeps/aiz2vglq' target=\"_blank\">https://wandb.ai/ignacio-onate/cw-challenge-model-test/sweeps/aiz2vglq</a>"
      ],
      "text/plain": [
       "<IPython.core.display.HTML object>"
      ]
     },
     "metadata": {},
     "output_type": "display_data"
    },
    {
     "data": {
      "text/html": [
       " View project at <a href='https://wandb.ai/ignacio-onate/cw-challenge-model-test' target=\"_blank\">https://wandb.ai/ignacio-onate/cw-challenge-model-test</a>"
      ],
      "text/plain": [
       "<IPython.core.display.HTML object>"
      ]
     },
     "metadata": {},
     "output_type": "display_data"
    },
    {
     "data": {
      "text/html": [
       " View sweep at <a href='https://wandb.ai/ignacio-onate/cw-challenge-model-test/sweeps/aiz2vglq' target=\"_blank\">https://wandb.ai/ignacio-onate/cw-challenge-model-test/sweeps/aiz2vglq</a>"
      ],
      "text/plain": [
       "<IPython.core.display.HTML object>"
      ]
     },
     "metadata": {},
     "output_type": "display_data"
    },
    {
     "data": {
      "text/html": [
       " View run at <a href='https://wandb.ai/ignacio-onate/cw-challenge-model-test/runs/plparvsp' target=\"_blank\">https://wandb.ai/ignacio-onate/cw-challenge-model-test/runs/plparvsp</a>"
      ],
      "text/plain": [
       "<IPython.core.display.HTML object>"
      ]
     },
     "metadata": {},
     "output_type": "display_data"
    },
    {
     "name": "stdout",
     "output_type": "stream",
     "text": [
      "Modelo:  SVM\n",
      "Modelo:  XGB\n",
      "Modelo:  RF\n",
      "Modelo:  LR\n"
     ]
    },
    {
     "data": {
      "text/html": [
       "Waiting for W&B process to finish... <strong style=\"color:green\">(success).</strong>"
      ],
      "text/plain": [
       "<IPython.core.display.HTML object>"
      ]
     },
     "metadata": {},
     "output_type": "display_data"
    },
    {
     "data": {
      "text/html": [
       "<style>\n",
       "    table.wandb td:nth-child(1) { padding: 0 10px; text-align: left ; width: auto;} td:nth-child(2) {text-align: left ; width: 100%}\n",
       "    .wandb-row { display: flex; flex-direction: row; flex-wrap: wrap; justify-content: flex-start; width: 100% }\n",
       "    .wandb-col { display: flex; flex-direction: column; flex-basis: 100%; flex: 1; padding: 10px; }\n",
       "    </style>\n",
       "<div class=\"wandb-row\"><div class=\"wandb-col\"><h3>Run history:</h3><br/><table class=\"wandb\"><tr><td>accuracy_LR</td><td>▁</td></tr><tr><td>accuracy_RF</td><td>▁</td></tr><tr><td>accuracy_SVM</td><td>▁</td></tr><tr><td>accuracy_XGB</td><td>▁</td></tr><tr><td>f1_LR</td><td>▁</td></tr><tr><td>f1_RF</td><td>▁</td></tr><tr><td>f1_SVM</td><td>▁</td></tr><tr><td>f1_XGB</td><td>▁</td></tr><tr><td>precision_LR</td><td>▁</td></tr><tr><td>precision_RF</td><td>▁</td></tr><tr><td>precision_SVM</td><td>▁</td></tr><tr><td>precision_XGB</td><td>▁</td></tr><tr><td>recall_LR</td><td>▁</td></tr><tr><td>recall_RF</td><td>▁</td></tr><tr><td>recall_SVM</td><td>▁</td></tr><tr><td>recall_XGB</td><td>▁</td></tr><tr><td>roc_auc_LR</td><td>▁</td></tr><tr><td>roc_auc_RF</td><td>▁</td></tr><tr><td>roc_auc_SVM</td><td>▁</td></tr><tr><td>roc_auc_XGB</td><td>▁</td></tr></table><br/></div><div class=\"wandb-col\"><h3>Run summary:</h3><br/><table class=\"wandb\"><tr><td>accuracy_LR</td><td>0.74721</td></tr><tr><td>accuracy_RF</td><td>0.73508</td></tr><tr><td>accuracy_SVM</td><td>0.77193</td></tr><tr><td>accuracy_XGB</td><td>0.7764</td></tr><tr><td>f1_LR</td><td>0.33272</td></tr><tr><td>f1_RF</td><td>0.36706</td></tr><tr><td>f1_SVM</td><td>0.27568</td></tr><tr><td>f1_XGB</td><td>0.31523</td></tr><tr><td>precision_LR</td><td>0.32514</td></tr><tr><td>precision_RF</td><td>0.32929</td></tr><tr><td>precision_SVM</td><td>0.33403</td></tr><tr><td>precision_XGB</td><td>0.36436</td></tr><tr><td>recall_LR</td><td>0.34081</td></tr><tr><td>recall_RF</td><td>0.4158</td></tr><tr><td>recall_SVM</td><td>0.23474</td></tr><tr><td>recall_XGB</td><td>0.27937</td></tr><tr><td>roc_auc_LR</td><td>0.66476</td></tr><tr><td>roc_auc_RF</td><td>0.68173</td></tr><tr><td>roc_auc_SVM</td><td>0.64847</td></tr><tr><td>roc_auc_XGB</td><td>0.66598</td></tr></table><br/></div></div>"
      ],
      "text/plain": [
       "<IPython.core.display.HTML object>"
      ]
     },
     "metadata": {},
     "output_type": "display_data"
    },
    {
     "data": {
      "text/html": [
       " View run <strong style=\"color:#cdcd00\">effortless-sweep-4</strong> at: <a href='https://wandb.ai/ignacio-onate/cw-challenge-model-test/runs/plparvsp' target=\"_blank\">https://wandb.ai/ignacio-onate/cw-challenge-model-test/runs/plparvsp</a><br/>Synced 5 W&B file(s), 0 media file(s), 0 artifact file(s) and 0 other file(s)"
      ],
      "text/plain": [
       "<IPython.core.display.HTML object>"
      ]
     },
     "metadata": {},
     "output_type": "display_data"
    },
    {
     "data": {
      "text/html": [
       "Find logs at: <code>.\\wandb\\run-20230326_002029-plparvsp\\logs</code>"
      ],
      "text/plain": [
       "<IPython.core.display.HTML object>"
      ]
     },
     "metadata": {},
     "output_type": "display_data"
    },
    {
     "name": "stderr",
     "output_type": "stream",
     "text": [
      "\u001b[34m\u001b[1mwandb\u001b[0m: Agent Starting Run: 382vebef with config:\n",
      "\u001b[34m\u001b[1mwandb\u001b[0m: \tover_values: 0.4\n",
      "\u001b[34m\u001b[1mwandb\u001b[0m: \tunder_values: 0.6\n"
     ]
    },
    {
     "data": {
      "text/html": [
       "Tracking run with wandb version 0.14.0"
      ],
      "text/plain": [
       "<IPython.core.display.HTML object>"
      ]
     },
     "metadata": {},
     "output_type": "display_data"
    },
    {
     "data": {
      "text/html": [
       "Run data is saved locally in <code>C:\\Users\\JhonG\\Documents\\nw-challenge\\nw-challenge\\model\\wandb\\run-20230326_002738-382vebef</code>"
      ],
      "text/plain": [
       "<IPython.core.display.HTML object>"
      ]
     },
     "metadata": {},
     "output_type": "display_data"
    },
    {
     "data": {
      "text/html": [
       "Syncing run <strong><a href='https://wandb.ai/ignacio-onate/cw-challenge-model-test/runs/382vebef' target=\"_blank\">bright-sweep-5</a></strong> to <a href='https://wandb.ai/ignacio-onate/cw-challenge-model-test' target=\"_blank\">Weights & Biases</a> (<a href='https://wandb.me/run' target=\"_blank\">docs</a>)<br/>Sweep page: <a href='https://wandb.ai/ignacio-onate/cw-challenge-model-test/sweeps/aiz2vglq' target=\"_blank\">https://wandb.ai/ignacio-onate/cw-challenge-model-test/sweeps/aiz2vglq</a>"
      ],
      "text/plain": [
       "<IPython.core.display.HTML object>"
      ]
     },
     "metadata": {},
     "output_type": "display_data"
    },
    {
     "data": {
      "text/html": [
       " View project at <a href='https://wandb.ai/ignacio-onate/cw-challenge-model-test' target=\"_blank\">https://wandb.ai/ignacio-onate/cw-challenge-model-test</a>"
      ],
      "text/plain": [
       "<IPython.core.display.HTML object>"
      ]
     },
     "metadata": {},
     "output_type": "display_data"
    },
    {
     "data": {
      "text/html": [
       " View sweep at <a href='https://wandb.ai/ignacio-onate/cw-challenge-model-test/sweeps/aiz2vglq' target=\"_blank\">https://wandb.ai/ignacio-onate/cw-challenge-model-test/sweeps/aiz2vglq</a>"
      ],
      "text/plain": [
       "<IPython.core.display.HTML object>"
      ]
     },
     "metadata": {},
     "output_type": "display_data"
    },
    {
     "data": {
      "text/html": [
       " View run at <a href='https://wandb.ai/ignacio-onate/cw-challenge-model-test/runs/382vebef' target=\"_blank\">https://wandb.ai/ignacio-onate/cw-challenge-model-test/runs/382vebef</a>"
      ],
      "text/plain": [
       "<IPython.core.display.HTML object>"
      ]
     },
     "metadata": {},
     "output_type": "display_data"
    },
    {
     "name": "stdout",
     "output_type": "stream",
     "text": [
      "Modelo:  SVM\n",
      "Modelo:  XGB\n",
      "Modelo:  RF\n",
      "Modelo:  LR\n"
     ]
    },
    {
     "data": {
      "text/html": [
       "Waiting for W&B process to finish... <strong style=\"color:green\">(success).</strong>"
      ],
      "text/plain": [
       "<IPython.core.display.HTML object>"
      ]
     },
     "metadata": {},
     "output_type": "display_data"
    },
    {
     "data": {
      "text/html": [
       "<style>\n",
       "    table.wandb td:nth-child(1) { padding: 0 10px; text-align: left ; width: auto;} td:nth-child(2) {text-align: left ; width: 100%}\n",
       "    .wandb-row { display: flex; flex-direction: row; flex-wrap: wrap; justify-content: flex-start; width: 100% }\n",
       "    .wandb-col { display: flex; flex-direction: column; flex-basis: 100%; flex: 1; padding: 10px; }\n",
       "    </style>\n",
       "<div class=\"wandb-row\"><div class=\"wandb-col\"><h3>Run history:</h3><br/><table class=\"wandb\"><tr><td>accuracy_LR</td><td>▁</td></tr><tr><td>accuracy_RF</td><td>▁</td></tr><tr><td>accuracy_SVM</td><td>▁</td></tr><tr><td>accuracy_XGB</td><td>▁</td></tr><tr><td>f1_LR</td><td>▁</td></tr><tr><td>f1_RF</td><td>▁</td></tr><tr><td>f1_SVM</td><td>▁</td></tr><tr><td>f1_XGB</td><td>▁</td></tr><tr><td>precision_LR</td><td>▁</td></tr><tr><td>precision_RF</td><td>▁</td></tr><tr><td>precision_SVM</td><td>▁</td></tr><tr><td>precision_XGB</td><td>▁</td></tr><tr><td>recall_LR</td><td>▁</td></tr><tr><td>recall_RF</td><td>▁</td></tr><tr><td>recall_SVM</td><td>▁</td></tr><tr><td>recall_XGB</td><td>▁</td></tr><tr><td>roc_auc_LR</td><td>▁</td></tr><tr><td>roc_auc_RF</td><td>▁</td></tr><tr><td>roc_auc_SVM</td><td>▁</td></tr><tr><td>roc_auc_XGB</td><td>▁</td></tr></table><br/></div><div class=\"wandb-col\"><h3>Run summary:</h3><br/><table class=\"wandb\"><tr><td>accuracy_LR</td><td>0.77349</td></tr><tr><td>accuracy_RF</td><td>0.76842</td></tr><tr><td>accuracy_SVM</td><td>0.79244</td></tr><tr><td>accuracy_XGB</td><td>0.79295</td></tr><tr><td>f1_LR</td><td>0.29878</td></tr><tr><td>f1_RF</td><td>0.34332</td></tr><tr><td>f1_SVM</td><td>0.20967</td></tr><tr><td>f1_XGB</td><td>0.26923</td></tr><tr><td>precision_LR</td><td>0.34964</td></tr><tr><td>precision_RF</td><td>0.3609</td></tr><tr><td>precision_SVM</td><td>0.37669</td></tr><tr><td>precision_XGB</td><td>0.39031</td></tr><tr><td>recall_LR</td><td>0.26098</td></tr><tr><td>recall_RF</td><td>0.32757</td></tr><tr><td>recall_SVM</td><td>0.15673</td></tr><tr><td>recall_XGB</td><td>0.20778</td></tr><tr><td>roc_auc_LR</td><td>0.66461</td></tr><tr><td>roc_auc_RF</td><td>0.68109</td></tr><tr><td>roc_auc_SVM</td><td>0.62968</td></tr><tr><td>roc_auc_XGB</td><td>0.66582</td></tr></table><br/></div></div>"
      ],
      "text/plain": [
       "<IPython.core.display.HTML object>"
      ]
     },
     "metadata": {},
     "output_type": "display_data"
    },
    {
     "data": {
      "text/html": [
       " View run <strong style=\"color:#cdcd00\">bright-sweep-5</strong> at: <a href='https://wandb.ai/ignacio-onate/cw-challenge-model-test/runs/382vebef' target=\"_blank\">https://wandb.ai/ignacio-onate/cw-challenge-model-test/runs/382vebef</a><br/>Synced 5 W&B file(s), 0 media file(s), 0 artifact file(s) and 0 other file(s)"
      ],
      "text/plain": [
       "<IPython.core.display.HTML object>"
      ]
     },
     "metadata": {},
     "output_type": "display_data"
    },
    {
     "data": {
      "text/html": [
       "Find logs at: <code>.\\wandb\\run-20230326_002738-382vebef\\logs</code>"
      ],
      "text/plain": [
       "<IPython.core.display.HTML object>"
      ]
     },
     "metadata": {},
     "output_type": "display_data"
    },
    {
     "name": "stderr",
     "output_type": "stream",
     "text": [
      "\u001b[34m\u001b[1mwandb\u001b[0m: Agent Starting Run: df46xmnd with config:\n",
      "\u001b[34m\u001b[1mwandb\u001b[0m: \tover_values: 0.4\n",
      "\u001b[34m\u001b[1mwandb\u001b[0m: \tunder_values: 0.5\n"
     ]
    },
    {
     "data": {
      "text/html": [
       "Tracking run with wandb version 0.14.0"
      ],
      "text/plain": [
       "<IPython.core.display.HTML object>"
      ]
     },
     "metadata": {},
     "output_type": "display_data"
    },
    {
     "data": {
      "text/html": [
       "Run data is saved locally in <code>C:\\Users\\JhonG\\Documents\\nw-challenge\\nw-challenge\\model\\wandb\\run-20230326_003508-df46xmnd</code>"
      ],
      "text/plain": [
       "<IPython.core.display.HTML object>"
      ]
     },
     "metadata": {},
     "output_type": "display_data"
    },
    {
     "data": {
      "text/html": [
       "Syncing run <strong><a href='https://wandb.ai/ignacio-onate/cw-challenge-model-test/runs/df46xmnd' target=\"_blank\">smooth-sweep-6</a></strong> to <a href='https://wandb.ai/ignacio-onate/cw-challenge-model-test' target=\"_blank\">Weights & Biases</a> (<a href='https://wandb.me/run' target=\"_blank\">docs</a>)<br/>Sweep page: <a href='https://wandb.ai/ignacio-onate/cw-challenge-model-test/sweeps/aiz2vglq' target=\"_blank\">https://wandb.ai/ignacio-onate/cw-challenge-model-test/sweeps/aiz2vglq</a>"
      ],
      "text/plain": [
       "<IPython.core.display.HTML object>"
      ]
     },
     "metadata": {},
     "output_type": "display_data"
    },
    {
     "data": {
      "text/html": [
       " View project at <a href='https://wandb.ai/ignacio-onate/cw-challenge-model-test' target=\"_blank\">https://wandb.ai/ignacio-onate/cw-challenge-model-test</a>"
      ],
      "text/plain": [
       "<IPython.core.display.HTML object>"
      ]
     },
     "metadata": {},
     "output_type": "display_data"
    },
    {
     "data": {
      "text/html": [
       " View sweep at <a href='https://wandb.ai/ignacio-onate/cw-challenge-model-test/sweeps/aiz2vglq' target=\"_blank\">https://wandb.ai/ignacio-onate/cw-challenge-model-test/sweeps/aiz2vglq</a>"
      ],
      "text/plain": [
       "<IPython.core.display.HTML object>"
      ]
     },
     "metadata": {},
     "output_type": "display_data"
    },
    {
     "data": {
      "text/html": [
       " View run at <a href='https://wandb.ai/ignacio-onate/cw-challenge-model-test/runs/df46xmnd' target=\"_blank\">https://wandb.ai/ignacio-onate/cw-challenge-model-test/runs/df46xmnd</a>"
      ],
      "text/plain": [
       "<IPython.core.display.HTML object>"
      ]
     },
     "metadata": {},
     "output_type": "display_data"
    },
    {
     "name": "stdout",
     "output_type": "stream",
     "text": [
      "Modelo:  SVM\n",
      "Modelo:  XGB\n",
      "Modelo:  RF\n",
      "Modelo:  LR\n"
     ]
    },
    {
     "data": {
      "text/html": [
       "Waiting for W&B process to finish... <strong style=\"color:green\">(success).</strong>"
      ],
      "text/plain": [
       "<IPython.core.display.HTML object>"
      ]
     },
     "metadata": {},
     "output_type": "display_data"
    },
    {
     "data": {
      "text/html": [
       "<style>\n",
       "    table.wandb td:nth-child(1) { padding: 0 10px; text-align: left ; width: auto;} td:nth-child(2) {text-align: left ; width: 100%}\n",
       "    .wandb-row { display: flex; flex-direction: row; flex-wrap: wrap; justify-content: flex-start; width: 100% }\n",
       "    .wandb-col { display: flex; flex-direction: column; flex-basis: 100%; flex: 1; padding: 10px; }\n",
       "    </style>\n",
       "<div class=\"wandb-row\"><div class=\"wandb-col\"><h3>Run history:</h3><br/><table class=\"wandb\"><tr><td>accuracy_LR</td><td>▁</td></tr><tr><td>accuracy_RF</td><td>▁</td></tr><tr><td>accuracy_SVM</td><td>▁</td></tr><tr><td>accuracy_XGB</td><td>▁</td></tr><tr><td>f1_LR</td><td>▁</td></tr><tr><td>f1_RF</td><td>▁</td></tr><tr><td>f1_SVM</td><td>▁</td></tr><tr><td>f1_XGB</td><td>▁</td></tr><tr><td>precision_LR</td><td>▁</td></tr><tr><td>precision_RF</td><td>▁</td></tr><tr><td>precision_SVM</td><td>▁</td></tr><tr><td>precision_XGB</td><td>▁</td></tr><tr><td>recall_LR</td><td>▁</td></tr><tr><td>recall_RF</td><td>▁</td></tr><tr><td>recall_SVM</td><td>▁</td></tr><tr><td>recall_XGB</td><td>▁</td></tr><tr><td>roc_auc_LR</td><td>▁</td></tr><tr><td>roc_auc_RF</td><td>▁</td></tr><tr><td>roc_auc_SVM</td><td>▁</td></tr><tr><td>roc_auc_XGB</td><td>▁</td></tr></table><br/></div><div class=\"wandb-col\"><h3>Run summary:</h3><br/><table class=\"wandb\"><tr><td>accuracy_LR</td><td>0.79365</td></tr><tr><td>accuracy_RF</td><td>0.7958</td></tr><tr><td>accuracy_SVM</td><td>0.80727</td></tr><tr><td>accuracy_XGB</td><td>0.80845</td></tr><tr><td>f1_LR</td><td>0.26706</td></tr><tr><td>f1_RF</td><td>0.29171</td></tr><tr><td>f1_SVM</td><td>0.16245</td></tr><tr><td>f1_XGB</td><td>0.19961</td></tr><tr><td>precision_LR</td><td>0.39014</td></tr><tr><td>precision_RF</td><td>0.40753</td></tr><tr><td>precision_SVM</td><td>0.41522</td></tr><tr><td>precision_XGB</td><td>0.44637</td></tr><tr><td>recall_LR</td><td>0.20327</td></tr><tr><td>recall_RF</td><td>0.22784</td></tr><tr><td>recall_SVM</td><td>0.10108</td></tr><tr><td>recall_XGB</td><td>0.12978</td></tr><tr><td>roc_auc_LR</td><td>0.66453</td></tr><tr><td>roc_auc_RF</td><td>0.68244</td></tr><tr><td>roc_auc_SVM</td><td>0.61466</td></tr><tr><td>roc_auc_XGB</td><td>0.66423</td></tr></table><br/></div></div>"
      ],
      "text/plain": [
       "<IPython.core.display.HTML object>"
      ]
     },
     "metadata": {},
     "output_type": "display_data"
    },
    {
     "data": {
      "text/html": [
       " View run <strong style=\"color:#cdcd00\">smooth-sweep-6</strong> at: <a href='https://wandb.ai/ignacio-onate/cw-challenge-model-test/runs/df46xmnd' target=\"_blank\">https://wandb.ai/ignacio-onate/cw-challenge-model-test/runs/df46xmnd</a><br/>Synced 5 W&B file(s), 0 media file(s), 0 artifact file(s) and 0 other file(s)"
      ],
      "text/plain": [
       "<IPython.core.display.HTML object>"
      ]
     },
     "metadata": {},
     "output_type": "display_data"
    },
    {
     "data": {
      "text/html": [
       "Find logs at: <code>.\\wandb\\run-20230326_003508-df46xmnd\\logs</code>"
      ],
      "text/plain": [
       "<IPython.core.display.HTML object>"
      ]
     },
     "metadata": {},
     "output_type": "display_data"
    },
    {
     "name": "stderr",
     "output_type": "stream",
     "text": [
      "\u001b[34m\u001b[1mwandb\u001b[0m: Sweep Agent: Waiting for job.\n",
      "\u001b[34m\u001b[1mwandb\u001b[0m: Job received.\n",
      "\u001b[34m\u001b[1mwandb\u001b[0m: Agent Starting Run: krqm6p66 with config:\n",
      "\u001b[34m\u001b[1mwandb\u001b[0m: \tover_values: 0.5\n",
      "\u001b[34m\u001b[1mwandb\u001b[0m: \tunder_values: 0.7\n"
     ]
    },
    {
     "data": {
      "text/html": [
       "Tracking run with wandb version 0.14.0"
      ],
      "text/plain": [
       "<IPython.core.display.HTML object>"
      ]
     },
     "metadata": {},
     "output_type": "display_data"
    },
    {
     "data": {
      "text/html": [
       "Run data is saved locally in <code>C:\\Users\\JhonG\\Documents\\nw-challenge\\nw-challenge\\model\\wandb\\run-20230326_004254-krqm6p66</code>"
      ],
      "text/plain": [
       "<IPython.core.display.HTML object>"
      ]
     },
     "metadata": {},
     "output_type": "display_data"
    },
    {
     "data": {
      "text/html": [
       "Syncing run <strong><a href='https://wandb.ai/ignacio-onate/cw-challenge-model-test/runs/krqm6p66' target=\"_blank\">dashing-sweep-7</a></strong> to <a href='https://wandb.ai/ignacio-onate/cw-challenge-model-test' target=\"_blank\">Weights & Biases</a> (<a href='https://wandb.me/run' target=\"_blank\">docs</a>)<br/>Sweep page: <a href='https://wandb.ai/ignacio-onate/cw-challenge-model-test/sweeps/aiz2vglq' target=\"_blank\">https://wandb.ai/ignacio-onate/cw-challenge-model-test/sweeps/aiz2vglq</a>"
      ],
      "text/plain": [
       "<IPython.core.display.HTML object>"
      ]
     },
     "metadata": {},
     "output_type": "display_data"
    },
    {
     "data": {
      "text/html": [
       " View project at <a href='https://wandb.ai/ignacio-onate/cw-challenge-model-test' target=\"_blank\">https://wandb.ai/ignacio-onate/cw-challenge-model-test</a>"
      ],
      "text/plain": [
       "<IPython.core.display.HTML object>"
      ]
     },
     "metadata": {},
     "output_type": "display_data"
    },
    {
     "data": {
      "text/html": [
       " View sweep at <a href='https://wandb.ai/ignacio-onate/cw-challenge-model-test/sweeps/aiz2vglq' target=\"_blank\">https://wandb.ai/ignacio-onate/cw-challenge-model-test/sweeps/aiz2vglq</a>"
      ],
      "text/plain": [
       "<IPython.core.display.HTML object>"
      ]
     },
     "metadata": {},
     "output_type": "display_data"
    },
    {
     "data": {
      "text/html": [
       " View run at <a href='https://wandb.ai/ignacio-onate/cw-challenge-model-test/runs/krqm6p66' target=\"_blank\">https://wandb.ai/ignacio-onate/cw-challenge-model-test/runs/krqm6p66</a>"
      ],
      "text/plain": [
       "<IPython.core.display.HTML object>"
      ]
     },
     "metadata": {},
     "output_type": "display_data"
    },
    {
     "name": "stdout",
     "output_type": "stream",
     "text": [
      "Modelo:  SVM\n",
      "Modelo:  XGB\n",
      "Modelo:  RF\n",
      "Modelo:  LR\n"
     ]
    },
    {
     "data": {
      "text/html": [
       "Waiting for W&B process to finish... <strong style=\"color:green\">(success).</strong>"
      ],
      "text/plain": [
       "<IPython.core.display.HTML object>"
      ]
     },
     "metadata": {},
     "output_type": "display_data"
    },
    {
     "data": {
      "text/html": [
       "<style>\n",
       "    table.wandb td:nth-child(1) { padding: 0 10px; text-align: left ; width: auto;} td:nth-child(2) {text-align: left ; width: 100%}\n",
       "    .wandb-row { display: flex; flex-direction: row; flex-wrap: wrap; justify-content: flex-start; width: 100% }\n",
       "    .wandb-col { display: flex; flex-direction: column; flex-basis: 100%; flex: 1; padding: 10px; }\n",
       "    </style>\n",
       "<div class=\"wandb-row\"><div class=\"wandb-col\"><h3>Run history:</h3><br/><table class=\"wandb\"><tr><td>accuracy_LR</td><td>▁</td></tr><tr><td>accuracy_RF</td><td>▁</td></tr><tr><td>accuracy_SVM</td><td>▁</td></tr><tr><td>accuracy_XGB</td><td>▁</td></tr><tr><td>f1_LR</td><td>▁</td></tr><tr><td>f1_RF</td><td>▁</td></tr><tr><td>f1_SVM</td><td>▁</td></tr><tr><td>f1_XGB</td><td>▁</td></tr><tr><td>precision_LR</td><td>▁</td></tr><tr><td>precision_RF</td><td>▁</td></tr><tr><td>precision_SVM</td><td>▁</td></tr><tr><td>precision_XGB</td><td>▁</td></tr><tr><td>recall_LR</td><td>▁</td></tr><tr><td>recall_RF</td><td>▁</td></tr><tr><td>recall_SVM</td><td>▁</td></tr><tr><td>recall_XGB</td><td>▁</td></tr><tr><td>roc_auc_LR</td><td>▁</td></tr><tr><td>roc_auc_RF</td><td>▁</td></tr><tr><td>roc_auc_SVM</td><td>▁</td></tr><tr><td>roc_auc_XGB</td><td>▁</td></tr></table><br/></div><div class=\"wandb-col\"><h3>Run summary:</h3><br/><table class=\"wandb\"><tr><td>accuracy_LR</td><td>0.74457</td></tr><tr><td>accuracy_RF</td><td>0.7356</td></tr><tr><td>accuracy_SVM</td><td>0.77191</td></tr><tr><td>accuracy_XGB</td><td>0.77525</td></tr><tr><td>f1_LR</td><td>0.3309</td></tr><tr><td>f1_RF</td><td>0.36995</td></tr><tr><td>f1_SVM</td><td>0.2756</td></tr><tr><td>f1_XGB</td><td>0.31441</td></tr><tr><td>precision_LR</td><td>0.32106</td></tr><tr><td>precision_RF</td><td>0.33095</td></tr><tr><td>precision_SVM</td><td>0.33395</td></tr><tr><td>precision_XGB</td><td>0.36118</td></tr><tr><td>recall_LR</td><td>0.3416</td></tr><tr><td>recall_RF</td><td>0.42024</td></tr><tr><td>recall_SVM</td><td>0.23466</td></tr><tr><td>recall_XGB</td><td>0.27906</td></tr><tr><td>roc_auc_LR</td><td>0.66413</td></tr><tr><td>roc_auc_RF</td><td>0.6825</td></tr><tr><td>roc_auc_SVM</td><td>0.64902</td></tr><tr><td>roc_auc_XGB</td><td>0.66612</td></tr></table><br/></div></div>"
      ],
      "text/plain": [
       "<IPython.core.display.HTML object>"
      ]
     },
     "metadata": {},
     "output_type": "display_data"
    },
    {
     "data": {
      "text/html": [
       " View run <strong style=\"color:#cdcd00\">dashing-sweep-7</strong> at: <a href='https://wandb.ai/ignacio-onate/cw-challenge-model-test/runs/krqm6p66' target=\"_blank\">https://wandb.ai/ignacio-onate/cw-challenge-model-test/runs/krqm6p66</a><br/>Synced 5 W&B file(s), 0 media file(s), 0 artifact file(s) and 0 other file(s)"
      ],
      "text/plain": [
       "<IPython.core.display.HTML object>"
      ]
     },
     "metadata": {},
     "output_type": "display_data"
    },
    {
     "data": {
      "text/html": [
       "Find logs at: <code>.\\wandb\\run-20230326_004254-krqm6p66\\logs</code>"
      ],
      "text/plain": [
       "<IPython.core.display.HTML object>"
      ]
     },
     "metadata": {},
     "output_type": "display_data"
    },
    {
     "name": "stderr",
     "output_type": "stream",
     "text": [
      "\u001b[34m\u001b[1mwandb\u001b[0m: Agent Starting Run: i4hcq7tl with config:\n",
      "\u001b[34m\u001b[1mwandb\u001b[0m: \tover_values: 0.5\n",
      "\u001b[34m\u001b[1mwandb\u001b[0m: \tunder_values: 0.6\n"
     ]
    },
    {
     "data": {
      "text/html": [
       "Tracking run with wandb version 0.14.0"
      ],
      "text/plain": [
       "<IPython.core.display.HTML object>"
      ]
     },
     "metadata": {},
     "output_type": "display_data"
    },
    {
     "data": {
      "text/html": [
       "Run data is saved locally in <code>C:\\Users\\JhonG\\Documents\\nw-challenge\\nw-challenge\\model\\wandb\\run-20230326_005248-i4hcq7tl</code>"
      ],
      "text/plain": [
       "<IPython.core.display.HTML object>"
      ]
     },
     "metadata": {},
     "output_type": "display_data"
    },
    {
     "data": {
      "text/html": [
       "Syncing run <strong><a href='https://wandb.ai/ignacio-onate/cw-challenge-model-test/runs/i4hcq7tl' target=\"_blank\">hopeful-sweep-8</a></strong> to <a href='https://wandb.ai/ignacio-onate/cw-challenge-model-test' target=\"_blank\">Weights & Biases</a> (<a href='https://wandb.me/run' target=\"_blank\">docs</a>)<br/>Sweep page: <a href='https://wandb.ai/ignacio-onate/cw-challenge-model-test/sweeps/aiz2vglq' target=\"_blank\">https://wandb.ai/ignacio-onate/cw-challenge-model-test/sweeps/aiz2vglq</a>"
      ],
      "text/plain": [
       "<IPython.core.display.HTML object>"
      ]
     },
     "metadata": {},
     "output_type": "display_data"
    },
    {
     "data": {
      "text/html": [
       " View project at <a href='https://wandb.ai/ignacio-onate/cw-challenge-model-test' target=\"_blank\">https://wandb.ai/ignacio-onate/cw-challenge-model-test</a>"
      ],
      "text/plain": [
       "<IPython.core.display.HTML object>"
      ]
     },
     "metadata": {},
     "output_type": "display_data"
    },
    {
     "data": {
      "text/html": [
       " View sweep at <a href='https://wandb.ai/ignacio-onate/cw-challenge-model-test/sweeps/aiz2vglq' target=\"_blank\">https://wandb.ai/ignacio-onate/cw-challenge-model-test/sweeps/aiz2vglq</a>"
      ],
      "text/plain": [
       "<IPython.core.display.HTML object>"
      ]
     },
     "metadata": {},
     "output_type": "display_data"
    },
    {
     "data": {
      "text/html": [
       " View run at <a href='https://wandb.ai/ignacio-onate/cw-challenge-model-test/runs/i4hcq7tl' target=\"_blank\">https://wandb.ai/ignacio-onate/cw-challenge-model-test/runs/i4hcq7tl</a>"
      ],
      "text/plain": [
       "<IPython.core.display.HTML object>"
      ]
     },
     "metadata": {},
     "output_type": "display_data"
    },
    {
     "name": "stdout",
     "output_type": "stream",
     "text": [
      "Modelo:  SVM\n",
      "Modelo:  XGB\n",
      "Modelo:  RF\n",
      "Modelo:  LR\n"
     ]
    },
    {
     "data": {
      "text/html": [
       "Waiting for W&B process to finish... <strong style=\"color:green\">(success).</strong>"
      ],
      "text/plain": [
       "<IPython.core.display.HTML object>"
      ]
     },
     "metadata": {},
     "output_type": "display_data"
    },
    {
     "data": {
      "text/html": [
       "<style>\n",
       "    table.wandb td:nth-child(1) { padding: 0 10px; text-align: left ; width: auto;} td:nth-child(2) {text-align: left ; width: 100%}\n",
       "    .wandb-row { display: flex; flex-direction: row; flex-wrap: wrap; justify-content: flex-start; width: 100% }\n",
       "    .wandb-col { display: flex; flex-direction: column; flex-basis: 100%; flex: 1; padding: 10px; }\n",
       "    </style>\n",
       "<div class=\"wandb-row\"><div class=\"wandb-col\"><h3>Run history:</h3><br/><table class=\"wandb\"><tr><td>accuracy_LR</td><td>▁</td></tr><tr><td>accuracy_RF</td><td>▁</td></tr><tr><td>accuracy_SVM</td><td>▁</td></tr><tr><td>accuracy_XGB</td><td>▁</td></tr><tr><td>f1_LR</td><td>▁</td></tr><tr><td>f1_RF</td><td>▁</td></tr><tr><td>f1_SVM</td><td>▁</td></tr><tr><td>f1_XGB</td><td>▁</td></tr><tr><td>precision_LR</td><td>▁</td></tr><tr><td>precision_RF</td><td>▁</td></tr><tr><td>precision_SVM</td><td>▁</td></tr><tr><td>precision_XGB</td><td>▁</td></tr><tr><td>recall_LR</td><td>▁</td></tr><tr><td>recall_RF</td><td>▁</td></tr><tr><td>recall_SVM</td><td>▁</td></tr><tr><td>recall_XGB</td><td>▁</td></tr><tr><td>roc_auc_LR</td><td>▁</td></tr><tr><td>roc_auc_RF</td><td>▁</td></tr><tr><td>roc_auc_SVM</td><td>▁</td></tr><tr><td>roc_auc_XGB</td><td>▁</td></tr></table><br/></div><div class=\"wandb-col\"><h3>Run summary:</h3><br/><table class=\"wandb\"><tr><td>accuracy_LR</td><td>0.77376</td></tr><tr><td>accuracy_RF</td><td>0.76949</td></tr><tr><td>accuracy_SVM</td><td>0.79703</td></tr><tr><td>accuracy_XGB</td><td>0.79602</td></tr><tr><td>f1_LR</td><td>0.2982</td></tr><tr><td>f1_RF</td><td>0.34013</td></tr><tr><td>f1_SVM</td><td>0.20418</td></tr><tr><td>f1_XGB</td><td>0.26022</td></tr><tr><td>precision_LR</td><td>0.3497</td></tr><tr><td>precision_RF</td><td>0.36149</td></tr><tr><td>precision_SVM</td><td>0.38939</td></tr><tr><td>precision_XGB</td><td>0.39642</td></tr><tr><td>recall_LR</td><td>0.25995</td></tr><tr><td>recall_RF</td><td>0.32147</td></tr><tr><td>recall_SVM</td><td>0.14539</td></tr><tr><td>recall_XGB</td><td>0.19439</td></tr><tr><td>roc_auc_LR</td><td>0.66469</td></tr><tr><td>roc_auc_RF</td><td>0.68196</td></tr><tr><td>roc_auc_SVM</td><td>0.63197</td></tr><tr><td>roc_auc_XGB</td><td>0.66557</td></tr></table><br/></div></div>"
      ],
      "text/plain": [
       "<IPython.core.display.HTML object>"
      ]
     },
     "metadata": {},
     "output_type": "display_data"
    },
    {
     "data": {
      "text/html": [
       " View run <strong style=\"color:#cdcd00\">hopeful-sweep-8</strong> at: <a href='https://wandb.ai/ignacio-onate/cw-challenge-model-test/runs/i4hcq7tl' target=\"_blank\">https://wandb.ai/ignacio-onate/cw-challenge-model-test/runs/i4hcq7tl</a><br/>Synced 5 W&B file(s), 0 media file(s), 0 artifact file(s) and 0 other file(s)"
      ],
      "text/plain": [
       "<IPython.core.display.HTML object>"
      ]
     },
     "metadata": {},
     "output_type": "display_data"
    },
    {
     "data": {
      "text/html": [
       "Find logs at: <code>.\\wandb\\run-20230326_005248-i4hcq7tl\\logs</code>"
      ],
      "text/plain": [
       "<IPython.core.display.HTML object>"
      ]
     },
     "metadata": {},
     "output_type": "display_data"
    },
    {
     "name": "stderr",
     "output_type": "stream",
     "text": [
      "\u001b[34m\u001b[1mwandb\u001b[0m: Agent Starting Run: 7gmctfvl with config:\n",
      "\u001b[34m\u001b[1mwandb\u001b[0m: \tover_values: 0.5\n",
      "\u001b[34m\u001b[1mwandb\u001b[0m: \tunder_values: 0.5\n"
     ]
    },
    {
     "data": {
      "text/html": [
       "Tracking run with wandb version 0.14.0"
      ],
      "text/plain": [
       "<IPython.core.display.HTML object>"
      ]
     },
     "metadata": {},
     "output_type": "display_data"
    },
    {
     "data": {
      "text/html": [
       "Run data is saved locally in <code>C:\\Users\\JhonG\\Documents\\nw-challenge\\nw-challenge\\model\\wandb\\run-20230326_010315-7gmctfvl</code>"
      ],
      "text/plain": [
       "<IPython.core.display.HTML object>"
      ]
     },
     "metadata": {},
     "output_type": "display_data"
    },
    {
     "data": {
      "text/html": [
       "Syncing run <strong><a href='https://wandb.ai/ignacio-onate/cw-challenge-model-test/runs/7gmctfvl' target=\"_blank\">smart-sweep-9</a></strong> to <a href='https://wandb.ai/ignacio-onate/cw-challenge-model-test' target=\"_blank\">Weights & Biases</a> (<a href='https://wandb.me/run' target=\"_blank\">docs</a>)<br/>Sweep page: <a href='https://wandb.ai/ignacio-onate/cw-challenge-model-test/sweeps/aiz2vglq' target=\"_blank\">https://wandb.ai/ignacio-onate/cw-challenge-model-test/sweeps/aiz2vglq</a>"
      ],
      "text/plain": [
       "<IPython.core.display.HTML object>"
      ]
     },
     "metadata": {},
     "output_type": "display_data"
    },
    {
     "data": {
      "text/html": [
       " View project at <a href='https://wandb.ai/ignacio-onate/cw-challenge-model-test' target=\"_blank\">https://wandb.ai/ignacio-onate/cw-challenge-model-test</a>"
      ],
      "text/plain": [
       "<IPython.core.display.HTML object>"
      ]
     },
     "metadata": {},
     "output_type": "display_data"
    },
    {
     "data": {
      "text/html": [
       " View sweep at <a href='https://wandb.ai/ignacio-onate/cw-challenge-model-test/sweeps/aiz2vglq' target=\"_blank\">https://wandb.ai/ignacio-onate/cw-challenge-model-test/sweeps/aiz2vglq</a>"
      ],
      "text/plain": [
       "<IPython.core.display.HTML object>"
      ]
     },
     "metadata": {},
     "output_type": "display_data"
    },
    {
     "data": {
      "text/html": [
       " View run at <a href='https://wandb.ai/ignacio-onate/cw-challenge-model-test/runs/7gmctfvl' target=\"_blank\">https://wandb.ai/ignacio-onate/cw-challenge-model-test/runs/7gmctfvl</a>"
      ],
      "text/plain": [
       "<IPython.core.display.HTML object>"
      ]
     },
     "metadata": {},
     "output_type": "display_data"
    },
    {
     "name": "stdout",
     "output_type": "stream",
     "text": [
      "Modelo:  SVM\n",
      "Modelo:  XGB\n",
      "Modelo:  RF\n",
      "Modelo:  LR\n"
     ]
    },
    {
     "data": {
      "text/html": [
       "Waiting for W&B process to finish... <strong style=\"color:green\">(success).</strong>"
      ],
      "text/plain": [
       "<IPython.core.display.HTML object>"
      ]
     },
     "metadata": {},
     "output_type": "display_data"
    },
    {
     "data": {
      "text/html": [
       "<style>\n",
       "    table.wandb td:nth-child(1) { padding: 0 10px; text-align: left ; width: auto;} td:nth-child(2) {text-align: left ; width: 100%}\n",
       "    .wandb-row { display: flex; flex-direction: row; flex-wrap: wrap; justify-content: flex-start; width: 100% }\n",
       "    .wandb-col { display: flex; flex-direction: column; flex-basis: 100%; flex: 1; padding: 10px; }\n",
       "    </style>\n",
       "<div class=\"wandb-row\"><div class=\"wandb-col\"><h3>Run history:</h3><br/><table class=\"wandb\"><tr><td>accuracy_LR</td><td>▁</td></tr><tr><td>accuracy_RF</td><td>▁</td></tr><tr><td>accuracy_SVM</td><td>▁</td></tr><tr><td>accuracy_XGB</td><td>▁</td></tr><tr><td>f1_LR</td><td>▁</td></tr><tr><td>f1_RF</td><td>▁</td></tr><tr><td>f1_SVM</td><td>▁</td></tr><tr><td>f1_XGB</td><td>▁</td></tr><tr><td>precision_LR</td><td>▁</td></tr><tr><td>precision_RF</td><td>▁</td></tr><tr><td>precision_SVM</td><td>▁</td></tr><tr><td>precision_XGB</td><td>▁</td></tr><tr><td>recall_LR</td><td>▁</td></tr><tr><td>recall_RF</td><td>▁</td></tr><tr><td>recall_SVM</td><td>▁</td></tr><tr><td>recall_XGB</td><td>▁</td></tr><tr><td>roc_auc_LR</td><td>▁</td></tr><tr><td>roc_auc_RF</td><td>▁</td></tr><tr><td>roc_auc_SVM</td><td>▁</td></tr><tr><td>roc_auc_XGB</td><td>▁</td></tr></table><br/></div><div class=\"wandb-col\"><h3>Run summary:</h3><br/><table class=\"wandb\"><tr><td>accuracy_LR</td><td>0.79436</td></tr><tr><td>accuracy_RF</td><td>0.79726</td></tr><tr><td>accuracy_SVM</td><td>0.80729</td></tr><tr><td>accuracy_XGB</td><td>0.80669</td></tr><tr><td>f1_LR</td><td>0.26595</td></tr><tr><td>f1_RF</td><td>0.28708</td></tr><tr><td>f1_SVM</td><td>0.16362</td></tr><tr><td>f1_XGB</td><td>0.21244</td></tr><tr><td>precision_LR</td><td>0.39198</td></tr><tr><td>precision_RF</td><td>0.41048</td></tr><tr><td>precision_SVM</td><td>0.41602</td></tr><tr><td>precision_XGB</td><td>0.43156</td></tr><tr><td>recall_LR</td><td>0.20144</td></tr><tr><td>recall_RF</td><td>0.22079</td></tr><tr><td>recall_SVM</td><td>0.10195</td></tr><tr><td>recall_XGB</td><td>0.14111</td></tr><tr><td>roc_auc_LR</td><td>0.66415</td></tr><tr><td>roc_auc_RF</td><td>0.68213</td></tr><tr><td>roc_auc_SVM</td><td>0.62308</td></tr><tr><td>roc_auc_XGB</td><td>0.66531</td></tr></table><br/></div></div>"
      ],
      "text/plain": [
       "<IPython.core.display.HTML object>"
      ]
     },
     "metadata": {},
     "output_type": "display_data"
    },
    {
     "data": {
      "text/html": [
       " View run <strong style=\"color:#cdcd00\">smart-sweep-9</strong> at: <a href='https://wandb.ai/ignacio-onate/cw-challenge-model-test/runs/7gmctfvl' target=\"_blank\">https://wandb.ai/ignacio-onate/cw-challenge-model-test/runs/7gmctfvl</a><br/>Synced 5 W&B file(s), 0 media file(s), 0 artifact file(s) and 0 other file(s)"
      ],
      "text/plain": [
       "<IPython.core.display.HTML object>"
      ]
     },
     "metadata": {},
     "output_type": "display_data"
    },
    {
     "data": {
      "text/html": [
       "Find logs at: <code>.\\wandb\\run-20230326_010315-7gmctfvl\\logs</code>"
      ],
      "text/plain": [
       "<IPython.core.display.HTML object>"
      ]
     },
     "metadata": {},
     "output_type": "display_data"
    },
    {
     "name": "stderr",
     "output_type": "stream",
     "text": [
      "\u001b[34m\u001b[1mwandb\u001b[0m: Sweep Agent: Waiting for job.\n",
      "\u001b[34m\u001b[1mwandb\u001b[0m: Sweep Agent: Exiting.\n"
     ]
    }
   ],
   "source": [
    "import wandb\n",
    "\n",
    "X = features\n",
    "y = label\n",
    "\n",
    "def train():\n",
    "    wandb.init()\n",
    "    for name, model in models.items():\n",
    "        # define pipeline\n",
    "        over = SMOTE(sampling_strategy=wandb.config.over_values)\n",
    "        under = RandomUnderSampler(sampling_strategy=wandb.config.under_values)\n",
    "        steps = [('over', over), ('under', under), ('model', model)]\n",
    "        pipeline = Pipeline(steps=steps)\n",
    "        # evaluate pipeline\n",
    "        scores = cross_validate(pipeline, X, y, scoring=['accuracy','f1','precision','recall','roc_auc'], cv=5, n_jobs=-1)\n",
    "        #score = mean(scores)\n",
    "            \n",
    "        wandb.log({\n",
    "            'accuracy_'+name: mean(scores['test_accuracy']),\n",
    "            'f1_'+name : mean(scores['test_f1']),\n",
    "            'precision_'+name : mean(scores['test_precision']),\n",
    "            'recall_'+name : mean(scores['test_recall']),\n",
    "            'roc_auc_'+name : mean(scores['test_roc_auc'])\n",
    "        })\n",
    "        print(\"Modelo: \", name)\n",
    "        #print(scores)\n",
    "wandb.agent(sweep_id, function = train)"
   ]
  },
  {
   "cell_type": "code",
   "execution_count": 12,
   "id": "77f91140",
   "metadata": {},
   "outputs": [
    {
     "name": "stdout",
     "output_type": "stream",
     "text": [
      "Create sweep with ID: x56k4uit\n",
      "Sweep URL: https://wandb.ai/ignacio-onate/cw-challenge-model-test-important-features/sweeps/x56k4uit\n"
     ]
    }
   ],
   "source": [
    "sweep_configuration2 = {\n",
    "    'method': 'grid',\n",
    "    'name': 'sweep',\n",
    "    'metric': {'goal': 'maximize', 'name': 'precision'},\n",
    "    'parameters': \n",
    "    {\n",
    "        'over_values': {'values': [0.3, 0.4, 0.5]},\n",
    "        'under_values': {'values': [0.7, 0.6, 0.5]}\n",
    "     }\n",
    "}\n",
    "sweep_id2 = wandb.sweep(sweep=sweep_configuration2, project='cw-challenge-model-test-important-features')"
   ]
  },
  {
   "cell_type": "code",
   "execution_count": 13,
   "id": "5f51647d",
   "metadata": {},
   "outputs": [
    {
     "name": "stderr",
     "output_type": "stream",
     "text": [
      "\u001b[34m\u001b[1mwandb\u001b[0m: Agent Starting Run: 2v0u3eyv with config:\n",
      "\u001b[34m\u001b[1mwandb\u001b[0m: \tover_values: 0.3\n",
      "\u001b[34m\u001b[1mwandb\u001b[0m: \tunder_values: 0.7\n",
      "\u001b[34m\u001b[1mwandb\u001b[0m: Currently logged in as: \u001b[33mignacio-onate\u001b[0m. Use \u001b[1m`wandb login --relogin`\u001b[0m to force relogin\n"
     ]
    },
    {
     "data": {
      "text/html": [
       "Tracking run with wandb version 0.14.0"
      ],
      "text/plain": [
       "<IPython.core.display.HTML object>"
      ]
     },
     "metadata": {},
     "output_type": "display_data"
    },
    {
     "data": {
      "text/html": [
       "Run data is saved locally in <code>C:\\Users\\JhonG\\Documents\\nw-challenge\\nw-challenge\\model\\wandb\\run-20230325_233044-2v0u3eyv</code>"
      ],
      "text/plain": [
       "<IPython.core.display.HTML object>"
      ]
     },
     "metadata": {},
     "output_type": "display_data"
    },
    {
     "data": {
      "text/html": [
       "Syncing run <strong><a href='https://wandb.ai/ignacio-onate/cw-challenge-model-test-important-features/runs/2v0u3eyv' target=\"_blank\">fearless-sweep-1</a></strong> to <a href='https://wandb.ai/ignacio-onate/cw-challenge-model-test-important-features' target=\"_blank\">Weights & Biases</a> (<a href='https://wandb.me/run' target=\"_blank\">docs</a>)<br/>Sweep page: <a href='https://wandb.ai/ignacio-onate/cw-challenge-model-test-important-features/sweeps/x56k4uit' target=\"_blank\">https://wandb.ai/ignacio-onate/cw-challenge-model-test-important-features/sweeps/x56k4uit</a>"
      ],
      "text/plain": [
       "<IPython.core.display.HTML object>"
      ]
     },
     "metadata": {},
     "output_type": "display_data"
    },
    {
     "data": {
      "text/html": [
       " View project at <a href='https://wandb.ai/ignacio-onate/cw-challenge-model-test-important-features' target=\"_blank\">https://wandb.ai/ignacio-onate/cw-challenge-model-test-important-features</a>"
      ],
      "text/plain": [
       "<IPython.core.display.HTML object>"
      ]
     },
     "metadata": {},
     "output_type": "display_data"
    },
    {
     "data": {
      "text/html": [
       " View sweep at <a href='https://wandb.ai/ignacio-onate/cw-challenge-model-test-important-features/sweeps/x56k4uit' target=\"_blank\">https://wandb.ai/ignacio-onate/cw-challenge-model-test-important-features/sweeps/x56k4uit</a>"
      ],
      "text/plain": [
       "<IPython.core.display.HTML object>"
      ]
     },
     "metadata": {},
     "output_type": "display_data"
    },
    {
     "data": {
      "text/html": [
       " View run at <a href='https://wandb.ai/ignacio-onate/cw-challenge-model-test-important-features/runs/2v0u3eyv' target=\"_blank\">https://wandb.ai/ignacio-onate/cw-challenge-model-test-important-features/runs/2v0u3eyv</a>"
      ],
      "text/plain": [
       "<IPython.core.display.HTML object>"
      ]
     },
     "metadata": {},
     "output_type": "display_data"
    },
    {
     "name": "stdout",
     "output_type": "stream",
     "text": [
      "Modelo:  SVM\n",
      "Modelo:  XGB\n",
      "Modelo:  RF\n",
      "Modelo:  LR\n"
     ]
    },
    {
     "data": {
      "text/html": [
       "Waiting for W&B process to finish... <strong style=\"color:green\">(success).</strong>"
      ],
      "text/plain": [
       "<IPython.core.display.HTML object>"
      ]
     },
     "metadata": {},
     "output_type": "display_data"
    },
    {
     "data": {
      "text/html": [
       "<style>\n",
       "    table.wandb td:nth-child(1) { padding: 0 10px; text-align: left ; width: auto;} td:nth-child(2) {text-align: left ; width: 100%}\n",
       "    .wandb-row { display: flex; flex-direction: row; flex-wrap: wrap; justify-content: flex-start; width: 100% }\n",
       "    .wandb-col { display: flex; flex-direction: column; flex-basis: 100%; flex: 1; padding: 10px; }\n",
       "    </style>\n",
       "<div class=\"wandb-row\"><div class=\"wandb-col\"><h3>Run history:</h3><br/><table class=\"wandb\"><tr><td>accuracy_LR</td><td>▁</td></tr><tr><td>accuracy_RF</td><td>▁</td></tr><tr><td>accuracy_SVM</td><td>▁</td></tr><tr><td>accuracy_XGB</td><td>▁</td></tr><tr><td>f1_LR</td><td>▁</td></tr><tr><td>f1_RF</td><td>▁</td></tr><tr><td>f1_SVM</td><td>▁</td></tr><tr><td>f1_XGB</td><td>▁</td></tr><tr><td>precision_LR</td><td>▁</td></tr><tr><td>precision_RF</td><td>▁</td></tr><tr><td>precision_SVM</td><td>▁</td></tr><tr><td>precision_XGB</td><td>▁</td></tr><tr><td>recall_LR</td><td>▁</td></tr><tr><td>recall_RF</td><td>▁</td></tr><tr><td>recall_SVM</td><td>▁</td></tr><tr><td>recall_XGB</td><td>▁</td></tr><tr><td>roc_auc_LR</td><td>▁</td></tr><tr><td>roc_auc_RF</td><td>▁</td></tr><tr><td>roc_auc_SVM</td><td>▁</td></tr><tr><td>roc_auc_XGB</td><td>▁</td></tr></table><br/></div><div class=\"wandb-col\"><h3>Run summary:</h3><br/><table class=\"wandb\"><tr><td>accuracy_LR</td><td>0.75877</td></tr><tr><td>accuracy_RF</td><td>0.7525</td></tr><tr><td>accuracy_SVM</td><td>0.75656</td></tr><tr><td>accuracy_XGB</td><td>0.76134</td></tr><tr><td>f1_LR</td><td>0.28072</td></tr><tr><td>f1_RF</td><td>0.31007</td></tr><tr><td>f1_SVM</td><td>0.30399</td></tr><tr><td>f1_XGB</td><td>0.29916</td></tr><tr><td>precision_LR</td><td>0.31351</td></tr><tr><td>precision_RF</td><td>0.3204</td></tr><tr><td>precision_SVM</td><td>0.32297</td></tr><tr><td>precision_XGB</td><td>0.3278</td></tr><tr><td>recall_LR</td><td>0.25543</td></tr><tr><td>recall_RF</td><td>0.30078</td></tr><tr><td>recall_SVM</td><td>0.28754</td></tr><tr><td>recall_XGB</td><td>0.27549</td></tr><tr><td>roc_auc_LR</td><td>0.63013</td></tr><tr><td>roc_auc_RF</td><td>0.64177</td></tr><tr><td>roc_auc_SVM</td><td>0.59284</td></tr><tr><td>roc_auc_XGB</td><td>0.63853</td></tr></table><br/></div></div>"
      ],
      "text/plain": [
       "<IPython.core.display.HTML object>"
      ]
     },
     "metadata": {},
     "output_type": "display_data"
    },
    {
     "data": {
      "text/html": [
       " View run <strong style=\"color:#cdcd00\">fearless-sweep-1</strong> at: <a href='https://wandb.ai/ignacio-onate/cw-challenge-model-test-important-features/runs/2v0u3eyv' target=\"_blank\">https://wandb.ai/ignacio-onate/cw-challenge-model-test-important-features/runs/2v0u3eyv</a><br/>Synced 5 W&B file(s), 0 media file(s), 0 artifact file(s) and 0 other file(s)"
      ],
      "text/plain": [
       "<IPython.core.display.HTML object>"
      ]
     },
     "metadata": {},
     "output_type": "display_data"
    },
    {
     "data": {
      "text/html": [
       "Find logs at: <code>.\\wandb\\run-20230325_233044-2v0u3eyv\\logs</code>"
      ],
      "text/plain": [
       "<IPython.core.display.HTML object>"
      ]
     },
     "metadata": {},
     "output_type": "display_data"
    },
    {
     "name": "stderr",
     "output_type": "stream",
     "text": [
      "\u001b[34m\u001b[1mwandb\u001b[0m: Agent Starting Run: 5kx86287 with config:\n",
      "\u001b[34m\u001b[1mwandb\u001b[0m: \tover_values: 0.3\n",
      "\u001b[34m\u001b[1mwandb\u001b[0m: \tunder_values: 0.6\n"
     ]
    },
    {
     "data": {
      "text/html": [
       "Tracking run with wandb version 0.14.0"
      ],
      "text/plain": [
       "<IPython.core.display.HTML object>"
      ]
     },
     "metadata": {},
     "output_type": "display_data"
    },
    {
     "data": {
      "text/html": [
       "Run data is saved locally in <code>C:\\Users\\JhonG\\Documents\\nw-challenge\\nw-challenge\\model\\wandb\\run-20230325_233223-5kx86287</code>"
      ],
      "text/plain": [
       "<IPython.core.display.HTML object>"
      ]
     },
     "metadata": {},
     "output_type": "display_data"
    },
    {
     "data": {
      "text/html": [
       "Syncing run <strong><a href='https://wandb.ai/ignacio-onate/cw-challenge-model-test-important-features/runs/5kx86287' target=\"_blank\">sage-sweep-2</a></strong> to <a href='https://wandb.ai/ignacio-onate/cw-challenge-model-test-important-features' target=\"_blank\">Weights & Biases</a> (<a href='https://wandb.me/run' target=\"_blank\">docs</a>)<br/>Sweep page: <a href='https://wandb.ai/ignacio-onate/cw-challenge-model-test-important-features/sweeps/x56k4uit' target=\"_blank\">https://wandb.ai/ignacio-onate/cw-challenge-model-test-important-features/sweeps/x56k4uit</a>"
      ],
      "text/plain": [
       "<IPython.core.display.HTML object>"
      ]
     },
     "metadata": {},
     "output_type": "display_data"
    },
    {
     "data": {
      "text/html": [
       " View project at <a href='https://wandb.ai/ignacio-onate/cw-challenge-model-test-important-features' target=\"_blank\">https://wandb.ai/ignacio-onate/cw-challenge-model-test-important-features</a>"
      ],
      "text/plain": [
       "<IPython.core.display.HTML object>"
      ]
     },
     "metadata": {},
     "output_type": "display_data"
    },
    {
     "data": {
      "text/html": [
       " View sweep at <a href='https://wandb.ai/ignacio-onate/cw-challenge-model-test-important-features/sweeps/x56k4uit' target=\"_blank\">https://wandb.ai/ignacio-onate/cw-challenge-model-test-important-features/sweeps/x56k4uit</a>"
      ],
      "text/plain": [
       "<IPython.core.display.HTML object>"
      ]
     },
     "metadata": {},
     "output_type": "display_data"
    },
    {
     "data": {
      "text/html": [
       " View run at <a href='https://wandb.ai/ignacio-onate/cw-challenge-model-test-important-features/runs/5kx86287' target=\"_blank\">https://wandb.ai/ignacio-onate/cw-challenge-model-test-important-features/runs/5kx86287</a>"
      ],
      "text/plain": [
       "<IPython.core.display.HTML object>"
      ]
     },
     "metadata": {},
     "output_type": "display_data"
    },
    {
     "name": "stdout",
     "output_type": "stream",
     "text": [
      "Modelo:  SVM\n",
      "Modelo:  XGB\n",
      "Modelo:  RF\n",
      "Modelo:  LR\n"
     ]
    },
    {
     "data": {
      "text/html": [
       "Waiting for W&B process to finish... <strong style=\"color:green\">(success).</strong>"
      ],
      "text/plain": [
       "<IPython.core.display.HTML object>"
      ]
     },
     "metadata": {},
     "output_type": "display_data"
    },
    {
     "data": {
      "text/html": [
       "<style>\n",
       "    table.wandb td:nth-child(1) { padding: 0 10px; text-align: left ; width: auto;} td:nth-child(2) {text-align: left ; width: 100%}\n",
       "    .wandb-row { display: flex; flex-direction: row; flex-wrap: wrap; justify-content: flex-start; width: 100% }\n",
       "    .wandb-col { display: flex; flex-direction: column; flex-basis: 100%; flex: 1; padding: 10px; }\n",
       "    </style>\n",
       "<div class=\"wandb-row\"><div class=\"wandb-col\"><h3>Run history:</h3><br/><table class=\"wandb\"><tr><td>accuracy_LR</td><td>▁</td></tr><tr><td>accuracy_RF</td><td>▁</td></tr><tr><td>accuracy_SVM</td><td>▁</td></tr><tr><td>accuracy_XGB</td><td>▁</td></tr><tr><td>f1_LR</td><td>▁</td></tr><tr><td>f1_RF</td><td>▁</td></tr><tr><td>f1_SVM</td><td>▁</td></tr><tr><td>f1_XGB</td><td>▁</td></tr><tr><td>precision_LR</td><td>▁</td></tr><tr><td>precision_RF</td><td>▁</td></tr><tr><td>precision_SVM</td><td>▁</td></tr><tr><td>precision_XGB</td><td>▁</td></tr><tr><td>recall_LR</td><td>▁</td></tr><tr><td>recall_RF</td><td>▁</td></tr><tr><td>recall_SVM</td><td>▁</td></tr><tr><td>recall_XGB</td><td>▁</td></tr><tr><td>roc_auc_LR</td><td>▁</td></tr><tr><td>roc_auc_RF</td><td>▁</td></tr><tr><td>roc_auc_SVM</td><td>▁</td></tr><tr><td>roc_auc_XGB</td><td>▁</td></tr></table><br/></div><div class=\"wandb-col\"><h3>Run summary:</h3><br/><table class=\"wandb\"><tr><td>accuracy_LR</td><td>0.7744</td></tr><tr><td>accuracy_RF</td><td>0.77662</td></tr><tr><td>accuracy_SVM</td><td>0.7765</td></tr><tr><td>accuracy_XGB</td><td>0.78565</td></tr><tr><td>f1_LR</td><td>0.26051</td></tr><tr><td>f1_RF</td><td>0.27135</td></tr><tr><td>f1_SVM</td><td>0.2725</td></tr><tr><td>f1_XGB</td><td>0.24074</td></tr><tr><td>precision_LR</td><td>0.3339</td></tr><tr><td>precision_RF</td><td>0.34451</td></tr><tr><td>precision_SVM</td><td>0.34316</td></tr><tr><td>precision_XGB</td><td>0.35585</td></tr><tr><td>recall_LR</td><td>0.21587</td></tr><tr><td>recall_RF</td><td>0.22681</td></tr><tr><td>recall_SVM</td><td>0.22713</td></tr><tr><td>recall_XGB</td><td>0.18709</td></tr><tr><td>roc_auc_LR</td><td>0.6275</td></tr><tr><td>roc_auc_RF</td><td>0.64171</td></tr><tr><td>roc_auc_SVM</td><td>0.56923</td></tr><tr><td>roc_auc_XGB</td><td>0.63842</td></tr></table><br/></div></div>"
      ],
      "text/plain": [
       "<IPython.core.display.HTML object>"
      ]
     },
     "metadata": {},
     "output_type": "display_data"
    },
    {
     "data": {
      "text/html": [
       " View run <strong style=\"color:#cdcd00\">sage-sweep-2</strong> at: <a href='https://wandb.ai/ignacio-onate/cw-challenge-model-test-important-features/runs/5kx86287' target=\"_blank\">https://wandb.ai/ignacio-onate/cw-challenge-model-test-important-features/runs/5kx86287</a><br/>Synced 5 W&B file(s), 0 media file(s), 0 artifact file(s) and 0 other file(s)"
      ],
      "text/plain": [
       "<IPython.core.display.HTML object>"
      ]
     },
     "metadata": {},
     "output_type": "display_data"
    },
    {
     "data": {
      "text/html": [
       "Find logs at: <code>.\\wandb\\run-20230325_233223-5kx86287\\logs</code>"
      ],
      "text/plain": [
       "<IPython.core.display.HTML object>"
      ]
     },
     "metadata": {},
     "output_type": "display_data"
    },
    {
     "name": "stderr",
     "output_type": "stream",
     "text": [
      "\u001b[34m\u001b[1mwandb\u001b[0m: Agent Starting Run: fl60oewt with config:\n",
      "\u001b[34m\u001b[1mwandb\u001b[0m: \tover_values: 0.3\n",
      "\u001b[34m\u001b[1mwandb\u001b[0m: \tunder_values: 0.5\n"
     ]
    },
    {
     "data": {
      "text/html": [
       "Tracking run with wandb version 0.14.0"
      ],
      "text/plain": [
       "<IPython.core.display.HTML object>"
      ]
     },
     "metadata": {},
     "output_type": "display_data"
    },
    {
     "data": {
      "text/html": [
       "Run data is saved locally in <code>C:\\Users\\JhonG\\Documents\\nw-challenge\\nw-challenge\\model\\wandb\\run-20230325_233403-fl60oewt</code>"
      ],
      "text/plain": [
       "<IPython.core.display.HTML object>"
      ]
     },
     "metadata": {},
     "output_type": "display_data"
    },
    {
     "data": {
      "text/html": [
       "Syncing run <strong><a href='https://wandb.ai/ignacio-onate/cw-challenge-model-test-important-features/runs/fl60oewt' target=\"_blank\">earnest-sweep-3</a></strong> to <a href='https://wandb.ai/ignacio-onate/cw-challenge-model-test-important-features' target=\"_blank\">Weights & Biases</a> (<a href='https://wandb.me/run' target=\"_blank\">docs</a>)<br/>Sweep page: <a href='https://wandb.ai/ignacio-onate/cw-challenge-model-test-important-features/sweeps/x56k4uit' target=\"_blank\">https://wandb.ai/ignacio-onate/cw-challenge-model-test-important-features/sweeps/x56k4uit</a>"
      ],
      "text/plain": [
       "<IPython.core.display.HTML object>"
      ]
     },
     "metadata": {},
     "output_type": "display_data"
    },
    {
     "data": {
      "text/html": [
       " View project at <a href='https://wandb.ai/ignacio-onate/cw-challenge-model-test-important-features' target=\"_blank\">https://wandb.ai/ignacio-onate/cw-challenge-model-test-important-features</a>"
      ],
      "text/plain": [
       "<IPython.core.display.HTML object>"
      ]
     },
     "metadata": {},
     "output_type": "display_data"
    },
    {
     "data": {
      "text/html": [
       " View sweep at <a href='https://wandb.ai/ignacio-onate/cw-challenge-model-test-important-features/sweeps/x56k4uit' target=\"_blank\">https://wandb.ai/ignacio-onate/cw-challenge-model-test-important-features/sweeps/x56k4uit</a>"
      ],
      "text/plain": [
       "<IPython.core.display.HTML object>"
      ]
     },
     "metadata": {},
     "output_type": "display_data"
    },
    {
     "data": {
      "text/html": [
       " View run at <a href='https://wandb.ai/ignacio-onate/cw-challenge-model-test-important-features/runs/fl60oewt' target=\"_blank\">https://wandb.ai/ignacio-onate/cw-challenge-model-test-important-features/runs/fl60oewt</a>"
      ],
      "text/plain": [
       "<IPython.core.display.HTML object>"
      ]
     },
     "metadata": {},
     "output_type": "display_data"
    },
    {
     "name": "stdout",
     "output_type": "stream",
     "text": [
      "Modelo:  SVM\n",
      "Modelo:  XGB\n",
      "Modelo:  RF\n",
      "Modelo:  LR\n"
     ]
    },
    {
     "data": {
      "text/html": [
       "Waiting for W&B process to finish... <strong style=\"color:green\">(success).</strong>"
      ],
      "text/plain": [
       "<IPython.core.display.HTML object>"
      ]
     },
     "metadata": {},
     "output_type": "display_data"
    },
    {
     "data": {
      "text/html": [
       "<style>\n",
       "    table.wandb td:nth-child(1) { padding: 0 10px; text-align: left ; width: auto;} td:nth-child(2) {text-align: left ; width: 100%}\n",
       "    .wandb-row { display: flex; flex-direction: row; flex-wrap: wrap; justify-content: flex-start; width: 100% }\n",
       "    .wandb-col { display: flex; flex-direction: column; flex-basis: 100%; flex: 1; padding: 10px; }\n",
       "    </style>\n",
       "<div class=\"wandb-row\"><div class=\"wandb-col\"><h3>Run history:</h3><br/><table class=\"wandb\"><tr><td>accuracy_LR</td><td>▁</td></tr><tr><td>accuracy_RF</td><td>▁</td></tr><tr><td>accuracy_SVM</td><td>▁</td></tr><tr><td>accuracy_XGB</td><td>▁</td></tr><tr><td>f1_LR</td><td>▁</td></tr><tr><td>f1_RF</td><td>▁</td></tr><tr><td>f1_SVM</td><td>▁</td></tr><tr><td>f1_XGB</td><td>▁</td></tr><tr><td>precision_LR</td><td>▁</td></tr><tr><td>precision_RF</td><td>▁</td></tr><tr><td>precision_SVM</td><td>▁</td></tr><tr><td>precision_XGB</td><td>▁</td></tr><tr><td>recall_LR</td><td>▁</td></tr><tr><td>recall_RF</td><td>▁</td></tr><tr><td>recall_SVM</td><td>▁</td></tr><tr><td>recall_XGB</td><td>▁</td></tr><tr><td>roc_auc_LR</td><td>▁</td></tr><tr><td>roc_auc_RF</td><td>▁</td></tr><tr><td>roc_auc_SVM</td><td>▁</td></tr><tr><td>roc_auc_XGB</td><td>▁</td></tr></table><br/></div><div class=\"wandb-col\"><h3>Run summary:</h3><br/><table class=\"wandb\"><tr><td>accuracy_LR</td><td>0.79676</td></tr><tr><td>accuracy_RF</td><td>0.79648</td></tr><tr><td>accuracy_SVM</td><td>0.79942</td></tr><tr><td>accuracy_XGB</td><td>0.7965</td></tr><tr><td>f1_LR</td><td>0.20936</td></tr><tr><td>f1_RF</td><td>0.21568</td></tr><tr><td>f1_SVM</td><td>0.19877</td></tr><tr><td>f1_XGB</td><td>0.21693</td></tr><tr><td>precision_LR</td><td>0.37506</td></tr><tr><td>precision_RF</td><td>0.37765</td></tr><tr><td>precision_SVM</td><td>0.38355</td></tr><tr><td>precision_XGB</td><td>0.3766</td></tr><tr><td>recall_LR</td><td>0.14611</td></tr><tr><td>recall_RF</td><td>0.1515</td></tr><tr><td>recall_SVM</td><td>0.13525</td></tr><tr><td>recall_XGB</td><td>0.15245</td></tr><tr><td>roc_auc_LR</td><td>0.63155</td></tr><tr><td>roc_auc_RF</td><td>0.64188</td></tr><tr><td>roc_auc_SVM</td><td>0.55729</td></tr><tr><td>roc_auc_XGB</td><td>0.63806</td></tr></table><br/></div></div>"
      ],
      "text/plain": [
       "<IPython.core.display.HTML object>"
      ]
     },
     "metadata": {},
     "output_type": "display_data"
    },
    {
     "data": {
      "text/html": [
       " View run <strong style=\"color:#cdcd00\">earnest-sweep-3</strong> at: <a href='https://wandb.ai/ignacio-onate/cw-challenge-model-test-important-features/runs/fl60oewt' target=\"_blank\">https://wandb.ai/ignacio-onate/cw-challenge-model-test-important-features/runs/fl60oewt</a><br/>Synced 5 W&B file(s), 0 media file(s), 0 artifact file(s) and 0 other file(s)"
      ],
      "text/plain": [
       "<IPython.core.display.HTML object>"
      ]
     },
     "metadata": {},
     "output_type": "display_data"
    },
    {
     "data": {
      "text/html": [
       "Find logs at: <code>.\\wandb\\run-20230325_233403-fl60oewt\\logs</code>"
      ],
      "text/plain": [
       "<IPython.core.display.HTML object>"
      ]
     },
     "metadata": {},
     "output_type": "display_data"
    },
    {
     "name": "stderr",
     "output_type": "stream",
     "text": [
      "\u001b[34m\u001b[1mwandb\u001b[0m: Agent Starting Run: le6ops9n with config:\n",
      "\u001b[34m\u001b[1mwandb\u001b[0m: \tover_values: 0.4\n",
      "\u001b[34m\u001b[1mwandb\u001b[0m: \tunder_values: 0.7\n"
     ]
    },
    {
     "data": {
      "text/html": [
       "Tracking run with wandb version 0.14.0"
      ],
      "text/plain": [
       "<IPython.core.display.HTML object>"
      ]
     },
     "metadata": {},
     "output_type": "display_data"
    },
    {
     "data": {
      "text/html": [
       "Run data is saved locally in <code>C:\\Users\\JhonG\\Documents\\nw-challenge\\nw-challenge\\model\\wandb\\run-20230325_233553-le6ops9n</code>"
      ],
      "text/plain": [
       "<IPython.core.display.HTML object>"
      ]
     },
     "metadata": {},
     "output_type": "display_data"
    },
    {
     "data": {
      "text/html": [
       "Syncing run <strong><a href='https://wandb.ai/ignacio-onate/cw-challenge-model-test-important-features/runs/le6ops9n' target=\"_blank\">radiant-sweep-4</a></strong> to <a href='https://wandb.ai/ignacio-onate/cw-challenge-model-test-important-features' target=\"_blank\">Weights & Biases</a> (<a href='https://wandb.me/run' target=\"_blank\">docs</a>)<br/>Sweep page: <a href='https://wandb.ai/ignacio-onate/cw-challenge-model-test-important-features/sweeps/x56k4uit' target=\"_blank\">https://wandb.ai/ignacio-onate/cw-challenge-model-test-important-features/sweeps/x56k4uit</a>"
      ],
      "text/plain": [
       "<IPython.core.display.HTML object>"
      ]
     },
     "metadata": {},
     "output_type": "display_data"
    },
    {
     "data": {
      "text/html": [
       " View project at <a href='https://wandb.ai/ignacio-onate/cw-challenge-model-test-important-features' target=\"_blank\">https://wandb.ai/ignacio-onate/cw-challenge-model-test-important-features</a>"
      ],
      "text/plain": [
       "<IPython.core.display.HTML object>"
      ]
     },
     "metadata": {},
     "output_type": "display_data"
    },
    {
     "data": {
      "text/html": [
       " View sweep at <a href='https://wandb.ai/ignacio-onate/cw-challenge-model-test-important-features/sweeps/x56k4uit' target=\"_blank\">https://wandb.ai/ignacio-onate/cw-challenge-model-test-important-features/sweeps/x56k4uit</a>"
      ],
      "text/plain": [
       "<IPython.core.display.HTML object>"
      ]
     },
     "metadata": {},
     "output_type": "display_data"
    },
    {
     "data": {
      "text/html": [
       " View run at <a href='https://wandb.ai/ignacio-onate/cw-challenge-model-test-important-features/runs/le6ops9n' target=\"_blank\">https://wandb.ai/ignacio-onate/cw-challenge-model-test-important-features/runs/le6ops9n</a>"
      ],
      "text/plain": [
       "<IPython.core.display.HTML object>"
      ]
     },
     "metadata": {},
     "output_type": "display_data"
    },
    {
     "name": "stdout",
     "output_type": "stream",
     "text": [
      "Modelo:  SVM\n",
      "Modelo:  XGB\n",
      "Modelo:  RF\n",
      "Modelo:  LR\n"
     ]
    },
    {
     "data": {
      "text/html": [
       "Waiting for W&B process to finish... <strong style=\"color:green\">(success).</strong>"
      ],
      "text/plain": [
       "<IPython.core.display.HTML object>"
      ]
     },
     "metadata": {},
     "output_type": "display_data"
    },
    {
     "data": {
      "text/html": [
       "<style>\n",
       "    table.wandb td:nth-child(1) { padding: 0 10px; text-align: left ; width: auto;} td:nth-child(2) {text-align: left ; width: 100%}\n",
       "    .wandb-row { display: flex; flex-direction: row; flex-wrap: wrap; justify-content: flex-start; width: 100% }\n",
       "    .wandb-col { display: flex; flex-direction: column; flex-basis: 100%; flex: 1; padding: 10px; }\n",
       "    </style>\n",
       "<div class=\"wandb-row\"><div class=\"wandb-col\"><h3>Run history:</h3><br/><table class=\"wandb\"><tr><td>accuracy_LR</td><td>▁</td></tr><tr><td>accuracy_RF</td><td>▁</td></tr><tr><td>accuracy_SVM</td><td>▁</td></tr><tr><td>accuracy_XGB</td><td>▁</td></tr><tr><td>f1_LR</td><td>▁</td></tr><tr><td>f1_RF</td><td>▁</td></tr><tr><td>f1_SVM</td><td>▁</td></tr><tr><td>f1_XGB</td><td>▁</td></tr><tr><td>precision_LR</td><td>▁</td></tr><tr><td>precision_RF</td><td>▁</td></tr><tr><td>precision_SVM</td><td>▁</td></tr><tr><td>precision_XGB</td><td>▁</td></tr><tr><td>recall_LR</td><td>▁</td></tr><tr><td>recall_RF</td><td>▁</td></tr><tr><td>recall_SVM</td><td>▁</td></tr><tr><td>recall_XGB</td><td>▁</td></tr><tr><td>roc_auc_LR</td><td>▁</td></tr><tr><td>roc_auc_RF</td><td>▁</td></tr><tr><td>roc_auc_SVM</td><td>▁</td></tr><tr><td>roc_auc_XGB</td><td>▁</td></tr></table><br/></div><div class=\"wandb-col\"><h3>Run summary:</h3><br/><table class=\"wandb\"><tr><td>accuracy_LR</td><td>0.75806</td></tr><tr><td>accuracy_RF</td><td>0.75411</td></tr><tr><td>accuracy_SVM</td><td>0.7549</td></tr><tr><td>accuracy_XGB</td><td>0.7624</td></tr><tr><td>f1_LR</td><td>0.27804</td></tr><tr><td>f1_RF</td><td>0.30948</td></tr><tr><td>f1_SVM</td><td>0.30781</td></tr><tr><td>f1_XGB</td><td>0.29842</td></tr><tr><td>precision_LR</td><td>0.31054</td></tr><tr><td>precision_RF</td><td>0.3221</td></tr><tr><td>precision_SVM</td><td>0.32232</td></tr><tr><td>precision_XGB</td><td>0.32891</td></tr><tr><td>recall_LR</td><td>0.2525</td></tr><tr><td>recall_RF</td><td>0.29792</td></tr><tr><td>recall_SVM</td><td>0.29491</td></tr><tr><td>recall_XGB</td><td>0.27327</td></tr><tr><td>roc_auc_LR</td><td>0.62591</td></tr><tr><td>roc_auc_RF</td><td>0.64174</td></tr><tr><td>roc_auc_SVM</td><td>0.60343</td></tr><tr><td>roc_auc_XGB</td><td>0.63824</td></tr></table><br/></div></div>"
      ],
      "text/plain": [
       "<IPython.core.display.HTML object>"
      ]
     },
     "metadata": {},
     "output_type": "display_data"
    },
    {
     "data": {
      "text/html": [
       " View run <strong style=\"color:#cdcd00\">radiant-sweep-4</strong> at: <a href='https://wandb.ai/ignacio-onate/cw-challenge-model-test-important-features/runs/le6ops9n' target=\"_blank\">https://wandb.ai/ignacio-onate/cw-challenge-model-test-important-features/runs/le6ops9n</a><br/>Synced 5 W&B file(s), 0 media file(s), 0 artifact file(s) and 0 other file(s)"
      ],
      "text/plain": [
       "<IPython.core.display.HTML object>"
      ]
     },
     "metadata": {},
     "output_type": "display_data"
    },
    {
     "data": {
      "text/html": [
       "Find logs at: <code>.\\wandb\\run-20230325_233553-le6ops9n\\logs</code>"
      ],
      "text/plain": [
       "<IPython.core.display.HTML object>"
      ]
     },
     "metadata": {},
     "output_type": "display_data"
    },
    {
     "name": "stderr",
     "output_type": "stream",
     "text": [
      "\u001b[34m\u001b[1mwandb\u001b[0m: Agent Starting Run: lb9xf1da with config:\n",
      "\u001b[34m\u001b[1mwandb\u001b[0m: \tover_values: 0.4\n",
      "\u001b[34m\u001b[1mwandb\u001b[0m: \tunder_values: 0.6\n"
     ]
    },
    {
     "data": {
      "text/html": [
       "Tracking run with wandb version 0.14.0"
      ],
      "text/plain": [
       "<IPython.core.display.HTML object>"
      ]
     },
     "metadata": {},
     "output_type": "display_data"
    },
    {
     "data": {
      "text/html": [
       "Run data is saved locally in <code>C:\\Users\\JhonG\\Documents\\nw-challenge\\nw-challenge\\model\\wandb\\run-20230325_233818-lb9xf1da</code>"
      ],
      "text/plain": [
       "<IPython.core.display.HTML object>"
      ]
     },
     "metadata": {},
     "output_type": "display_data"
    },
    {
     "data": {
      "text/html": [
       "Syncing run <strong><a href='https://wandb.ai/ignacio-onate/cw-challenge-model-test-important-features/runs/lb9xf1da' target=\"_blank\">rosy-sweep-5</a></strong> to <a href='https://wandb.ai/ignacio-onate/cw-challenge-model-test-important-features' target=\"_blank\">Weights & Biases</a> (<a href='https://wandb.me/run' target=\"_blank\">docs</a>)<br/>Sweep page: <a href='https://wandb.ai/ignacio-onate/cw-challenge-model-test-important-features/sweeps/x56k4uit' target=\"_blank\">https://wandb.ai/ignacio-onate/cw-challenge-model-test-important-features/sweeps/x56k4uit</a>"
      ],
      "text/plain": [
       "<IPython.core.display.HTML object>"
      ]
     },
     "metadata": {},
     "output_type": "display_data"
    },
    {
     "data": {
      "text/html": [
       " View project at <a href='https://wandb.ai/ignacio-onate/cw-challenge-model-test-important-features' target=\"_blank\">https://wandb.ai/ignacio-onate/cw-challenge-model-test-important-features</a>"
      ],
      "text/plain": [
       "<IPython.core.display.HTML object>"
      ]
     },
     "metadata": {},
     "output_type": "display_data"
    },
    {
     "data": {
      "text/html": [
       " View sweep at <a href='https://wandb.ai/ignacio-onate/cw-challenge-model-test-important-features/sweeps/x56k4uit' target=\"_blank\">https://wandb.ai/ignacio-onate/cw-challenge-model-test-important-features/sweeps/x56k4uit</a>"
      ],
      "text/plain": [
       "<IPython.core.display.HTML object>"
      ]
     },
     "metadata": {},
     "output_type": "display_data"
    },
    {
     "data": {
      "text/html": [
       " View run at <a href='https://wandb.ai/ignacio-onate/cw-challenge-model-test-important-features/runs/lb9xf1da' target=\"_blank\">https://wandb.ai/ignacio-onate/cw-challenge-model-test-important-features/runs/lb9xf1da</a>"
      ],
      "text/plain": [
       "<IPython.core.display.HTML object>"
      ]
     },
     "metadata": {},
     "output_type": "display_data"
    },
    {
     "name": "stdout",
     "output_type": "stream",
     "text": [
      "Modelo:  SVM\n",
      "Modelo:  XGB\n",
      "Modelo:  RF\n",
      "Modelo:  LR\n"
     ]
    },
    {
     "data": {
      "text/html": [
       "Waiting for W&B process to finish... <strong style=\"color:green\">(success).</strong>"
      ],
      "text/plain": [
       "<IPython.core.display.HTML object>"
      ]
     },
     "metadata": {},
     "output_type": "display_data"
    },
    {
     "data": {
      "text/html": [
       "<style>\n",
       "    table.wandb td:nth-child(1) { padding: 0 10px; text-align: left ; width: auto;} td:nth-child(2) {text-align: left ; width: 100%}\n",
       "    .wandb-row { display: flex; flex-direction: row; flex-wrap: wrap; justify-content: flex-start; width: 100% }\n",
       "    .wandb-col { display: flex; flex-direction: column; flex-basis: 100%; flex: 1; padding: 10px; }\n",
       "    </style>\n",
       "<div class=\"wandb-row\"><div class=\"wandb-col\"><h3>Run history:</h3><br/><table class=\"wandb\"><tr><td>accuracy_LR</td><td>▁</td></tr><tr><td>accuracy_RF</td><td>▁</td></tr><tr><td>accuracy_SVM</td><td>▁</td></tr><tr><td>accuracy_XGB</td><td>▁</td></tr><tr><td>f1_LR</td><td>▁</td></tr><tr><td>f1_RF</td><td>▁</td></tr><tr><td>f1_SVM</td><td>▁</td></tr><tr><td>f1_XGB</td><td>▁</td></tr><tr><td>precision_LR</td><td>▁</td></tr><tr><td>precision_RF</td><td>▁</td></tr><tr><td>precision_SVM</td><td>▁</td></tr><tr><td>precision_XGB</td><td>▁</td></tr><tr><td>recall_LR</td><td>▁</td></tr><tr><td>recall_RF</td><td>▁</td></tr><tr><td>recall_SVM</td><td>▁</td></tr><tr><td>recall_XGB</td><td>▁</td></tr><tr><td>roc_auc_LR</td><td>▁</td></tr><tr><td>roc_auc_RF</td><td>▁</td></tr><tr><td>roc_auc_SVM</td><td>▁</td></tr><tr><td>roc_auc_XGB</td><td>▁</td></tr></table><br/></div><div class=\"wandb-col\"><h3>Run summary:</h3><br/><table class=\"wandb\"><tr><td>accuracy_LR</td><td>0.78179</td></tr><tr><td>accuracy_RF</td><td>0.77215</td></tr><tr><td>accuracy_SVM</td><td>0.7781</td></tr><tr><td>accuracy_XGB</td><td>0.78292</td></tr><tr><td>f1_LR</td><td>0.25024</td></tr><tr><td>f1_RF</td><td>0.27783</td></tr><tr><td>f1_SVM</td><td>0.26114</td></tr><tr><td>f1_XGB</td><td>0.24744</td></tr><tr><td>precision_LR</td><td>0.3433</td></tr><tr><td>precision_RF</td><td>0.33846</td></tr><tr><td>precision_SVM</td><td>0.34372</td></tr><tr><td>precision_XGB</td><td>0.34921</td></tr><tr><td>recall_LR</td><td>0.19692</td></tr><tr><td>recall_RF</td><td>0.23878</td></tr><tr><td>recall_SVM</td><td>0.21444</td></tr><tr><td>recall_XGB</td><td>0.19597</td></tr><tr><td>roc_auc_LR</td><td>0.6287</td></tr><tr><td>roc_auc_RF</td><td>0.64223</td></tr><tr><td>roc_auc_SVM</td><td>0.59554</td></tr><tr><td>roc_auc_XGB</td><td>0.63895</td></tr></table><br/></div></div>"
      ],
      "text/plain": [
       "<IPython.core.display.HTML object>"
      ]
     },
     "metadata": {},
     "output_type": "display_data"
    },
    {
     "data": {
      "text/html": [
       " View run <strong style=\"color:#cdcd00\">rosy-sweep-5</strong> at: <a href='https://wandb.ai/ignacio-onate/cw-challenge-model-test-important-features/runs/lb9xf1da' target=\"_blank\">https://wandb.ai/ignacio-onate/cw-challenge-model-test-important-features/runs/lb9xf1da</a><br/>Synced 5 W&B file(s), 0 media file(s), 0 artifact file(s) and 0 other file(s)"
      ],
      "text/plain": [
       "<IPython.core.display.HTML object>"
      ]
     },
     "metadata": {},
     "output_type": "display_data"
    },
    {
     "data": {
      "text/html": [
       "Find logs at: <code>.\\wandb\\run-20230325_233818-lb9xf1da\\logs</code>"
      ],
      "text/plain": [
       "<IPython.core.display.HTML object>"
      ]
     },
     "metadata": {},
     "output_type": "display_data"
    },
    {
     "name": "stderr",
     "output_type": "stream",
     "text": [
      "\u001b[34m\u001b[1mwandb\u001b[0m: Agent Starting Run: v9u8wdgl with config:\n",
      "\u001b[34m\u001b[1mwandb\u001b[0m: \tover_values: 0.4\n",
      "\u001b[34m\u001b[1mwandb\u001b[0m: \tunder_values: 0.5\n"
     ]
    },
    {
     "data": {
      "text/html": [
       "Tracking run with wandb version 0.14.0"
      ],
      "text/plain": [
       "<IPython.core.display.HTML object>"
      ]
     },
     "metadata": {},
     "output_type": "display_data"
    },
    {
     "data": {
      "text/html": [
       "Run data is saved locally in <code>C:\\Users\\JhonG\\Documents\\nw-challenge\\nw-challenge\\model\\wandb\\run-20230325_234055-v9u8wdgl</code>"
      ],
      "text/plain": [
       "<IPython.core.display.HTML object>"
      ]
     },
     "metadata": {},
     "output_type": "display_data"
    },
    {
     "data": {
      "text/html": [
       "Syncing run <strong><a href='https://wandb.ai/ignacio-onate/cw-challenge-model-test-important-features/runs/v9u8wdgl' target=\"_blank\">exalted-sweep-6</a></strong> to <a href='https://wandb.ai/ignacio-onate/cw-challenge-model-test-important-features' target=\"_blank\">Weights & Biases</a> (<a href='https://wandb.me/run' target=\"_blank\">docs</a>)<br/>Sweep page: <a href='https://wandb.ai/ignacio-onate/cw-challenge-model-test-important-features/sweeps/x56k4uit' target=\"_blank\">https://wandb.ai/ignacio-onate/cw-challenge-model-test-important-features/sweeps/x56k4uit</a>"
      ],
      "text/plain": [
       "<IPython.core.display.HTML object>"
      ]
     },
     "metadata": {},
     "output_type": "display_data"
    },
    {
     "data": {
      "text/html": [
       " View project at <a href='https://wandb.ai/ignacio-onate/cw-challenge-model-test-important-features' target=\"_blank\">https://wandb.ai/ignacio-onate/cw-challenge-model-test-important-features</a>"
      ],
      "text/plain": [
       "<IPython.core.display.HTML object>"
      ]
     },
     "metadata": {},
     "output_type": "display_data"
    },
    {
     "data": {
      "text/html": [
       " View sweep at <a href='https://wandb.ai/ignacio-onate/cw-challenge-model-test-important-features/sweeps/x56k4uit' target=\"_blank\">https://wandb.ai/ignacio-onate/cw-challenge-model-test-important-features/sweeps/x56k4uit</a>"
      ],
      "text/plain": [
       "<IPython.core.display.HTML object>"
      ]
     },
     "metadata": {},
     "output_type": "display_data"
    },
    {
     "data": {
      "text/html": [
       " View run at <a href='https://wandb.ai/ignacio-onate/cw-challenge-model-test-important-features/runs/v9u8wdgl' target=\"_blank\">https://wandb.ai/ignacio-onate/cw-challenge-model-test-important-features/runs/v9u8wdgl</a>"
      ],
      "text/plain": [
       "<IPython.core.display.HTML object>"
      ]
     },
     "metadata": {},
     "output_type": "display_data"
    },
    {
     "name": "stdout",
     "output_type": "stream",
     "text": [
      "Modelo:  SVM\n",
      "Modelo:  XGB\n",
      "Modelo:  RF\n",
      "Modelo:  LR\n"
     ]
    },
    {
     "data": {
      "text/html": [
       "Waiting for W&B process to finish... <strong style=\"color:green\">(success).</strong>"
      ],
      "text/plain": [
       "<IPython.core.display.HTML object>"
      ]
     },
     "metadata": {},
     "output_type": "display_data"
    },
    {
     "data": {
      "text/html": [
       "<style>\n",
       "    table.wandb td:nth-child(1) { padding: 0 10px; text-align: left ; width: auto;} td:nth-child(2) {text-align: left ; width: 100%}\n",
       "    .wandb-row { display: flex; flex-direction: row; flex-wrap: wrap; justify-content: flex-start; width: 100% }\n",
       "    .wandb-col { display: flex; flex-direction: column; flex-basis: 100%; flex: 1; padding: 10px; }\n",
       "    </style>\n",
       "<div class=\"wandb-row\"><div class=\"wandb-col\"><h3>Run history:</h3><br/><table class=\"wandb\"><tr><td>accuracy_LR</td><td>▁</td></tr><tr><td>accuracy_RF</td><td>▁</td></tr><tr><td>accuracy_SVM</td><td>▁</td></tr><tr><td>accuracy_XGB</td><td>▁</td></tr><tr><td>f1_LR</td><td>▁</td></tr><tr><td>f1_RF</td><td>▁</td></tr><tr><td>f1_SVM</td><td>▁</td></tr><tr><td>f1_XGB</td><td>▁</td></tr><tr><td>precision_LR</td><td>▁</td></tr><tr><td>precision_RF</td><td>▁</td></tr><tr><td>precision_SVM</td><td>▁</td></tr><tr><td>precision_XGB</td><td>▁</td></tr><tr><td>recall_LR</td><td>▁</td></tr><tr><td>recall_RF</td><td>▁</td></tr><tr><td>recall_SVM</td><td>▁</td></tr><tr><td>recall_XGB</td><td>▁</td></tr><tr><td>roc_auc_LR</td><td>▁</td></tr><tr><td>roc_auc_RF</td><td>▁</td></tr><tr><td>roc_auc_SVM</td><td>▁</td></tr><tr><td>roc_auc_XGB</td><td>▁</td></tr></table><br/></div><div class=\"wandb-col\"><h3>Run summary:</h3><br/><table class=\"wandb\"><tr><td>accuracy_LR</td><td>0.80046</td></tr><tr><td>accuracy_RF</td><td>0.79349</td></tr><tr><td>accuracy_SVM</td><td>0.79744</td></tr><tr><td>accuracy_XGB</td><td>0.7959</td></tr><tr><td>f1_LR</td><td>0.19669</td></tr><tr><td>f1_RF</td><td>0.22942</td></tr><tr><td>f1_SVM</td><td>0.20931</td></tr><tr><td>f1_XGB</td><td>0.22364</td></tr><tr><td>precision_LR</td><td>0.38483</td></tr><tr><td>precision_RF</td><td>0.37056</td></tr><tr><td>precision_SVM</td><td>0.37826</td></tr><tr><td>precision_XGB</td><td>0.37689</td></tr><tr><td>recall_LR</td><td>0.13215</td></tr><tr><td>recall_RF</td><td>0.16632</td></tr><tr><td>recall_SVM</td><td>0.14531</td></tr><tr><td>recall_XGB</td><td>0.15903</td></tr><tr><td>roc_auc_LR</td><td>0.62823</td></tr><tr><td>roc_auc_RF</td><td>0.64196</td></tr><tr><td>roc_auc_SVM</td><td>0.55945</td></tr><tr><td>roc_auc_XGB</td><td>0.63858</td></tr></table><br/></div></div>"
      ],
      "text/plain": [
       "<IPython.core.display.HTML object>"
      ]
     },
     "metadata": {},
     "output_type": "display_data"
    },
    {
     "data": {
      "text/html": [
       " View run <strong style=\"color:#cdcd00\">exalted-sweep-6</strong> at: <a href='https://wandb.ai/ignacio-onate/cw-challenge-model-test-important-features/runs/v9u8wdgl' target=\"_blank\">https://wandb.ai/ignacio-onate/cw-challenge-model-test-important-features/runs/v9u8wdgl</a><br/>Synced 5 W&B file(s), 0 media file(s), 0 artifact file(s) and 0 other file(s)"
      ],
      "text/plain": [
       "<IPython.core.display.HTML object>"
      ]
     },
     "metadata": {},
     "output_type": "display_data"
    },
    {
     "data": {
      "text/html": [
       "Find logs at: <code>.\\wandb\\run-20230325_234055-v9u8wdgl\\logs</code>"
      ],
      "text/plain": [
       "<IPython.core.display.HTML object>"
      ]
     },
     "metadata": {},
     "output_type": "display_data"
    },
    {
     "name": "stderr",
     "output_type": "stream",
     "text": [
      "\u001b[34m\u001b[1mwandb\u001b[0m: Agent Starting Run: 0xl589bu with config:\n",
      "\u001b[34m\u001b[1mwandb\u001b[0m: \tover_values: 0.5\n",
      "\u001b[34m\u001b[1mwandb\u001b[0m: \tunder_values: 0.7\n"
     ]
    },
    {
     "data": {
      "text/html": [
       "Tracking run with wandb version 0.14.0"
      ],
      "text/plain": [
       "<IPython.core.display.HTML object>"
      ]
     },
     "metadata": {},
     "output_type": "display_data"
    },
    {
     "data": {
      "text/html": [
       "Run data is saved locally in <code>C:\\Users\\JhonG\\Documents\\nw-challenge\\nw-challenge\\model\\wandb\\run-20230325_234351-0xl589bu</code>"
      ],
      "text/plain": [
       "<IPython.core.display.HTML object>"
      ]
     },
     "metadata": {},
     "output_type": "display_data"
    },
    {
     "data": {
      "text/html": [
       "Syncing run <strong><a href='https://wandb.ai/ignacio-onate/cw-challenge-model-test-important-features/runs/0xl589bu' target=\"_blank\">polar-sweep-7</a></strong> to <a href='https://wandb.ai/ignacio-onate/cw-challenge-model-test-important-features' target=\"_blank\">Weights & Biases</a> (<a href='https://wandb.me/run' target=\"_blank\">docs</a>)<br/>Sweep page: <a href='https://wandb.ai/ignacio-onate/cw-challenge-model-test-important-features/sweeps/x56k4uit' target=\"_blank\">https://wandb.ai/ignacio-onate/cw-challenge-model-test-important-features/sweeps/x56k4uit</a>"
      ],
      "text/plain": [
       "<IPython.core.display.HTML object>"
      ]
     },
     "metadata": {},
     "output_type": "display_data"
    },
    {
     "data": {
      "text/html": [
       " View project at <a href='https://wandb.ai/ignacio-onate/cw-challenge-model-test-important-features' target=\"_blank\">https://wandb.ai/ignacio-onate/cw-challenge-model-test-important-features</a>"
      ],
      "text/plain": [
       "<IPython.core.display.HTML object>"
      ]
     },
     "metadata": {},
     "output_type": "display_data"
    },
    {
     "data": {
      "text/html": [
       " View sweep at <a href='https://wandb.ai/ignacio-onate/cw-challenge-model-test-important-features/sweeps/x56k4uit' target=\"_blank\">https://wandb.ai/ignacio-onate/cw-challenge-model-test-important-features/sweeps/x56k4uit</a>"
      ],
      "text/plain": [
       "<IPython.core.display.HTML object>"
      ]
     },
     "metadata": {},
     "output_type": "display_data"
    },
    {
     "data": {
      "text/html": [
       " View run at <a href='https://wandb.ai/ignacio-onate/cw-challenge-model-test-important-features/runs/0xl589bu' target=\"_blank\">https://wandb.ai/ignacio-onate/cw-challenge-model-test-important-features/runs/0xl589bu</a>"
      ],
      "text/plain": [
       "<IPython.core.display.HTML object>"
      ]
     },
     "metadata": {},
     "output_type": "display_data"
    },
    {
     "name": "stdout",
     "output_type": "stream",
     "text": [
      "Modelo:  SVM\n",
      "Modelo:  XGB\n",
      "Modelo:  RF\n",
      "Modelo:  LR\n"
     ]
    },
    {
     "data": {
      "text/html": [
       "Waiting for W&B process to finish... <strong style=\"color:green\">(success).</strong>"
      ],
      "text/plain": [
       "<IPython.core.display.HTML object>"
      ]
     },
     "metadata": {},
     "output_type": "display_data"
    },
    {
     "data": {
      "text/html": [
       "<style>\n",
       "    table.wandb td:nth-child(1) { padding: 0 10px; text-align: left ; width: auto;} td:nth-child(2) {text-align: left ; width: 100%}\n",
       "    .wandb-row { display: flex; flex-direction: row; flex-wrap: wrap; justify-content: flex-start; width: 100% }\n",
       "    .wandb-col { display: flex; flex-direction: column; flex-basis: 100%; flex: 1; padding: 10px; }\n",
       "    </style>\n",
       "<div class=\"wandb-row\"><div class=\"wandb-col\"><h3>Run history:</h3><br/><table class=\"wandb\"><tr><td>accuracy_LR</td><td>▁</td></tr><tr><td>accuracy_RF</td><td>▁</td></tr><tr><td>accuracy_SVM</td><td>▁</td></tr><tr><td>accuracy_XGB</td><td>▁</td></tr><tr><td>f1_LR</td><td>▁</td></tr><tr><td>f1_RF</td><td>▁</td></tr><tr><td>f1_SVM</td><td>▁</td></tr><tr><td>f1_XGB</td><td>▁</td></tr><tr><td>precision_LR</td><td>▁</td></tr><tr><td>precision_RF</td><td>▁</td></tr><tr><td>precision_SVM</td><td>▁</td></tr><tr><td>precision_XGB</td><td>▁</td></tr><tr><td>recall_LR</td><td>▁</td></tr><tr><td>recall_RF</td><td>▁</td></tr><tr><td>recall_SVM</td><td>▁</td></tr><tr><td>recall_XGB</td><td>▁</td></tr><tr><td>roc_auc_LR</td><td>▁</td></tr><tr><td>roc_auc_RF</td><td>▁</td></tr><tr><td>roc_auc_SVM</td><td>▁</td></tr><tr><td>roc_auc_XGB</td><td>▁</td></tr></table><br/></div><div class=\"wandb-col\"><h3>Run summary:</h3><br/><table class=\"wandb\"><tr><td>accuracy_LR</td><td>0.76027</td></tr><tr><td>accuracy_RF</td><td>0.75495</td></tr><tr><td>accuracy_SVM</td><td>0.7564</td></tr><tr><td>accuracy_XGB</td><td>0.76701</td></tr><tr><td>f1_LR</td><td>0.27646</td></tr><tr><td>f1_RF</td><td>0.30849</td></tr><tr><td>f1_SVM</td><td>0.30282</td></tr><tr><td>f1_XGB</td><td>0.28758</td></tr><tr><td>precision_LR</td><td>0.3128</td></tr><tr><td>precision_RF</td><td>0.32277</td></tr><tr><td>precision_SVM</td><td>0.32233</td></tr><tr><td>precision_XGB</td><td>0.33213</td></tr><tr><td>recall_LR</td><td>0.24782</td></tr><tr><td>recall_RF</td><td>0.29562</td></tr><tr><td>recall_SVM</td><td>0.28651</td></tr><tr><td>recall_XGB</td><td>0.25527</td></tr><tr><td>roc_auc_LR</td><td>0.626</td></tr><tr><td>roc_auc_RF</td><td>0.64199</td></tr><tr><td>roc_auc_SVM</td><td>0.6075</td></tr><tr><td>roc_auc_XGB</td><td>0.63897</td></tr></table><br/></div></div>"
      ],
      "text/plain": [
       "<IPython.core.display.HTML object>"
      ]
     },
     "metadata": {},
     "output_type": "display_data"
    },
    {
     "data": {
      "text/html": [
       " View run <strong style=\"color:#cdcd00\">polar-sweep-7</strong> at: <a href='https://wandb.ai/ignacio-onate/cw-challenge-model-test-important-features/runs/0xl589bu' target=\"_blank\">https://wandb.ai/ignacio-onate/cw-challenge-model-test-important-features/runs/0xl589bu</a><br/>Synced 5 W&B file(s), 0 media file(s), 0 artifact file(s) and 0 other file(s)"
      ],
      "text/plain": [
       "<IPython.core.display.HTML object>"
      ]
     },
     "metadata": {},
     "output_type": "display_data"
    },
    {
     "data": {
      "text/html": [
       "Find logs at: <code>.\\wandb\\run-20230325_234351-0xl589bu\\logs</code>"
      ],
      "text/plain": [
       "<IPython.core.display.HTML object>"
      ]
     },
     "metadata": {},
     "output_type": "display_data"
    },
    {
     "name": "stderr",
     "output_type": "stream",
     "text": [
      "\u001b[34m\u001b[1mwandb\u001b[0m: Agent Starting Run: fko9sdxy with config:\n",
      "\u001b[34m\u001b[1mwandb\u001b[0m: \tover_values: 0.5\n",
      "\u001b[34m\u001b[1mwandb\u001b[0m: \tunder_values: 0.6\n"
     ]
    },
    {
     "data": {
      "text/html": [
       "Tracking run with wandb version 0.14.0"
      ],
      "text/plain": [
       "<IPython.core.display.HTML object>"
      ]
     },
     "metadata": {},
     "output_type": "display_data"
    },
    {
     "data": {
      "text/html": [
       "Run data is saved locally in <code>C:\\Users\\JhonG\\Documents\\nw-challenge\\nw-challenge\\model\\wandb\\run-20230325_234720-fko9sdxy</code>"
      ],
      "text/plain": [
       "<IPython.core.display.HTML object>"
      ]
     },
     "metadata": {},
     "output_type": "display_data"
    },
    {
     "data": {
      "text/html": [
       "Syncing run <strong><a href='https://wandb.ai/ignacio-onate/cw-challenge-model-test-important-features/runs/fko9sdxy' target=\"_blank\">lemon-sweep-8</a></strong> to <a href='https://wandb.ai/ignacio-onate/cw-challenge-model-test-important-features' target=\"_blank\">Weights & Biases</a> (<a href='https://wandb.me/run' target=\"_blank\">docs</a>)<br/>Sweep page: <a href='https://wandb.ai/ignacio-onate/cw-challenge-model-test-important-features/sweeps/x56k4uit' target=\"_blank\">https://wandb.ai/ignacio-onate/cw-challenge-model-test-important-features/sweeps/x56k4uit</a>"
      ],
      "text/plain": [
       "<IPython.core.display.HTML object>"
      ]
     },
     "metadata": {},
     "output_type": "display_data"
    },
    {
     "data": {
      "text/html": [
       " View project at <a href='https://wandb.ai/ignacio-onate/cw-challenge-model-test-important-features' target=\"_blank\">https://wandb.ai/ignacio-onate/cw-challenge-model-test-important-features</a>"
      ],
      "text/plain": [
       "<IPython.core.display.HTML object>"
      ]
     },
     "metadata": {},
     "output_type": "display_data"
    },
    {
     "data": {
      "text/html": [
       " View sweep at <a href='https://wandb.ai/ignacio-onate/cw-challenge-model-test-important-features/sweeps/x56k4uit' target=\"_blank\">https://wandb.ai/ignacio-onate/cw-challenge-model-test-important-features/sweeps/x56k4uit</a>"
      ],
      "text/plain": [
       "<IPython.core.display.HTML object>"
      ]
     },
     "metadata": {},
     "output_type": "display_data"
    },
    {
     "data": {
      "text/html": [
       " View run at <a href='https://wandb.ai/ignacio-onate/cw-challenge-model-test-important-features/runs/fko9sdxy' target=\"_blank\">https://wandb.ai/ignacio-onate/cw-challenge-model-test-important-features/runs/fko9sdxy</a>"
      ],
      "text/plain": [
       "<IPython.core.display.HTML object>"
      ]
     },
     "metadata": {},
     "output_type": "display_data"
    },
    {
     "name": "stdout",
     "output_type": "stream",
     "text": [
      "Modelo:  SVM\n",
      "Modelo:  XGB\n",
      "Modelo:  RF\n",
      "Modelo:  LR\n"
     ]
    },
    {
     "data": {
      "text/html": [
       "Waiting for W&B process to finish... <strong style=\"color:green\">(success).</strong>"
      ],
      "text/plain": [
       "<IPython.core.display.HTML object>"
      ]
     },
     "metadata": {},
     "output_type": "display_data"
    },
    {
     "data": {
      "text/html": [
       "<style>\n",
       "    table.wandb td:nth-child(1) { padding: 0 10px; text-align: left ; width: auto;} td:nth-child(2) {text-align: left ; width: 100%}\n",
       "    .wandb-row { display: flex; flex-direction: row; flex-wrap: wrap; justify-content: flex-start; width: 100% }\n",
       "    .wandb-col { display: flex; flex-direction: column; flex-basis: 100%; flex: 1; padding: 10px; }\n",
       "    </style>\n",
       "<div class=\"wandb-row\"><div class=\"wandb-col\"><h3>Run history:</h3><br/><table class=\"wandb\"><tr><td>accuracy_LR</td><td>▁</td></tr><tr><td>accuracy_RF</td><td>▁</td></tr><tr><td>accuracy_SVM</td><td>▁</td></tr><tr><td>accuracy_XGB</td><td>▁</td></tr><tr><td>f1_LR</td><td>▁</td></tr><tr><td>f1_RF</td><td>▁</td></tr><tr><td>f1_SVM</td><td>▁</td></tr><tr><td>f1_XGB</td><td>▁</td></tr><tr><td>precision_LR</td><td>▁</td></tr><tr><td>precision_RF</td><td>▁</td></tr><tr><td>precision_SVM</td><td>▁</td></tr><tr><td>precision_XGB</td><td>▁</td></tr><tr><td>recall_LR</td><td>▁</td></tr><tr><td>recall_RF</td><td>▁</td></tr><tr><td>recall_SVM</td><td>▁</td></tr><tr><td>recall_XGB</td><td>▁</td></tr><tr><td>roc_auc_LR</td><td>▁</td></tr><tr><td>roc_auc_RF</td><td>▁</td></tr><tr><td>roc_auc_SVM</td><td>▁</td></tr><tr><td>roc_auc_XGB</td><td>▁</td></tr></table><br/></div><div class=\"wandb-col\"><h3>Run summary:</h3><br/><table class=\"wandb\"><tr><td>accuracy_LR</td><td>0.77454</td></tr><tr><td>accuracy_RF</td><td>0.77615</td></tr><tr><td>accuracy_SVM</td><td>0.77819</td></tr><tr><td>accuracy_XGB</td><td>0.78581</td></tr><tr><td>f1_LR</td><td>0.25983</td></tr><tr><td>f1_RF</td><td>0.27082</td></tr><tr><td>f1_SVM</td><td>0.26378</td></tr><tr><td>f1_XGB</td><td>0.24022</td></tr><tr><td>precision_LR</td><td>0.33317</td></tr><tr><td>precision_RF</td><td>0.34182</td></tr><tr><td>precision_SVM</td><td>0.34526</td></tr><tr><td>precision_XGB</td><td>0.35614</td></tr><tr><td>recall_LR</td><td>0.21468</td></tr><tr><td>recall_RF</td><td>0.22546</td></tr><tr><td>recall_SVM</td><td>0.2173</td></tr><tr><td>recall_XGB</td><td>0.1863</td></tr><tr><td>roc_auc_LR</td><td>0.62578</td></tr><tr><td>roc_auc_RF</td><td>0.64221</td></tr><tr><td>roc_auc_SVM</td><td>0.58669</td></tr><tr><td>roc_auc_XGB</td><td>0.63881</td></tr></table><br/></div></div>"
      ],
      "text/plain": [
       "<IPython.core.display.HTML object>"
      ]
     },
     "metadata": {},
     "output_type": "display_data"
    },
    {
     "data": {
      "text/html": [
       " View run <strong style=\"color:#cdcd00\">lemon-sweep-8</strong> at: <a href='https://wandb.ai/ignacio-onate/cw-challenge-model-test-important-features/runs/fko9sdxy' target=\"_blank\">https://wandb.ai/ignacio-onate/cw-challenge-model-test-important-features/runs/fko9sdxy</a><br/>Synced 5 W&B file(s), 0 media file(s), 0 artifact file(s) and 0 other file(s)"
      ],
      "text/plain": [
       "<IPython.core.display.HTML object>"
      ]
     },
     "metadata": {},
     "output_type": "display_data"
    },
    {
     "data": {
      "text/html": [
       "Find logs at: <code>.\\wandb\\run-20230325_234720-fko9sdxy\\logs</code>"
      ],
      "text/plain": [
       "<IPython.core.display.HTML object>"
      ]
     },
     "metadata": {},
     "output_type": "display_data"
    },
    {
     "name": "stderr",
     "output_type": "stream",
     "text": [
      "\u001b[34m\u001b[1mwandb\u001b[0m: Agent Starting Run: js0vesuh with config:\n",
      "\u001b[34m\u001b[1mwandb\u001b[0m: \tover_values: 0.5\n",
      "\u001b[34m\u001b[1mwandb\u001b[0m: \tunder_values: 0.5\n"
     ]
    },
    {
     "data": {
      "text/html": [
       "Tracking run with wandb version 0.14.0"
      ],
      "text/plain": [
       "<IPython.core.display.HTML object>"
      ]
     },
     "metadata": {},
     "output_type": "display_data"
    },
    {
     "data": {
      "text/html": [
       "Run data is saved locally in <code>C:\\Users\\JhonG\\Documents\\nw-challenge\\nw-challenge\\model\\wandb\\run-20230325_235109-js0vesuh</code>"
      ],
      "text/plain": [
       "<IPython.core.display.HTML object>"
      ]
     },
     "metadata": {},
     "output_type": "display_data"
    },
    {
     "data": {
      "text/html": [
       "Syncing run <strong><a href='https://wandb.ai/ignacio-onate/cw-challenge-model-test-important-features/runs/js0vesuh' target=\"_blank\">lilac-sweep-9</a></strong> to <a href='https://wandb.ai/ignacio-onate/cw-challenge-model-test-important-features' target=\"_blank\">Weights & Biases</a> (<a href='https://wandb.me/run' target=\"_blank\">docs</a>)<br/>Sweep page: <a href='https://wandb.ai/ignacio-onate/cw-challenge-model-test-important-features/sweeps/x56k4uit' target=\"_blank\">https://wandb.ai/ignacio-onate/cw-challenge-model-test-important-features/sweeps/x56k4uit</a>"
      ],
      "text/plain": [
       "<IPython.core.display.HTML object>"
      ]
     },
     "metadata": {},
     "output_type": "display_data"
    },
    {
     "data": {
      "text/html": [
       " View project at <a href='https://wandb.ai/ignacio-onate/cw-challenge-model-test-important-features' target=\"_blank\">https://wandb.ai/ignacio-onate/cw-challenge-model-test-important-features</a>"
      ],
      "text/plain": [
       "<IPython.core.display.HTML object>"
      ]
     },
     "metadata": {},
     "output_type": "display_data"
    },
    {
     "data": {
      "text/html": [
       " View sweep at <a href='https://wandb.ai/ignacio-onate/cw-challenge-model-test-important-features/sweeps/x56k4uit' target=\"_blank\">https://wandb.ai/ignacio-onate/cw-challenge-model-test-important-features/sweeps/x56k4uit</a>"
      ],
      "text/plain": [
       "<IPython.core.display.HTML object>"
      ]
     },
     "metadata": {},
     "output_type": "display_data"
    },
    {
     "data": {
      "text/html": [
       " View run at <a href='https://wandb.ai/ignacio-onate/cw-challenge-model-test-important-features/runs/js0vesuh' target=\"_blank\">https://wandb.ai/ignacio-onate/cw-challenge-model-test-important-features/runs/js0vesuh</a>"
      ],
      "text/plain": [
       "<IPython.core.display.HTML object>"
      ]
     },
     "metadata": {},
     "output_type": "display_data"
    },
    {
     "name": "stdout",
     "output_type": "stream",
     "text": [
      "Modelo:  SVM\n",
      "Modelo:  XGB\n",
      "Modelo:  RF\n",
      "Modelo:  LR\n"
     ]
    },
    {
     "data": {
      "text/html": [
       "Waiting for W&B process to finish... <strong style=\"color:green\">(success).</strong>"
      ],
      "text/plain": [
       "<IPython.core.display.HTML object>"
      ]
     },
     "metadata": {},
     "output_type": "display_data"
    },
    {
     "data": {
      "text/html": [
       "<style>\n",
       "    table.wandb td:nth-child(1) { padding: 0 10px; text-align: left ; width: auto;} td:nth-child(2) {text-align: left ; width: 100%}\n",
       "    .wandb-row { display: flex; flex-direction: row; flex-wrap: wrap; justify-content: flex-start; width: 100% }\n",
       "    .wandb-col { display: flex; flex-direction: column; flex-basis: 100%; flex: 1; padding: 10px; }\n",
       "    </style>\n",
       "<div class=\"wandb-row\"><div class=\"wandb-col\"><h3>Run history:</h3><br/><table class=\"wandb\"><tr><td>accuracy_LR</td><td>▁</td></tr><tr><td>accuracy_RF</td><td>▁</td></tr><tr><td>accuracy_SVM</td><td>▁</td></tr><tr><td>accuracy_XGB</td><td>▁</td></tr><tr><td>f1_LR</td><td>▁</td></tr><tr><td>f1_RF</td><td>▁</td></tr><tr><td>f1_SVM</td><td>▁</td></tr><tr><td>f1_XGB</td><td>▁</td></tr><tr><td>precision_LR</td><td>▁</td></tr><tr><td>precision_RF</td><td>▁</td></tr><tr><td>precision_SVM</td><td>▁</td></tr><tr><td>precision_XGB</td><td>▁</td></tr><tr><td>recall_LR</td><td>▁</td></tr><tr><td>recall_RF</td><td>▁</td></tr><tr><td>recall_SVM</td><td>▁</td></tr><tr><td>recall_XGB</td><td>▁</td></tr><tr><td>roc_auc_LR</td><td>▁</td></tr><tr><td>roc_auc_RF</td><td>▁</td></tr><tr><td>roc_auc_SVM</td><td>▁</td></tr><tr><td>roc_auc_XGB</td><td>▁</td></tr></table><br/></div><div class=\"wandb-col\"><h3>Run summary:</h3><br/><table class=\"wandb\"><tr><td>accuracy_LR</td><td>0.80021</td></tr><tr><td>accuracy_RF</td><td>0.79409</td></tr><tr><td>accuracy_SVM</td><td>0.80115</td></tr><tr><td>accuracy_XGB</td><td>0.79769</td></tr><tr><td>f1_LR</td><td>0.19651</td></tr><tr><td>f1_RF</td><td>0.22531</td></tr><tr><td>f1_SVM</td><td>0.1914</td></tr><tr><td>f1_XGB</td><td>0.21285</td></tr><tr><td>precision_LR</td><td>0.3833</td></tr><tr><td>precision_RF</td><td>0.37019</td></tr><tr><td>precision_SVM</td><td>0.38846</td></tr><tr><td>precision_XGB</td><td>0.38073</td></tr><tr><td>recall_LR</td><td>0.13215</td></tr><tr><td>recall_RF</td><td>0.16212</td></tr><tr><td>recall_SVM</td><td>0.12756</td></tr><tr><td>recall_XGB</td><td>0.14801</td></tr><tr><td>roc_auc_LR</td><td>0.62825</td></tr><tr><td>roc_auc_RF</td><td>0.64237</td></tr><tr><td>roc_auc_SVM</td><td>0.5516</td></tr><tr><td>roc_auc_XGB</td><td>0.63907</td></tr></table><br/></div></div>"
      ],
      "text/plain": [
       "<IPython.core.display.HTML object>"
      ]
     },
     "metadata": {},
     "output_type": "display_data"
    },
    {
     "data": {
      "text/html": [
       " View run <strong style=\"color:#cdcd00\">lilac-sweep-9</strong> at: <a href='https://wandb.ai/ignacio-onate/cw-challenge-model-test-important-features/runs/js0vesuh' target=\"_blank\">https://wandb.ai/ignacio-onate/cw-challenge-model-test-important-features/runs/js0vesuh</a><br/>Synced 5 W&B file(s), 0 media file(s), 0 artifact file(s) and 0 other file(s)"
      ],
      "text/plain": [
       "<IPython.core.display.HTML object>"
      ]
     },
     "metadata": {},
     "output_type": "display_data"
    },
    {
     "data": {
      "text/html": [
       "Find logs at: <code>.\\wandb\\run-20230325_235109-js0vesuh\\logs</code>"
      ],
      "text/plain": [
       "<IPython.core.display.HTML object>"
      ]
     },
     "metadata": {},
     "output_type": "display_data"
    },
    {
     "name": "stderr",
     "output_type": "stream",
     "text": [
      "\u001b[34m\u001b[1mwandb\u001b[0m: Sweep Agent: Waiting for job.\n",
      "\u001b[34m\u001b[1mwandb\u001b[0m: Sweep Agent: Exiting.\n"
     ]
    }
   ],
   "source": [
    "import wandb\n",
    "\n",
    "X = features_importantes\n",
    "y = labels_\n",
    "\n",
    "def train():\n",
    "    wandb.init()\n",
    "    for name, model in models.items():\n",
    "        # define pipeline\n",
    "        over = SMOTE(sampling_strategy=wandb.config.over_values)\n",
    "        under = RandomUnderSampler(sampling_strategy=wandb.config.under_values)\n",
    "        steps = [('over', over), ('under', under), ('model', model)]\n",
    "        pipeline = Pipeline(steps=steps)\n",
    "        # evaluate pipeline\n",
    "        scores = cross_validate(pipeline, X, y, scoring=['accuracy','f1','precision','recall','roc_auc'], cv=5, n_jobs=-1)\n",
    "        #score = mean(scores)\n",
    "            \n",
    "        wandb.log({\n",
    "            'accuracy_'+name: mean(scores['test_accuracy']),\n",
    "            'f1_'+name : mean(scores['test_f1']),\n",
    "            'precision_'+name : mean(scores['test_precision']),\n",
    "            'recall_'+name : mean(scores['test_recall']),\n",
    "            'roc_auc_'+name : mean(scores['test_roc_auc'])\n",
    "        })\n",
    "        print(\"Modelo: \", name)\n",
    "        #print(scores)\n",
    "#\n",
    "wandb.agent(sweep_id2, function = train)"
   ]
  },
  {
   "cell_type": "markdown",
   "id": "7b40778c",
   "metadata": {},
   "source": [
    "# AJUSTE DE HIPERPARAMETROS\n",
    "Tras los experimentos podemos concluir que el proceso que mejor balancea los datos es el de UP-OVER-SAMPLING con UP de 50% para la clase minoritaria y OVER de 50% para la clase mayoritaria.\n",
    "\n",
    "Ahora fijamos este ratio para poner a prueba los modelos con sus respectivos hiperparametros.\n",
    "\n"
   ]
  },
  {
   "cell_type": "code",
   "execution_count": null,
   "id": "3e8e3430",
   "metadata": {},
   "outputs": [],
   "source": [
    "#Para esto debemos crear los diccionarios de hiperparametros.\n"
   ]
  }
 ],
 "metadata": {
  "kernelspec": {
   "display_name": "Python 3 (ipykernel)",
   "language": "python",
   "name": "python3"
  },
  "language_info": {
   "codemirror_mode": {
    "name": "ipython",
    "version": 3
   },
   "file_extension": ".py",
   "mimetype": "text/x-python",
   "name": "python",
   "nbconvert_exporter": "python",
   "pygments_lexer": "ipython3",
   "version": "3.11.2"
  }
 },
 "nbformat": 4,
 "nbformat_minor": 5
}
